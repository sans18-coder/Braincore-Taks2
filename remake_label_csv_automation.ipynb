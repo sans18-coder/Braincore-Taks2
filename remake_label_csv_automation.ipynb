{
  "nbformat": 4,
  "nbformat_minor": 0,
  "metadata": {
    "colab": {
      "provenance": []
    },
    "kernelspec": {
      "name": "python3",
      "display_name": "Python 3"
    },
    "language_info": {
      "name": "python"
    }
  },
  "cells": [
    {
      "cell_type": "code",
      "execution_count": null,
      "metadata": {
        "id": "Yt0pPRo3XFK1"
      },
      "outputs": [],
      "source": [
        "import pandas as pd\n",
        "\n",
        "# Baca file CSV\n",
        "df = pd.read_csv('/content/label.csv')  # Ganti 'data.csv' dengan path file CSV Anda\n",
        "\n",
        "# Inisialisasi list untuk menyimpan hasil transformasi\n",
        "result = []\n",
        "\n",
        "# Loop melalui setiap baris di DataFrame\n",
        "for index, row in df.iterrows():\n",
        "    tps = row['tps']\n",
        "    result.append([f\"{tps}-voting_paslon1\", row['suara_paslon_1']])\n",
        "    result.append([f\"{tps}-voting_paslon2\", row['suara_paslon_2']])\n",
        "    result.append([f\"{tps}-voting-paslon3\", row['suara_paslon_3']])\n",
        "\n",
        "# Buat DataFrame baru dari hasil transformasi\n",
        "df_result = pd.DataFrame(result, columns=['tps', 'text'])\n",
        "\n",
        "# Simpan DataFrame baru ke CSV\n",
        "df_result.to_csv('hasil_transformasi.csv', index=False)\n"
      ]
    },
    {
      "cell_type": "code",
      "source": [
        "import pandas as pd\n",
        "import os\n",
        "\n",
        "# Path ke file CSV dan folder gambar\n",
        "csv_file_path = '/content/label.csv'  # Ganti dengan path file CSV Anda\n",
        "image_folder_path = '/content/Dataset_OCR (1)/train'  # Ganti dengan path folder gambar Anda\n",
        "  # Ganti dengan path folder gambar Anda\n",
        "\n",
        "# Baca file CSV\n",
        "df = pd.read_csv(csv_file_path)\n",
        "\n",
        "# Ambil daftar file gambar di folder\n",
        "image_files = os.listdir(image_folder_path)\n",
        "\n",
        "# Ekstrak nama file tanpa ekstensi\n",
        "\n",
        "# Filter DataFrame: hanya baris dengan 'tps' yang ada di image_names\n",
        "df_filtered = df[df['tps'].isin(image_files)]\n",
        "\n",
        "# Simpan DataFrame yang sudah difilter ke file CSV baru\n",
        "df_filtered.to_csv('filtered_data.csv', index=False)\n",
        "\n",
        "print(\"File CSV telah difilter dan disimpan sebagai 'filtered_data.csv'.\")\n"
      ],
      "metadata": {
        "colab": {
          "base_uri": "https://localhost:8080/"
        },
        "id": "ZAyV2d7vZPvH",
        "outputId": "98b7deb7-783f-4fbf-a6d3-75102095cb9f"
      },
      "execution_count": null,
      "outputs": [
        {
          "output_type": "stream",
          "name": "stdout",
          "text": [
            "File CSV telah difilter dan disimpan sebagai 'filtered_data.csv'.\n"
          ]
        }
      ]
    },
    {
      "cell_type": "code",
      "source": [
        "import pandas as pd\n",
        "\n",
        "# Path file CSV asli\n",
        "csv_file_path = '/content/filtered_data.csv'  # Ganti dengan path file CSV Anda\n",
        "\n",
        "# Baca file CSV\n",
        "df = pd.read_csv(csv_file_path)\n",
        "\n",
        "# Membagi data menjadi tiga bagian\n",
        "df_first_part = df.iloc[:1000]  # 1000 data pertama\n",
        "df_second_part = df.iloc[1000:1300]  # 300 data berikutnya\n",
        "df_third_part = df.iloc[1300:]  # Sisa data\n",
        "\n",
        "# Simpan setiap bagian ke file CSV terpisah\n",
        "df_first_part.to_csv('label_train.csv', index=False)\n",
        "df_second_part.to_csv('label_valid.csv', index=False)\n",
        "df_third_part.to_csv('label_test.csv', index=False)\n",
        "\n",
        "print(\"Data telah dipisahkan dan disimpan ke tiga file CSV: 'part_1.csv', 'part_2.csv', dan 'part_3.csv'.\")\n"
      ],
      "metadata": {
        "colab": {
          "base_uri": "https://localhost:8080/"
        },
        "id": "WgXMGRjjbba2",
        "outputId": "bc442aa6-3dc8-42f4-ffee-194901c6e670"
      },
      "execution_count": null,
      "outputs": [
        {
          "output_type": "stream",
          "name": "stdout",
          "text": [
            "Data telah dipisahkan dan disimpan ke tiga file CSV: 'part_1.csv', 'part_2.csv', dan 'part_3.csv'.\n"
          ]
        }
      ]
    },
    {
      "cell_type": "code",
      "source": [
        "import zipfile\n",
        "import os\n",
        "\n",
        "# Path file ZIP dan folder tujuan ekstraksi\n",
        "zip_file_path = '/content/Dataset_OCR (1).zip'  # Ganti dengan path file ZIP Anda# Ganti dengan path folder tujuan ekstraksi\n",
        "\n",
        "# Buat folder tujuan jika belum ada\n",
        "\n",
        "# Ekstrak file ZIP\n",
        "with zipfile.ZipFile(zip_file_path, 'r') as zip_ref:\n",
        "    zip_ref.extractall(\"./\")\n",
        "\n",
        "print(f\"File berhasil diekstrak ke folder ''.\")\n"
      ],
      "metadata": {
        "colab": {
          "base_uri": "https://localhost:8080/"
        },
        "id": "YD9DuYk5ZaaW",
        "outputId": "8c019859-e1e6-46a4-fe3d-f2a999ff6ddb"
      },
      "execution_count": null,
      "outputs": [
        {
          "output_type": "stream",
          "name": "stdout",
          "text": [
            "File berhasil diekstrak ke folder ''.\n"
          ]
        }
      ]
    },
    {
      "cell_type": "code",
      "source": [
        "import pandas as pd\n",
        "\n",
        "# Baca file CSV\n",
        "df = pd.read_csv('/content/label_valid.csv')\n",
        "\n",
        "# Tambahkan ekstensi .png di setiap nilai kolom tps\n",
        "df['tps'] = df['tps'].astype(str) + '.png'\n",
        "\n",
        "# Simpan kembali ke file CSV\n",
        "df.to_csv('convert/label_valid.csv', index=False)\n"
      ],
      "metadata": {
        "id": "KqCqaeF1WF_c"
      },
      "execution_count": null,
      "outputs": []
    },
    {
      "cell_type": "code",
      "source": [
        "import pandas as pd\n",
        "\n",
        "# Path ke file CSV\n",
        "csv_file_1 = \"/content/label_train.csv\"  # Ganti dengan path file CSV pertama\n",
        "csv_file_2 = \"/content/label_valid.csv\"  # Ganti dengan path file CSV kedua\n",
        "csv_file_3 = \"/content/label_test.csv\"  # Ganti dengan path file CSV ketiga\n",
        "\n",
        "# Baca file CSV\n",
        "df1 = pd.read_csv(csv_file_1)\n",
        "df2 = pd.read_csv(csv_file_2)\n",
        "df3 = pd.read_csv(csv_file_3)\n",
        "\n",
        "# Gabungkan secara berurutan\n",
        "combined_df = pd.concat([df1, df2, df3], ignore_index=True)\n",
        "\n",
        "# Simpan hasil ke file CSV baru\n",
        "output_csv = \"label.csv\"  # Ganti dengan path dan nama file output\n",
        "combined_df.to_csv(output_csv, index=False)\n",
        "\n",
        "print(f\"File berhasil digabungkan dan disimpan sebagai {output_csv}\")\n"
      ],
      "metadata": {
        "colab": {
          "base_uri": "https://localhost:8080/"
        },
        "id": "VY4T9W3w1o5Y",
        "outputId": "811b36f5-9806-49b0-8816-01cad98b58f0"
      },
      "execution_count": null,
      "outputs": [
        {
          "output_type": "stream",
          "name": "stdout",
          "text": [
            "File berhasil digabungkan dan disimpan sebagai label.csv\n"
          ]
        }
      ]
    },
    {
      "cell_type": "code",
      "source": [
        "import os\n",
        "import pandas as pd\n",
        "\n",
        "# Path ke file CSV dan folder gambar\n",
        "csv_file_path = '/content/label.csv'  # Ganti dengan path file CSV Anda\n",
        "image_folder_path = '/content/Dataset_OCR (1)/train'  # Ganti dengan path folder gambar Anda\n",
        "\n",
        "# Baca file CSV\n",
        "df = pd.read_csv(csv_file_path)\n",
        "\n",
        "# Ambil daftar file gambar di folder\n",
        "image_files = os.listdir(image_folder_path)\n",
        "\n",
        "\n",
        "# Ambil daftar tps dari file CSV\n",
        "tps_names = df['tps'].tolist()\n",
        "\n",
        "# Identifikasi file gambar yang tidak ada dalam daftar tps\n",
        "files_to_delete = [file for file in image_files if file not in tps_names]\n",
        "\n",
        "# Hapus file gambar yang tidak relevan\n",
        "for file in files_to_delete:\n",
        "    file_path = os.path.join(image_folder_path, file)\n",
        "    os.remove(file_path)\n",
        "    print(f\"File '{file}' telah dihapus.\")\n",
        "\n",
        "print(\"Semua file gambar yang tidak relevan telah dihapus.\")\n"
      ],
      "metadata": {
        "colab": {
          "base_uri": "https://localhost:8080/"
        },
        "id": "mhWjTSJu61cP",
        "outputId": "ee05cc7b-983c-463b-aa03-0b5528a2a29c"
      },
      "execution_count": null,
      "outputs": [
        {
          "output_type": "stream",
          "name": "stdout",
          "text": [
            "File 'TPS_222-voting_paslon2.png' telah dihapus.\n",
            "File 'TPS_108-voting_paslon2.png' telah dihapus.\n",
            "File 'TPS_422-voting-paslon3.png' telah dihapus.\n",
            "File 'TPS_207-voting_paslon1.png' telah dihapus.\n",
            "File 'TPS_270-voting_paslon2.png' telah dihapus.\n",
            "File 'TPS_430-voting_paslon1.png' telah dihapus.\n",
            "File 'TPS_222-voting-paslon3.png' telah dihapus.\n",
            "File 'TPS_085-voting_paslon1.png' telah dihapus.\n",
            "File 'TPS_108-voting_paslon1.png' telah dihapus.\n",
            "File 'TPS_085-voting_paslon2.png' telah dihapus.\n",
            "File 'TPS_207-voting_paslon2.png' telah dihapus.\n",
            "File 'TPS_085-voting-paslon3.png' telah dihapus.\n",
            "File 'TPS_108-voting-paslon3.png' telah dihapus.\n",
            "File 'TPS_222-voting_paslon1.png' telah dihapus.\n",
            "File 'TPS_422-voting_paslon2.png' telah dihapus.\n",
            "File 'TPS_334-voting_paslon1.png' telah dihapus.\n",
            "File 'TPS_270-voting-paslon3.png' telah dihapus.\n",
            "File 'TPS_422-voting_paslon1.png' telah dihapus.\n",
            "File 'TPS_430-voting-paslon3.png' telah dihapus.\n",
            "File 'TPS_207-voting-paslon3.png' telah dihapus.\n",
            "File 'TPS_430-voting_paslon2.png' telah dihapus.\n",
            "Semua file gambar yang tidak relevan telah dihapus.\n"
          ]
        }
      ]
    },
    {
      "cell_type": "code",
      "source": [
        "import pandas as pd\n",
        "\n",
        "# Baca file CSV\n",
        "df = pd.read_csv('/content/dataset/Dataset_OCR (1)/label.csv')\n",
        "\n",
        "# Tambahkan ekstensi .png jika belum ada\n",
        "df['tps'] = df['tps'].apply(lambda x: f\"{x}.png\" if not x.endswith('.png') else x)\n",
        "\n",
        "# Simpan kembali ke file CSV\n",
        "df.to_csv('label.csv', index=False)\n"
      ],
      "metadata": {
        "id": "jM7K1h_XAHR_"
      },
      "execution_count": null,
      "outputs": []
    },
    {
      "cell_type": "code",
      "source": [
        "import os\n",
        "import shutil\n",
        "from google.colab import files\n",
        "\n",
        "# Path ke folder gambar dan file ZIP yang akan dibuat\n",
        "image_folder_path = '/content/Dataset_OCR (1)'  # Ganti dengan path folder gambar Anda\n",
        "zip_file_path = '/content/Dataset_OCR.zip'\n",
        "\n",
        "# Buat file ZIP dari folder gambar\n",
        "shutil.make_archive('/content/Dataset_OCR', 'zip', image_folder_path)\n",
        "\n",
        "# Unduh file ZIP\n",
        "files.download(zip_file_path)\n"
      ],
      "metadata": {
        "colab": {
          "base_uri": "https://localhost:8080/",
          "height": 34
        },
        "id": "X-pyY1fJCmIZ",
        "outputId": "29a8c99a-fbb0-44ed-d3d9-fbd1e4b0a7c1"
      },
      "execution_count": null,
      "outputs": [
        {
          "output_type": "display_data",
          "data": {
            "text/plain": [
              "<IPython.core.display.Javascript object>"
            ],
            "application/javascript": [
              "\n",
              "    async function download(id, filename, size) {\n",
              "      if (!google.colab.kernel.accessAllowed) {\n",
              "        return;\n",
              "      }\n",
              "      const div = document.createElement('div');\n",
              "      const label = document.createElement('label');\n",
              "      label.textContent = `Downloading \"${filename}\": `;\n",
              "      div.appendChild(label);\n",
              "      const progress = document.createElement('progress');\n",
              "      progress.max = size;\n",
              "      div.appendChild(progress);\n",
              "      document.body.appendChild(div);\n",
              "\n",
              "      const buffers = [];\n",
              "      let downloaded = 0;\n",
              "\n",
              "      const channel = await google.colab.kernel.comms.open(id);\n",
              "      // Send a message to notify the kernel that we're ready.\n",
              "      channel.send({})\n",
              "\n",
              "      for await (const message of channel.messages) {\n",
              "        // Send a message to notify the kernel that we're ready.\n",
              "        channel.send({})\n",
              "        if (message.buffers) {\n",
              "          for (const buffer of message.buffers) {\n",
              "            buffers.push(buffer);\n",
              "            downloaded += buffer.byteLength;\n",
              "            progress.value = downloaded;\n",
              "          }\n",
              "        }\n",
              "      }\n",
              "      const blob = new Blob(buffers, {type: 'application/binary'});\n",
              "      const a = document.createElement('a');\n",
              "      a.href = window.URL.createObjectURL(blob);\n",
              "      a.download = filename;\n",
              "      div.appendChild(a);\n",
              "      a.click();\n",
              "      div.remove();\n",
              "    }\n",
              "  "
            ]
          },
          "metadata": {}
        },
        {
          "output_type": "display_data",
          "data": {
            "text/plain": [
              "<IPython.core.display.Javascript object>"
            ],
            "application/javascript": [
              "download(\"download_9cfdc74d-e3d2-406a-aa81-df7b1fa3f926\", \"Dataset_OCR.zip\", 18310110)"
            ]
          },
          "metadata": {}
        }
      ]
    }
  ]
}