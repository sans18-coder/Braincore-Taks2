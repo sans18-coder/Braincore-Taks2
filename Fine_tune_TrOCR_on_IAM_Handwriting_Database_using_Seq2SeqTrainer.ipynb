{
  "nbformat": 4,
  "nbformat_minor": 0,
  "metadata": {
    "colab": {
      "provenance": []
    },
    "kernelspec": {
      "name": "python3",
      "display_name": "Python 3"
    },
    "language_info": {
      "name": "python"
    },
    "accelerator": "GPU",
    "widgets": {
      "application/vnd.jupyter.widget-state+json": {
        "96b4769cf7624138a0f5f0b30e2d37c5": {
          "model_module": "@jupyter-widgets/controls",
          "model_name": "HBoxModel",
          "model_module_version": "1.5.0",
          "state": {
            "_dom_classes": [],
            "_model_module": "@jupyter-widgets/controls",
            "_model_module_version": "1.5.0",
            "_model_name": "HBoxModel",
            "_view_count": null,
            "_view_module": "@jupyter-widgets/controls",
            "_view_module_version": "1.5.0",
            "_view_name": "HBoxView",
            "box_style": "",
            "children": [
              "IPY_MODEL_d4ae42204c884b91bda1491885ef871b",
              "IPY_MODEL_a429609d953f42ec9ef83df02fa820f0",
              "IPY_MODEL_8e7bf17070e446e5afa3f0442f5a0011"
            ],
            "layout": "IPY_MODEL_03fc20b13d4a4f1694c2a1b83a87d983"
          }
        },
        "d4ae42204c884b91bda1491885ef871b": {
          "model_module": "@jupyter-widgets/controls",
          "model_name": "HTMLModel",
          "model_module_version": "1.5.0",
          "state": {
            "_dom_classes": [],
            "_model_module": "@jupyter-widgets/controls",
            "_model_module_version": "1.5.0",
            "_model_name": "HTMLModel",
            "_view_count": null,
            "_view_module": "@jupyter-widgets/controls",
            "_view_module_version": "1.5.0",
            "_view_name": "HTMLView",
            "description": "",
            "description_tooltip": null,
            "layout": "IPY_MODEL_72cfef2437a847a98daef10c73af6b2d",
            "placeholder": "​",
            "style": "IPY_MODEL_c69415ebe38c44f2937e35bacd359520",
            "value": "preprocessor_config.json: 100%"
          }
        },
        "a429609d953f42ec9ef83df02fa820f0": {
          "model_module": "@jupyter-widgets/controls",
          "model_name": "FloatProgressModel",
          "model_module_version": "1.5.0",
          "state": {
            "_dom_classes": [],
            "_model_module": "@jupyter-widgets/controls",
            "_model_module_version": "1.5.0",
            "_model_name": "FloatProgressModel",
            "_view_count": null,
            "_view_module": "@jupyter-widgets/controls",
            "_view_module_version": "1.5.0",
            "_view_name": "ProgressView",
            "bar_style": "success",
            "description": "",
            "description_tooltip": null,
            "layout": "IPY_MODEL_22b269590c6541999d4a41b04ff646d6",
            "max": 272,
            "min": 0,
            "orientation": "horizontal",
            "style": "IPY_MODEL_a74038c048be42d49ca6ce52724b2ef2",
            "value": 272
          }
        },
        "8e7bf17070e446e5afa3f0442f5a0011": {
          "model_module": "@jupyter-widgets/controls",
          "model_name": "HTMLModel",
          "model_module_version": "1.5.0",
          "state": {
            "_dom_classes": [],
            "_model_module": "@jupyter-widgets/controls",
            "_model_module_version": "1.5.0",
            "_model_name": "HTMLModel",
            "_view_count": null,
            "_view_module": "@jupyter-widgets/controls",
            "_view_module_version": "1.5.0",
            "_view_name": "HTMLView",
            "description": "",
            "description_tooltip": null,
            "layout": "IPY_MODEL_df9a9ba5bc0e48ffbb7ec88bf3eaac38",
            "placeholder": "​",
            "style": "IPY_MODEL_f55deea52ec340a8ba066481c802bc89",
            "value": " 272/272 [00:00&lt;00:00, 6.42kB/s]"
          }
        },
        "03fc20b13d4a4f1694c2a1b83a87d983": {
          "model_module": "@jupyter-widgets/base",
          "model_name": "LayoutModel",
          "model_module_version": "1.2.0",
          "state": {
            "_model_module": "@jupyter-widgets/base",
            "_model_module_version": "1.2.0",
            "_model_name": "LayoutModel",
            "_view_count": null,
            "_view_module": "@jupyter-widgets/base",
            "_view_module_version": "1.2.0",
            "_view_name": "LayoutView",
            "align_content": null,
            "align_items": null,
            "align_self": null,
            "border": null,
            "bottom": null,
            "display": null,
            "flex": null,
            "flex_flow": null,
            "grid_area": null,
            "grid_auto_columns": null,
            "grid_auto_flow": null,
            "grid_auto_rows": null,
            "grid_column": null,
            "grid_gap": null,
            "grid_row": null,
            "grid_template_areas": null,
            "grid_template_columns": null,
            "grid_template_rows": null,
            "height": null,
            "justify_content": null,
            "justify_items": null,
            "left": null,
            "margin": null,
            "max_height": null,
            "max_width": null,
            "min_height": null,
            "min_width": null,
            "object_fit": null,
            "object_position": null,
            "order": null,
            "overflow": null,
            "overflow_x": null,
            "overflow_y": null,
            "padding": null,
            "right": null,
            "top": null,
            "visibility": null,
            "width": null
          }
        },
        "72cfef2437a847a98daef10c73af6b2d": {
          "model_module": "@jupyter-widgets/base",
          "model_name": "LayoutModel",
          "model_module_version": "1.2.0",
          "state": {
            "_model_module": "@jupyter-widgets/base",
            "_model_module_version": "1.2.0",
            "_model_name": "LayoutModel",
            "_view_count": null,
            "_view_module": "@jupyter-widgets/base",
            "_view_module_version": "1.2.0",
            "_view_name": "LayoutView",
            "align_content": null,
            "align_items": null,
            "align_self": null,
            "border": null,
            "bottom": null,
            "display": null,
            "flex": null,
            "flex_flow": null,
            "grid_area": null,
            "grid_auto_columns": null,
            "grid_auto_flow": null,
            "grid_auto_rows": null,
            "grid_column": null,
            "grid_gap": null,
            "grid_row": null,
            "grid_template_areas": null,
            "grid_template_columns": null,
            "grid_template_rows": null,
            "height": null,
            "justify_content": null,
            "justify_items": null,
            "left": null,
            "margin": null,
            "max_height": null,
            "max_width": null,
            "min_height": null,
            "min_width": null,
            "object_fit": null,
            "object_position": null,
            "order": null,
            "overflow": null,
            "overflow_x": null,
            "overflow_y": null,
            "padding": null,
            "right": null,
            "top": null,
            "visibility": null,
            "width": null
          }
        },
        "c69415ebe38c44f2937e35bacd359520": {
          "model_module": "@jupyter-widgets/controls",
          "model_name": "DescriptionStyleModel",
          "model_module_version": "1.5.0",
          "state": {
            "_model_module": "@jupyter-widgets/controls",
            "_model_module_version": "1.5.0",
            "_model_name": "DescriptionStyleModel",
            "_view_count": null,
            "_view_module": "@jupyter-widgets/base",
            "_view_module_version": "1.2.0",
            "_view_name": "StyleView",
            "description_width": ""
          }
        },
        "22b269590c6541999d4a41b04ff646d6": {
          "model_module": "@jupyter-widgets/base",
          "model_name": "LayoutModel",
          "model_module_version": "1.2.0",
          "state": {
            "_model_module": "@jupyter-widgets/base",
            "_model_module_version": "1.2.0",
            "_model_name": "LayoutModel",
            "_view_count": null,
            "_view_module": "@jupyter-widgets/base",
            "_view_module_version": "1.2.0",
            "_view_name": "LayoutView",
            "align_content": null,
            "align_items": null,
            "align_self": null,
            "border": null,
            "bottom": null,
            "display": null,
            "flex": null,
            "flex_flow": null,
            "grid_area": null,
            "grid_auto_columns": null,
            "grid_auto_flow": null,
            "grid_auto_rows": null,
            "grid_column": null,
            "grid_gap": null,
            "grid_row": null,
            "grid_template_areas": null,
            "grid_template_columns": null,
            "grid_template_rows": null,
            "height": null,
            "justify_content": null,
            "justify_items": null,
            "left": null,
            "margin": null,
            "max_height": null,
            "max_width": null,
            "min_height": null,
            "min_width": null,
            "object_fit": null,
            "object_position": null,
            "order": null,
            "overflow": null,
            "overflow_x": null,
            "overflow_y": null,
            "padding": null,
            "right": null,
            "top": null,
            "visibility": null,
            "width": null
          }
        },
        "a74038c048be42d49ca6ce52724b2ef2": {
          "model_module": "@jupyter-widgets/controls",
          "model_name": "ProgressStyleModel",
          "model_module_version": "1.5.0",
          "state": {
            "_model_module": "@jupyter-widgets/controls",
            "_model_module_version": "1.5.0",
            "_model_name": "ProgressStyleModel",
            "_view_count": null,
            "_view_module": "@jupyter-widgets/base",
            "_view_module_version": "1.2.0",
            "_view_name": "StyleView",
            "bar_color": null,
            "description_width": ""
          }
        },
        "df9a9ba5bc0e48ffbb7ec88bf3eaac38": {
          "model_module": "@jupyter-widgets/base",
          "model_name": "LayoutModel",
          "model_module_version": "1.2.0",
          "state": {
            "_model_module": "@jupyter-widgets/base",
            "_model_module_version": "1.2.0",
            "_model_name": "LayoutModel",
            "_view_count": null,
            "_view_module": "@jupyter-widgets/base",
            "_view_module_version": "1.2.0",
            "_view_name": "LayoutView",
            "align_content": null,
            "align_items": null,
            "align_self": null,
            "border": null,
            "bottom": null,
            "display": null,
            "flex": null,
            "flex_flow": null,
            "grid_area": null,
            "grid_auto_columns": null,
            "grid_auto_flow": null,
            "grid_auto_rows": null,
            "grid_column": null,
            "grid_gap": null,
            "grid_row": null,
            "grid_template_areas": null,
            "grid_template_columns": null,
            "grid_template_rows": null,
            "height": null,
            "justify_content": null,
            "justify_items": null,
            "left": null,
            "margin": null,
            "max_height": null,
            "max_width": null,
            "min_height": null,
            "min_width": null,
            "object_fit": null,
            "object_position": null,
            "order": null,
            "overflow": null,
            "overflow_x": null,
            "overflow_y": null,
            "padding": null,
            "right": null,
            "top": null,
            "visibility": null,
            "width": null
          }
        },
        "f55deea52ec340a8ba066481c802bc89": {
          "model_module": "@jupyter-widgets/controls",
          "model_name": "DescriptionStyleModel",
          "model_module_version": "1.5.0",
          "state": {
            "_model_module": "@jupyter-widgets/controls",
            "_model_module_version": "1.5.0",
            "_model_name": "DescriptionStyleModel",
            "_view_count": null,
            "_view_module": "@jupyter-widgets/base",
            "_view_module_version": "1.2.0",
            "_view_name": "StyleView",
            "description_width": ""
          }
        },
        "96febe22f7b24e11b0afb1ead2522fd6": {
          "model_module": "@jupyter-widgets/controls",
          "model_name": "HBoxModel",
          "model_module_version": "1.5.0",
          "state": {
            "_dom_classes": [],
            "_model_module": "@jupyter-widgets/controls",
            "_model_module_version": "1.5.0",
            "_model_name": "HBoxModel",
            "_view_count": null,
            "_view_module": "@jupyter-widgets/controls",
            "_view_module_version": "1.5.0",
            "_view_name": "HBoxView",
            "box_style": "",
            "children": [
              "IPY_MODEL_33675a58723d4406bb7c727f5a25b906",
              "IPY_MODEL_9ed5ee6dd4f342b99a315230d95dbdcd",
              "IPY_MODEL_e4d0606983774af68dd18b4e67a749c6"
            ],
            "layout": "IPY_MODEL_8f4c24ac441146d98f2b69d3c5e61a8d"
          }
        },
        "33675a58723d4406bb7c727f5a25b906": {
          "model_module": "@jupyter-widgets/controls",
          "model_name": "HTMLModel",
          "model_module_version": "1.5.0",
          "state": {
            "_dom_classes": [],
            "_model_module": "@jupyter-widgets/controls",
            "_model_module_version": "1.5.0",
            "_model_name": "HTMLModel",
            "_view_count": null,
            "_view_module": "@jupyter-widgets/controls",
            "_view_module_version": "1.5.0",
            "_view_name": "HTMLView",
            "description": "",
            "description_tooltip": null,
            "layout": "IPY_MODEL_f29cf6e2f9d34cc3b351a556dfe043d5",
            "placeholder": "​",
            "style": "IPY_MODEL_52035fdc7c674055bba641cf9aff9c3d",
            "value": "tokenizer_config.json: 100%"
          }
        },
        "9ed5ee6dd4f342b99a315230d95dbdcd": {
          "model_module": "@jupyter-widgets/controls",
          "model_name": "FloatProgressModel",
          "model_module_version": "1.5.0",
          "state": {
            "_dom_classes": [],
            "_model_module": "@jupyter-widgets/controls",
            "_model_module_version": "1.5.0",
            "_model_name": "FloatProgressModel",
            "_view_count": null,
            "_view_module": "@jupyter-widgets/controls",
            "_view_module_version": "1.5.0",
            "_view_name": "ProgressView",
            "bar_style": "success",
            "description": "",
            "description_tooltip": null,
            "layout": "IPY_MODEL_eae0828653cd45d1a6ea9a939865ac0f",
            "max": 327,
            "min": 0,
            "orientation": "horizontal",
            "style": "IPY_MODEL_f9887b691217405d8de10994f779d944",
            "value": 327
          }
        },
        "e4d0606983774af68dd18b4e67a749c6": {
          "model_module": "@jupyter-widgets/controls",
          "model_name": "HTMLModel",
          "model_module_version": "1.5.0",
          "state": {
            "_dom_classes": [],
            "_model_module": "@jupyter-widgets/controls",
            "_model_module_version": "1.5.0",
            "_model_name": "HTMLModel",
            "_view_count": null,
            "_view_module": "@jupyter-widgets/controls",
            "_view_module_version": "1.5.0",
            "_view_name": "HTMLView",
            "description": "",
            "description_tooltip": null,
            "layout": "IPY_MODEL_9c2a86c1ee234d89bfc0e58451a11e51",
            "placeholder": "​",
            "style": "IPY_MODEL_a01d1eece9f047f397ac86868e4a33a9",
            "value": " 327/327 [00:00&lt;00:00, 6.86kB/s]"
          }
        },
        "8f4c24ac441146d98f2b69d3c5e61a8d": {
          "model_module": "@jupyter-widgets/base",
          "model_name": "LayoutModel",
          "model_module_version": "1.2.0",
          "state": {
            "_model_module": "@jupyter-widgets/base",
            "_model_module_version": "1.2.0",
            "_model_name": "LayoutModel",
            "_view_count": null,
            "_view_module": "@jupyter-widgets/base",
            "_view_module_version": "1.2.0",
            "_view_name": "LayoutView",
            "align_content": null,
            "align_items": null,
            "align_self": null,
            "border": null,
            "bottom": null,
            "display": null,
            "flex": null,
            "flex_flow": null,
            "grid_area": null,
            "grid_auto_columns": null,
            "grid_auto_flow": null,
            "grid_auto_rows": null,
            "grid_column": null,
            "grid_gap": null,
            "grid_row": null,
            "grid_template_areas": null,
            "grid_template_columns": null,
            "grid_template_rows": null,
            "height": null,
            "justify_content": null,
            "justify_items": null,
            "left": null,
            "margin": null,
            "max_height": null,
            "max_width": null,
            "min_height": null,
            "min_width": null,
            "object_fit": null,
            "object_position": null,
            "order": null,
            "overflow": null,
            "overflow_x": null,
            "overflow_y": null,
            "padding": null,
            "right": null,
            "top": null,
            "visibility": null,
            "width": null
          }
        },
        "f29cf6e2f9d34cc3b351a556dfe043d5": {
          "model_module": "@jupyter-widgets/base",
          "model_name": "LayoutModel",
          "model_module_version": "1.2.0",
          "state": {
            "_model_module": "@jupyter-widgets/base",
            "_model_module_version": "1.2.0",
            "_model_name": "LayoutModel",
            "_view_count": null,
            "_view_module": "@jupyter-widgets/base",
            "_view_module_version": "1.2.0",
            "_view_name": "LayoutView",
            "align_content": null,
            "align_items": null,
            "align_self": null,
            "border": null,
            "bottom": null,
            "display": null,
            "flex": null,
            "flex_flow": null,
            "grid_area": null,
            "grid_auto_columns": null,
            "grid_auto_flow": null,
            "grid_auto_rows": null,
            "grid_column": null,
            "grid_gap": null,
            "grid_row": null,
            "grid_template_areas": null,
            "grid_template_columns": null,
            "grid_template_rows": null,
            "height": null,
            "justify_content": null,
            "justify_items": null,
            "left": null,
            "margin": null,
            "max_height": null,
            "max_width": null,
            "min_height": null,
            "min_width": null,
            "object_fit": null,
            "object_position": null,
            "order": null,
            "overflow": null,
            "overflow_x": null,
            "overflow_y": null,
            "padding": null,
            "right": null,
            "top": null,
            "visibility": null,
            "width": null
          }
        },
        "52035fdc7c674055bba641cf9aff9c3d": {
          "model_module": "@jupyter-widgets/controls",
          "model_name": "DescriptionStyleModel",
          "model_module_version": "1.5.0",
          "state": {
            "_model_module": "@jupyter-widgets/controls",
            "_model_module_version": "1.5.0",
            "_model_name": "DescriptionStyleModel",
            "_view_count": null,
            "_view_module": "@jupyter-widgets/base",
            "_view_module_version": "1.2.0",
            "_view_name": "StyleView",
            "description_width": ""
          }
        },
        "eae0828653cd45d1a6ea9a939865ac0f": {
          "model_module": "@jupyter-widgets/base",
          "model_name": "LayoutModel",
          "model_module_version": "1.2.0",
          "state": {
            "_model_module": "@jupyter-widgets/base",
            "_model_module_version": "1.2.0",
            "_model_name": "LayoutModel",
            "_view_count": null,
            "_view_module": "@jupyter-widgets/base",
            "_view_module_version": "1.2.0",
            "_view_name": "LayoutView",
            "align_content": null,
            "align_items": null,
            "align_self": null,
            "border": null,
            "bottom": null,
            "display": null,
            "flex": null,
            "flex_flow": null,
            "grid_area": null,
            "grid_auto_columns": null,
            "grid_auto_flow": null,
            "grid_auto_rows": null,
            "grid_column": null,
            "grid_gap": null,
            "grid_row": null,
            "grid_template_areas": null,
            "grid_template_columns": null,
            "grid_template_rows": null,
            "height": null,
            "justify_content": null,
            "justify_items": null,
            "left": null,
            "margin": null,
            "max_height": null,
            "max_width": null,
            "min_height": null,
            "min_width": null,
            "object_fit": null,
            "object_position": null,
            "order": null,
            "overflow": null,
            "overflow_x": null,
            "overflow_y": null,
            "padding": null,
            "right": null,
            "top": null,
            "visibility": null,
            "width": null
          }
        },
        "f9887b691217405d8de10994f779d944": {
          "model_module": "@jupyter-widgets/controls",
          "model_name": "ProgressStyleModel",
          "model_module_version": "1.5.0",
          "state": {
            "_model_module": "@jupyter-widgets/controls",
            "_model_module_version": "1.5.0",
            "_model_name": "ProgressStyleModel",
            "_view_count": null,
            "_view_module": "@jupyter-widgets/base",
            "_view_module_version": "1.2.0",
            "_view_name": "StyleView",
            "bar_color": null,
            "description_width": ""
          }
        },
        "9c2a86c1ee234d89bfc0e58451a11e51": {
          "model_module": "@jupyter-widgets/base",
          "model_name": "LayoutModel",
          "model_module_version": "1.2.0",
          "state": {
            "_model_module": "@jupyter-widgets/base",
            "_model_module_version": "1.2.0",
            "_model_name": "LayoutModel",
            "_view_count": null,
            "_view_module": "@jupyter-widgets/base",
            "_view_module_version": "1.2.0",
            "_view_name": "LayoutView",
            "align_content": null,
            "align_items": null,
            "align_self": null,
            "border": null,
            "bottom": null,
            "display": null,
            "flex": null,
            "flex_flow": null,
            "grid_area": null,
            "grid_auto_columns": null,
            "grid_auto_flow": null,
            "grid_auto_rows": null,
            "grid_column": null,
            "grid_gap": null,
            "grid_row": null,
            "grid_template_areas": null,
            "grid_template_columns": null,
            "grid_template_rows": null,
            "height": null,
            "justify_content": null,
            "justify_items": null,
            "left": null,
            "margin": null,
            "max_height": null,
            "max_width": null,
            "min_height": null,
            "min_width": null,
            "object_fit": null,
            "object_position": null,
            "order": null,
            "overflow": null,
            "overflow_x": null,
            "overflow_y": null,
            "padding": null,
            "right": null,
            "top": null,
            "visibility": null,
            "width": null
          }
        },
        "a01d1eece9f047f397ac86868e4a33a9": {
          "model_module": "@jupyter-widgets/controls",
          "model_name": "DescriptionStyleModel",
          "model_module_version": "1.5.0",
          "state": {
            "_model_module": "@jupyter-widgets/controls",
            "_model_module_version": "1.5.0",
            "_model_name": "DescriptionStyleModel",
            "_view_count": null,
            "_view_module": "@jupyter-widgets/base",
            "_view_module_version": "1.2.0",
            "_view_name": "StyleView",
            "description_width": ""
          }
        },
        "6c0894f3bffd40b88d53475c587bc969": {
          "model_module": "@jupyter-widgets/controls",
          "model_name": "HBoxModel",
          "model_module_version": "1.5.0",
          "state": {
            "_dom_classes": [],
            "_model_module": "@jupyter-widgets/controls",
            "_model_module_version": "1.5.0",
            "_model_name": "HBoxModel",
            "_view_count": null,
            "_view_module": "@jupyter-widgets/controls",
            "_view_module_version": "1.5.0",
            "_view_name": "HBoxView",
            "box_style": "",
            "children": [
              "IPY_MODEL_d98b2d76525f4fe996c52e175f954fc7",
              "IPY_MODEL_c99dc4153c28483bb7310941137ab16c",
              "IPY_MODEL_47bff6892ac946bfbee1e736a7f6dc63"
            ],
            "layout": "IPY_MODEL_24d65b59d8844fc5b3736752bba49715"
          }
        },
        "d98b2d76525f4fe996c52e175f954fc7": {
          "model_module": "@jupyter-widgets/controls",
          "model_name": "HTMLModel",
          "model_module_version": "1.5.0",
          "state": {
            "_dom_classes": [],
            "_model_module": "@jupyter-widgets/controls",
            "_model_module_version": "1.5.0",
            "_model_name": "HTMLModel",
            "_view_count": null,
            "_view_module": "@jupyter-widgets/controls",
            "_view_module_version": "1.5.0",
            "_view_name": "HTMLView",
            "description": "",
            "description_tooltip": null,
            "layout": "IPY_MODEL_c7ec4d90711c42edae2364c202208ee7",
            "placeholder": "​",
            "style": "IPY_MODEL_2c8cabc15c92482baff58ead676bae70",
            "value": "sentencepiece.bpe.model: 100%"
          }
        },
        "c99dc4153c28483bb7310941137ab16c": {
          "model_module": "@jupyter-widgets/controls",
          "model_name": "FloatProgressModel",
          "model_module_version": "1.5.0",
          "state": {
            "_dom_classes": [],
            "_model_module": "@jupyter-widgets/controls",
            "_model_module_version": "1.5.0",
            "_model_name": "FloatProgressModel",
            "_view_count": null,
            "_view_module": "@jupyter-widgets/controls",
            "_view_module_version": "1.5.0",
            "_view_name": "ProgressView",
            "bar_style": "success",
            "description": "",
            "description_tooltip": null,
            "layout": "IPY_MODEL_d9acc47f525842a6b3be32158aa749cb",
            "max": 1356293,
            "min": 0,
            "orientation": "horizontal",
            "style": "IPY_MODEL_3586773a9cab48d5a1cc8aecec18100d",
            "value": 1356293
          }
        },
        "47bff6892ac946bfbee1e736a7f6dc63": {
          "model_module": "@jupyter-widgets/controls",
          "model_name": "HTMLModel",
          "model_module_version": "1.5.0",
          "state": {
            "_dom_classes": [],
            "_model_module": "@jupyter-widgets/controls",
            "_model_module_version": "1.5.0",
            "_model_name": "HTMLModel",
            "_view_count": null,
            "_view_module": "@jupyter-widgets/controls",
            "_view_module_version": "1.5.0",
            "_view_name": "HTMLView",
            "description": "",
            "description_tooltip": null,
            "layout": "IPY_MODEL_6ed89ae508c84b6b980cf9461bc42f7e",
            "placeholder": "​",
            "style": "IPY_MODEL_cf138de506f74cd4aec5c51fc4157bae",
            "value": " 1.36M/1.36M [00:00&lt;00:00, 9.11MB/s]"
          }
        },
        "24d65b59d8844fc5b3736752bba49715": {
          "model_module": "@jupyter-widgets/base",
          "model_name": "LayoutModel",
          "model_module_version": "1.2.0",
          "state": {
            "_model_module": "@jupyter-widgets/base",
            "_model_module_version": "1.2.0",
            "_model_name": "LayoutModel",
            "_view_count": null,
            "_view_module": "@jupyter-widgets/base",
            "_view_module_version": "1.2.0",
            "_view_name": "LayoutView",
            "align_content": null,
            "align_items": null,
            "align_self": null,
            "border": null,
            "bottom": null,
            "display": null,
            "flex": null,
            "flex_flow": null,
            "grid_area": null,
            "grid_auto_columns": null,
            "grid_auto_flow": null,
            "grid_auto_rows": null,
            "grid_column": null,
            "grid_gap": null,
            "grid_row": null,
            "grid_template_areas": null,
            "grid_template_columns": null,
            "grid_template_rows": null,
            "height": null,
            "justify_content": null,
            "justify_items": null,
            "left": null,
            "margin": null,
            "max_height": null,
            "max_width": null,
            "min_height": null,
            "min_width": null,
            "object_fit": null,
            "object_position": null,
            "order": null,
            "overflow": null,
            "overflow_x": null,
            "overflow_y": null,
            "padding": null,
            "right": null,
            "top": null,
            "visibility": null,
            "width": null
          }
        },
        "c7ec4d90711c42edae2364c202208ee7": {
          "model_module": "@jupyter-widgets/base",
          "model_name": "LayoutModel",
          "model_module_version": "1.2.0",
          "state": {
            "_model_module": "@jupyter-widgets/base",
            "_model_module_version": "1.2.0",
            "_model_name": "LayoutModel",
            "_view_count": null,
            "_view_module": "@jupyter-widgets/base",
            "_view_module_version": "1.2.0",
            "_view_name": "LayoutView",
            "align_content": null,
            "align_items": null,
            "align_self": null,
            "border": null,
            "bottom": null,
            "display": null,
            "flex": null,
            "flex_flow": null,
            "grid_area": null,
            "grid_auto_columns": null,
            "grid_auto_flow": null,
            "grid_auto_rows": null,
            "grid_column": null,
            "grid_gap": null,
            "grid_row": null,
            "grid_template_areas": null,
            "grid_template_columns": null,
            "grid_template_rows": null,
            "height": null,
            "justify_content": null,
            "justify_items": null,
            "left": null,
            "margin": null,
            "max_height": null,
            "max_width": null,
            "min_height": null,
            "min_width": null,
            "object_fit": null,
            "object_position": null,
            "order": null,
            "overflow": null,
            "overflow_x": null,
            "overflow_y": null,
            "padding": null,
            "right": null,
            "top": null,
            "visibility": null,
            "width": null
          }
        },
        "2c8cabc15c92482baff58ead676bae70": {
          "model_module": "@jupyter-widgets/controls",
          "model_name": "DescriptionStyleModel",
          "model_module_version": "1.5.0",
          "state": {
            "_model_module": "@jupyter-widgets/controls",
            "_model_module_version": "1.5.0",
            "_model_name": "DescriptionStyleModel",
            "_view_count": null,
            "_view_module": "@jupyter-widgets/base",
            "_view_module_version": "1.2.0",
            "_view_name": "StyleView",
            "description_width": ""
          }
        },
        "d9acc47f525842a6b3be32158aa749cb": {
          "model_module": "@jupyter-widgets/base",
          "model_name": "LayoutModel",
          "model_module_version": "1.2.0",
          "state": {
            "_model_module": "@jupyter-widgets/base",
            "_model_module_version": "1.2.0",
            "_model_name": "LayoutModel",
            "_view_count": null,
            "_view_module": "@jupyter-widgets/base",
            "_view_module_version": "1.2.0",
            "_view_name": "LayoutView",
            "align_content": null,
            "align_items": null,
            "align_self": null,
            "border": null,
            "bottom": null,
            "display": null,
            "flex": null,
            "flex_flow": null,
            "grid_area": null,
            "grid_auto_columns": null,
            "grid_auto_flow": null,
            "grid_auto_rows": null,
            "grid_column": null,
            "grid_gap": null,
            "grid_row": null,
            "grid_template_areas": null,
            "grid_template_columns": null,
            "grid_template_rows": null,
            "height": null,
            "justify_content": null,
            "justify_items": null,
            "left": null,
            "margin": null,
            "max_height": null,
            "max_width": null,
            "min_height": null,
            "min_width": null,
            "object_fit": null,
            "object_position": null,
            "order": null,
            "overflow": null,
            "overflow_x": null,
            "overflow_y": null,
            "padding": null,
            "right": null,
            "top": null,
            "visibility": null,
            "width": null
          }
        },
        "3586773a9cab48d5a1cc8aecec18100d": {
          "model_module": "@jupyter-widgets/controls",
          "model_name": "ProgressStyleModel",
          "model_module_version": "1.5.0",
          "state": {
            "_model_module": "@jupyter-widgets/controls",
            "_model_module_version": "1.5.0",
            "_model_name": "ProgressStyleModel",
            "_view_count": null,
            "_view_module": "@jupyter-widgets/base",
            "_view_module_version": "1.2.0",
            "_view_name": "StyleView",
            "bar_color": null,
            "description_width": ""
          }
        },
        "6ed89ae508c84b6b980cf9461bc42f7e": {
          "model_module": "@jupyter-widgets/base",
          "model_name": "LayoutModel",
          "model_module_version": "1.2.0",
          "state": {
            "_model_module": "@jupyter-widgets/base",
            "_model_module_version": "1.2.0",
            "_model_name": "LayoutModel",
            "_view_count": null,
            "_view_module": "@jupyter-widgets/base",
            "_view_module_version": "1.2.0",
            "_view_name": "LayoutView",
            "align_content": null,
            "align_items": null,
            "align_self": null,
            "border": null,
            "bottom": null,
            "display": null,
            "flex": null,
            "flex_flow": null,
            "grid_area": null,
            "grid_auto_columns": null,
            "grid_auto_flow": null,
            "grid_auto_rows": null,
            "grid_column": null,
            "grid_gap": null,
            "grid_row": null,
            "grid_template_areas": null,
            "grid_template_columns": null,
            "grid_template_rows": null,
            "height": null,
            "justify_content": null,
            "justify_items": null,
            "left": null,
            "margin": null,
            "max_height": null,
            "max_width": null,
            "min_height": null,
            "min_width": null,
            "object_fit": null,
            "object_position": null,
            "order": null,
            "overflow": null,
            "overflow_x": null,
            "overflow_y": null,
            "padding": null,
            "right": null,
            "top": null,
            "visibility": null,
            "width": null
          }
        },
        "cf138de506f74cd4aec5c51fc4157bae": {
          "model_module": "@jupyter-widgets/controls",
          "model_name": "DescriptionStyleModel",
          "model_module_version": "1.5.0",
          "state": {
            "_model_module": "@jupyter-widgets/controls",
            "_model_module_version": "1.5.0",
            "_model_name": "DescriptionStyleModel",
            "_view_count": null,
            "_view_module": "@jupyter-widgets/base",
            "_view_module_version": "1.2.0",
            "_view_name": "StyleView",
            "description_width": ""
          }
        },
        "a744f6f6f0b64a6383d62358a7dfb9db": {
          "model_module": "@jupyter-widgets/controls",
          "model_name": "HBoxModel",
          "model_module_version": "1.5.0",
          "state": {
            "_dom_classes": [],
            "_model_module": "@jupyter-widgets/controls",
            "_model_module_version": "1.5.0",
            "_model_name": "HBoxModel",
            "_view_count": null,
            "_view_module": "@jupyter-widgets/controls",
            "_view_module_version": "1.5.0",
            "_view_name": "HBoxView",
            "box_style": "",
            "children": [
              "IPY_MODEL_b3bac4cdfa7d46da844a7faadf087daf",
              "IPY_MODEL_af329af065694456839ec55eb3fb321f",
              "IPY_MODEL_1b54cb600fe648748332fffac22feeec"
            ],
            "layout": "IPY_MODEL_b5002cbde68043dfa1619429d6a3dcdb"
          }
        },
        "b3bac4cdfa7d46da844a7faadf087daf": {
          "model_module": "@jupyter-widgets/controls",
          "model_name": "HTMLModel",
          "model_module_version": "1.5.0",
          "state": {
            "_dom_classes": [],
            "_model_module": "@jupyter-widgets/controls",
            "_model_module_version": "1.5.0",
            "_model_name": "HTMLModel",
            "_view_count": null,
            "_view_module": "@jupyter-widgets/controls",
            "_view_module_version": "1.5.0",
            "_view_name": "HTMLView",
            "description": "",
            "description_tooltip": null,
            "layout": "IPY_MODEL_b02512a0a65e4804be19eba908bdaf91",
            "placeholder": "​",
            "style": "IPY_MODEL_c7e81df398154840a8a025966b72b941",
            "value": "special_tokens_map.json: 100%"
          }
        },
        "af329af065694456839ec55eb3fb321f": {
          "model_module": "@jupyter-widgets/controls",
          "model_name": "FloatProgressModel",
          "model_module_version": "1.5.0",
          "state": {
            "_dom_classes": [],
            "_model_module": "@jupyter-widgets/controls",
            "_model_module_version": "1.5.0",
            "_model_name": "FloatProgressModel",
            "_view_count": null,
            "_view_module": "@jupyter-widgets/controls",
            "_view_module_version": "1.5.0",
            "_view_name": "ProgressView",
            "bar_style": "success",
            "description": "",
            "description_tooltip": null,
            "layout": "IPY_MODEL_f69acf37ee284ce89dd5ba135464211f",
            "max": 238,
            "min": 0,
            "orientation": "horizontal",
            "style": "IPY_MODEL_328c94b5956e472ebbff39e729c49b42",
            "value": 238
          }
        },
        "1b54cb600fe648748332fffac22feeec": {
          "model_module": "@jupyter-widgets/controls",
          "model_name": "HTMLModel",
          "model_module_version": "1.5.0",
          "state": {
            "_dom_classes": [],
            "_model_module": "@jupyter-widgets/controls",
            "_model_module_version": "1.5.0",
            "_model_name": "HTMLModel",
            "_view_count": null,
            "_view_module": "@jupyter-widgets/controls",
            "_view_module_version": "1.5.0",
            "_view_name": "HTMLView",
            "description": "",
            "description_tooltip": null,
            "layout": "IPY_MODEL_d83e611ccf4a46d38d1e8a855098e9f3",
            "placeholder": "​",
            "style": "IPY_MODEL_31ee3d31d5734f39b7bc3cb7efa5ee45",
            "value": " 238/238 [00:00&lt;00:00, 7.18kB/s]"
          }
        },
        "b5002cbde68043dfa1619429d6a3dcdb": {
          "model_module": "@jupyter-widgets/base",
          "model_name": "LayoutModel",
          "model_module_version": "1.2.0",
          "state": {
            "_model_module": "@jupyter-widgets/base",
            "_model_module_version": "1.2.0",
            "_model_name": "LayoutModel",
            "_view_count": null,
            "_view_module": "@jupyter-widgets/base",
            "_view_module_version": "1.2.0",
            "_view_name": "LayoutView",
            "align_content": null,
            "align_items": null,
            "align_self": null,
            "border": null,
            "bottom": null,
            "display": null,
            "flex": null,
            "flex_flow": null,
            "grid_area": null,
            "grid_auto_columns": null,
            "grid_auto_flow": null,
            "grid_auto_rows": null,
            "grid_column": null,
            "grid_gap": null,
            "grid_row": null,
            "grid_template_areas": null,
            "grid_template_columns": null,
            "grid_template_rows": null,
            "height": null,
            "justify_content": null,
            "justify_items": null,
            "left": null,
            "margin": null,
            "max_height": null,
            "max_width": null,
            "min_height": null,
            "min_width": null,
            "object_fit": null,
            "object_position": null,
            "order": null,
            "overflow": null,
            "overflow_x": null,
            "overflow_y": null,
            "padding": null,
            "right": null,
            "top": null,
            "visibility": null,
            "width": null
          }
        },
        "b02512a0a65e4804be19eba908bdaf91": {
          "model_module": "@jupyter-widgets/base",
          "model_name": "LayoutModel",
          "model_module_version": "1.2.0",
          "state": {
            "_model_module": "@jupyter-widgets/base",
            "_model_module_version": "1.2.0",
            "_model_name": "LayoutModel",
            "_view_count": null,
            "_view_module": "@jupyter-widgets/base",
            "_view_module_version": "1.2.0",
            "_view_name": "LayoutView",
            "align_content": null,
            "align_items": null,
            "align_self": null,
            "border": null,
            "bottom": null,
            "display": null,
            "flex": null,
            "flex_flow": null,
            "grid_area": null,
            "grid_auto_columns": null,
            "grid_auto_flow": null,
            "grid_auto_rows": null,
            "grid_column": null,
            "grid_gap": null,
            "grid_row": null,
            "grid_template_areas": null,
            "grid_template_columns": null,
            "grid_template_rows": null,
            "height": null,
            "justify_content": null,
            "justify_items": null,
            "left": null,
            "margin": null,
            "max_height": null,
            "max_width": null,
            "min_height": null,
            "min_width": null,
            "object_fit": null,
            "object_position": null,
            "order": null,
            "overflow": null,
            "overflow_x": null,
            "overflow_y": null,
            "padding": null,
            "right": null,
            "top": null,
            "visibility": null,
            "width": null
          }
        },
        "c7e81df398154840a8a025966b72b941": {
          "model_module": "@jupyter-widgets/controls",
          "model_name": "DescriptionStyleModel",
          "model_module_version": "1.5.0",
          "state": {
            "_model_module": "@jupyter-widgets/controls",
            "_model_module_version": "1.5.0",
            "_model_name": "DescriptionStyleModel",
            "_view_count": null,
            "_view_module": "@jupyter-widgets/base",
            "_view_module_version": "1.2.0",
            "_view_name": "StyleView",
            "description_width": ""
          }
        },
        "f69acf37ee284ce89dd5ba135464211f": {
          "model_module": "@jupyter-widgets/base",
          "model_name": "LayoutModel",
          "model_module_version": "1.2.0",
          "state": {
            "_model_module": "@jupyter-widgets/base",
            "_model_module_version": "1.2.0",
            "_model_name": "LayoutModel",
            "_view_count": null,
            "_view_module": "@jupyter-widgets/base",
            "_view_module_version": "1.2.0",
            "_view_name": "LayoutView",
            "align_content": null,
            "align_items": null,
            "align_self": null,
            "border": null,
            "bottom": null,
            "display": null,
            "flex": null,
            "flex_flow": null,
            "grid_area": null,
            "grid_auto_columns": null,
            "grid_auto_flow": null,
            "grid_auto_rows": null,
            "grid_column": null,
            "grid_gap": null,
            "grid_row": null,
            "grid_template_areas": null,
            "grid_template_columns": null,
            "grid_template_rows": null,
            "height": null,
            "justify_content": null,
            "justify_items": null,
            "left": null,
            "margin": null,
            "max_height": null,
            "max_width": null,
            "min_height": null,
            "min_width": null,
            "object_fit": null,
            "object_position": null,
            "order": null,
            "overflow": null,
            "overflow_x": null,
            "overflow_y": null,
            "padding": null,
            "right": null,
            "top": null,
            "visibility": null,
            "width": null
          }
        },
        "328c94b5956e472ebbff39e729c49b42": {
          "model_module": "@jupyter-widgets/controls",
          "model_name": "ProgressStyleModel",
          "model_module_version": "1.5.0",
          "state": {
            "_model_module": "@jupyter-widgets/controls",
            "_model_module_version": "1.5.0",
            "_model_name": "ProgressStyleModel",
            "_view_count": null,
            "_view_module": "@jupyter-widgets/base",
            "_view_module_version": "1.2.0",
            "_view_name": "StyleView",
            "bar_color": null,
            "description_width": ""
          }
        },
        "d83e611ccf4a46d38d1e8a855098e9f3": {
          "model_module": "@jupyter-widgets/base",
          "model_name": "LayoutModel",
          "model_module_version": "1.2.0",
          "state": {
            "_model_module": "@jupyter-widgets/base",
            "_model_module_version": "1.2.0",
            "_model_name": "LayoutModel",
            "_view_count": null,
            "_view_module": "@jupyter-widgets/base",
            "_view_module_version": "1.2.0",
            "_view_name": "LayoutView",
            "align_content": null,
            "align_items": null,
            "align_self": null,
            "border": null,
            "bottom": null,
            "display": null,
            "flex": null,
            "flex_flow": null,
            "grid_area": null,
            "grid_auto_columns": null,
            "grid_auto_flow": null,
            "grid_auto_rows": null,
            "grid_column": null,
            "grid_gap": null,
            "grid_row": null,
            "grid_template_areas": null,
            "grid_template_columns": null,
            "grid_template_rows": null,
            "height": null,
            "justify_content": null,
            "justify_items": null,
            "left": null,
            "margin": null,
            "max_height": null,
            "max_width": null,
            "min_height": null,
            "min_width": null,
            "object_fit": null,
            "object_position": null,
            "order": null,
            "overflow": null,
            "overflow_x": null,
            "overflow_y": null,
            "padding": null,
            "right": null,
            "top": null,
            "visibility": null,
            "width": null
          }
        },
        "31ee3d31d5734f39b7bc3cb7efa5ee45": {
          "model_module": "@jupyter-widgets/controls",
          "model_name": "DescriptionStyleModel",
          "model_module_version": "1.5.0",
          "state": {
            "_model_module": "@jupyter-widgets/controls",
            "_model_module_version": "1.5.0",
            "_model_name": "DescriptionStyleModel",
            "_view_count": null,
            "_view_module": "@jupyter-widgets/base",
            "_view_module_version": "1.2.0",
            "_view_name": "StyleView",
            "description_width": ""
          }
        },
        "e57cbedd1f3848d3a588103dbd13ed97": {
          "model_module": "@jupyter-widgets/controls",
          "model_name": "HBoxModel",
          "model_module_version": "1.5.0",
          "state": {
            "_dom_classes": [],
            "_model_module": "@jupyter-widgets/controls",
            "_model_module_version": "1.5.0",
            "_model_name": "HBoxModel",
            "_view_count": null,
            "_view_module": "@jupyter-widgets/controls",
            "_view_module_version": "1.5.0",
            "_view_name": "HBoxView",
            "box_style": "",
            "children": [
              "IPY_MODEL_2a9f4632699040169d10a8fc00576b69",
              "IPY_MODEL_0964e4f44ea641f5aeb90730305d8649",
              "IPY_MODEL_cf67c4080fd54ea8a3d4e5599fbff9fc"
            ],
            "layout": "IPY_MODEL_2b8272c4a8754d0692b50d14c5ac4717"
          }
        },
        "2a9f4632699040169d10a8fc00576b69": {
          "model_module": "@jupyter-widgets/controls",
          "model_name": "HTMLModel",
          "model_module_version": "1.5.0",
          "state": {
            "_dom_classes": [],
            "_model_module": "@jupyter-widgets/controls",
            "_model_module_version": "1.5.0",
            "_model_name": "HTMLModel",
            "_view_count": null,
            "_view_module": "@jupyter-widgets/controls",
            "_view_module_version": "1.5.0",
            "_view_name": "HTMLView",
            "description": "",
            "description_tooltip": null,
            "layout": "IPY_MODEL_eae4c3faccc64b7e8a69ebcec57b2ee3",
            "placeholder": "​",
            "style": "IPY_MODEL_2bc274e278304d59bc62ce380f90a77f",
            "value": "config.json: 100%"
          }
        },
        "0964e4f44ea641f5aeb90730305d8649": {
          "model_module": "@jupyter-widgets/controls",
          "model_name": "FloatProgressModel",
          "model_module_version": "1.5.0",
          "state": {
            "_dom_classes": [],
            "_model_module": "@jupyter-widgets/controls",
            "_model_module_version": "1.5.0",
            "_model_name": "FloatProgressModel",
            "_view_count": null,
            "_view_module": "@jupyter-widgets/controls",
            "_view_module_version": "1.5.0",
            "_view_name": "ProgressView",
            "bar_style": "success",
            "description": "",
            "description_tooltip": null,
            "layout": "IPY_MODEL_8816f52c8fc44167b3ebd32baedad9ba",
            "max": 4211,
            "min": 0,
            "orientation": "horizontal",
            "style": "IPY_MODEL_6520cdb8300e47c796999bfa1142950c",
            "value": 4211
          }
        },
        "cf67c4080fd54ea8a3d4e5599fbff9fc": {
          "model_module": "@jupyter-widgets/controls",
          "model_name": "HTMLModel",
          "model_module_version": "1.5.0",
          "state": {
            "_dom_classes": [],
            "_model_module": "@jupyter-widgets/controls",
            "_model_module_version": "1.5.0",
            "_model_name": "HTMLModel",
            "_view_count": null,
            "_view_module": "@jupyter-widgets/controls",
            "_view_module_version": "1.5.0",
            "_view_name": "HTMLView",
            "description": "",
            "description_tooltip": null,
            "layout": "IPY_MODEL_16238e5c104546349e20e6c8d2fbfe32",
            "placeholder": "​",
            "style": "IPY_MODEL_ff4cf8505d454dd08732abeca042016e",
            "value": " 4.21k/4.21k [00:00&lt;00:00, 145kB/s]"
          }
        },
        "2b8272c4a8754d0692b50d14c5ac4717": {
          "model_module": "@jupyter-widgets/base",
          "model_name": "LayoutModel",
          "model_module_version": "1.2.0",
          "state": {
            "_model_module": "@jupyter-widgets/base",
            "_model_module_version": "1.2.0",
            "_model_name": "LayoutModel",
            "_view_count": null,
            "_view_module": "@jupyter-widgets/base",
            "_view_module_version": "1.2.0",
            "_view_name": "LayoutView",
            "align_content": null,
            "align_items": null,
            "align_self": null,
            "border": null,
            "bottom": null,
            "display": null,
            "flex": null,
            "flex_flow": null,
            "grid_area": null,
            "grid_auto_columns": null,
            "grid_auto_flow": null,
            "grid_auto_rows": null,
            "grid_column": null,
            "grid_gap": null,
            "grid_row": null,
            "grid_template_areas": null,
            "grid_template_columns": null,
            "grid_template_rows": null,
            "height": null,
            "justify_content": null,
            "justify_items": null,
            "left": null,
            "margin": null,
            "max_height": null,
            "max_width": null,
            "min_height": null,
            "min_width": null,
            "object_fit": null,
            "object_position": null,
            "order": null,
            "overflow": null,
            "overflow_x": null,
            "overflow_y": null,
            "padding": null,
            "right": null,
            "top": null,
            "visibility": null,
            "width": null
          }
        },
        "eae4c3faccc64b7e8a69ebcec57b2ee3": {
          "model_module": "@jupyter-widgets/base",
          "model_name": "LayoutModel",
          "model_module_version": "1.2.0",
          "state": {
            "_model_module": "@jupyter-widgets/base",
            "_model_module_version": "1.2.0",
            "_model_name": "LayoutModel",
            "_view_count": null,
            "_view_module": "@jupyter-widgets/base",
            "_view_module_version": "1.2.0",
            "_view_name": "LayoutView",
            "align_content": null,
            "align_items": null,
            "align_self": null,
            "border": null,
            "bottom": null,
            "display": null,
            "flex": null,
            "flex_flow": null,
            "grid_area": null,
            "grid_auto_columns": null,
            "grid_auto_flow": null,
            "grid_auto_rows": null,
            "grid_column": null,
            "grid_gap": null,
            "grid_row": null,
            "grid_template_areas": null,
            "grid_template_columns": null,
            "grid_template_rows": null,
            "height": null,
            "justify_content": null,
            "justify_items": null,
            "left": null,
            "margin": null,
            "max_height": null,
            "max_width": null,
            "min_height": null,
            "min_width": null,
            "object_fit": null,
            "object_position": null,
            "order": null,
            "overflow": null,
            "overflow_x": null,
            "overflow_y": null,
            "padding": null,
            "right": null,
            "top": null,
            "visibility": null,
            "width": null
          }
        },
        "2bc274e278304d59bc62ce380f90a77f": {
          "model_module": "@jupyter-widgets/controls",
          "model_name": "DescriptionStyleModel",
          "model_module_version": "1.5.0",
          "state": {
            "_model_module": "@jupyter-widgets/controls",
            "_model_module_version": "1.5.0",
            "_model_name": "DescriptionStyleModel",
            "_view_count": null,
            "_view_module": "@jupyter-widgets/base",
            "_view_module_version": "1.2.0",
            "_view_name": "StyleView",
            "description_width": ""
          }
        },
        "8816f52c8fc44167b3ebd32baedad9ba": {
          "model_module": "@jupyter-widgets/base",
          "model_name": "LayoutModel",
          "model_module_version": "1.2.0",
          "state": {
            "_model_module": "@jupyter-widgets/base",
            "_model_module_version": "1.2.0",
            "_model_name": "LayoutModel",
            "_view_count": null,
            "_view_module": "@jupyter-widgets/base",
            "_view_module_version": "1.2.0",
            "_view_name": "LayoutView",
            "align_content": null,
            "align_items": null,
            "align_self": null,
            "border": null,
            "bottom": null,
            "display": null,
            "flex": null,
            "flex_flow": null,
            "grid_area": null,
            "grid_auto_columns": null,
            "grid_auto_flow": null,
            "grid_auto_rows": null,
            "grid_column": null,
            "grid_gap": null,
            "grid_row": null,
            "grid_template_areas": null,
            "grid_template_columns": null,
            "grid_template_rows": null,
            "height": null,
            "justify_content": null,
            "justify_items": null,
            "left": null,
            "margin": null,
            "max_height": null,
            "max_width": null,
            "min_height": null,
            "min_width": null,
            "object_fit": null,
            "object_position": null,
            "order": null,
            "overflow": null,
            "overflow_x": null,
            "overflow_y": null,
            "padding": null,
            "right": null,
            "top": null,
            "visibility": null,
            "width": null
          }
        },
        "6520cdb8300e47c796999bfa1142950c": {
          "model_module": "@jupyter-widgets/controls",
          "model_name": "ProgressStyleModel",
          "model_module_version": "1.5.0",
          "state": {
            "_model_module": "@jupyter-widgets/controls",
            "_model_module_version": "1.5.0",
            "_model_name": "ProgressStyleModel",
            "_view_count": null,
            "_view_module": "@jupyter-widgets/base",
            "_view_module_version": "1.2.0",
            "_view_name": "StyleView",
            "bar_color": null,
            "description_width": ""
          }
        },
        "16238e5c104546349e20e6c8d2fbfe32": {
          "model_module": "@jupyter-widgets/base",
          "model_name": "LayoutModel",
          "model_module_version": "1.2.0",
          "state": {
            "_model_module": "@jupyter-widgets/base",
            "_model_module_version": "1.2.0",
            "_model_name": "LayoutModel",
            "_view_count": null,
            "_view_module": "@jupyter-widgets/base",
            "_view_module_version": "1.2.0",
            "_view_name": "LayoutView",
            "align_content": null,
            "align_items": null,
            "align_self": null,
            "border": null,
            "bottom": null,
            "display": null,
            "flex": null,
            "flex_flow": null,
            "grid_area": null,
            "grid_auto_columns": null,
            "grid_auto_flow": null,
            "grid_auto_rows": null,
            "grid_column": null,
            "grid_gap": null,
            "grid_row": null,
            "grid_template_areas": null,
            "grid_template_columns": null,
            "grid_template_rows": null,
            "height": null,
            "justify_content": null,
            "justify_items": null,
            "left": null,
            "margin": null,
            "max_height": null,
            "max_width": null,
            "min_height": null,
            "min_width": null,
            "object_fit": null,
            "object_position": null,
            "order": null,
            "overflow": null,
            "overflow_x": null,
            "overflow_y": null,
            "padding": null,
            "right": null,
            "top": null,
            "visibility": null,
            "width": null
          }
        },
        "ff4cf8505d454dd08732abeca042016e": {
          "model_module": "@jupyter-widgets/controls",
          "model_name": "DescriptionStyleModel",
          "model_module_version": "1.5.0",
          "state": {
            "_model_module": "@jupyter-widgets/controls",
            "_model_module_version": "1.5.0",
            "_model_name": "DescriptionStyleModel",
            "_view_count": null,
            "_view_module": "@jupyter-widgets/base",
            "_view_module_version": "1.2.0",
            "_view_name": "StyleView",
            "description_width": ""
          }
        },
        "edb72d40ac7b431bb2e84f10098fbab9": {
          "model_module": "@jupyter-widgets/controls",
          "model_name": "HBoxModel",
          "model_module_version": "1.5.0",
          "state": {
            "_dom_classes": [],
            "_model_module": "@jupyter-widgets/controls",
            "_model_module_version": "1.5.0",
            "_model_name": "HBoxModel",
            "_view_count": null,
            "_view_module": "@jupyter-widgets/controls",
            "_view_module_version": "1.5.0",
            "_view_name": "HBoxView",
            "box_style": "",
            "children": [
              "IPY_MODEL_f8fabfad36514919853ba1bba01fcc4c",
              "IPY_MODEL_826133a82c5f4c58a05a4869ec7cd03b",
              "IPY_MODEL_c01d1a587c11498381dbb3c7ee062205"
            ],
            "layout": "IPY_MODEL_9e4f86d48d074a41b231f3e69955508f"
          }
        },
        "f8fabfad36514919853ba1bba01fcc4c": {
          "model_module": "@jupyter-widgets/controls",
          "model_name": "HTMLModel",
          "model_module_version": "1.5.0",
          "state": {
            "_dom_classes": [],
            "_model_module": "@jupyter-widgets/controls",
            "_model_module_version": "1.5.0",
            "_model_name": "HTMLModel",
            "_view_count": null,
            "_view_module": "@jupyter-widgets/controls",
            "_view_module_version": "1.5.0",
            "_view_name": "HTMLView",
            "description": "",
            "description_tooltip": null,
            "layout": "IPY_MODEL_0c0aced6eed847beaf331ded463b85b3",
            "placeholder": "​",
            "style": "IPY_MODEL_0e4561732d8b41e0ac82fc560f62725d",
            "value": "pytorch_model.bin: 100%"
          }
        },
        "826133a82c5f4c58a05a4869ec7cd03b": {
          "model_module": "@jupyter-widgets/controls",
          "model_name": "FloatProgressModel",
          "model_module_version": "1.5.0",
          "state": {
            "_dom_classes": [],
            "_model_module": "@jupyter-widgets/controls",
            "_model_module_version": "1.5.0",
            "_model_name": "FloatProgressModel",
            "_view_count": null,
            "_view_module": "@jupyter-widgets/controls",
            "_view_module_version": "1.5.0",
            "_view_name": "ProgressView",
            "bar_style": "success",
            "description": "",
            "description_tooltip": null,
            "layout": "IPY_MODEL_f72cce93e01d456d942a4fd76b7c4026",
            "max": 245933041,
            "min": 0,
            "orientation": "horizontal",
            "style": "IPY_MODEL_f241e64c3c8c49ddb960e24a8eec5fcb",
            "value": 245933041
          }
        },
        "c01d1a587c11498381dbb3c7ee062205": {
          "model_module": "@jupyter-widgets/controls",
          "model_name": "HTMLModel",
          "model_module_version": "1.5.0",
          "state": {
            "_dom_classes": [],
            "_model_module": "@jupyter-widgets/controls",
            "_model_module_version": "1.5.0",
            "_model_name": "HTMLModel",
            "_view_count": null,
            "_view_module": "@jupyter-widgets/controls",
            "_view_module_version": "1.5.0",
            "_view_name": "HTMLView",
            "description": "",
            "description_tooltip": null,
            "layout": "IPY_MODEL_cab671a79795412f9437e2ab5141a493",
            "placeholder": "​",
            "style": "IPY_MODEL_905169c2362a4f7bae900577ffbd1ee8",
            "value": " 246M/246M [00:01&lt;00:00, 152MB/s]"
          }
        },
        "9e4f86d48d074a41b231f3e69955508f": {
          "model_module": "@jupyter-widgets/base",
          "model_name": "LayoutModel",
          "model_module_version": "1.2.0",
          "state": {
            "_model_module": "@jupyter-widgets/base",
            "_model_module_version": "1.2.0",
            "_model_name": "LayoutModel",
            "_view_count": null,
            "_view_module": "@jupyter-widgets/base",
            "_view_module_version": "1.2.0",
            "_view_name": "LayoutView",
            "align_content": null,
            "align_items": null,
            "align_self": null,
            "border": null,
            "bottom": null,
            "display": null,
            "flex": null,
            "flex_flow": null,
            "grid_area": null,
            "grid_auto_columns": null,
            "grid_auto_flow": null,
            "grid_auto_rows": null,
            "grid_column": null,
            "grid_gap": null,
            "grid_row": null,
            "grid_template_areas": null,
            "grid_template_columns": null,
            "grid_template_rows": null,
            "height": null,
            "justify_content": null,
            "justify_items": null,
            "left": null,
            "margin": null,
            "max_height": null,
            "max_width": null,
            "min_height": null,
            "min_width": null,
            "object_fit": null,
            "object_position": null,
            "order": null,
            "overflow": null,
            "overflow_x": null,
            "overflow_y": null,
            "padding": null,
            "right": null,
            "top": null,
            "visibility": null,
            "width": null
          }
        },
        "0c0aced6eed847beaf331ded463b85b3": {
          "model_module": "@jupyter-widgets/base",
          "model_name": "LayoutModel",
          "model_module_version": "1.2.0",
          "state": {
            "_model_module": "@jupyter-widgets/base",
            "_model_module_version": "1.2.0",
            "_model_name": "LayoutModel",
            "_view_count": null,
            "_view_module": "@jupyter-widgets/base",
            "_view_module_version": "1.2.0",
            "_view_name": "LayoutView",
            "align_content": null,
            "align_items": null,
            "align_self": null,
            "border": null,
            "bottom": null,
            "display": null,
            "flex": null,
            "flex_flow": null,
            "grid_area": null,
            "grid_auto_columns": null,
            "grid_auto_flow": null,
            "grid_auto_rows": null,
            "grid_column": null,
            "grid_gap": null,
            "grid_row": null,
            "grid_template_areas": null,
            "grid_template_columns": null,
            "grid_template_rows": null,
            "height": null,
            "justify_content": null,
            "justify_items": null,
            "left": null,
            "margin": null,
            "max_height": null,
            "max_width": null,
            "min_height": null,
            "min_width": null,
            "object_fit": null,
            "object_position": null,
            "order": null,
            "overflow": null,
            "overflow_x": null,
            "overflow_y": null,
            "padding": null,
            "right": null,
            "top": null,
            "visibility": null,
            "width": null
          }
        },
        "0e4561732d8b41e0ac82fc560f62725d": {
          "model_module": "@jupyter-widgets/controls",
          "model_name": "DescriptionStyleModel",
          "model_module_version": "1.5.0",
          "state": {
            "_model_module": "@jupyter-widgets/controls",
            "_model_module_version": "1.5.0",
            "_model_name": "DescriptionStyleModel",
            "_view_count": null,
            "_view_module": "@jupyter-widgets/base",
            "_view_module_version": "1.2.0",
            "_view_name": "StyleView",
            "description_width": ""
          }
        },
        "f72cce93e01d456d942a4fd76b7c4026": {
          "model_module": "@jupyter-widgets/base",
          "model_name": "LayoutModel",
          "model_module_version": "1.2.0",
          "state": {
            "_model_module": "@jupyter-widgets/base",
            "_model_module_version": "1.2.0",
            "_model_name": "LayoutModel",
            "_view_count": null,
            "_view_module": "@jupyter-widgets/base",
            "_view_module_version": "1.2.0",
            "_view_name": "LayoutView",
            "align_content": null,
            "align_items": null,
            "align_self": null,
            "border": null,
            "bottom": null,
            "display": null,
            "flex": null,
            "flex_flow": null,
            "grid_area": null,
            "grid_auto_columns": null,
            "grid_auto_flow": null,
            "grid_auto_rows": null,
            "grid_column": null,
            "grid_gap": null,
            "grid_row": null,
            "grid_template_areas": null,
            "grid_template_columns": null,
            "grid_template_rows": null,
            "height": null,
            "justify_content": null,
            "justify_items": null,
            "left": null,
            "margin": null,
            "max_height": null,
            "max_width": null,
            "min_height": null,
            "min_width": null,
            "object_fit": null,
            "object_position": null,
            "order": null,
            "overflow": null,
            "overflow_x": null,
            "overflow_y": null,
            "padding": null,
            "right": null,
            "top": null,
            "visibility": null,
            "width": null
          }
        },
        "f241e64c3c8c49ddb960e24a8eec5fcb": {
          "model_module": "@jupyter-widgets/controls",
          "model_name": "ProgressStyleModel",
          "model_module_version": "1.5.0",
          "state": {
            "_model_module": "@jupyter-widgets/controls",
            "_model_module_version": "1.5.0",
            "_model_name": "ProgressStyleModel",
            "_view_count": null,
            "_view_module": "@jupyter-widgets/base",
            "_view_module_version": "1.2.0",
            "_view_name": "StyleView",
            "bar_color": null,
            "description_width": ""
          }
        },
        "cab671a79795412f9437e2ab5141a493": {
          "model_module": "@jupyter-widgets/base",
          "model_name": "LayoutModel",
          "model_module_version": "1.2.0",
          "state": {
            "_model_module": "@jupyter-widgets/base",
            "_model_module_version": "1.2.0",
            "_model_name": "LayoutModel",
            "_view_count": null,
            "_view_module": "@jupyter-widgets/base",
            "_view_module_version": "1.2.0",
            "_view_name": "LayoutView",
            "align_content": null,
            "align_items": null,
            "align_self": null,
            "border": null,
            "bottom": null,
            "display": null,
            "flex": null,
            "flex_flow": null,
            "grid_area": null,
            "grid_auto_columns": null,
            "grid_auto_flow": null,
            "grid_auto_rows": null,
            "grid_column": null,
            "grid_gap": null,
            "grid_row": null,
            "grid_template_areas": null,
            "grid_template_columns": null,
            "grid_template_rows": null,
            "height": null,
            "justify_content": null,
            "justify_items": null,
            "left": null,
            "margin": null,
            "max_height": null,
            "max_width": null,
            "min_height": null,
            "min_width": null,
            "object_fit": null,
            "object_position": null,
            "order": null,
            "overflow": null,
            "overflow_x": null,
            "overflow_y": null,
            "padding": null,
            "right": null,
            "top": null,
            "visibility": null,
            "width": null
          }
        },
        "905169c2362a4f7bae900577ffbd1ee8": {
          "model_module": "@jupyter-widgets/controls",
          "model_name": "DescriptionStyleModel",
          "model_module_version": "1.5.0",
          "state": {
            "_model_module": "@jupyter-widgets/controls",
            "_model_module_version": "1.5.0",
            "_model_name": "DescriptionStyleModel",
            "_view_count": null,
            "_view_module": "@jupyter-widgets/base",
            "_view_module_version": "1.2.0",
            "_view_name": "StyleView",
            "description_width": ""
          }
        },
        "8cb1a86cb3764597a34baf65b9b3d055": {
          "model_module": "@jupyter-widgets/controls",
          "model_name": "HBoxModel",
          "model_module_version": "1.5.0",
          "state": {
            "_dom_classes": [],
            "_model_module": "@jupyter-widgets/controls",
            "_model_module_version": "1.5.0",
            "_model_name": "HBoxModel",
            "_view_count": null,
            "_view_module": "@jupyter-widgets/controls",
            "_view_module_version": "1.5.0",
            "_view_name": "HBoxView",
            "box_style": "",
            "children": [
              "IPY_MODEL_4c226fd603c34b72bd2c3854093401f8",
              "IPY_MODEL_30d069ee00f74320bd9255eea1f25974",
              "IPY_MODEL_514491decfcd44d889de4e73b93bd151"
            ],
            "layout": "IPY_MODEL_8f901fd61d5e4767bff6ab7fa8a10e82"
          }
        },
        "4c226fd603c34b72bd2c3854093401f8": {
          "model_module": "@jupyter-widgets/controls",
          "model_name": "HTMLModel",
          "model_module_version": "1.5.0",
          "state": {
            "_dom_classes": [],
            "_model_module": "@jupyter-widgets/controls",
            "_model_module_version": "1.5.0",
            "_model_name": "HTMLModel",
            "_view_count": null,
            "_view_module": "@jupyter-widgets/controls",
            "_view_module_version": "1.5.0",
            "_view_name": "HTMLView",
            "description": "",
            "description_tooltip": null,
            "layout": "IPY_MODEL_78cd63c80cd64743a7c4a6f8a6bf0272",
            "placeholder": "​",
            "style": "IPY_MODEL_20991792d0404dd3924df99d58b50caf",
            "value": "generation_config.json: 100%"
          }
        },
        "30d069ee00f74320bd9255eea1f25974": {
          "model_module": "@jupyter-widgets/controls",
          "model_name": "FloatProgressModel",
          "model_module_version": "1.5.0",
          "state": {
            "_dom_classes": [],
            "_model_module": "@jupyter-widgets/controls",
            "_model_module_version": "1.5.0",
            "_model_name": "FloatProgressModel",
            "_view_count": null,
            "_view_module": "@jupyter-widgets/controls",
            "_view_module_version": "1.5.0",
            "_view_name": "ProgressView",
            "bar_style": "success",
            "description": "",
            "description_tooltip": null,
            "layout": "IPY_MODEL_0d87dd5baf5348549a903264b2fbae08",
            "max": 190,
            "min": 0,
            "orientation": "horizontal",
            "style": "IPY_MODEL_ca1f96663ba4449ea0e4515f34d505e7",
            "value": 190
          }
        },
        "514491decfcd44d889de4e73b93bd151": {
          "model_module": "@jupyter-widgets/controls",
          "model_name": "HTMLModel",
          "model_module_version": "1.5.0",
          "state": {
            "_dom_classes": [],
            "_model_module": "@jupyter-widgets/controls",
            "_model_module_version": "1.5.0",
            "_model_name": "HTMLModel",
            "_view_count": null,
            "_view_module": "@jupyter-widgets/controls",
            "_view_module_version": "1.5.0",
            "_view_name": "HTMLView",
            "description": "",
            "description_tooltip": null,
            "layout": "IPY_MODEL_1606bc8592f54eba9e765e7ff320ea99",
            "placeholder": "​",
            "style": "IPY_MODEL_196d23e518574e3cbbe2b7a003f8ae2a",
            "value": " 190/190 [00:00&lt;00:00, 5.62kB/s]"
          }
        },
        "8f901fd61d5e4767bff6ab7fa8a10e82": {
          "model_module": "@jupyter-widgets/base",
          "model_name": "LayoutModel",
          "model_module_version": "1.2.0",
          "state": {
            "_model_module": "@jupyter-widgets/base",
            "_model_module_version": "1.2.0",
            "_model_name": "LayoutModel",
            "_view_count": null,
            "_view_module": "@jupyter-widgets/base",
            "_view_module_version": "1.2.0",
            "_view_name": "LayoutView",
            "align_content": null,
            "align_items": null,
            "align_self": null,
            "border": null,
            "bottom": null,
            "display": null,
            "flex": null,
            "flex_flow": null,
            "grid_area": null,
            "grid_auto_columns": null,
            "grid_auto_flow": null,
            "grid_auto_rows": null,
            "grid_column": null,
            "grid_gap": null,
            "grid_row": null,
            "grid_template_areas": null,
            "grid_template_columns": null,
            "grid_template_rows": null,
            "height": null,
            "justify_content": null,
            "justify_items": null,
            "left": null,
            "margin": null,
            "max_height": null,
            "max_width": null,
            "min_height": null,
            "min_width": null,
            "object_fit": null,
            "object_position": null,
            "order": null,
            "overflow": null,
            "overflow_x": null,
            "overflow_y": null,
            "padding": null,
            "right": null,
            "top": null,
            "visibility": null,
            "width": null
          }
        },
        "78cd63c80cd64743a7c4a6f8a6bf0272": {
          "model_module": "@jupyter-widgets/base",
          "model_name": "LayoutModel",
          "model_module_version": "1.2.0",
          "state": {
            "_model_module": "@jupyter-widgets/base",
            "_model_module_version": "1.2.0",
            "_model_name": "LayoutModel",
            "_view_count": null,
            "_view_module": "@jupyter-widgets/base",
            "_view_module_version": "1.2.0",
            "_view_name": "LayoutView",
            "align_content": null,
            "align_items": null,
            "align_self": null,
            "border": null,
            "bottom": null,
            "display": null,
            "flex": null,
            "flex_flow": null,
            "grid_area": null,
            "grid_auto_columns": null,
            "grid_auto_flow": null,
            "grid_auto_rows": null,
            "grid_column": null,
            "grid_gap": null,
            "grid_row": null,
            "grid_template_areas": null,
            "grid_template_columns": null,
            "grid_template_rows": null,
            "height": null,
            "justify_content": null,
            "justify_items": null,
            "left": null,
            "margin": null,
            "max_height": null,
            "max_width": null,
            "min_height": null,
            "min_width": null,
            "object_fit": null,
            "object_position": null,
            "order": null,
            "overflow": null,
            "overflow_x": null,
            "overflow_y": null,
            "padding": null,
            "right": null,
            "top": null,
            "visibility": null,
            "width": null
          }
        },
        "20991792d0404dd3924df99d58b50caf": {
          "model_module": "@jupyter-widgets/controls",
          "model_name": "DescriptionStyleModel",
          "model_module_version": "1.5.0",
          "state": {
            "_model_module": "@jupyter-widgets/controls",
            "_model_module_version": "1.5.0",
            "_model_name": "DescriptionStyleModel",
            "_view_count": null,
            "_view_module": "@jupyter-widgets/base",
            "_view_module_version": "1.2.0",
            "_view_name": "StyleView",
            "description_width": ""
          }
        },
        "0d87dd5baf5348549a903264b2fbae08": {
          "model_module": "@jupyter-widgets/base",
          "model_name": "LayoutModel",
          "model_module_version": "1.2.0",
          "state": {
            "_model_module": "@jupyter-widgets/base",
            "_model_module_version": "1.2.0",
            "_model_name": "LayoutModel",
            "_view_count": null,
            "_view_module": "@jupyter-widgets/base",
            "_view_module_version": "1.2.0",
            "_view_name": "LayoutView",
            "align_content": null,
            "align_items": null,
            "align_self": null,
            "border": null,
            "bottom": null,
            "display": null,
            "flex": null,
            "flex_flow": null,
            "grid_area": null,
            "grid_auto_columns": null,
            "grid_auto_flow": null,
            "grid_auto_rows": null,
            "grid_column": null,
            "grid_gap": null,
            "grid_row": null,
            "grid_template_areas": null,
            "grid_template_columns": null,
            "grid_template_rows": null,
            "height": null,
            "justify_content": null,
            "justify_items": null,
            "left": null,
            "margin": null,
            "max_height": null,
            "max_width": null,
            "min_height": null,
            "min_width": null,
            "object_fit": null,
            "object_position": null,
            "order": null,
            "overflow": null,
            "overflow_x": null,
            "overflow_y": null,
            "padding": null,
            "right": null,
            "top": null,
            "visibility": null,
            "width": null
          }
        },
        "ca1f96663ba4449ea0e4515f34d505e7": {
          "model_module": "@jupyter-widgets/controls",
          "model_name": "ProgressStyleModel",
          "model_module_version": "1.5.0",
          "state": {
            "_model_module": "@jupyter-widgets/controls",
            "_model_module_version": "1.5.0",
            "_model_name": "ProgressStyleModel",
            "_view_count": null,
            "_view_module": "@jupyter-widgets/base",
            "_view_module_version": "1.2.0",
            "_view_name": "StyleView",
            "bar_color": null,
            "description_width": ""
          }
        },
        "1606bc8592f54eba9e765e7ff320ea99": {
          "model_module": "@jupyter-widgets/base",
          "model_name": "LayoutModel",
          "model_module_version": "1.2.0",
          "state": {
            "_model_module": "@jupyter-widgets/base",
            "_model_module_version": "1.2.0",
            "_model_name": "LayoutModel",
            "_view_count": null,
            "_view_module": "@jupyter-widgets/base",
            "_view_module_version": "1.2.0",
            "_view_name": "LayoutView",
            "align_content": null,
            "align_items": null,
            "align_self": null,
            "border": null,
            "bottom": null,
            "display": null,
            "flex": null,
            "flex_flow": null,
            "grid_area": null,
            "grid_auto_columns": null,
            "grid_auto_flow": null,
            "grid_auto_rows": null,
            "grid_column": null,
            "grid_gap": null,
            "grid_row": null,
            "grid_template_areas": null,
            "grid_template_columns": null,
            "grid_template_rows": null,
            "height": null,
            "justify_content": null,
            "justify_items": null,
            "left": null,
            "margin": null,
            "max_height": null,
            "max_width": null,
            "min_height": null,
            "min_width": null,
            "object_fit": null,
            "object_position": null,
            "order": null,
            "overflow": null,
            "overflow_x": null,
            "overflow_y": null,
            "padding": null,
            "right": null,
            "top": null,
            "visibility": null,
            "width": null
          }
        },
        "196d23e518574e3cbbe2b7a003f8ae2a": {
          "model_module": "@jupyter-widgets/controls",
          "model_name": "DescriptionStyleModel",
          "model_module_version": "1.5.0",
          "state": {
            "_model_module": "@jupyter-widgets/controls",
            "_model_module_version": "1.5.0",
            "_model_name": "DescriptionStyleModel",
            "_view_count": null,
            "_view_module": "@jupyter-widgets/base",
            "_view_module_version": "1.2.0",
            "_view_name": "StyleView",
            "description_width": ""
          }
        },
        "64fb984e722141adac96adf5fb6d3aec": {
          "model_module": "@jupyter-widgets/controls",
          "model_name": "HBoxModel",
          "model_module_version": "1.5.0",
          "state": {
            "_dom_classes": [],
            "_model_module": "@jupyter-widgets/controls",
            "_model_module_version": "1.5.0",
            "_model_name": "HBoxModel",
            "_view_count": null,
            "_view_module": "@jupyter-widgets/controls",
            "_view_module_version": "1.5.0",
            "_view_name": "HBoxView",
            "box_style": "",
            "children": [
              "IPY_MODEL_319c990aa2b7494eaff5dd8624725f23",
              "IPY_MODEL_83ae31e140684769a78b4da580cc7683",
              "IPY_MODEL_6cad0f6ec12d42faa56e371abbd6e41a"
            ],
            "layout": "IPY_MODEL_240c9337ccc14509b11e8aaada6a4f35"
          }
        },
        "319c990aa2b7494eaff5dd8624725f23": {
          "model_module": "@jupyter-widgets/controls",
          "model_name": "HTMLModel",
          "model_module_version": "1.5.0",
          "state": {
            "_dom_classes": [],
            "_model_module": "@jupyter-widgets/controls",
            "_model_module_version": "1.5.0",
            "_model_name": "HTMLModel",
            "_view_count": null,
            "_view_module": "@jupyter-widgets/controls",
            "_view_module_version": "1.5.0",
            "_view_name": "HTMLView",
            "description": "",
            "description_tooltip": null,
            "layout": "IPY_MODEL_8a9f19a720554dd19da01cc638cdd367",
            "placeholder": "​",
            "style": "IPY_MODEL_97b09e8c4e8a4081a1873cd99a3ddd6a",
            "value": "Downloading builder script: "
          }
        },
        "83ae31e140684769a78b4da580cc7683": {
          "model_module": "@jupyter-widgets/controls",
          "model_name": "FloatProgressModel",
          "model_module_version": "1.5.0",
          "state": {
            "_dom_classes": [],
            "_model_module": "@jupyter-widgets/controls",
            "_model_module_version": "1.5.0",
            "_model_name": "FloatProgressModel",
            "_view_count": null,
            "_view_module": "@jupyter-widgets/controls",
            "_view_module_version": "1.5.0",
            "_view_name": "ProgressView",
            "bar_style": "success",
            "description": "",
            "description_tooltip": null,
            "layout": "IPY_MODEL_135af850be9a4f6c9f633c5cd41b10eb",
            "max": 2160,
            "min": 0,
            "orientation": "horizontal",
            "style": "IPY_MODEL_6cebb71862334deba9e5375eee4dca1a",
            "value": 2160
          }
        },
        "6cad0f6ec12d42faa56e371abbd6e41a": {
          "model_module": "@jupyter-widgets/controls",
          "model_name": "HTMLModel",
          "model_module_version": "1.5.0",
          "state": {
            "_dom_classes": [],
            "_model_module": "@jupyter-widgets/controls",
            "_model_module_version": "1.5.0",
            "_model_name": "HTMLModel",
            "_view_count": null,
            "_view_module": "@jupyter-widgets/controls",
            "_view_module_version": "1.5.0",
            "_view_name": "HTMLView",
            "description": "",
            "description_tooltip": null,
            "layout": "IPY_MODEL_90cf3f203b844e4485a28678c0ea7e2c",
            "placeholder": "​",
            "style": "IPY_MODEL_19a5327e40f14c2d9fc2346c2122dc51",
            "value": " 5.59k/? [00:00&lt;00:00, 99.5kB/s]"
          }
        },
        "240c9337ccc14509b11e8aaada6a4f35": {
          "model_module": "@jupyter-widgets/base",
          "model_name": "LayoutModel",
          "model_module_version": "1.2.0",
          "state": {
            "_model_module": "@jupyter-widgets/base",
            "_model_module_version": "1.2.0",
            "_model_name": "LayoutModel",
            "_view_count": null,
            "_view_module": "@jupyter-widgets/base",
            "_view_module_version": "1.2.0",
            "_view_name": "LayoutView",
            "align_content": null,
            "align_items": null,
            "align_self": null,
            "border": null,
            "bottom": null,
            "display": null,
            "flex": null,
            "flex_flow": null,
            "grid_area": null,
            "grid_auto_columns": null,
            "grid_auto_flow": null,
            "grid_auto_rows": null,
            "grid_column": null,
            "grid_gap": null,
            "grid_row": null,
            "grid_template_areas": null,
            "grid_template_columns": null,
            "grid_template_rows": null,
            "height": null,
            "justify_content": null,
            "justify_items": null,
            "left": null,
            "margin": null,
            "max_height": null,
            "max_width": null,
            "min_height": null,
            "min_width": null,
            "object_fit": null,
            "object_position": null,
            "order": null,
            "overflow": null,
            "overflow_x": null,
            "overflow_y": null,
            "padding": null,
            "right": null,
            "top": null,
            "visibility": null,
            "width": null
          }
        },
        "8a9f19a720554dd19da01cc638cdd367": {
          "model_module": "@jupyter-widgets/base",
          "model_name": "LayoutModel",
          "model_module_version": "1.2.0",
          "state": {
            "_model_module": "@jupyter-widgets/base",
            "_model_module_version": "1.2.0",
            "_model_name": "LayoutModel",
            "_view_count": null,
            "_view_module": "@jupyter-widgets/base",
            "_view_module_version": "1.2.0",
            "_view_name": "LayoutView",
            "align_content": null,
            "align_items": null,
            "align_self": null,
            "border": null,
            "bottom": null,
            "display": null,
            "flex": null,
            "flex_flow": null,
            "grid_area": null,
            "grid_auto_columns": null,
            "grid_auto_flow": null,
            "grid_auto_rows": null,
            "grid_column": null,
            "grid_gap": null,
            "grid_row": null,
            "grid_template_areas": null,
            "grid_template_columns": null,
            "grid_template_rows": null,
            "height": null,
            "justify_content": null,
            "justify_items": null,
            "left": null,
            "margin": null,
            "max_height": null,
            "max_width": null,
            "min_height": null,
            "min_width": null,
            "object_fit": null,
            "object_position": null,
            "order": null,
            "overflow": null,
            "overflow_x": null,
            "overflow_y": null,
            "padding": null,
            "right": null,
            "top": null,
            "visibility": null,
            "width": null
          }
        },
        "97b09e8c4e8a4081a1873cd99a3ddd6a": {
          "model_module": "@jupyter-widgets/controls",
          "model_name": "DescriptionStyleModel",
          "model_module_version": "1.5.0",
          "state": {
            "_model_module": "@jupyter-widgets/controls",
            "_model_module_version": "1.5.0",
            "_model_name": "DescriptionStyleModel",
            "_view_count": null,
            "_view_module": "@jupyter-widgets/base",
            "_view_module_version": "1.2.0",
            "_view_name": "StyleView",
            "description_width": ""
          }
        },
        "135af850be9a4f6c9f633c5cd41b10eb": {
          "model_module": "@jupyter-widgets/base",
          "model_name": "LayoutModel",
          "model_module_version": "1.2.0",
          "state": {
            "_model_module": "@jupyter-widgets/base",
            "_model_module_version": "1.2.0",
            "_model_name": "LayoutModel",
            "_view_count": null,
            "_view_module": "@jupyter-widgets/base",
            "_view_module_version": "1.2.0",
            "_view_name": "LayoutView",
            "align_content": null,
            "align_items": null,
            "align_self": null,
            "border": null,
            "bottom": null,
            "display": null,
            "flex": null,
            "flex_flow": null,
            "grid_area": null,
            "grid_auto_columns": null,
            "grid_auto_flow": null,
            "grid_auto_rows": null,
            "grid_column": null,
            "grid_gap": null,
            "grid_row": null,
            "grid_template_areas": null,
            "grid_template_columns": null,
            "grid_template_rows": null,
            "height": null,
            "justify_content": null,
            "justify_items": null,
            "left": null,
            "margin": null,
            "max_height": null,
            "max_width": null,
            "min_height": null,
            "min_width": null,
            "object_fit": null,
            "object_position": null,
            "order": null,
            "overflow": null,
            "overflow_x": null,
            "overflow_y": null,
            "padding": null,
            "right": null,
            "top": null,
            "visibility": null,
            "width": null
          }
        },
        "6cebb71862334deba9e5375eee4dca1a": {
          "model_module": "@jupyter-widgets/controls",
          "model_name": "ProgressStyleModel",
          "model_module_version": "1.5.0",
          "state": {
            "_model_module": "@jupyter-widgets/controls",
            "_model_module_version": "1.5.0",
            "_model_name": "ProgressStyleModel",
            "_view_count": null,
            "_view_module": "@jupyter-widgets/base",
            "_view_module_version": "1.2.0",
            "_view_name": "StyleView",
            "bar_color": null,
            "description_width": ""
          }
        },
        "90cf3f203b844e4485a28678c0ea7e2c": {
          "model_module": "@jupyter-widgets/base",
          "model_name": "LayoutModel",
          "model_module_version": "1.2.0",
          "state": {
            "_model_module": "@jupyter-widgets/base",
            "_model_module_version": "1.2.0",
            "_model_name": "LayoutModel",
            "_view_count": null,
            "_view_module": "@jupyter-widgets/base",
            "_view_module_version": "1.2.0",
            "_view_name": "LayoutView",
            "align_content": null,
            "align_items": null,
            "align_self": null,
            "border": null,
            "bottom": null,
            "display": null,
            "flex": null,
            "flex_flow": null,
            "grid_area": null,
            "grid_auto_columns": null,
            "grid_auto_flow": null,
            "grid_auto_rows": null,
            "grid_column": null,
            "grid_gap": null,
            "grid_row": null,
            "grid_template_areas": null,
            "grid_template_columns": null,
            "grid_template_rows": null,
            "height": null,
            "justify_content": null,
            "justify_items": null,
            "left": null,
            "margin": null,
            "max_height": null,
            "max_width": null,
            "min_height": null,
            "min_width": null,
            "object_fit": null,
            "object_position": null,
            "order": null,
            "overflow": null,
            "overflow_x": null,
            "overflow_y": null,
            "padding": null,
            "right": null,
            "top": null,
            "visibility": null,
            "width": null
          }
        },
        "19a5327e40f14c2d9fc2346c2122dc51": {
          "model_module": "@jupyter-widgets/controls",
          "model_name": "DescriptionStyleModel",
          "model_module_version": "1.5.0",
          "state": {
            "_model_module": "@jupyter-widgets/controls",
            "_model_module_version": "1.5.0",
            "_model_name": "DescriptionStyleModel",
            "_view_count": null,
            "_view_module": "@jupyter-widgets/base",
            "_view_module_version": "1.2.0",
            "_view_name": "StyleView",
            "description_width": ""
          }
        },
        "0fb427b3cebf46eea232ccba2b636010": {
          "model_module": "@jupyter-widgets/controls",
          "model_name": "HBoxModel",
          "model_module_version": "1.5.0",
          "state": {
            "_dom_classes": [],
            "_model_module": "@jupyter-widgets/controls",
            "_model_module_version": "1.5.0",
            "_model_name": "HBoxModel",
            "_view_count": null,
            "_view_module": "@jupyter-widgets/controls",
            "_view_module_version": "1.5.0",
            "_view_name": "HBoxView",
            "box_style": "",
            "children": [
              "IPY_MODEL_59a967270ca3468ebaa49f744a3f177f",
              "IPY_MODEL_6a93690f93da4ca18bb609a1ad0d7d68",
              "IPY_MODEL_e060b5ca3498464995e4a16a3f918663"
            ],
            "layout": "IPY_MODEL_0e13066fb33a485d848bf93cb96d24fa"
          }
        },
        "59a967270ca3468ebaa49f744a3f177f": {
          "model_module": "@jupyter-widgets/controls",
          "model_name": "HTMLModel",
          "model_module_version": "1.5.0",
          "state": {
            "_dom_classes": [],
            "_model_module": "@jupyter-widgets/controls",
            "_model_module_version": "1.5.0",
            "_model_name": "HTMLModel",
            "_view_count": null,
            "_view_module": "@jupyter-widgets/controls",
            "_view_module_version": "1.5.0",
            "_view_name": "HTMLView",
            "description": "",
            "description_tooltip": null,
            "layout": "IPY_MODEL_b1b7ffaf57b9421288e17a545c3a393b",
            "placeholder": "​",
            "style": "IPY_MODEL_7be5e1b37b964a98880b3277f5332189",
            "value": " 17%"
          }
        },
        "6a93690f93da4ca18bb609a1ad0d7d68": {
          "model_module": "@jupyter-widgets/controls",
          "model_name": "FloatProgressModel",
          "model_module_version": "1.5.0",
          "state": {
            "_dom_classes": [],
            "_model_module": "@jupyter-widgets/controls",
            "_model_module_version": "1.5.0",
            "_model_name": "FloatProgressModel",
            "_view_count": null,
            "_view_module": "@jupyter-widgets/controls",
            "_view_module_version": "1.5.0",
            "_view_name": "ProgressView",
            "bar_style": "danger",
            "description": "",
            "description_tooltip": null,
            "layout": "IPY_MODEL_a1661cc147da4e3d882353057445f711",
            "max": 117,
            "min": 0,
            "orientation": "horizontal",
            "style": "IPY_MODEL_7648109853eb4d48bef209b6117bb833",
            "value": 20
          }
        },
        "e060b5ca3498464995e4a16a3f918663": {
          "model_module": "@jupyter-widgets/controls",
          "model_name": "HTMLModel",
          "model_module_version": "1.5.0",
          "state": {
            "_dom_classes": [],
            "_model_module": "@jupyter-widgets/controls",
            "_model_module_version": "1.5.0",
            "_model_name": "HTMLModel",
            "_view_count": null,
            "_view_module": "@jupyter-widgets/controls",
            "_view_module_version": "1.5.0",
            "_view_name": "HTMLView",
            "description": "",
            "description_tooltip": null,
            "layout": "IPY_MODEL_79f853ac8a1e4493bd8054a6a8fe4e3f",
            "placeholder": "​",
            "style": "IPY_MODEL_b352c863cc2f43cdb1688b7447cdf27e",
            "value": " 20/117 [00:21&lt;01:59,  1.23s/it]"
          }
        },
        "0e13066fb33a485d848bf93cb96d24fa": {
          "model_module": "@jupyter-widgets/base",
          "model_name": "LayoutModel",
          "model_module_version": "1.2.0",
          "state": {
            "_model_module": "@jupyter-widgets/base",
            "_model_module_version": "1.2.0",
            "_model_name": "LayoutModel",
            "_view_count": null,
            "_view_module": "@jupyter-widgets/base",
            "_view_module_version": "1.2.0",
            "_view_name": "LayoutView",
            "align_content": null,
            "align_items": null,
            "align_self": null,
            "border": null,
            "bottom": null,
            "display": null,
            "flex": null,
            "flex_flow": null,
            "grid_area": null,
            "grid_auto_columns": null,
            "grid_auto_flow": null,
            "grid_auto_rows": null,
            "grid_column": null,
            "grid_gap": null,
            "grid_row": null,
            "grid_template_areas": null,
            "grid_template_columns": null,
            "grid_template_rows": null,
            "height": null,
            "justify_content": null,
            "justify_items": null,
            "left": null,
            "margin": null,
            "max_height": null,
            "max_width": null,
            "min_height": null,
            "min_width": null,
            "object_fit": null,
            "object_position": null,
            "order": null,
            "overflow": null,
            "overflow_x": null,
            "overflow_y": null,
            "padding": null,
            "right": null,
            "top": null,
            "visibility": null,
            "width": null
          }
        },
        "b1b7ffaf57b9421288e17a545c3a393b": {
          "model_module": "@jupyter-widgets/base",
          "model_name": "LayoutModel",
          "model_module_version": "1.2.0",
          "state": {
            "_model_module": "@jupyter-widgets/base",
            "_model_module_version": "1.2.0",
            "_model_name": "LayoutModel",
            "_view_count": null,
            "_view_module": "@jupyter-widgets/base",
            "_view_module_version": "1.2.0",
            "_view_name": "LayoutView",
            "align_content": null,
            "align_items": null,
            "align_self": null,
            "border": null,
            "bottom": null,
            "display": null,
            "flex": null,
            "flex_flow": null,
            "grid_area": null,
            "grid_auto_columns": null,
            "grid_auto_flow": null,
            "grid_auto_rows": null,
            "grid_column": null,
            "grid_gap": null,
            "grid_row": null,
            "grid_template_areas": null,
            "grid_template_columns": null,
            "grid_template_rows": null,
            "height": null,
            "justify_content": null,
            "justify_items": null,
            "left": null,
            "margin": null,
            "max_height": null,
            "max_width": null,
            "min_height": null,
            "min_width": null,
            "object_fit": null,
            "object_position": null,
            "order": null,
            "overflow": null,
            "overflow_x": null,
            "overflow_y": null,
            "padding": null,
            "right": null,
            "top": null,
            "visibility": null,
            "width": null
          }
        },
        "7be5e1b37b964a98880b3277f5332189": {
          "model_module": "@jupyter-widgets/controls",
          "model_name": "DescriptionStyleModel",
          "model_module_version": "1.5.0",
          "state": {
            "_model_module": "@jupyter-widgets/controls",
            "_model_module_version": "1.5.0",
            "_model_name": "DescriptionStyleModel",
            "_view_count": null,
            "_view_module": "@jupyter-widgets/base",
            "_view_module_version": "1.2.0",
            "_view_name": "StyleView",
            "description_width": ""
          }
        },
        "a1661cc147da4e3d882353057445f711": {
          "model_module": "@jupyter-widgets/base",
          "model_name": "LayoutModel",
          "model_module_version": "1.2.0",
          "state": {
            "_model_module": "@jupyter-widgets/base",
            "_model_module_version": "1.2.0",
            "_model_name": "LayoutModel",
            "_view_count": null,
            "_view_module": "@jupyter-widgets/base",
            "_view_module_version": "1.2.0",
            "_view_name": "LayoutView",
            "align_content": null,
            "align_items": null,
            "align_self": null,
            "border": null,
            "bottom": null,
            "display": null,
            "flex": null,
            "flex_flow": null,
            "grid_area": null,
            "grid_auto_columns": null,
            "grid_auto_flow": null,
            "grid_auto_rows": null,
            "grid_column": null,
            "grid_gap": null,
            "grid_row": null,
            "grid_template_areas": null,
            "grid_template_columns": null,
            "grid_template_rows": null,
            "height": null,
            "justify_content": null,
            "justify_items": null,
            "left": null,
            "margin": null,
            "max_height": null,
            "max_width": null,
            "min_height": null,
            "min_width": null,
            "object_fit": null,
            "object_position": null,
            "order": null,
            "overflow": null,
            "overflow_x": null,
            "overflow_y": null,
            "padding": null,
            "right": null,
            "top": null,
            "visibility": null,
            "width": null
          }
        },
        "7648109853eb4d48bef209b6117bb833": {
          "model_module": "@jupyter-widgets/controls",
          "model_name": "ProgressStyleModel",
          "model_module_version": "1.5.0",
          "state": {
            "_model_module": "@jupyter-widgets/controls",
            "_model_module_version": "1.5.0",
            "_model_name": "ProgressStyleModel",
            "_view_count": null,
            "_view_module": "@jupyter-widgets/base",
            "_view_module_version": "1.2.0",
            "_view_name": "StyleView",
            "bar_color": null,
            "description_width": ""
          }
        },
        "79f853ac8a1e4493bd8054a6a8fe4e3f": {
          "model_module": "@jupyter-widgets/base",
          "model_name": "LayoutModel",
          "model_module_version": "1.2.0",
          "state": {
            "_model_module": "@jupyter-widgets/base",
            "_model_module_version": "1.2.0",
            "_model_name": "LayoutModel",
            "_view_count": null,
            "_view_module": "@jupyter-widgets/base",
            "_view_module_version": "1.2.0",
            "_view_name": "LayoutView",
            "align_content": null,
            "align_items": null,
            "align_self": null,
            "border": null,
            "bottom": null,
            "display": null,
            "flex": null,
            "flex_flow": null,
            "grid_area": null,
            "grid_auto_columns": null,
            "grid_auto_flow": null,
            "grid_auto_rows": null,
            "grid_column": null,
            "grid_gap": null,
            "grid_row": null,
            "grid_template_areas": null,
            "grid_template_columns": null,
            "grid_template_rows": null,
            "height": null,
            "justify_content": null,
            "justify_items": null,
            "left": null,
            "margin": null,
            "max_height": null,
            "max_width": null,
            "min_height": null,
            "min_width": null,
            "object_fit": null,
            "object_position": null,
            "order": null,
            "overflow": null,
            "overflow_x": null,
            "overflow_y": null,
            "padding": null,
            "right": null,
            "top": null,
            "visibility": null,
            "width": null
          }
        },
        "b352c863cc2f43cdb1688b7447cdf27e": {
          "model_module": "@jupyter-widgets/controls",
          "model_name": "DescriptionStyleModel",
          "model_module_version": "1.5.0",
          "state": {
            "_model_module": "@jupyter-widgets/controls",
            "_model_module_version": "1.5.0",
            "_model_name": "DescriptionStyleModel",
            "_view_count": null,
            "_view_module": "@jupyter-widgets/base",
            "_view_module_version": "1.2.0",
            "_view_name": "StyleView",
            "description_width": ""
          }
        }
      }
    }
  },
  "cells": [
    {
      "cell_type": "markdown",
      "metadata": {
        "id": "XZTfJ2fy7Bxu"
      },
      "source": [
        "## Fine-tune TrOCR on the IAM Handwriting Database\n",
        "\n",
        "In this notebook, we are going to fine-tune a pre-trained TrOCR model on the [IAM Handwriting Database](https://fki.tic.heia-fr.ch/databases/iam-handwriting-database), a collection of annotated images of handwritten text.\n",
        "\n",
        "We will do this using the new `VisionEncoderDecoderModel` class, which can be used to combine any image Transformer encoder (such as ViT, BEiT) with any text Transformer as decoder (such as BERT, RoBERTa, GPT-2). TrOCR is an instance of this, as it has an encoder-decoder architecture, with the weights of the encoder initialized from a pre-trained BEiT, and the weights of the decoder initialized from a pre-trained RoBERTa. The weights of the cross-attention layer were randomly initialized, before the authors pre-trained the model further on millions of (partially synthetic) annotated images of handwritten text.\n",
        "\n",
        "This figure gives a good overview of the model (from the original paper):\n",
        "\n",
        "![Schermafbeelding 2021-10-26 om 16.09.25.png](data:image/png;base64,iVBORw0KGgoAAAANSUhEUgAABLAAAAIwCAYAAACWQZItAAAAAXNSR0IArs4c6QAAAJZlWElmTU0AKgAAAAgABAEaAAUAAAABAAAAPgEbAAUAAAABAAAARgEoAAMAAAABAAIAAIdpAAQAAAABAAAATgAAAAAAAACQAAAAAQAAAJAAAAABAASShgAHAAAAEgAAAISgAQADAAAAAQABAACgAgAEAAAAAQAABLCgAwAEAAAAAQAAAjAAAAAAQVNDSUkAAABTY3JlZW5zaG90uFiYigAAAAlwSFlzAAAWJQAAFiUBSVIk8AAAAddpVFh0WE1MOmNvbS5hZG9iZS54bXAAAAAAADx4OnhtcG1ldGEgeG1sbnM6eD0iYWRvYmU6bnM6bWV0YS8iIHg6eG1wdGs9IlhNUCBDb3JlIDYuMC4wIj4KICAgPHJkZjpSREYgeG1sbnM6cmRmPSJodHRwOi8vd3d3LnczLm9yZy8xOTk5LzAyLzIyLXJkZi1zeW50YXgtbnMjIj4KICAgICAgPHJkZjpEZXNjcmlwdGlvbiByZGY6YWJvdXQ9IiIKICAgICAgICAgICAgeG1sbnM6ZXhpZj0iaHR0cDovL25zLmFkb2JlLmNvbS9leGlmLzEuMC8iPgogICAgICAgICA8ZXhpZjpQaXhlbFlEaW1lbnNpb24+NTYwPC9leGlmOlBpeGVsWURpbWVuc2lvbj4KICAgICAgICAgPGV4aWY6UGl4ZWxYRGltZW5zaW9uPjEyMDA8L2V4aWY6UGl4ZWxYRGltZW5zaW9uPgogICAgICAgICA8ZXhpZjpVc2VyQ29tbWVudD5TY3JlZW5zaG90PC9leGlmOlVzZXJDb21tZW50PgogICAgICA8L3JkZjpEZXNjcmlwdGlvbj4KICAgPC9yZGY6UkRGPgo8L3g6eG1wbWV0YT4Kjy4kHwAAABxpRE9UAAAAAgAAAAAAAAEYAAAAKAAAARgAAAEYAAC1uW0HAnMAAEAASURBVHgB7J0HvFTF+b8HKWJXilhQUIqIBUWxK9hRsffeYjSaYuI/iT81zSQmtkRjjNHYu4ItKqLYC3ZFEFBUBJSmiCAqIu0/z9ydzdlzt5yze3bv2Xu/7+dz7549ZWbOc8rOfOedd1ots2ZkIiACIiACIiACIiACIiACIiACIiACIiACIpBSAq0kYKX0yqhYIiACIiACIiACIiACIiACIiACIiACIiACjoAELN0IIiACIiACIiACIiACIiACIiACIiACIiACqSYgASvVl0eFEwEREAEREAEREAEREAEREAEREAEREAERkICle0AEREAEREAEREAEREAEREAEREAEREAERCDVBCRgpfryqHAiIAIiIAIiIAIiIAIiIAIiIAIiIAIiIAISsHQPiIAIiIAIiIAIiIAIiIAIiIAIiIAIiIAIpJqABKxUXx4VTgREQAREQAREQAREQAREQAREQAREQAREQAKW7gEREAEREAEREAEREAEREAEREAEREAEREIFUE5CAlerLo8KJgAiIgAiIgAiIgAiIgAiIgAiIgAiIgAhIwNI9IAIiIAIiIAIiIAIiIAIiIAIiIAIiIAIikGoCErBSfXlUOBEQAREQAREQAREQAREQAREQAREQAREQAQlYugdEQAREQAREQAREQAREQAREQAREQAREQARSTUACVqovjwonAiIgAiIgAiIgAiIgAiIgAiIgAiIgAiIgAUv3gAiIgAiIgAiIgAiIgAiIgAiIgAiIgAiIQKoJSMBK9eVR4URABERABERABERABERABERABERABERABCRg6R4QAREQAREQAREQAREQAREQAREQAREQARFINQEJWKm+PCqcCIiACIiACIiACIiACIiACIiACIiACIiABCzdAyIgAiIgAiIgAiIgAiIgAiIgAiIgAiIgAqkmIAEr1ZdHhRMBERABERABERABERABERABERABERABEZCApXtABERABERABERABERABERABERABERABEQg1QQkYKX68qhwIiACIiACIiACIiACIiACIiACIiACIiACErB0D4iACIiACIiACIiACIiACIiACIiACIiACKSagASsVF8eFU4EREAEREAEREAEREAEREAEREAEREAEREAClu4BERABERABERABERABERABEUiYwLJly8zkyZPN+PHjzYcffmjWWmst07dvX7PRRhuZdu3aJZybkhMBERCB5k9AAlbzv8Y6QxEQAREQAREQAREQAREQgRoSePTRR83pp59upk2b1ihXxKvf/OY35txzzzVt2rRptF0rREAEREAE8hOQgJWfi9aKgAiIgAiIgAiIgAiIgAiIQGwCCFfXXXddznF4X82ePdssXrw4u75///7miSeeMB07dsyuK2fhoYceMr///e/NYYcdZs4///xykkjkmH333dfMmDHDjBw50nTq1CmRNJWICIiACAQJSMAK0tCyCIiACIiACIiACIiACIiACJRJADHpoIMOckfjaXXJJZeYE0880ay++upm4cKF5tlnnzWnnnpq1jMLsevf//53mbk1HHbssceaO++80/zwhz801157bUVplXvwBx98YHr37u0Onz59ull77bXLTUrHiYAIiEBBAhKwCqLRBhEQAREQAREQAREQAREQARGIRgCBihhXkyZNcgc8/PDDZsiQIY0OnjlzpunTp4+ZN2+eWW655cybb75ptthiC7No0SIzduxYt/96661nOnfunHPsmDFjnAcXHlvdunVz3k6IRXvttZeZM2eOOeSQQ8x5553njtl4443NiiuuaGbNmuXEslatWpktt9zSLFmyxLzzzjvm7bffdmmwLuwBNnXqVOct1rp1a9OvX7+cMuBFxnZss802M0uXLjXjxo0zQ4cONX/961/d+hEjRjgPLES7Hj16uHVffvmlefnll80nn3xi1lhjDbPnnnu6T7dR/0RABEQgKgEbXFAmAiIgAiIgAiIgAiIgAiIgAiJQAYFRo0Yts20w97fDDjsUTcnGwMrue8EFF7h9rXiVXWeHBOYcb8Wu7DbrweW2HX300dl1Pl//aUUxt89pp52W3ccKYMu6dOmS/c6+K6ywwrIbbrghJ69DDz00u0/OBvvl5z//eXabFaOWvf/++9nvPm//uf/++7vDn3zyyWVWzMrZz8b+Wnb55ZeHk9d3ERABEShKQB5Y9g0rEwEREAEREAEREAEREAEREIFKCNx6661uuCBpXHzxxeZXv/pVweTwgCIGFnbkkUeau+++27z77rvOq4l1xLT63e9+x6IzvLXwaMIYgnj99dc7byuGLDLLIYYnFZ5b2F133eW8vH72s5+Zf/zjH25dhw4dnJfX9ttvb+bPn+88otwG+4+4VXvssYf7Siyt++67zy3blqTfxX1aActcccUVbhlvKoLQ77fffoYhhKSJbbrppm79wIED3b7k98orr5j111/fneurr75qnn/+eechNmHCBLfeHah/IiACIlCCgASsEoC0WQREQAREQAREQAREQAREQARKEbCeVObPf/6z2+2ee+4xRxxxRMFDGPLnh+4xjO+tt96KLWCR+Ny5c7ND8fLF00JEu/TSS105unbtap577jmz4YYbuu/EyzrjjDPcMmIT8bmwOAIWaWJnn322ufLKK90ygdwJWo8xvBBBCyM/4nQhdF100UUuTtbgwYOzsbPcTvonAiIgAkUISMAqAkebREAEREAEREAEREAEREAERCAKgZ/+9Kfmqquucrs++uijhln5ChnxrgjyjvXs2dN5MMX1wOLYUgLWr3/9axdInn0RmCijN7yryJuYXZRlwYIFLiZXkgIWXlp4XmE777yz8xzzwd59OfQpAiIgAlEJSMCKSkr7iYAIiIAIiIAIiIAIiIAIiEABAgytY4gdds0112S9m/Lt/vHHH2c9obbddls3xK7aAtZrr71mBgwYkFMcAr8/8MADbt2nn35q1l133UQ9sEh46623doHqfcYEfz/88MMdn3Cger+PPkVABEQgL4GiEbK0UQREQAREQAREQAREQAREQAREoCSBRx55JBuo/Kyzziq6/2OPPZbd1w41dPsWC+Juh+Vl9/dB3DnIzu6XXW+HEDbK0w4hzG4n4HrYgoHgbRwrt7lYEHfysI1K90cQd2821lZ2PWUNGt9Jk8Dt/lg+rVi2zM5oGNxVyyIgAiJQlIA8sPLKelopAiIgAiIgAiIgAiIgAiIgAtEJTJ482XlV2daXWXnllQ3ffZyrcCoML7Qillt92223meOOOy4nXhSeXH/729+yh917770uADorfBB3luMMIXzmmWfMoEGDOCxre+21lwvgzopvvvnGBVYndtfQoUPdPgSPX3XVVbP79+3b1xB4HWN4YKkYWNkD7YIV28yIESNcUHmCumPnnHOOueyyy9yy/omACIhAKQISsEoR0nYREAEREAEREAEREAEREAERiEDglFNOMTfddJPb8+CDDza33367E4WCh954441OhGJdp06dXAyqVVZZxcyePdv4IXW77babeeqpp7KHIVpxHFZIwLLeVObOO+/MHsNCMAaW9Qoz//znP7PbCSSPAEXsq3XWWcdMmzbNbfvxj39srr76arfMbIHErsKC8az893wClvX0ygnMvnjxYvPFF1+YLl26uHSI/9WtWzdDsPd99tnHDB8+3K3XPxEQAREoRUACVilC2i4CIiACIiACIiACIiACIiACEQjMnDnTiTfMtIdtsskm5thjjzU9evRwIs6TTz5p7r///mxKeDoRNN3bGmus4byqWrVqZZhV8MQTTzTErvrlL39pvv/+e7cb626++Wa3jBiE6IWnFJ94dRHHqkOHDi4we1DAskP4zOWXX24QuhCvEKooD3bhhRea3/zmN26ZYO/MKohttNFG5v/+7/9csPdzzz3XvPjii249/4jj1b17d/f9kksucWIZX+xwQnfMcsst58p5/vnnm7Zt25oxY8Y4Dh999JHZeOONDWX/yU9+4jyyXCL6JwIiIAIlCEjAKgFIm0VABERABERABERABERABEQgKoE33njDCU/jx48veAiz/uENddppp+Xsg4j0pz/9KWcdX0444QTz3//+14lbBEBnSKG3oNeXX+eFsaCAhYiGeBS2Pn36OJEMLzCMoX4IU1999VXOrgyLPPLII80NN9zg1o8bN84wpBCbMmWK2WCDDQzDJ70h3uHBhQiGdxmiHB5beHotXbrUeaZRnrXWWssfok8REAERKEpAAlZRPNooAiIgAiIgAiIgAiIgAiIgAvEIfPfdd87b6aWXXnKxrWywctO+fXuz3nrrmf333995V/Xu3btRongl/fa3vzW33nqrmT59uhN/9txzTxcnar/99nPiD8PugvGxEIH+8pe/OM8uvLQQkhDHBg4cmDOEEGHtqquuMs8995xLm7KQ9qWXXupidgUL8+abbzoPrdGjRxs8t3bccUfzi1/8wsXJOu+889yuNmi986jyx1133XXm+uuvN2+//bYTpcifIZQjR450otzLL7/sBC44bLnlluYPf/iD2XXXXf3h+hQBERCBkgQkYJVEpB1EQAREQAREQAREQAREQAREoHwCCxcuNMsvv3ysBBCj8NSKang/4eUUtKAH1sSJE02vXr3c5iVLlpjWrVsHd827zH5YlH19AvnK4beVw8Efq08REAERkICle0AEREAEREAEREAEREAEREAEmiGBQgJWMzxVnZIIiEALICABqwVcZJ2iCIiACIiACIiACIiACIhAyyMgAavlXXOdsQg0ZwISsJrz1dW5iYAIiIAIiIAIiIAIiIAItFgCzCDIDIHY+++/72YTbLEwdOIiIAJ1T0ACVt1fQp2ACIiACIiACIiACIiACIiACIiACIiACDRvAhKw7PUlQCKzYqTdVlppJbP11lsbgim++OKLaS+uC1S53XbbZcs5duxYM2fOnOz3tC4wK8qqq67qisf0wcykknbr0KGD2WyzzbLFHDNmjJsCObsipQtbbbVVdtabGTNmGIKLpt2YsWfDDTdMezEjlY9Ziz799NNI+zblTky/7afYXrx4sWFGp7TbCiusYLbZZptsMT/44AM341N2RUoXNt54Y7Pmmmu60s2bN88w+1TarWPHjmbTTTdNezFVPhEQAREQAREQAREQgQoJSMCyAGnA0SjF4s4O4g6qwT9m7GBK3EmTJhlEldVWW83lmubyrr766jkiyuDBg83jjz+eWsYAhfMLL7xgdtppJ8d31KhRbtrgtHL2Zd5rr70cW1do+2/QoEFuiuS0l/v11193oizlZurl008/PfX3xznnnOOmsvas6/nz7LPPNldeeWXqmTMl96mnnupQf/HFF6ZTp05uOa33N++RLl26mJkzZ2Zvjx/96Efm3//+d+pZM935scce68rNNOu8S9LKmULCmmnlmcpdJgIiIAIiIAIiIAIi0LwJSMCy19cLWP/617+ywlDaLjseB08//bSZMGFCVsC6/PLLs14JaSvvm2++ae65554c74599tnHrLLKKuaggw5KW3Gz5TnppJMc56CANXDgQHPLLbdk90nbwkMPPWTwlBgxYkS2aLvttpu7N4YMGZJdl7YFGslhAeuvf/2r+dOf/pS2ombL889//tPssMMOzUrA4llFXEmrEbvjt7/9bSMB64orrjCdO3dOZbFfe+01w3P58ccfZ8sH4/fee8+cdtpp2XVpW/h//+//mUsvvTRHwNp7773NjTfemLaiZstz3333OS/qhx9+OLtOCyIgAiIgAiIgAiIgAs2TgAQse10lYCV/c0vASp5poRQlYBUik/x6CVjJMy2VogSsUoSS2y4BKzmWSkkEREAEREAEREAERCB5AhKwLFMJWMnfWBKwkmdaKEUJWIXIJL9eAlbyTEulKAGrFKHktkvASo6lUhIBERABERABERABEUiegAQsy1QCVvI3lgSs5JkWSlECViEyya+XgJU801IpSsAqRSi57RKwkmOZ9pS+++47884775hly5YlUtRWrVoZJuVo06ZNTnpMzjFlypScdbX+QpD/Xr165WS7dOlSQz2FSXFagm2yySYuhEPwXInRN3ny5OCqipYJEUE+YRs/frwLfRFen/bv3bt3bxSmY/78+WbcuHFNWnSetQEDBpjlllsupxxMyvL555/nrKv1F4b19+jRIydbnjGeNZ65pjKY9e/f37Rt2zanCEk/AzmJV/ELcZCZcCVscF60aFF4ddnfycPHXPaJJP0MtG7d2t3PPn19ikAUAhKwLCUJWFFulXj7SMCKx6uSvSVgVUIv3rESsOLxSmJvCVhJUIyWhgSsaJyaw15MRvG3v/2tUYOu3HOj0XTrrbea448/PicJZrSkUR1uOObsVMUvvjFHIzrY4L/mmmvMmWee2WTlquIpN0oaBr/61a/MxRdfnLOtW7duZurUqYkw8JxnzZqVncWUzIjb2rdvXydsIiLUi3E+TGDxzDPP5BT5mGOOMXfddVcizHISjvGFsg0dOtQcdthh2aOIg8rESVhTP2thUZz3DO+bpioXTGB2ww03mFNOOYWvWWMCL9qATVm2bGEiLvhnbe7cuTni0r333muOPPLIxM6FfHhHXn311TklO+qoo1yM46SYkc/IkSPNHnvs4fJhxnpmsG/Xrl1OvvrSQICJ3C688EJz/vnnt2gkErDs5ZeAlfwzIAEreaaFUpSAVYhM8uslYCXPtFSKErBKEUpuuwSs5FimPaWzzjrL4IVFoy4Jo8FxwgknuAZPML111lnHzTDbVBOKjBkzxvTr1881YIPeYX//+9/Ngw8+6GbrDZa3OS4zgysziTJRUdCY2fqyyy4zhx56aHB1Wctz5swxeLoxcUV367nkbfTo0WbLLbd0nm5BAdFvT+snrBBkX3nllZwiwqpPnz7mz3/+c876Wn7hfmYG4ZNPPjmb7ezZs92kJnjUIUw2hcFq5513buQBdNFFF5nnn38+Z6KhWpePciH4/exnP8vJGlZMCHPwwQfnrE/zl2nTppmuXbu6WY6Z7dgb9+sll1xi3n33Xb+qok9Yffnll+45CCYEKzwtk5pwKXwNhg8f7mYWfvLJJ4PZajlDAOGKdzdCeks2CVj26kvASv4RkICVPNNCKUrAKkQm+fUSsJJnWipFCVilCCW3XQJWcizTnpIELAlYErAKP6USsAqzKbRFAlYhMsmubwkCFp5yDO+UNSbwy1/+0ukWErDCvp6NWTX7NRKwkr/EErCSZ1ooRQlYhcgkv14CVvJMS6UoAasUoeS2S8BKjmXaU5KAJQFLAlbhp1QCVmE2hbZIwCpEJtn1ErCS5VlvqUnAarhi8sCyHCRgJf/4SsBKnmmhFCVgFSKT/HoJWMkzLZWiBKxShJLbLgErOZZpT0kClgQsCViFn1IJWIXZFNoiAasQmWTXS8BKlme9pSYBq+GKScCyHCRgJf/4SsBKnmmhFCVgFSKT/HoJWMkzLZWiBKxShJLbLgErOZZpT0kClgQsCViFn1IJWIXZFNoiAasQmWTXS8BKlme9pSYBq+GKScCyHCRgJf/4SsBKnmmhFCVgFSKT/HoJWMkzLZWiBKxShJLbLgErOZZpT0kClgQsCViFn1IJWIXZFNoiAasQmWTXS8BKlme9pSYBq+GKScCyHCRgJf/4SsBKnmmhFCVgFSKT/HoJWMkzLZWiBKxShJLbLgErOZZpT0kClgQsCViFn1IJWIXZFNoiAasQmWTXS8BKlme9pSYBq+GKScCyHCRgJf/4SsBKnmmhFCVgFSKT/HoJWMkzLZWiBKxShJLbLgErOZZpT0kClgQsCViFn1IJWIXZFNoiAasQmWTXS8BKlme9pSYBq+GKScCyHCRgJf/4SsBKnmmhFCVgFSKT/HoJWMkzLZWiBKxShJLbLgErOZZpT0kClgQsCViFn1IJWIXZFNoiAasQmWTXly9gLTHzpn1kZn69zJhW7U2nbt1Mx+ULl+1nP/uZ+fLLL82tt96as9PBBx9sNtlkE/OnP/0pZ325X7rZclxxxRWGdLHhw4ebU045xcycObPcJJv1cRKwGi6vBCzLoVwBa/r06eaJJ54wJ510Us7DMmnSJIOAc/jhh2fXT5061QwbNswcc8wxZq211squj7rw0ksvmaefftpMmDDBfPXVV2a11VYzl19+eay0opaXl8aTTz5p3nvvPdO3b18zaNAgs84660QtqtsvSQHrmWeeMSussILZbrvtcsrwyCOPmO7du5tNN93UfP3112bkyJHmrbfecmXdZZdd3As254AIX7iWcN5pp53c3qNGjTIDBw40t9xyS4Sj/7dLVNb+CK7r448/bs4++2y/KvJnkgIWlTbu0dVXXz0n/7/97W/mpz/9qWnTpo157bXXHKPgDhyz/vrrB1eVXD722GPN66+/brbeemu373XXXWf++te/xv5RjHJ/kMHnn39u7rnnHsOPf8+ePc0RRxxhVllllZLlDO7QkgWsKPfGxx9/7O4NPjfbbDOz2267mc6dO5uxY8eaRx99NIjSLR900EGmT58+jdYHV1QiYEW5N4q9O7799lt3PrzPOnbs6N4LW2yxRbB4eZd5Rngu4eDtRz/6kXunnnbaaX5V3s+o745CrEl01qxZhnMfM2aMu9d51pZfvkhNNVOSSgSsKKyDJ/zggw+a9u3bm8GDB7vVy5Ytc8xgveKKK7r1W265ZfCQvMv33Xef+f77783DDz+cd7tW5ieQT8Di3rvyyivN4sWLcw5q3bq1odLMs1zI+H0+4YQTzJlnnpmzC3UH3u1DhgzJWT906FBDg7eQ7brrro2OYd+FCxeap556yv1eUi/q2rWr2WqrrcxPfvITdw/svPPOrl7g0+UZ6Nevn1m0aJH7/fLr//73xgLW/fffb0izlB1yyCFmxx13NLwfaMRRJgxGwfrdpZdemtMIo5z8VgbtjTfeMFdddZV7N/CMbr755ubnP/+5gc8vfvEL065dOzN37lxz8cUXu/s8eGx4eeWVVzZ/+MMfwqvNqaee6p5/3uFBCwtYleQzZ84c947kvUS9zNvo0aMNz/GSJUvMcsst51dX9EndlDrZyy+/7Jj079/f0Nju1atXo3QvueQS9z5stCG0gnru/vvvn11bTQGL34bnn3/e5XXggQca6qth4z7kfsS23357c9hhh2V34X6mrnjyySdn182ePds9n5MnTzYIAmGL89xQD6O+FDTqfuTL87XeeusFN2WXyxWwolzPSp81yg1D7pOghcUTvy0fA//c+32Cn4g877zzTnCVW873zPudaK/ceeedht++oHXp0sVdc96pbdu2DW5yy2ULWN+/YH6+yW7mig+XmLZ9zzHPvHmp2bF9o+SzK8oRsL777jvzj3/8wzz77LNmxowZpkePHu63HMGLtuvee++dTd8vhK9BVAGLdip1S4x3y4knntio7eLzSOsn5/r++++74vGM8fvJ720xk4DVQEcCluVQroD14YcfmptvvrlRg5uXEhUsbjLssccecz9WvID50aHSENeSELCilveCCy4wO+ywgxOMXnzxRfdS/s1vfhOryEkKWLfffrsT7IKVCwpzzTXXOPGKHyZ+PKh00yBGLPz3v//tFH0aSHEsKQErKmvKRuPrvPPOcz0dN9xwQ5ziun2TFLBoBHCt11xzzZxywIVGCJVpKlVURqnweUPwyvdD67fn+0xKwIpyf3Bv8DzSw0Nl94EHHjD80JYSE8LlbskCVql7gwoEAggNNBoSCLKfffaZEz6/+eYbd397ntw/VBB///vfGyprxawSASvKvVHs3YHgSaOOc/riiy9cpwENxA4dOhQrshN5yxWworw7uJ8LsaZgNID3228/J+L7RhCCRSmrRMCKwtrnP3HiRNfQRuCkcY3RITFu3Dhz+umnO+Z00PzqV78q2FjyaUnA8iTifeYTsKgLIZTQoKIBQoWazhw+zz333BxxJpxbXAGL+8ULWIjICBI//OEPs78je+yxh/s9D+aDCEWDnzoWjUk6P3guSYsG97x588z1119vjj766OxhcQSsu+66ywlYpLHnnnvmFQIQSrkv4cd77fzzzzfvvvuuq/Mh4AU7u/74xz868eS///2v6+Dh/NjH20033WR+8IMfOLGf8+G9iLBLgwbBwYsRiEO8d95++23DsxMUM3xaiNZcs7DwwPaoAlYl+dRKwLr77rvd7zYCIo1hmNGRjCBEvZv1QYMbHYS8J3i35DM6KhEa/vOf/2Q3V1PA4neF54zryXODEBc26lfUv2n48+wF7+m4Albc5+Z3v/ud6+yjI4G2AEb75dVXXzUffPCB+fOf/+x+f1q1apVT7HIErKjXs9JnLa6ABQPeLbwLaU9QJ6bumK8jDgjcOwhYcOK5pm5JfXmbbbbJeeaDwOjook552223OeECnuSHCEybj47We++914lAwePKFbAWj/6dGbDNhWb0ki7msFtHm3uOXcssF0w4tBxXwOI9zv3Ce4sOC5ZfeOEF1waeP3++oR0Bm7CVK2DxPsVxgc5SRB/qDBtuuGE2+bgdEtkDMwtRhNXwMVE6JILHXHjhhYZjeN/zHqO+iYNKMZOA1UBHApblUG0B67nnnnMPMg224447LtUCFu6iVNB8JWvp0qWuUklP4hprrFHsmcrZVmsBiwosFUB+cDF63agA8OMRx3jBJuGBFaUR6svFDzg/XFS+EIniWq0FLFjTA4dnWiVWSwGLHwgq9zTQMe5r/miYxTEJWIXFTXqAee690IxAeMYZZ7gGZZgz3jr0zoW9EfJdi2oLWMXeHVQUqCT5nn1Ec3oU99prr3xFza6rxAMryrsDT5lCrD/55BODEO7d+6k4Ij7SIPPvx2xBQwu1ELAQ3+gkwdNkwYIFWQGLvKkw+9593ms0BoINt1Bx3VcJWPmolF6XT8AKHkVPMJ7PNAqiWFwBK5gm9/O6667rOhUKeQrSsKNeQqOCXuugNxjvcoQKGgN4NATvmTgCli9Tp06dXKNrwIABflX2c99993XicFAQpgHKu45GCA02PGaChtBC5wn7eOP9iFcndZVgWmz/vRX2OR8vYPlj+P2hQzRfI5p3DqJ1JQJWJfnUQsBC6EGIoD6KSB803nd4siGydA94gLEPXhpcExrY+ezXv/61ofy1ErAoA3mOHz/edfQgvvH8eMNrjXvvgAMOcB6GeEUGLY6AVe5zgzcLne3ci0FDYD3++OOdl03QA4x94gpY5VzPcp41yhZXwOIYjFECiPi8c3iO+X1de+21Gzbm+U+nHZ1yeBtF8fBHrEJ04ToFDSEDzojZCOSIYd7KE7CWmEmXDzIb//Il03rAheaVl+xvcInqb1wBC8GeDkHq20ERhroeAjH8khaweIf+5S9/8WhyPuN2SAQPjiqsBo+J2iERPMYv895GJJWA5YmU/pSAZRlVW8Dyl4GHO+0Cli+r/+ShohHHD3scD5taC1i+vHzS6KFXFK+mYCU3uE+h5VoLWFOmTHGeZPT28GNRDwIWZaRXEK8rRM24w0s9+1oKWPRiUZlgmCMVDITNlVZayRcl8mcSAtbCzz40H3zT0fTdYA3b+/WtmTFxllm+xwamQ2tbjPmfmPHT2pi+fdY2UfeLXPg8O+IRyrPK8LZSVsoDK1jBIi28aagE8N4LGgLGb3/7WydilBJUOK7aAlawbOF3B54Y3DcMN6XByXuFxiYiVjGrtoAVzjvImrxpEHmxln25duecc06jhl04nVoIWAhOeAQw9IvKOd4hCBD0WAc9UKm001jn96eYkR4dL4iL9WI0DMPPS63LXm8CFo1dhlrhfUWPez5DuMCz5cgjj8xuTlrAwrOAv6AYRaP62muvdeXi+aPRGxwul0/AYh9EFd4rYYGfxi8iGt7kwSGJxQQsGo2UK1/cmKgeWB5aOflUW8DiHcHvNsMRg0KTLzOfXHfOn07joJUSsPiN4R2Cp423anpgkQcCFh6DdDDgRcZvpTfi/7AeURdhoxIBq9znppCARRkRCvldxxswGG4ijoBV7vUs51mjzOUKWD/+8Y8NAjvePHhgcY9x7QpZUgIW6eN1tvHGG7t3De0Zb2UJWEtnmv8M6WlOf6KTOeWh0eb6/XLDhPi0g59xBSwEdITXsOhJmngRIs4EnzGfVyUeWMUELJ9+3A6JcoTVcjokfPn4lIAVpBFtWQKW5VSJgHXRRRc1cjPnhwcFPlzxToOAFae8DG2jp2ujjTbK67Je7BZLWsCishcetkNFBQ8OfpgwriNxxohBRkWulJdEvvInKWCVYs0POMIVoiYNYnq80yBg0XMSFiupqNC7QKOLYIv0gjN8A9b0mPODHne4ZpICVqn7gwovDWJ6LhGuGDLAvbPtttvmuw0KrqtcwFpi3r9kkNnhlR+YSfefaFb7/hXzfzv8xWw4/CFzmh21ufCx083G565uJr1zUcT9Li5Y1igb4gpYpe4N8sQDgaEPeNfQyAsLnMQtoJIXxfuK9CoVsErdG+RR6N2BoEXPPg1K3usMa6JXtJRVKmCVenf4/POxpiJFxZPnFA8aGsEw5I94gcWsUgGrFGs4Ex8DpjDyAhYNObyyaBh5o2eadw5eNcUMAQuPFLxf6sV4b5YTSiDJ86s3AYt7ht8dPCYLGSIO3pLB3v8kBCx+pxnqh3cgYggeGDSKvPlGNV6DvXv3Njy/weFq+QQshvwhTuExlM9THEEl7PUeFpY4NzzGeY9TX+P5Cw+ho4yVClhR8qm2gIVwyZAknp3wb4q/DgwVROCioRysj4QFLN7rDAOFJ8Y7ElE92DFRKwGL+wohk/Pi/qIhS0cbw4l4t1UqYJX73BQTsBDc6MSkjcO95S2OgFXu9SznWaN85QhYPFPca3RkEZ6E3yfuC+6zQpakgEUed9xxhxN/8PzyVpaANe9uc8QGx5kntr7SvPXYWWbD1j61wp9xBSw6QnmW8nmI8vvMfZOv07IpBaxwh0S5wirv3rgdEkHyErCCNKItS8CynCoRsOh1C/Z0g53ecAScNApYUcuLlwRDBxCN+IEK9iZGubWSFrDIf/fdd8/Jmhc7ar8XsKiUUFHhxwXBhQCowUpmzsEFviQpYJVizUueSiy9bfBOi4BFxTvsuUZlDxEIAYsyIwIRMBYjGC5ilr8OBdA2Wp2kgFXq/uBaUBH0vebEKsAlnEZ9HKtcwIqTW/X3jStglbo3KDHvU54/GpN4L4W9u8gTT6bwPVbobCsVsErdG+Rb6N1BY5k4GPQs0kBDIOd9iKhfzCoVsEq9O3zehVhTyUfcojFN7zH3Pu8XPxTSHx/+rFTAKsaahjViFPF7ENIQOb2AxdAe3jE0Drx99NFHTqxAPChmNPIQSwl6nXZDlKCRKgEr90pFGUKIeMzwZBpVcaxcAQuPGDwuMCZuQEwN10F8OXyjmnsaDwPEWN6BvtMtn4DFsfz2E/uNdxz7MKEFz1Ah4/eHeFreW4fhksRT4lkvZuUIWHHzqbaAxbky3JLhdcUMYZj3dlDIo15IHYWhTBhDMxnSRL2rUMDkWglY3C8MUaO8eA8SX4p3GgIPv5WVCljlPjfFBCwYMrR+1VVXNZdddhlfncURsMq9nuU+a+UIWMRKxTOY+4ZOXeoCCFp4+AWHfPrz5zNpAcu/G4NDEssRsL5/4WyzyeCnzCEjXzcX7xAtNnBcAYu2L1yIbUl9gw7ioIdekFNwudYCVrEOiXKF1XI6JIIMJGAFaURbloBlOVUiYEUJ4u4vRRo8sKKUlx91eu/pxaR3KByo0Z9Psc+kBSzK4mPr+HyDQdz9Ov/JUBQqj35aVr++1GeSAlYx1rzcadhTaaVHAtWf3lvKS4Ujyth5fy61joHl8/WfxO4isKcXh/z6Up9JClil7g8q/DQMGAqG4aVCeblGcaylC1ilAvwHWdKjTQWIxpzvMacBTxq+5zu4f6HlSgWsUvdGOF//7uB9w3OKFyppYMQHJNZXOPZHOI1KBaxi745wxwh552ONhyrCDpVDxCH+wpMzhMtdqYBVjDXPH50OBMfGGD5NZR9RwAdzRyT3DUp+Q2iY04grZjT26Cmvh1kIuf/5XZKAlXtFfSON93KhGFh4KTEMNjg8MDeV/N/KFbBorAYNz9EoAha/5Ygl9MZfffXVLolCAhbiBDGF8Oxg2AodRHTKUQfgXMOe0Lw3GQ4cNMSPaghYcfOptoDFsCQayKWEamavRCQPxhVDwCLmXtjSImDxDkMo4b2AuI/XFHXRJASscp+bUgIWIgDv8GAdKo6AVe71DApYcZ61cgQsvK4Y6h6srzC7PMPW8g2F4/5KWsDiHcFvZ3B2z3IELLP4MzPhvUVmw03XNcuHH4QC3+MKWCRD2Zi1nHsabyw6+xCyeB55t+WzWghYUTskyhVWOa+4HRJBFhKwgjSiLUvAspwkYOXOmkgDDndPBJZyxCtuvVoKWLiM0yim58q7p/KjSmMqrQIWFRM8VLxRkYI7Hi6cT9D93e9T6LPWAhZBGvFI4Ucco9GJZ8cgGzQ/jtVSwEJQoKfbD0cieCo9zIzLj2MSsAoHced+ZlYl33CgckkjiNgNxPLA2E5DMJ8IU+g6VFPAKvbuYLYznlPK7+PQ4O2AG3yp4Y/VFrAYAluINcOOaFgQOwNDHKCXnEplKaumgMXwHMrlDU9ZRDZc+Glc0sHD+9oPc7zxxhud8Dl48GB/SN5PCVh5sZRcWckQQrzjaNgFxaZqB3Enfbw+aCTEsXIFLJ51hCiM4VLMLhhFwGJ/ZhDj95B3IsPWCwlY7OsNEZZh7hyLaE48L7y0g51Z/P7we48nKIanEQ2zaghYcfOptoBFHChEan4/ihmNZMS/o446KrsbAhb3D+9CjPcQ14V3eSGPt1p6YFEOZpzDO5NhsgwX49lKQsAq97kpJWDxW0GMpmDswTgCVrnXMyhgcS2jPmtxBSw6qggFg1dccIjviBEjnKcwv1356unFBCzaVbQ3g0NVCwVx59wwvJN5B5Cfn7G5LAGrIblY/8sRsIIZ4LlGW5AYtPzRdvCdyMH9aiFgRe2QKFdY5XzidkgEGUjACtKItiwBy3KqpoCFMIFLIkbPEUFIeQlRYc/38nM75vnHS5pYB1T6cSVFnGGIn29Y5Tmk0aoos1vhWo3HBD9ewfJRgfPu8I0SzrOilgIWP0yMUad3m95IXDkJ/susj+EYEnmKmrOqVh5Y4QY89wneHmmIgVXKy4YeYyraVMrpMWRGOe7FuEHRaylgwZdha/xQ0rCnEkLDmN7aOCYBq7CABUeG7fKOY1YdYgJQCeR+8oZLPg21OF4U1RSwSr07eGczFIh7nQoQoif3kfco8+cV/qy2gAXDQqzxukJ0o8wMoUbgYeY0zrWUVVPACucfHEJIufidpEHODHLcNzyjeCIEG/D5yi8BKx+V0usqEbAYUkeHER0Z3qotYNHwIfZUOKC1z7/QZ7kCFnUI7zFAxwfCGaIdXmKIx3hYeQs3qllPrDyEEiZUiCJg+bT45P6HMaJzsMHH709wFkKEmWft7LreW4rhdfzGhes95QwhjJtPtQWsxx9/3A3fpr5eyPidp57KNUcA9AYnrpefhZAh47wjGWlQyGopYFEGrjXCG78vvPewJASscp+bUgIW8ci4r/jzFkfAKvd6lvus8fuDZx6iTNDC4onfhlcksV19R61fzydiA0OKg7Od+u3FBCzqzrw3qRt5KyVgEQsNxhXHwPIZxvisVMAKZsVMgVw7Oo/DFr4GhPfgfYtoV8zo0IgaxD1qh0S5wmq4nFE6JILHSMAK0oi2LAHLcipXwKJBQywdhj8EjV4eGvaIKSjuNHrCRoBxPywlvC3f9yQErCjlxeWToKJh4+UfRyxLUsCCMb1RxIcIGo1ExEBefv5lQUWFSi4Vz3AlLnhsoeWkBKworINlwFuF+wSX5biWpAcWXkrcz96TzZeFRiJlY3gPlUQqyohYiJwIFqUa9D6d4GdSAlaU+4N8CcJN7y0VbUQsKmBxrSULWFHuDURkGnc03JgpDKE+ONsazyyxr+IEsK5EwIpybxR7d9CjhoBFhZOGEa7w+Sq04fuoEgEr6rujGGsqfjQmCGaMlxneBlGsEgErCutgGbhHqLR5Lxe28U7Ba4X4egMHDowUJ00CVpBq9OVKBCy85GiI4aXordoCFu9ePJMYRubjL/q8i30mIWAF00eQonFPw9NbvkY13gcMn2GoEd5beBcGh9nzXuMdWcibk8ldeNcEBbuwgOXz95/8dlM2/oJWqYAVTIvlfPlUW8BCGCC4OR5nhepJeIPTYRJu+IYFrPD55PteawELcY1wDNS1fWdxEgJWuc9NMQGLkBF0avPO956+MIwjYJV7Pct51ihbXAGL3yXEP4behw3PfTpcEJfCVkzAwnOS9yZ1JG+lBCzaJHRKIcB4S6MHFmWCFx1T+Ubu4EDBSA3eE+G2WS0ErKgdEuUKq/7a5Pss1CER3FcCVpBGtGUJWJZTuQJWNMTJ7JWEgJVMSaKlkqSAFS3HZPZKSsBKpjTRUklSwIqWYzJ7JSVgJVOaaKm0ZAErGqHk96pEwEq+NNFSrETAipZDdfaqRMCqTolKpyoBqzSjfHvUm4BFnDcEcToe8LgON5Jo5CHUIJAHRZ+kBSw8nmjcI8B6y9eoZhtDd5nkhAbaCSeckCNgHXLIIc6rk/TC58K5IjoTF+nnP/+5z8bF4gl6RmU3ZBYYtkjZwjH6khaw8uVTbQGLU2R0wF133eVE7nAjGMGQoV7c1+HQAPUgYIWvJd+TELDKfW4KCVh0nCBWEwSfeEFBiyNgcVw517OcZ4284ghYiOS8a+jQ9+EPSMMbwzwR8BixwrDPoCUpYCGi4gXGOwLe3tIoYPn3bKFYgXhX49EFHx/n0p9PrQUsny+f4Q6JcoXVcjokguWQgBWkEW1ZApblJAEr2s0SZy8JWHFoVbavBKzK+MU5WgJWHFrJ7CsBKxmOUVKRgBWFUvn70PjDuyKtQdzxOGSoCl62v/3tb52HLUOtwsbwa7yhKvHAwuOExgKG1zoNTEIkeI9NJhwIe1ohRCCe4B1B445YMngv4wnCEHzSYehp0CvEN6xoyLdp0yZ7KghLDOlhRjFvvkw0FhkiRCM2bDR4fABrtnEMw40QUonzgvey91b34gENXmIFBT2wELAYUk1QaCbL4bw4dxqnP/3pT11sHzydfVrUUxHuKC/xMvPZoYce6o6tRMAqN59aCFgM/WO2PsJoMCEEHrEYHQbEvOIeIs5O0PB+wIMWNnh4esNTf4UVVvBfG31W0wMLVvyu4RXOcEFmavNeVxRk3rx5TtzEm4xA/jxrwVl7ETcRt4LXmfNkH0QVBIGgxX1uaEwjnpKOH3JHWalrwhcPauKz+WfV5xVXwIp7Pct91ihfVAELjn/4wx+cNxleTwilQbEUr2auHxMtEAqBofxw557kWDyoEVJ574TDaiA+8wx7Dyzes8Svw6ORuILeeO4RamHMO4oRO0FLs4AFC+5bJsFhGC+/KbwXie/LPUuMqbA1pYCFOBjukChHWC2nQyLIQQJWkEa0ZQlYlpMErGg3S5y9JGDFoVXZvhKwKuMX52gJWHFoJbOvBKxkOEZJRQJWFErl75N2AYuGPqIAjY5SRsOqEgGLIXKIEIWMxg4iU9hoGBLzCSEJkYshwDSuDzjgANc4DAoBHBtHwEIQCM6qFs7bfyfGn29who8hrEFwCBvDjIiBde2117og9D4N7y3GkBs87BHrGDJIfZQQCOzvBTQEz969e7ug4/74Qp8IDMTfClpUD6xK8qmFgMU54WmHlxXDMhF+EDC5/gzFZAhhcGIB9qcRHfSWYx3GpBE0VAtZNQUsrm9wEh9mZg0ORyNmIWKHN+4DRFpvcQUsjovz3OBVxH0YNIQ0xEPKhhCbLzZhXAGL9ONcz3KfNfKJKmDxbAeHByPEBMPAMLSdd483hugznJDJSBCcShmx7byAhRCNeB02Yu3ts88+hnckITrClkYBC+EUNry3iePGdeXZ472AUIcnGc9bvkkTqiVgldMhAeu4wirHxO2Q4JigScAK0oi2LAHLcpKAFe1mibOXBKw4tCrbVwJWZfziHC0BKw6tZPaVgJUMxyipSMCKQqn8fdIuYJV/ZsYNK2KYHJ5QQSM+IpOT0MBL0vDewlMBryo8HsLeWj6vOAKWP6bWnzRI8Q5iNjrixPCXpEUVsCrJs1YCli8johWeVwiYCDrlxOH0aeX7rKaAlS+/OOvKEbB8+lGfG79/nM9yBCyffrWvZ1QBy5cnzZ9pFLCCvJjoAm9ahECeSzxii8V8rpaAFRY8g2UMLgc7JPz6OMIqx8TpkPB5BD8lYAVpRFuWgGU5ScCKdrPE2UsCVhxale0rAasyfnGOloAVh1Yy+0rASoZjlFQkYEWhVP4+ErDKZ1fukfUgYJV7blGPa44CVtRzL3e/5ipglcsjynGVCFhR0q9kHwlY8eklOQthsdyrJWAVyzPqtnKE1XI6JCRgRb0i/9tPApZlIQHrfzdEUksSsJIiWTodCVilGSW1hwSspEhGT0cCVnRWle4pAatSgsWPl4BVnE81tkrAavAOYGgdokzQiGVEoHniQ1VqtfbAqrS8pY6XgFWKUOPtErAaM6nGmrR7YMU950oELALtM5SdoYlHH320WXXVVeNm36T7M/MoM10z3JEZL4mxVsxbjcL+8pe/dLoFcdJasknAsldfAlbyj4AErOSZFkpRAlYhMsmvl4CVPNNSKUrAKkUoue0SsJJjmS8lCVj5qFR3nQQsCVjl3GESsOJTk4AVn1k5R0jAaqDGbLPDhw93XxhK/o9//MNN7FEO06Y6hrhgxJ70dv/99zcK/u+3+U8JWA0kJGBZDhKw/GOR3KcErORYlkpJAlYpQsltl4CVHMuoKUnAikqq8v0kYFXOsFgKErCK0anONglY6RKwZs2aZT744INYF7tPnz6mU6dOsY6pdOeoAhbB2In5E9WYpbJ///5Rd8+7XyUxsPImmNBKCVgJgSyRjASsEoCa+WYJWA0XWAKW5SABK/mnXQJW8kwLpSgBqxCZ5NdLwEqeaakUJWCVIpTcdglYybHMl5IErHxUqrtOAla6BKw//OEPLqh/1KuOZwUzmIUnB4h6fLn7RRGweJ6ZhW7RokWRs2HmRO7J1q1bRz4mvKMErDCR0t8VA6s0o/AeaY+BFS5vS/kuAavhSkvAshwkYCX/2EvASp5poRQlYBUik/x6CVjJMy2VogSsUoSS2y4BKzmW+VKSgJWPSnXXScBKl4BV3audXOpRBKzkcouXkgSseLzYWwJWfGYSsOIzq8URErAaKEvAshwkYCX/yEnASp5poRQlYBUik/x6CVjJMy2VogSsUoSS2y4BKzmW+VKSgJWPSnXXScCSgFXOHSYBKz41DSGMz6ycIzSEsBxqzecYCVgN11ICluUgASv5B1sCVvJMC6UoAasQmeTXS8BKnmmpFCVglSKU3HYJWMmxzJeSBKx8VKq7TgKWBKxy7jAJWPGpScCKz6ycIyRglUOt+RwjAavhWkrAshy8gHXppZeWnL6yqR6Bl156yYwaNcpNt/nVV1+5cv7xj380Xbp0aaoiFc33rbfeMg888ICZOXNmdr/Bgwcb4hkw5Wla7Yc//KF54YUXzE477eSKCPMdd9wxVsyGWp8bAhYxGB5//PFs1rvuuqu7R/bbb7/surQtwJrZN7beemtXtOuuu878/ve/N8TISKtRqd19993d1ONpLWOccp199tnmxRdfNKeffnqcw2q6L7O0XHTRRebUU091+X7xxRcuoC/rah3YN+qJv/baa+55ZIpnbz/60Y/M22+/nT0Pvz5Nn+eee66byefYY491xXruuecM75Jrr702TcXMKQuz9hBP5pFHHslZn8YvaROweP/yTkvC9t57b0OdJByriJg/vGeGDBmSRDax00DA4t3BbyT1D29///vfzSWXXGIefvhhv6rZfvLuGTBgQKNrvfbaa5uTTjrJHHrooRWf+5w5cwz3wMcff2y6d++eTW/06NEuTtSrr77qprrPbkj5wjXXXGPeeecdQ5D2oMHq22+/dfd6cH0tlwcNGmSuuuoqc/LJJ2eznT17tuncubMZNmyY6datW3Z9LRcQsH7yk5+YZcuW5WTLbzX1O8rWVEZd+LzzzjMMiwvammuuaU477TRz8MEHB1enehkB66CDDnLtq2Ab8NZbbzVnnHGGef755xMp/znnnOPuJdINGqwWLlxoLrzwwuDqspd5N/E77q8BMwuecsopOe3HshNvhgdKwMpcVPuiafH2ySef8LZN/V/Pnj3dtZo3b17qywpP+2Oac29ZAasuym0FrGy5rXBYF2W2FcdsmVmwjc66KLdtQGXLbRvJdVFm+6OeLXO9L9jKXF0wv/7667OobUW9Lsq87rrrZsvMgq1Y1kW5b7/99my5n3322boosxVHsmVO84Jt5DuekyZNavJiXnbZZa4srVq1WpbEH7/5VgxqdF477LBDovnELSvlWmeddZYtXbo0p2y2g61JyxX3PCrZHwa2gzbn/Pmy2267JcaAPNq3b7/MdjDk5DN9+vTE8qiEQdxjOZ+jjz4651z4Yr1Um/x8KNvIkSNzymZFtWWrrLJKk5aNcvXo0SOnXHy58847m7RcXHvKxjMfNisGNnnZyrk3udbWmSHndGyHU6LnArPf/e53OXnw5Re/+EXi+ViBO5vP008/7dK3HZTL9NeYAdfluOOOy/JqqQvywLJ3wpIlS8zkyZPtUrqtXbt2Zr311nO9G7YCnO7C2tLR2xnsCZoxY4bruUp7wW3D09iKmCsmvQx46KXdmJqZ3lRv9cK6a9euZvnll3fFnj9/vvnss8/8KaT2E4+Cjh07prZ8cQqGN9PcuXPjHNIk+9JLaitsLm/bEHW9/E1SkBiZtm3b1qy//vrZI+ght50P2e9pXaBHd+WVV3bFY3p4envTbiuttJJZa6210l5MkyYPrNTDUgFFQAREQARaHAEryBgrYpnFixe3uHOPesJ4rXXo0CHq7s1yPwlYzfKy6qREQAREQAREQATSREACVpquhsoiAiIgAiIgAiJQjwQkYNXjVVOZRUAEREAEREAE6oqABKy6ulwqrAiIgAiIgAiIQAoJSMBK4UVRkURABERABERABJoXAQlYzet66mxEQAREQAREQARqT0ACVu2ZK0cREAEREAEREIEWRkACVgu74DpdERABERABERCBxAlIwEocqRIUAREQAREQAREQgVwCErByeeibCIiACIiACIiACMQlIAErLjHtLwIiIAIiIAIiIAIxCUjAiglMu4uACIiACIiACIhAiIAErBAQfRUBERABERABERCBpAlIwEqaqNITAREQAREQARFoaQQkYLW0K67zFQEREAEREAERqDkBCVg1R64MRUAEREAEREAEmhkBCVjN7ILqdERABERABERABNJHQAJW+q6JSiQCIiACIiACIlBfBCRg1df1UmlFQAREQAREQATqkIAErDq8aCqyCIiACIiACIhAqghIwErV5VBhREAEREAEREAEmiMBCVjN8arqnERABERABERABGpJQAJWLWkrLxEQAREQAREQgRZJQAJWi7zsOmkREAEREAEREIEECUjAShCmkhIBERABERABERCBfAQkYOWjonUiIAIiIAIiIAIiEJ2ABKzorLSnCIiACIiACIiACJRFQAJWWdh0kAiIgAiIgAiIgAhkCUjAyqLQggiIgAiIgAiIgAhUh4AErOpwVaoiIAIiIAIiIAIth4AErJZzrXWmIiACIiACIiACTURAAlYTgVe2IiACIiACIiACzYaABKxmcyl1IiIgAiIgAiIgAmklIAErrVdG5RIBERABERABEagXAhKwMlfq/vvvN7/+9a9N27Zt6+XaqZwiIAIiIAIi0KKZreMPAABAAElEQVQJLFq0yPTq1csMHz489RzSJGBddNFF5qabblKdJ/V3jQooAiIgAiIgAg0EqPMM2W8/8/crrmjRSCRgZS7/9ddfb0477TTz72uuadE3hE5eBERABERABOqFwLD77jMTJ040U6ZMSX2R0yRgnXXWWWbo0KHmjxdemHpuKqAIiIAIiIAIiIAxf734YrPVVluZYcOGtWgcErAylx8B66qrrjIvvfhii74hdPIiIAIiIAIiUC8E7r33XlehQ8RKu6VNwJo/f77519VXpx2byicCIiACIiACImAJnH/BBWbatGkSsJZZ0x1hjAQs3QUiIAIiIAIiUF8EJGCVd73wwJKAVR47HSUCIiACIiACTUFAAlYDdXlgZe4+CVhN8RgqTxEQAREQAREon4AErPLYScAqj5uOEgEREAEREIGmIiABq4G8BKzMHSgBq6keReUrAiIgAiIgAuURkIBVHjcJWOVx01EiIAIiIAIi0FQEJGA1kJeAlbkDJWA11aOofEVABERABESgPAISsMrjJgGrPG46SgREQAREQASaioAErAbyErAyd2AUAeu77xebKdO/bKp7VvmKgAiIgAiIQOIE1u68qll1peUTT7cWCUrAKo9yFAFr/rcLzTcLFpWXgY4SAREQAREQgRQSWKvjyiksVbQiScBq4CQBK3O/RBGwZs352tw/8l3TaunCaHeZ9hIBERABERCBFBNYttzyZo/te5pe63dKcSkLF00CVmE2xbZEEbBGjZ5i3nl/hk1Gc/0UY6ltIiACIiAC9UCglSvkGUdsZ1o1LNZDoXPKKAGrAYcErMxtEV3AGmvazR+XczPpiwiIgAiIgAjUI4FFK/Uyu++4iQSsGly8L7/80nTo0MFMmjTJbLDBBjXIsXAWUQWsseMmmDYLPi2ckLaIgAiIgAiIQB0QWLZce7NopZ5GAlYdXKwSRZSAlQEkAavEnaLNIiACIiACzY6ABKzaXVIJWLVjrZxEQAREQAREIEhAAlaQRn0vS8DKXD8JWPV9I6v0IiACIiAC8QlIwIrPrNwjJGCVS07HiYAIiIAIiEBlBCRgVcYvTUdLwMpcDQlYabotVRYREAEREIFaEJCAVQvKDXlIwKoda+UkAiIgAiIgAkECErCCNOp7WQJW5vpJwKrvG1mlFwEREAERiE9AAlZ8ZuUeIQGrXHI6TgREQAREQAQqIyABqzJ+aTpaAlbmakjAStNtqbKIgAiIgAjUgoAErFpQbshDAlbtWCsnERABERABEQgSkIAVpFHfyxKwMtdPAlZ938gqvQiIgAiIQHwCErDiMyv3CAlY5ZLTcSIgAiIgAiJQGQEJWJXxS9PRErAyV0MCVppuS5VFBERABESgFgQkYNWCckMeErBqx1o5iYAIiIAIiECQgASsII36XpaAlbl+ErDq+0ZW6UVABERABOITkIAVn1m5R0jAKpecjhMBERABERCByghIwKqMX5qOloCVuRoSsNJ0W6osIiACIiACtSAgAasWlBvykIBVO9bKSQREQAREQASCBCRgBWnU97IErMz1k4BV3zeySi8CIiACIhCfgASs+MzKPUICVrnkdJwIiIAIiIAIVEZAAlZl/NJ0tASszNWQgJWm21JlEQEREAERqAUBCVi1oNyQhwSs2rFWTiJQLQKtWrUyyy23nFmyZEm1smj26Yphs7/EqTxBCVipvCxlFUoCVgabBKyy7h8dJAIiIAIiUMcEJGDV7uJJwKoda+VUvwS22HJL0759+4InMH36dDN1ypSC26u94dDDDjPtV1jB3HHbbUWzatu2reFcWrduXXC/11591SxdurTg9ua6ISrD5nr+Oq+mISABq2m4VyNXCVgZqhKwqnF7KU0REAEREIE0E5CAVburIwGrdqyVU/0SOOzww81qq61W8ATGjBljXn/ttYLbq7kBz6FTTj3VfLdwYUkBq0fPnmbQoEFFi3PLzTebxYsXF92nuW2Mw7C5nbvOp2kJSMBqWv5J5i4BK0NTAlaSt5XSEgEREAERqAcCErBqd5UkYNWOtXKqXwJewHr6qafM119/3ehEvv32W/PNN980Wl+LFXHEFy9gfTptmnnrjTfyFm/27Nlm2bJlebc115VxGDZXBjqvpiEgAatpuFcjVwlYGaoSsKpxeylNERABERCBNBOQgFW7qyMBq3aslVP9EvAC1rChQ828efNSdSJxxBcvYH300Ufm2WeeSdV5NGVh4jBsynIq7+ZHQAJW87mmErAy11ICVvO5qXUmIiACIiAC0QhIwIrGKYm9JGAlQVFpNHcCcQSsdu3ambXWWsusvc46ZgUblwrBa7r1eJo1a1YjTHH25eC11l7brG3/GM64YMEC89lnn5lPP/nEnHDiibGGEEYVsAgM3617d9OhQwez6qqrmoV2mOLcuXPNJ1Onmvnz52fPh9hafTbe2HmnzZgxw3S3x8Dgiy++cPsstcHlx40bl92fhY6dOpl1LCP2n/355znbSOs7e36TJ0926+FIep3XXNOsvPLKBo+3mfY4v90f3LVrV7OGLeskK9Ctssoqruwc++abb5r5X33ldquUoc9LnyKQBAEJWElQTEcaErAy10ECVjpuSJVCBERABESgdgQkYNWOtQSs2rFWTvVLIKqAtdJKK5kDDjzQrLjiijkny4C8se+8Y15//fXs+jj74iG07XbbmU022SR7vF9AAELUihMDK4qAhUg2cNddTWcrNIWNGFmv2ZhfE8aPd5s436OPOcZ8ZUWiNlbMWtGKRtg0K9whfiEiDb33XrfdbbD/dt1tN7Phhhs6EeqpJ5/0qx27o2xai77/3txug9K3adPGHHLooU64yu6UWXjvvffMSy++mF294047mT59+piZM2c6wctveOThh53YlwRDn6Y+RSAJAhKwkqCYjjQkYGWugwSsdNyQKoUIiIAIiEDtCEjAqh1rCVi1Y62c6pdAFAELL6QhBxxgOqyxhvn000/NW9br5/tFi8wGG2xgtrQz/+HN9Njw4YYZC+PsC7VevXqZXQYONEttbCpiV021Xldt7EyCm262mROB2CdJAQvBDCGukxWviO31qp2ZcI71plp++eXNJptu6vJElHv4oYfM59Z7ivPBC8wb3lZTrZfWwu++c/tT/pdfftmMz3hhweK44493xyGG3X777WZJJnB87969zc677GImTZpknnn6abP9DjuYvn37Om8uAuUzQ+KGPXo4oYoy3BcY1rnttts6JpRjvo1V9qYVDPHWwhOsW7duiTD056hPEUiCgASsJCimIw0JWJnrIAErHTekSlF/BKh8UUFaYt3WZeUTYKptKostLaBr+cR0ZBIEJGAlQTFaGhKwonHSXi2bgBewoBCeoY+hdP+1Qg7D4fbcay83xO6B++93v52e2jZWWNnMik2fWOHpiccfN+uvv37kfUnj8COOcEP4Xn3lFfPuu+/6ZN3nXnvvbdZbb71YAhYHhs+Dda9Yken99993AtGu1vtqkRXg8JxiuGLQvPcUQt3jI0YY6gonnXyy24XjX3zhhezueFmxvz93NjDUb+/Bg7P7jHziCSd4sWK33Xd3ot+zzz5rPvrwQ4OgxXDMsXamxzlz5mSPOfKoo5xXFiIXYhe29YABpl+/fo498cqCwxyTYpgtgBZEIAECErASgJiSJCRgZS6EBKyU3JEqRiMCW9jexPbt2zda71fQwzh1yhT/teafhx52mGlvXdbvsO7npSzt51Kq/NXa3sP2cA6yFdiXR40y4zPDBKqVl9IVgSABCVhBGtVdloBVXb5KvXkQ8ALWlzb+k/cUCp4ZIs7G1kuof//+bmgdYkvQ1rBeWQyD+8qKXUPvucdsafeLui9eT3grITjdYT2VwsLTuuuuawbvs08sAYtYVkFxx5d1io05NXr0aDdccVPraTV27FjzmvW+ClvHjh3NQQcf7IStO++4w3UYnnzKKW43xLug0ET5jznuOEMcLIYE0rHoh/pNmDDBbGzjXU2cONG88PzzLp1j7bkybPBOe66UM2h0TjL0srXdPtgKYMTDwjvsXVtObKuttzZbbLFFo2GJSTIMlkfLIlApAQlYlRJMz/ESsDLXQgJWem5KlSSXgK/M5a7937cxtvKGq3dTGBWcU049NVJljvKl+Vyagp/Ps/9WW7lhDxKwPBF91oqABKxakTZGAlbtWCun+iXg6wnFZiHcfY89THcbvBz73sZvChoe4YgyeDTffNNNzsso6r6IRQcedJB7Vu+/775gsm7Zx59KcgghnmR4iXkvqHCmnI8XrG65+WZ3XnxnSN/NN96Y433GsfsNGeJiUo147DE3hJJ4WQw7xLvrCOtJRbwrhDACte+7334usPvwRx912SJWMYSQYYjE5SLvoBGLywuGXsBChHvTDrX0xlDIpBj6NPUpAkkQkICVBMV0pCEBK3MdJGCl44ZUKRoT8JW5p596ys06E96DmAPETWgKK1fASuO5NAU/n6cELE9Cn7UmIAGrdsQlYNWOtXKqXwK+zlNMwNrbekF1td5QDLcjLlQ++87GhMLTKM6+q6++usGr/Gsb0+meu+9ulKz3LkpSwNpn333dkMinbB1v8scfN8qTFaf+4AfOG4z4VcusMIeAhccUXlZh62e9ora23lF4Sk22Xl5D9t8/6yXFUEKGFD76yCNmPSuabb755s7rC+8vbCcbmH0jG5gdcYyZB/HuWmDrmL032sgNq8wnYAXjbZFGkgxJTyYCSRGQgJUUyaZPRwJW5hpIwGr6m1ElyE8gSmUu/5HVX1uugFWsYlr9UqcvBwlY6bsmLaVEErBqd6UlYNWOtXKqXwJR6jw77byz2ciKKqNeeskwNK6Yxdl3lVVWMUcceaQLRn7XnXc2SpZZ/g4+5JBIXuc9evY0gwYNMqVmIfTlY/igF5KCGa9oh/EdffTRLkbWrbfckh1CiEDHMMewdbBeZAfbIYdfWPFpup2ZkHhg3ruLWQMZUjjGztLY1cby4nx8faxz584umPxiO+xwhA2AP2vWrGzS222/vZuVMZ+ANcqGPvAzJHJAkgyzBdCCCCRAQAJWAhBTkoQErMyFkICVkjtSxWhEIEplLnjQGrZCso6d5rnzmms613pms6ECRYDQsMXZdy2bJtNH41ZOr+dnn31mPrVBUpkNJ0pvJHnHORdc17vZIQJUsFZddVXX2zjXxsT4xM62E44nQY8i5zLJnieVJ45jKml6Uek9ZJaeoHW0Lu4EgWVK7Nmh3ts+NkbEd/b86LnESAdXe3gSAwKPN3om/Xa3k/1XqAxv2tmR5tvprjF6b7vbWZIYpoBLP7P1UMFkHTMnaQihw6R/NSQgAat2sCVg1Y61cqpfAlHqCd7LaObMmc6bKHi2/M4yY+CHNij5PFtniLMv9Y4TTzrJiUR4KZF+0AZss43zWopS54kqYCEwEXiemF8P2GGL4YlciB26lQ0zgKcZAez9kMJCAhblZdggdRfKuXy7dk7oYqglQyCPstuoF7E8d948N7Mgx/jyUi958IEHWOWMjkpiiuFZFUXASpKhL4M+RSAJAhKwkqCYjjQkYGWugwSsdNyQKkVjAlEqc/4o78njv/vPr6yA8uTIkS6ug18XdV8qL9tut53rffPH+k8EIEStKJU5jol6LohkA21Q885WaAobQVWpRAV7/HyQUiqbiE3ecLGnMkvsBxh487P6IEI99eSTfnW2ckeMCFzziaNBxQ3hKmzvvfeeeenFF7OrC5XhkYcfdj2ZxIUgbkc4LeJ04KbPdglYWZxaqBEBCVg1Am2zkYBVO9bKqX4JRKkn8Dt6mJ0tsLUVnIi/RBwmjI4hZgqkHjDNdg4RByrOvqSx8y67uNn4+F1mFkMfooE4WgOtRxX1gu9th+Bt1huqmHlBqJQHFnUUZu3jk3oFsxP6WZ3p3NrFlofzevaZZ1xnZBQBy3t1UT4/e6Ev65ADDjBdbIccFgwcv44dkrmPHZq5dNkyM8zWmegoJC/qNsxOiEURsNgvKYakJROBpAhIwEqKZNOnIwErcw0kYDX9zagS5CcQpTLHkb1sBYOKDp5WuKIjLtHDhviEx0+wpzLWvjaY5y4DB7pKzVu2ojjVel21sdM408PJlM1YkgIWgtkBBx7oBB0qjsx6gxcZlbtN7Ew95El8hodtT6SPfbGt7b2kPNh863X15uuvO08pYjkww18wRgMVMmYZokKIGEZMCT/TEZU0Kl5ME8100dvvsIMLaEqPJIHyEZs2tOnhhk8Z7rNTR8+zPZhYoTJwLPkghCHMzZ49212fb62XFy7729nrw7lhErAcBv2rIQEJWLWDLQGrdqyVU/0SiFrnCXbC4W2NRxKe2IhazECIB9W3mfigcfbFi3t/WwdZwc7+vMj+dn9phax29jd6dfv7TZ2EmfmoC9xkA6gXs6gCFmn0tPWsne2wSOonnAf1Cjyo8D7HptiZpumExKIIWIhtdJhhdLQhjHnbzMa92sZ6kmFBLzPqRMT/4vzwAsNjq5UtTzu73ltUASsphj5ffYpAEgQkYCVBMR1pSMDKXAcJWOm4IVWKxgR8ZY4t4Smd6SHDpZz1zPqCF4+PdeBTohJ0uI3p0Nb2Gj5k92XIXJx96RmkEvXqK6+Yd9991yfrPunpXM/GUYgrYHFwoXNZv1s3s6v1vkKIw3OK4YpB895TwV7FrQcMMP369XOVSuI5+CGGiF3s/4kV3ehJxRjqRyBTbyOfeMJMtcMSsd12391sYHs8PUMErbXtUENm3QlOVX2kncmHXl1ELsQurFAZ2NbTxsKg5xbRimm9g+e+pu0J3d/2iGISsBwG/ashAQlYtYMtAat2rJVT/RKgw4zOncdHjMg7cU3wzOig6rvJJi7UADPoMWSQ2E3vWI8sXw/w+8fZl7hTdC516dLFdQRSDyFdvL122HFHJy7dN2yYTzrvJ0HSEYqof9CpWMqovyG08Um9jToQ74wPPvjAvBeI84WARRwuPMzx8M5niFHUK+gQZIbBYD2K+hwzHyLO0REYHLKIAEhnHOeNpxlhG6gfUQ7qWHhsTXz/fZclHYp05o1++23nGRYuRxIMw2nquwhUQkACViX00nWsBKzM9ZCAla4bU6X5HwEvYBEfwXsK/W+rcZU8espOsHEbltrgmwT5DJsXZp577jkXJyrqvsSbwlsJwYVgoUHhhTzWtS7ng63LeVwBq9i5EK9iU1sxCrq2B88Hb7KDbIBSKmRMBY356Zwnh4YE4tl0zHHHOS4MCcQt3w/1I/Drxjbe1cSJE91MRVQKj7XnSqXtTnuuVA6DRkWQnkkqyYOtAIaAhXcYM/1ghcrANh8A9e233jJv2b+wMUsQFUYJWGEy+l5tAhKwqk34f+lLwPofCy2JQJIE+H3mN9wPvSuWdpx9SYc6QbjuUyz9JLY1RZ7hcidZhiTTCpdT30UgKgEJWFFJpX8/CViZayQBK/03a0stoRew/Ewx+Tj4mXHYhpgVtnbt2rlVBBSfal3R6b3DSu1LkHa8tWh43W+Di4aNIYoEC40rYBU7F3oG17c9l94LKpynd59n/S033+wqll48Ig4GPaRB22/IEBcPg1gY06dPd+WldxLvriOsJxXxrhDCiJmx7377uaGX9FhiiFV9+/Y1vax7P8P/yDto+dzp85XBn9PTdprsj/NMk+1FNQlYQbpargUBCVi1oNyQhwSs2rFWTiIgAiIgAiIQJCABK0ijvpclYGWunwSs+r6Rm3PpowhYa1rvnf2tFw/mh8PlYzJ+/Hjnlh51329sXAliIhBf4p67726UJB5OeGglKWDts+++bobAp6zYMzmP2EMhTv3BD5xw5eNXeQErGOvKF9bPQISnFB5aeDvxSfB2hhIypJA4ELj7b25jQwSnst7JBi8ljhbxrph5kGGEzN7T207fjRt+PgErXxn8sMfnrQccwwHC5j20JGCFyeh7tQlIwKo24f+lLwHrfyy0JAIiIAIiIAK1JCABq5a0q5uXBKwMXwlY1b3RlHr5BKIIWAxtO+roo80CG/yT4W/FLM6+BOI8wsbP+taKNnfdeWejZL3nV5IClp89JygkBTMmrsLR9lyJD+GHS3oBa9SoUTmzE3JcBzvk8GA75PALKz5Nt7MSMWW19+4ifgPeT2Peecd0tbG8OB/vHUYMDoLJL7bDDkcMH+7iX/hyeMEpn4CVrwzE9MCL60UbTPX9QDBVnx7BVrvboKsSsDwRfdaKgASsWpHWLIS1I62cREAEREAERCCXgASsXB71/E0CVubqScCq59u4eZc9ioBFTIcTbQys1nZ2wMes2MJQuaBtYIOZM4zwAxvviYCdUfclDfZl6Fxwthqf9gAboBSvpSQFLASmbWwQUeJkPWCHLQYDjJLvFltuabaygU6ZgZAA9lgxAYvtDHMkKCrlXN5yIJ4XwycZAnmU3YZXFctz7cw/zCyI+RmEmEXwwQcecOv4B2tmFFx99dXzemDlE7C27N/f9Ld/XBeuT9Da25mOCApPjAgJWEEyWq4FAQlYtaDckIc8sGrHWjmJgAiIgAiIQJCABKwgjfpeloCVuX4SsOr7Rm7OpY8iYHH+zIxDUHJmjWFmva+++sph6W5n1dvNzsSH8PKIHSo3a+bMWPvuvMsuhtn4GD7HTH5MI411tx5DzKyH8PK99Ya6LU/weLdj4F+Uc2FYIjMf8snUz6+8/HI2MCvnsostDzGsnn3mmezMN6UELO/VRVGCsxfyfYidqaeLnQkQCwaOX8cGqN/HBqhfagW/YTZeFjMaIeThsQUPLKoHFsMNGYrJ8cEhhpzjIDvjIsMYsVfsTI/jQjM9ug36JwJVIiABq0pg8yQrASsPFK0SAREQAREQgRoQkIBVA8g1ykICVga0BKwa3XHKJjaBKKIPiTI08AAbcH1F62nEsLe5NvA6Xkesx96wwc2ZWhqLsy/DCPe3Q+lWsJ5CTLv8pRWy2lnhZXUb1Bwxi7SWLl1qbrrxRpd2sX9Rz6WnHW638847O8HnOzsscp71jOJcEIKwKTYQ/ZMjR2azKiVgIbYxTA97yQ7jQxjztpn1IGOqayzoZYZIhujE+eEFhsdWKytAtbPrvUUVsNgfrzK8yzDERc5r9TXWcOkxwxFCYPAauR31TwSqTEACVpUBB5KXgBWAoUUREAEREAERqCEBCVg1hF3lrCRgZQBLwKrynabkyyZA/CTiMT0+YoQLpl4sofZW5NnWCiXMqLfyyis7z6jPPvvMTLVByydMmJBzaJx9iTu13XbbmS42WDxD7RYsWOBiQjHjH55fiEv3DRuWk36+L3HOpVOnTqa/HSrIJ+kT84oGIEHQ3wudyyabbmqIZzX67bezXlnB/BGj9reeVnihMcMg5feGKMYsgYhzD9shicEhi2vYmFjw5LwRmPBuI0g+5ejXr5/z2Jr4/vsuqVJlYKeNbPD3PtZLbg0rXCGGMTyRQPXzraDFuXKNxo8b54umTxGoOgEJWFVHnM1AAlYWhRZEQAREQAREoKYEJGDVFHdVM5OAlcErAauq95kSbwICxMPCMyooyBQqRpx9EXLwGKqlNUWe4fNLsgwMJcS4PjIRaEoCErBqR18CVu1YKycREAEREAERCBKQgBWkUd/LErAy108CVn3fyCq9CIiACIhAfAISsOIzK/eIehSwxrw31bT+bka5p6zjREAEREAERCAVBJa1bm+WtFvTnHHEdnZERiqKFLsQ519wgZlmZ1QfFmHUS+zE6+gACViZiyUBq47uWhVVBERABEQgEQISsBLBGCmRehOw3hw/zYx5f4YdPt3gMRrpJLWTCIiACIiACKSQwOIlS01rOwLi+AP6mzrVr4wErIYbSwJW5gGTgJXCN42KJAIiIAIiUFUCErCqijcn8XoTsHIKry8iIAIiIAIiIAJNSkACVgN+CViZ21ACVpM+j8pcBERABESgCQhIwKoddAlYtWOtnERABERABESguRGQgNVwRSVgZe5sCVjN7RHX+YiACIiACJQiIAGrFKHkttebgLWMU3f/kmOglERABERABESgKQnUa/wrmEnAarhzJGBlniAJWBkQ+hABERABEWgxBCRg1e5S15uANWr0FPOOjYElEwEREAEREIHmQkBB3Ov/SkrAylxDCVj1fzPrDERABERABOIRkIAVj1cle9ejgDVmwiTTZsG0Sk5bx4qACIiACIhAkxNgFsLF7btqFsImvxKVF0ACVoahBKzKbyalIAIiIAIiUF8EJGDV7nrVo4A1dtwEK2B9WjtIykkEREAEREAEqkBg2XLtzaKVekrAqgLbWicpAStDXAJWrW895ScCIiACItDUBCRg1e4KSMCqHWvlJAIiIAIiIAJBAhKwgjTqe1kCVub6ScCq7xtZpRcBERABEYhPQAJWfGblHiEBq1xyOk4EREAEREAEKiMgAasyfmk6WgJW5mpIwErTbamyiIAIiIAI1IKABKxaUG7IQwJW7VgrJxEQAREQAREIEpCAFaRR38sSsDLXTwJWfd/IKr0IiIAIiEB8AhKw4jMr9wgJWOWS03EiIAIiIAIiUBkBCViV8UvT0RKwMldDAlaabkuVRQREQAREoBYEJGDVgnJDHhKwasdaOYmACIiACIhAkIAErCCN+l6WgJW5fhKw6vtGVulFQAREQATiE5CAFZ9ZuUdIwCqXnI4TAREQAREQgcoISMCqjF+ajpaAlbkaErDSdFuqLCIgAiIgArUgUCsBa/YXX5gF335rOnfubNq3b1/w1BZ+/735bNYs07FjR7PiiisW3M9vuPfee81fL77YTJw40a9K7acErNReGhVMBERABESgmROopYBVrTrP+RdcYKZNm2aGDRvWzK9W8dOTgJXhIwGr+I2irSIgAiIgAs2PQK0ErLvvuce8N2GC6dW7tzn2mGMKgpw6daq58cYbzcGHHGL6bb55wf38BglYnkS8z7POOsvMnz/f/OvqqwseOGr0FDN23ATTZsGnBffRBhEQAREQARGoBwK1FLCqVeeRgNVwp0nAyjxxErDq4dWjMoqACIiACCRJoNYCFmU/8KCDzJZbbJH3NCRg5cWS+EoJWIkjVYIiIAIiIAIpJtAUAhY4kqzzSMBquMEkYGUetOgC1rum7beTMkfpQwREQAREQATql8CiFTc0e2zf0/Rav1NVT4LeyBkzZpjWyy1nvrFDCc8880yz2qqrNspTAlYjJFVZIQGrKliVaAwCbdq0cXsvXrw40lFx94+UaIp3atWqlVnOvi+XLFmS4lLWrmhc/6VLl7q/2uWqnJoTgVoLWNWo80jAargjJWBlnswoAtZnc74x940ca49Y2pyeZ52LCIiACIhAiyWwnNlrh16mx3odCxKggYnoROyq5du1y9lvmf321VdfmeWXX960t3+FDAFr5syZ5uCDDzY333ST6dGjhznuuOMa7S4BqxGSqqyQgFUVrHWXaNu2bc0WW25pWrdubT784AMze/bskufQp08fs/oaa5hly5aZV195peT++XZoZ98jx59wgvnKDmMdat8NpSzu/uH0/HnO/fJL84E9z0Lmz43hznPnzi20W03WH3rYYab9CiuYO267LVZ+/fv3N+3su/jzzz4zH330Uaxj07pzn403NjvuuKN57rnn3H2a1nKqXOkmEFXA+uabb5xwvGqeTrbvFi40C+1fvg644NlXq84jAauBsgSszN0WRcAK3phaFgEREAEREIGWQGD+11+bq22sJCpsPzz9dOdF5c/79ddfN48++qjZc889XQPDrw9/Upkj8Og5v/iFGfH44+aVl182+x9wgNnKNraCJgErSKN6yxKwqse2nlLu0bOnGTRokCvyx5Mnm6effLJo8RGSjrYx7Lw3zE02Xl05FleQIj8Er69twzKK4BUukz9PBJ1nn3kmvDn7fa+99zbrrbeeGTFihJn2adPFfsP76pRTTzU0luMIWB06dHDxAzmhbxcsMPfcdVez8FjadrvtzKabbioBK3unaqEcAlEFrCfte/DFF180h1kRmfvO2/eLFpl//etfhk69n/z4x67jzm8Lf1arziMBq4G0BKzMHScBK/zo6bsIiIAIiIAINBAY++675j47680uAwea3Xbd1a380nooXGMrc13WWsuccvLJhkZXIQtW5hbZyt+/r7nGIIwxlHD11VbLHiYBK4uiqgsSsKqKt24S98IOBV5qParuvftug/dBIeu7ySZm++23d5sZzpW0gLWR9e7abLPNzCOPPGK+swJM0FbjPWHfMfPK8Izy59ncBazt7LXZxF4jbyNHjjRTp0zxX3M+i7E+/MgjzcT33zfvjB6dc0y1vxTKlxlp8QDm3sT7RSYC5RCIKmAxbPe6665zE53wW7nSSiu57B4dPty8/tpr5ljrPd7Liv/FrFp1HglYDdQlYGXuPglYxR5DbRMBERABEWjpBIbdd58ZP26c+cFpp5m1117b3HrLLc6r6owf/ch0sEOKilmwMsd+n3zyiZttcIMNNnCeFV76koBVjGJy27yA9ec//9l8YYeN0cD318DnolkIPYnm++mFHX+Gb7/9tnnrzTf910afh1iPhDVWX92tr4aA5QWYhx58MNJwxkYFLLDCn2dzFrAYBop3HMO5P/74Y8O7dYoVr560IlY+K8Sa4487/njDu3jkE0/kO7Qq65oq36qcjBJNJYGoAhaFnzVrlrnuP/8xvXv1MkdaQRcP1VtsnWfrrbc2Q/bbr+T5VavOIwGrAb0ErMwtKAGr5LOoHURABERABFowgQXffefc51ewcVn627g5DLPJNwwwH6JwZY59nrANq1EvvWT2GzLEDLCVQkwClsNQ9X9ewDrv//7PUP/paodNMZSM2GReyJKAVfXL0OQZeGEHb8hVVl7ZLLBeT3cXGHa2lvW05Fn9NhMPj8J7Dyy8L/H8YdjapDxxlzbbfHMnSM2YPt2dc3gIIbFmunXvbnraxiJi+KRJk9z+xNebYhuOiDN4f31mG5U0LOOaP89KBKw17PC8daxw33nNNc33339v5nzxhYsxtcgOKwoa70dYsd/Klim8ZtoJLCbb88hna9k06RDAwwz+n9nYVZ9agf+EE0+MNYTQnyOxu0Y89pg58qijDDEKGUZIGbwVY93OxkTr0LFjdtjUa9bbBCNuWNAjLgoLhmISK+2DiRMdh3XWWcd07NSp4RztNeQae+vFdS+S79r2WO6LCTY2GcJp0Fa3guq6Xbs6YbWNLf9X8+aZOXPmOPGOOG3e4pTHH6PP5kUgjoDFmb9k6yd4MVLPefGFF9ykCmeccYYhpl4pq1adRwJWA3kJWJk7UAJWqUdR20VABERABFo6ARqAt91+u7ERnE3vjTYyxxx9dCQk+SpzxJH497XXugbHj6wX1xq2gSIBKxLOincKC1g+waCQ9fLoKWbsuAmmzYKmiwXky6XP6hDwogfCAA18BJdnbIyofCLUIDt0GIETLy0EqeWsaOUFLASNQw45xM00OtzGxAtavnhOYQEL8WqPPfYIHpZdxtOTNIiBNc+KE8OGDs1ui7rgz7NcAav/VluZLa1oHzYENjycvrTB4TEatocceqjjGN73vffeMy/ZuDreOCdiOwWH/PltzF6GqBUnBtY+1isEgY0hTmPGjDF777OP6bruuoY4hWPeeccn7YTCQqwRfoijFTbSI10sKoudd9nF9O7d23DeBMcP20QrbL3w/PNu9UH23ulYJF8fA+vZZ581H334YTapfv36mS3ttWF227AxaQjxzvyQ2DjlCael782DQFwBCwH05ptvdmIoM4ISl45nKopVq84jAauBvgSszF0oASvK46h9REAEREAEWjKB76wX1hVXXul64/fcay+z4w47RMKRrzLHgZ/awO433HCD6bb++ubEk04yn9hhKzfawNAH2wZNP9tILmX33nuv+evFFxsaQ2k3Grk0DnfeeWezvj3fpjQ8K/ASGWyDVtNoDRtC1jo9tjafTJshASsMpxl998LO+PHjXUN/wIABbrbQR20MqqAxG95RVqxGdCFO1mFHHJEjYPng4QgvhQQsYhfdnplRLyxgMXwMb53trKDTyXrp4O0w14pVGF5XCENxZi0Mlp1lf56U73k7k10hQ+TAUygYxL2XFWF2sevxtHrt1VedSEdMJkSVjtZrCKHE89revg/79u1rvrDeWQg+eAttaEU/BBx8ge6z4hsiHIbXETEFiT321htvmKnW66qN9TTb1MYA23DDDd0+UQUsvKq4JjS4777zTuflRL67WtExLPoVY73EdiqsaT3HOA883RC/sG9t7Kn5dsbIOCx2sLMGbmxnD8R49zFxB55geNkhPGEP3H+/e//gmdWlSL5ewArOQtitWzezh508BEMkI2YXQbY7d+5stt12Wxczi6HqT9hJQ7A45XEH6F+zIxBXwALAs/Z9gRCKuP/Tn/7U8O6KYtWq80jAaqAvAStzF0rAivI4ah8REAEREIGWTOB+2+AYZ+Ng0UigkXa6dafvZBtxpaxQZY7j/Iw/+1iPARqPCFrNUcCi8XbBBReUQlWT7U899ZRrfB9oh0bQyAsbAZ47rbe5mTR5qgSsMJxm9N0LOwhYb7/1lhOpGK73wAMPuCFy/lQ3t2LygG22ycZUOtFO2hD0wKpUwPL57LPvvu4dEI6BFRa8/P5RP/15Rt0/KGAdeNBBTlQLe/8wVJCg423tDIkPPfSQmf35587jiOFuY63HUlAYZjif8257+uns0LnDreCE8PTqK6+Yd+0kGUHzsyFGFbC2tsIjolAw5pWLiXXssWZ52+BmpliGMQatEGsm5Rhih4rmi4EVh4WPsYXwd6+dhZbOD29D9t/fdOnSxbxghUqEJ6xYvvkErEMPP9xNADJ27FgnLPq0+cSbl98QBNeH//tfNywzbnmC6Wm5eRCIK2AxnPdaG8wdUZfnBy/MA+xvZhSrVp1HAlYDfQlYmbtQAlaUx1H7iIAIiIAItFQC42wjd6j1eNpt993NFraxxHTSeCCcat3qca8vZsUqc4vtjD/X2qGEc20v/UEHH+zyaI4CVjE+td5WaAghwtUg6xXC8CXFwKr1Val9fl7YQcB6edQoM3DQINPTBvQPDndDBMC7Z9VVVjGPW28W4jPVq4CFiDzbTlpQyBDmEaa8gMV77QTrGbrUvqMYyhg23oUESw96Bvl94MbsZa2twDV48GAnYL1qPbjetYKLD1jOMOo77JBsPoO2rh2mNNgK+lEELMqIQIZXGMMZEbG8ea8jYliFPc/iClhxWXjRieGpxDoM2lY25uEWW2xh3rKiKcIpFkfA8oImHm533nFH3pkJ8c7CS4s4Ru/ZMsQtT7C8Wm4eBOIIWEvsvfUfG8T9a+t5eKadiRCv0FH2HYknah8bPqGUVavOIwGrgbwErMwdKAGr1KOo7SIgAiIgAi2VAEGeEawIpHvqD37gvC9G27gqD1pPDRq9u9q/YlasMsdx021wZ36HaTwSs0QCVjGalW8LC1hB4cqnLgHLk2i+n2EBa03rFbO/9Y5BULnLDkUjWHlXGyB7byvA8A4Yaj1pGKaWFgELkQJPo7AhUr1ph+V58+cZNwaW9ywjHViEzQ8netPO3DjaxgZDrGIIIcMDCcoeFvYZuot3FsMk8WZiaN39dnbXsCFGMaNgFAGL4cgM58bwjg0GOUeQY6hw8Hr6vOIKWHFZeMHoZTt0kNlrgwYjhimOHj06e53iCFieHzHI6FTJZ14kI/4XQyHjlidfmlpX3wTiCFh4KeMheLQVrDayghXPEDE7F1gR/Mwzz3TidDEa1arzSMBqoC4BK3P3ScAq9hhqmwiIgAiIQEsmcIft5WZqdoYMdraNL2932Xg4zDJVKrhpqcoc6T1th9c8nwnqKwHLE67Opxew/vKXv7j4NnhchU0CVphI8/vuhR3vgcUZ4gWJZ+UrdmjbODu0zXuyvGFFgHcywcDjCFiIOidZL6ZiMbA82UKiive4+cp6QyCieUPkQewJG7H1Hrcz8Xnz5xlXwPKCHukwpK6QwW/ap5+anXbaySAGE++KIUcMI6TBy4QXDBf0AhYz5x162GHmaysK3mPfoWHzHlpRBCx/fcJphL97TyS/vhDrQkJSXBZeMMrnndbHxsba0cbIKlfA8mWcYwXAB/IIgJyjHzLoxcW45fGc9Nl8CEQVsBhWf+NNN7k4nAdZodnbtEzMTuK4lZrAplp1HglYDVdDAlbmrpSA5R9PfYqACIiACIjA/wgwJOXhhx8229gYOPwF7WvrLXW7HQKDZ9YRdphRIXvCDm2h8neybcgWsiV2mM4d1uuDadD3tsHF8WIoZfUUxL3UudRyuxew/nX11QWzlYBVEE2z2eCFnaCAhQCDEDN37lwzwopAR9jhacw6evddd7ng4Jx8WMDysxAi2BCYO2irWbHmMCvWVEPAIrh7Pg8s3iXEXvLmzzOugMUQQIYMLbDxm+5k9tUihrfTAQceaBgSPWL4cBcE3e/uxRQvYK1ih2MeYeNnMaQRT7eweW+nUgIW4t2RtnzEI2P2yPnWIylsnDszHX5uvdL+++CD2c1xBaw4LMgkrmDkRal8sbfCafmyELT99ltvdV6B2RPLLHgx0ccYC6cR3D+foBbcruXmQSCqgDU0M9nCcccfb9rbCSaC9rz1ysKrjzhx3e3sqYWsWnUeCVgNxCVgZe68KALW4iVLzbyvFxa6V7VeBERABERABOqOwCortjPt2jYehlMPJyIBq7yrJAGrPG7N7Sgv7AQFrDbWYwrPJrye8ERYz85IOWnSJPOM9ZD0FhawGPp7jA0YjmhETCcEJG+b23h5zG4YR8D6rw2K/rkNiu6tkAeW317q059nXAGLOFbMjopI9pgVpRjqHLQN7GyBlA0vVJYH2aHUTG7B0GpvpHHIoYcavK68gMXQQtLlkxkMmckwaATMJ3B+KQGrn40jtbWNJ5VPOPTpETwesYxyBIPzewErzNoLScEZ/EgrDguGMcYVjArlS9750jrhxBPd7JQId5M++ojdssY14ZzxZGMWQs4lXxr+AAlYnkTz/owqYKWZggSshqsjAStzl0YRsGbN+drcPzJ3ppA03+QqmwiIgAiIgAiUIrDH9j1Nr/X/Nyyw1P5p2i4Bq7yrIQGrPG7N7Sgv7AQFLM7Rewz58x1uZ7GbEZjFLixgsZ8XFPyQLdYhShCfiZnwELd8IPRCgpSffY9gyRPssDxvhfb320t9+vOMK2CRrg+EjkfayCeeMMRdwrrb4O277babE3YesSIUIhczqS613mrDbFym+Xa4IwLVjtabrXfv3u4YL2DxZedddnHrEZ8QWYj9h3W3Xh3EFURIxMPotjzB492O9p+fydAP9/Trw59723J1tYHhiZH1io1JhRVi3cl6kh1oPcm+XbDA3G29w4h55i0qi1lWkIsrGBXLN19a/bfays0KhxfbU08+6WYapJyIVrvYiSiIDfalvWYPWo/AcgQ1f876bD4EJGA1n2spAStzLeMIWO3m5wYjbD63g85EBERABESgJRFYtFIvs/uONuiwBKyWdNmNBKwWdbkLnqwXdsIClh/2x4EIN/cNG5aTRj4By3sNsSOiDMIHQwu/X7jQtG/f3jCr18033ujSKSRI9bVD3bbffnt3LJ5MBE5GNMKOP+EEE46B5TZE+OfPsxwBi+FqB9g4OCtaLzOGBzJbKh5nrMfesMHi/z97ZwIuVXGt7UIQUYOKogiIKIKKIIKigCjggAPOs6I44ZR7401yTf54TW6MiZmN3hg1xhhFBQfECREF4oiAihMCMqMiOKCCgoLI4L/eOl3tpunu07uHc7qbbz0Pp7v3rl276q06dJ1vr7VqiiUjJ5yRvFYcp+8kfW9gAlZjOx4sKmARRnicCUWbG5vV1s+lxqyxiS/bWPJ3xCzqQXi5M8Es1BFeW7Zq5QYMGODLEIb4tYU5ZrJ25h12iIlteMFRFg+5TKwRGs8ybzratdJELMLEZ8+a5Xfyy5UF7UgnOoX2pfN4wsMr033T1YXAd4yFcZHQHdGQcWG+NLNwdsaCfoy1uUMusnzaE9qq1+ohIAGresZSAlZiLHMXsKY6CVjV8wugnoiACIjAxkygRsDqJAFrI5sEErA2sgHP0N025qVCXrt5c+f6hNrRYv0OOcQnc59midxnzZwZPeUTvSOYkCMrGB5I7Py22267+cTqiCV4bbHrHmGE7MoXhDA8kxAf8DCKJltH6Opu4YatzVsIMYcE6GPwTrJk5+nKh3vX9hr6SSjZKy+/nLH4vvvu60MBo55WFG5iglWPHj38jn6E5NHuxYsXuwXvvutmzJiRrA/BjnItbDdHBBbEP3I6sdvgPsZg6tSpXgwKF2xhIlXPnj19efJZIRh9/PHHfmc+vJ0QygKzcE14hVEPE/sQaCZOmBAOp31lbI613SVJqA9vBLJMrMmjRThk586dHSKbuZi5uXPmJLnlyoL+kuyaHQAXWB7FqLFpBP1j50ZExWCZ7pupLuZR127d3M5t2/oQTT7j+faphZ9Oth0fSZIfLFMdnM/UnnCtXquDgASs6hhHeiEBKzGWErCqZ1KrJyIgAiIgArkRkICVG6dqKyUBq9pGtLz6g1Cy1rxhqtEQg/CMiobWpesnAhYeQbla3PK51lvKcrmyKGUbQt2IV3hxRfOvhXN6FQEISMCqnnkgASsxlhKwqmdSqyciIAIiIAK5EZCAlRunaislAavaRlT9EQEREAERyEZAAlY2OpV1TgJWYrwkYFXWxFVrRUAEREAECicgAatwhpVYgwSsShw1tVkEREAERCBfAhKw8iVXftdJwEqMiQSs8pucapEIiIAIiEBpCUjAKi3fcq1dAla5jozaJQIiIAIiUAoCErBKQbV+6pSAleAuAat+JqDuKgIiIAIiUH8EJGDVH/v6vLMErPqkr3uLgAiIgAjUNQEJWHVNvHT3k4CVYCsBq3STTDWLgAiIgAiUJwEJWOU5LqVulQSsUhNW/SIgAiIgAuVEQAJWOY1GYW2RgJXgJwGrsImkq0VABERABCqPgASsyhuzYrRYAlYxKKoOERABERCBSiEgAatSRqr2dkrASjCSgFX7ZFEJERABERCB6iIgAau6xjPX3kjAypWUyomACIiACFQDAQlY1TCKNX2QgJUYSwlY1TOp1RMREAEREIHcCEjAyo1TtZWSgFVtI6r+iIAIiIAIZCMgASsbnco6JwErMV4SsCpr4qq1IiACIiAChROQgFU4w0qsIVcB660Z77qGX39QiV1Um0VABERABEQgSeDbhk3c2s1austO7+kaNEgerqg3P//FL9yiRYvciBEjKqrdxW6sBKwEUQlYxZ5aqk8EREAERKDcCUjAKvcRKk37chGwXpn6vnvt7UVu00ablKYRqlUEREAEREAE6ojA6jXrXKOGm7iLTj3AVah+5SRg1UwWCViJXxoJWHX0v4duIwIiIAIiUDYEJGCVzVDUaUNyEbDqtEG6mQiIgAiIgAiIQFYCErBq8EjASkwTCVhZf190UgREQAREoAoJSMCqwkHNoUsSsHKApCIiIAIiIAIiUEYEJGDVDIYErMSklIBVRr+daooIiIAIiECdEJCAVSeYy+4mErDKbkjUIBEQAREQARHISkACVg0eCViJaSIBK+vvi06KgAiIgAhUIQEJWFU4qDl0KRcB663ZH7oZ8xe7TTap1GwhOYBQEREQAREQgY2CwLp13/rvs1OP6KIcWBU+4hKwEgMoAavCZ7KaLwIiIAIiEJuABKzYyKriglwErIlvvuemzFzoGq36qCr6rE6IgAiIgAhsvATW2S6E6zbdTrsQVsEUkICVGEQJWFUwm9UFERABERCBWAQkYMXCVTWFcxWwpk6f4RqtXFg1/VZHREAEREAENk4C327SxK3esr0ErCoYfglYiUGUgFUFs7kKutCoUSO3bt06/6+27lAWW7NmTW1Fq+J8gwYNzPV3E7d27dqq6E+hnYgzVwq9l66vXgISsKp3bLP1TAJWNjo6JwIiIAIiUG0EJGBVz4hKwEqMpQSs6pnUhfaka7durkmTJu7rlSvdm2++WWt13/ve91znvff25d5fsMAtWrSo1mvSFdizY0fXu3dv9/zzz7u5c+akK5I81rhxYzfo3HPdsuXL3YMPPJA8nuubTTfd1NHPz5cudXOy3GvPPfd02zRr5mbOmOE+//zzXKsvSblTTj3VNdl8czfsnnti1b/99tu73dq399e88frrbtWqVbGuL8fCceZKObZfbSofAhKwymcs6rIlErDqkrbuJQIiIAIiUN8EJGDV9wgU7/4SsBIsJWAVb1JVek2nnnaa23rrrX03Hnn4YbdkyZKsXdqve3fXtWtXX+bVV191U3IQvdJV2KNnT9e5c+ecBCy8bxCwvvzqq7wELASdfv36uXnz5rnnnn02XXP8sSOOPNK1adPGPfXUU27RwvoLI8H76sLBg93XJj7FFbAOO/xwt8suu/j+TJw40c14++2M/a2UE3HmSqX0Se2sHwISsOqHe33fVQJWfY+A7i8CIiACIlCXBCRg1SXt0t5LAlaCrwSs0k60Sqo9KmDNMM+jiRMmZGw+IW1nnnWW29w8g7BiC1h7mAfU3ubdNWrUKO8RFm2IF9lM2PkiD8+ojUXAYlwYH8YJ+/TTT91jjz4axZh8n411tnPJCkrw5rQzznCzZ83aQBTdYostvJfgVyZgVoNHWQnQqcocCUjAyhFUlRWTgFVlA6ruiIAIiIAIZCUgASsrnoo6KQErMVwSsCpq3pa0sVEBa7Xll7r/3nvdN998k/aeu7Zr5w499NDkuWILWD179XKdOnXyogviS7FsYxGwunTp4vY/4AAf1kkoIaGXj5qA9VkaltlYZztXrDFJrWezzTZz5wwa5BZYWOq4sWNTT+uzCBSFgASsomCsuEokYFXckKnBIiACIiACBRCQgFUAvDK7VAJWYkAkYJXZzKzH5gQBa/mXX7qmlt9q0qRJ7u3p09O26OgBA1yrVq3cl1aWXFhRAatt27ZuKwtFfGf+fH8+WkGLFi0cgsrMmTOTSdijYWGLP/7YtbWwt/YdOrhtLQfVfKsDAWvZsmXuvXffdQ0bNnR7mbBFuY/tX1wrhoDVbNttXauWLd32O+zgBb4ln33mQxJXr169XnPwgtpxxx19ORitWLHCffThh+5d60c629HqbGn/8DBbaXnIFi9e7Ba+/74797zzYocQhrF89plnXEsbJ3J6vW0hhJMslDDYVlttlZH1UgsfzTYOoQ6EMfrIPejvF1984T6wXGjRsaEMnlyc+/ijj1yr1q19P8lHxjHynjGPsA6M+3bb+ZBSPr/yyiu8+Hxl5GbjPswLPARJ+h+1bbbZxrXeaSfXzF4bWd3LrG7CYN977z337bffJovGaU/yIr2pOgISsKpuSHPqkASsnDCpkAiIgAiIQJUQkIBVJQNp3ZCAlRhLCVjVM6kL7UkQPRANDjDvHZKXPzRixAbVbm0CwamWWBwvrenTpvk8WFEBK+ReGv3EE+5DE2yitu9++7lulkQ9mpMpKmAhAh1uuZvS2d133eXICUUOLISPEQ8+mK5Y1mOFClih/ak3QWD797hxbqklh8cQZ04+5RQv7qWWRbyb8OKLycP0CQZ4nKUa/BC14uTAQgg75phjfIjdfeZFt13z5u64445zq8ybjs9rE7s3IlBlYv2s5Qc75JBDUpvjPzMOjNOWW27pjj/hBEdYX9SQiqZOmeImT57sDyPenXHmmV7Ugsu2JgBGDS+/JyxUFLHpxJNPdtulnKfsW2+95SbbvAxz5bnnnnPz5s5NVrPPPvu4bja3GiZCJpMn7M1HJpqR74ywQyxOe/wF+lGVBCRgVeWw1topCVi1IlIBERABERCBKiIgAat6BlMCVmIsJWBVz6QutCdBwHrg/vvdiSed5AjlevLJJ71HTbTuICIgxCw34YZQGHYAfgAANW1JREFUtbgCVtS7K9THLoTsZsjufz1N0GluwsuL48e7z02swvC6QgApZBfCIGAhDL1g98tkB/fp4z3MokncO+y+u+tjxxFvXnn5ZS/OId7Q/u3MawihBCEG63XggW6vvfZyn5l3FsIL3kLtdtvNe0Ih8Dxk4hsiHIbXUZ++fd068xJ63ZLhLzCvq0bmacYOj+0sVBOLI2D1tST17S1ZfdTj6hRL0L+NeXZFhR/GNxNr8oshVGYaB5LpH3v88d4baqEluX/9tdfcN8Zl11139QIlubeeHD3affDBB94za+DZZ/t+4AnFDpd457Gz4kEHHeTwBHvHvNKe+fe/vdjWwjzb4IcXVxDBVpj4tNx2nozOlbBjJR5/h/fv7+tnTpI7i7bg6dejRw+fM+t9Yzp2zBhfBk+xXNvjL9CPqiQgAasqh7XWTknAqhWRCoiACIiACFQRAQlY1TOYErASYykBq3omdaE9CQLWsKFDHR4tCCiEuz1twkKwhiZcnGXJwRE/yKnU2kK6iilgBVEihCiSeDyaA4vwr2IIWKE/tb1GBawTTjzRi2pREYjrEURIOr6psXnsscfcp5984nY3sYtwt6nmORTdzRFPJDyACO0jPBI77fTTvYjz8ksvuWnm0Ra1sBtirgIWfM4aONAhMEVzXnWx8dx///3dBybcPWmecVHLxJoymc7tvPPOrv8RR3gvPXasjIbzHWCiEQn4g2gUclpR3xTzzHo14ZnF59YWTnjU0Ud776j777uPQ66FhSQee+yxaXNgpROwgjg3depULyz6ShI/mpkYepJ5deHl9vjIkT4sM257ovXpffUQkIBVPWMZpycSsOLQUlkREAEREIFKJyABq9JH8Lv2S8BKsJCA9d2k2NjfRQUshJBTTVjBY+bBBx5YL0cR3kKfmEgz0sSakCy8WB5YdSVgkY8qKoyljj3eOwhTQcDCo+jc889369audYTQpdqhhx3mvY/wIgt9CGUQTwi3Q/w76qijvID1snlwTTPBJYgpayysD+GQ16gFgSdXAatjx47uwN69vefXo488kqwKT7EzTHikLQ8OH+4958LJTCIV5zOd67bvvm5f+0e4KSJd1BCNCJ9cZh5TzJ0gOlJm2LBh6+0qCdfzL7zQ2URzd95xh59vcQSsUDcC2r1Wd7qdCfHOwktrgu2qOdNyZ4Vrcm1PtG96Xz0EJGBVz1jG6YkErDi0qrMsuTT5Llxr3+fR/Iil7i335buqLu8Zt088/MJS1yKZ6qE8fYo+xMpUthqOV8IY1hXnuHOlrtql+2xIQALWhkwq9YgErMTIScCq1Clc/HZHBayvv/7aHWmeMTuZhwwhX69ZaBt2nIWN7WAhXi+88IKbM3t22QhY7IqI11M6w7OJfF5YCCGcN2+ez4uUrjzHgudTELDI24QnD5ZuZ0ZEEew1C6V78403vFhFCCHhgSRlR6iJWhB+CJPEs4vcWQ8/9FC0iH+P8IRHVa4CVvAS80nvLXl51PCKwqLjyedMIlW2cyHPGWVSedDXsKgdcuedybBPxKWh99zDJesZOw4i5CFgsQiOI2AFfvQXYS6d7de9u8/T9lYiL1cQsHJtT7o6dazyCUjAqvwxzKcHErDyoZbfNYT8d7Wcl/zRz4OdbA+Nwh3YcITQdkQevrtLYaQIYL1A3ko2+agL281SCPSzvJJspEJ4fzarL27huzE8fMrWRs7taQ/MetsDs3QP7mq7lvOhn5/b+meOzY9MFuYED6DCWi5T2VIejzOGqe3ggV9jW+d8YpvzsP6sdIs7Vyq9v5XefglYlT6C37VfAlaChQSs7ybFxv4uVcAKuYXYEY/wLhaVJ1luLJKB32/JwHlCF9cDizA2wtky5cAK3kuZRJVMX5rsckc+pXT2+OOP+/xZnMtXwNrBdk8kETq2wPJ0ZTIWpossJxRtoU3ku2LnQcIIV5rX1+577OHDBYOAxc55p1hCfHbhI/dYqgUPrVwELJK1n2hiWG2G9xnjGZ4CZ2JNPZnOBXGTuYE3XjpDBB1vQmemMQvXkI8Kb7d8BKwgdi2xBfAjaQRA7tGzVy+fID+Ii3HbE9qp1+oiIAGrusYz195IwMqVVOHlwvctNYU8h9lq5f/mEALPwwy+E0ph9SFghQ1gchGw6otbbd+NqWORLqQ/tUy2z6GfcR8oZquzlOfijGG0HdEHoCtszfSArb8q3WONh5Sk8/jS8pPiaS8rbwISsMp7fOK0TgJWgpYErDjTprrLpgpYuNifTs4mC397xnI2sRseIWrTp093L02a5GGkE7AOtV0Ed91lF587ixxaUTvk0EN9YvJiC1i0FbEnneEhFBYL+S6YCAE800LwVpooc6+F+mUzwg/ZnW+NhSc8ZYnMSUYeLIgpQcBq2rSpO93yZyEqsUNgqoWFTy4CFqGDjA+J06N5pkKdDcwzihBGnnqOHTvWJ8znXCaRKtu5gw4+2O1hYtxEC8ubYU9Fs1lti+JCBKwwLiRtH3r33UlRLtqeICaGHGNx2xOtS++rh4AErOoZyzg9kYAVh1ZhZcP3LbWwSclwe0gTdoNNV/NethNvL3vg4MtLwKrhUIfcMn038jAOD+5RtknN1ybABMNDvEmTJn5M04Xvh3KZXsP8qHYBK6z7Aodx5vm3IIPnH/lU2YhmikU+pFq2c6lli/k5032JLrBYXMemP7LyJiABq7zHJ07rJGAlaEnAijNtqrtsqoBFb/fp2tV1txAsdthjpz3Ej4dGjEi6cacTsIKQEs2LRV1ci1jDgidXAYs8W1EPn0wLLOrPxfJdMCGQnWc5sAiFCLvrRe9HCCNtI6yS9/1sJ0B2IIzmoaIOckPhdRUELMLtqJdXdjCEc9RIkA/j2gQs8msNtFBD2kDS/VThMNQZhCfCJgifwIKAlco627novAg7L/rK7AdCIhsAzJ071y9sahuzTAJWSAIf6uU13RPfc887z8+tZ5991s1Pcc3n3sw52sQuhNQZtz3R++t99RCQgFU9YxmnJxKw4tAqrGz4vg21vGHh9exYm8lONm/kZvb9iMkDq5/nwI+64pbpuzEIMKmb6iQbmOebMD+qWcBizYhXIWuQd955x+dKja6/ougoQ0oFvPzH2UPGqGU7Fy1X7Pf1dd9i92Njr08CVvXMAAlYibGUgFU9k7rQnqQTsAjtwvMo5HD60MLhRkd2sUsnYPGkjp3oCIsjfG+FuRjzJY540r59e9/M4A3Dh3SiRMhBNdHyRcyI5IvItMDKte+FLJiCMEcOBhYX5F3Cdtl1V3eoeZYhUPGEkr4ebfnDeOI8goTplswcfr0trDDk6QoCFteHcAbCDBFZwhPqXcyLra8JYbhq42F0T5rk8VyPtbdcW30tuT5he3hyBY+zmrPf/QyhkJwnjJAQwEysuSrTOXZSJMl/Q+sX+dHIq4UhUnLNjraT4KJFi9xTTz4ZWzBqbh5sJ5gHG672hKqGUEfqTzdXgls/XmyId4stxwTGwosNB9gxcamN2aOJ3RJrm0OpgpqvTD+qjoAErKob0pw6JAErJ0xFKRS+b5fbWqCpfWeEdATpvp/4zjjGdp/l/3EecmGpIYR8f+HhTO5DjNxJPCgJ35n+oP0gnL6dfS9vaffk+4MHQ3i8cH8sfOem5sDCI5rvc7yJ8IIJxncG7WNnYdZEX3zxhfvAvt+i3tWhLN871BEe+PEgi7Ic62b5wOKEEBbKjTVJJ/Nq47s09eEO7d3bHo6Rl+xD89rGUr8bt9pqK9fW1iGsL7a1FBLsnEx5n2PTvOvhwXG8sNONqa80y48wPwoRsJpZftJWFh2wveVmxdt+ifGmvtW2Zooa48YYUo71C/OM9A7vpkQJcE0xxjDcO/SRdSPrIXaiJrUEYYS0IRj5Ure1h8SdO3f2h1gjYuQGa7PTThnPRT3icmHRpk0bnw6Eh61waGVjyO8LvxuLLVog7I7NvbO1abWxxmOSa1J/D1jvMm+IIGAO8ftE/983YY71cNTitCd6nd7HIyABKx6vci4tASsxOhKwynma1m3b0glYtIDEoySvxFK9XNIJWCw++ZL2wot9yZGgnC8xFhAsMFgkEeI2xZJqY+lEiRBKwOKTBSD5tsITKeLuc00y6m8Q+REWE/ksmAhXO95yTG1h/SA8kMUzfeI4FjzOEHHIa8Vx2k+fCd9rbMeDRQUsFs3HmWCzuXFbbf1cakIWyT63MfdsFubUw+IwdTEf6uKVhT+Ls2nTptWa+Ja2Rb3AMrGm3dnOBeGI+yNWIp6xgELUYnzwzEK8TF0UUz5qqYIRi+6zyItlPFhUkWOBPyZI4JpurjDP6D9/1CAaMi7MF3ZDZCxYyBIyyWIVi9ueaFv1vnoISMCqnrGM0xMJWHFoFVY2fN8icPCHKn8wp64hwh3COgNvI4SVTex7IPqdx7EDzCM51fieenzkyKRXOJvMHGubzTRIKYjo9Ig9xGDnwXQCFm3je4RXvL55UMf3iP/et+9nwuWihggxNbExSDjOdxAbnFBH1Pj+5gEV5+MIWIVy4/v4ZNt8JvXBI23je/bCwYPX8+5O/W5EhDjc+pPO2I2ZNQCCy3PPPefmmZAY18L8yGc9xr2ia5DovRHYECdZe2KsA/B+Tx0Xzs2cOdNNePFF3nor1hiG+o4+5hgvsE02Qeot27E55A+dbGtgNpYJdqKN03Y2XqnGNa1NwMp0jnqxXFmEuU+/SY6farNN2CJ3KZatTYQ4shbn92rEgw8mqyGssK/9zbC9zfVU4/eJtW/0oXSc9qTWp8+5E5CAlTurci8pASsxQhKwyn2q1l37CFfDW2WUeU1F8xnw1PNg855CCOBc9EkbScnxuEKQiu7mwyISsYEnSggaLN4I3/rYnoRynC+wsBPPPpbUnSd8fKGHvACIYN0t4Xtr2wURMYcE6GPwTjKhhEUmHklj7GlWXGtj/WMRTFteefnljJezYwyhgFFPKwo3McGqh3mXIRaxGKIdePwssKd40VxQLBwp18LYIbDw9Am3cBZU9Hfq1KnrPeHdwkSqnsaF8iyUEW54qoV3E55fCGWEbmYyFs2IUs88/XRy0ZapLDsH8VSW8WLcMrFebovAbOeoH2ETkYsnbYQxkguBdrO4CU/aeBp36GGH+fPpxoxz9C8aigh7FsaIe+RYILk/45VurtAO7sFuVzu3bes58Jn7f2p/iLDAQ2ALlk97wrV6rR4CErCqZyzj9EQCVhxahZUNAgXf9TyMYRMXvKGi/9dzB75X8fRGVCFPFt69UQFra/tuQ4jh/26+sxaZx1BzvFVs7cEfzHhhPW8iChZycPKH+FT7459r+CMZYSJ4C4c/moMHFiLVAFtXbGXfN3yfj3nqKf/gCeEDMQwvo4W2OQvhj3zn75rwpqLukFKA94gktAcvJb6v8HzCY4zvdrx6sDgCVqHcQg7NbAIWa72wO3CqgEWb2byH9sPvxfHj3ecmWGB43uBpz/d0vrsQhvlB+154/nlfb7ofjBeeQmFXaMp0sF0k+9hx1qWwpg7WTqwv8X6LzrNeBx7o2BWah6GsB1jDtrO1CwIOQuRDJsAgxBRzDGkjD26ZyzzIxJucdR33PcQEnlThBy+oFrZupq2soVgPY/4hoI1DpnOsc+KwCJEE1M16lHy2eIKxBmd9hSH0smbP1ibmTerDZH5/yf/KXOH3/WUbFzzimEedbJ60s3UdvB+PpAaJ0x7fOP3Ii4AErLywleVFErASwyIBqyznZ9U0ii80FgU89aw2I1SQhRCLk2yGgMWTp1wtbvlc6y1luXIaZ+Yb7anGOVfKMdzY6paAtbGNeE1/JWDV3bgHgQIh5o3XX/ciFd+bjzzyiP/DNrQkeHKH3EDnXXDBegIWD4v4AxixIppDi5B8xA0eEIUHPAPPOcd770ZzdSKAIYDwQAPvqqiAxecB5iWD8IRwgHjFfTAe6PU/4ghfP3/URx/eId7w8C7kaiQ9AiH/iFbsyhb9zueB3nEmhGFxBaxCuBUqYPkG24+QJzM1B1Y6j+hwTS6vYX7kUpYyUQHrBPOGRyhJ9f7iYRhJxze1dddjJpQw5swTwh0RNBFmghEpwNx61jYpInSumGPIPXgIiygU5jXHmP94mG/WuLF7wrz8gmc458KuyulyYGU7F4dFyGfGHB9u8xTP+WDH2k7bPEQdb0JlCKHNdN9UsZM6gjhH3Q9a+gwEu6iFTZwQg/k9w+K2J1qf3udOQAJW7qzKvaQErMQIScAq96mq9omACIiACBSbgASsYhOtjPokYNXdOAWBAgEL4QaBB5EgGrbFwwa8VPB+wst6oXlHpwpYqS3mj2e8g/FwOdJ21uUPZkLasPBH+LvmFY23Fp4uqRYErAm2iy7eyHgv47FDDsogXnFNN/PExhs7GvIf6iJEHY+rkM4g/CGO4PS6/Uu10K64AlYh3CpFwMIDCK+1TIYXG8JUELB4SHWubX6zzh6MhnGPXotXN15y6TzDmG943OExzq7MCFh4Ck0zr/hijiFtRCDDKyx4+oU2Bq8j8ltFPc8yiUVcl+lcXBZBdCRigF2ko7afbdjU1TZuYv4yj7FM900nYIW6iTBIF+GAZ9yJJ53kha17hw3z9Ydrcm2Pv0g/YhOQgBUbWdleIAErMTQSsMp2jqphIiACIiACJSIgAatEYMu8WglYdTdAqQJW2EQE7yQ2GyF/1U6W3wcRioTleC7h0ZxOwELEIA8WnlQhHC/0hPruGjLEf0S4wNMDoQLDOwsPmFmW8yeEtQcByxdI/CCPT6rYRWj+LpYHCqOtUUM4wFsar6whd97pDu/f33tsEcbPbnOpxiYuhKzlI2Dly62+BCxY4GmUaohUhHEGC/Mjbg6s0C/qSR0XjiGuYK9ZyOebllMNsYoQQpKS42nH2EUtCJR42+F1V4wxDN573Gf69Onree8xl0lDEf09oFwmsSjbubgsgmAU3Qmc+jEYEcLIpjxhnDK1KZ2AFfilesXV1F6T6uGCCy/0H/l9pf9x2xPq0ms8AhKw4vEq59ISsBKjIwGrnKep2iYCIiACIlAKAhKwSkG1/OuUgFV3YxQEiuCBxZ3xwMAT46WXXnLTbdMRxI62lrsQb6mwsUuqgIXocIJdR1jYSgt5wkuLHDur7D2hfISLBwGLexCy19H+GCf5NZuBYHhWEbZEmGA6AYscSuwSFw0TDAm3CYUi1DCdEYJF0usQHoVHDZ41qRa8e/IRsKgrH25B3EiXAwtR53zzYsqWAyv0IW4I4VkDB26Q9J66FtpujNE8mGF+xBWwgqBHnYTbZTLm3SILVzvIxMM9EvmuCNkjjJC8quRwxYsvCFjFHMMwrzO1LRzHC5ANarBMYlG2c3FZBMEonXca+VF7W87VfAWsME+eNhH33TQiLv0YfNFFXrgaOnSoWxsRsHJtD3XI4hOQgBWfWbleIQErMTISsMp1iqpdIiACIiACpSIgAatUZMu7XglYdTc+QaCIClgICQgKeEYhGJ1uYVbmduXuv+++ZM6cVAHriCOP9LsYEhZIvqIgMuGJdfagQf4P4aiAFe0hOX0QuRC1Qr6qIGCR94hQKRJPk7CdHd/Crm7UcZBtXrOHiRyEWkU3aYnWH9736dvXe/i8aDva4e2VasGbK18BKx9uYRdCBBtyeEWNvGCn2o7EpRCwYJnOAwuhMRqiGeZHXAGLEECS/iNm3mtCSDbD24nxZefop0aP9gJmKB9ExSBgFWsMCRs8w9rHRgTsusmGOKlG3wlf/cS80kY++qg/nY+AFYcFNymlgBV+XwgfJIww1dis6CzjEg35jdue1Dr1OTcCErBy41QJpSRgJUZJAlYlTFe1UQREQAREoJgEJGAVk2bl1CUBq+7GKggUUQGLsDs8dAhBQlBq06aNT6CNMBUsVcA69bTTfOjXuHHjkjsVU5ZdcPvZjm4hhBBBC8GCnErRZN3N7dgJJmIQwkYi8iBghdxE7Hp7qIUdYtF77GP5gLpbXqDojna+kP3gXuyCyA6I7L4b8mV9YDsksjNh1MjXRT4k+p6vgJUPN/JGDbSE4QgGw/B4MREnWBdLLs6ukHEErJGR3eOoJ5v4EO6T7TXMj7gCFuGh55n3GCJZ2AUyeh/Gk/k1x3ai5H2/fv38DoSP2uYBwaiDHGbkPwsCVrHGMMybdMJhuD+5t063ZPO0I2xqEASsILSGsrxmOheHBcJvtjHL5oGV2qZ0IYRsaoBYvNR+Hx556KENNjhip+j99tvPezMyl7C47fEX6UdsAhKwYiMr2wskYCWGRgJW2c5RNUwEREAERKBEBCRglQhsmVcrAavuBigIFFEBi7sHz5fQktG2GxthbsFSBaxjjj3W5wyaNWuWm2AeTuTJ2s52oCNkid3cgoC1i+WrwtMJAYtdCEN+pCAofLx4sRs1cuQGAhb3JfcPOYC4BqGDfFmIDCSYb2g5k8gJRGgVhocRXmHkMVpkYXF4khGKdop5NJFfKZpfCKELkY1cX1gInfQfMvwoFjeqP/e883x7Qz4ojiGGkK8IdlFvmHSiBOWDB9xES8Q/w8LygmUTH0KZbK+hn3EFLOoMidDx5Bs3dqxblvBy2sVyoCFGIuyMGjXKi1xHH320W2dzZoTtjMe4MkbkJGN3QiwIWMUaw9PYlMDmQ21jHUJUyZH10qRJLgit7GR5v+WIi+5wne1criw+to0Kso1ZOgEr033TzRXmOn3nlY0a6FMQTRmXPrZjKL87z5lXGmOOxW2Pv0g/YhOQgBUbWdleIAErMTQSsMp2jqphIiACIiACJSIgAatEYMu8WglYdTdAQaBIFbBC+BotQYBAbIpaqoDVqXNn17NnT19kFcnUTYzgj2TeRwUsCoQ8PKstv85n5nGFFxI5tDByYC20nEipHlicw5uHnQKbmzCGp9aoxx/3f3zvax4j3cxzBPvSEs2T84rQPEQtdiB8wkSSFZaPC8P7BC8UDEGFstvYboWN7Y92RDa8qF41IWxKQgjzBdP8KBY3qt7/gANcF0t+j+ERhChC+79Ztcrv5LiWJPR33OHPpxMlOLGXhbr16tXLX/vZZ5/5viAa4bHU2cYmXf4iX2EtP0I/8xGwCJ07/sQT3RY2voQHfr50qR9rjmOBM4IJwiLH6TsCZQMbO8YkWBCw+FzoGLa0TQYGmLCKtxMbFTAHMlk78w4j7xZecJTlmrPMY468beRd+9Lm1WwTbcmRhSCX6VyuLGhHXMEo033nmwA16Nxzk7twhj62t0T5B1voLSIhfWdjBH4HEfQwNlTA8zFY3PaE6/Qaj4AErHi8yrm0BKzE6EjAKudpqraJgAiIgAiUgoAErFJQLf86JWDV3Ri1sR3dDjABZZ6F2QXvpXB3vJJI5j7NErmn5owiYTl//OLZhPFHNCFvHS3JNHl0EINIxo0QhECDMBTCw/CaQnQigTviBp435CBCRHvbPF0wwsr2NfEFT6kPzIMqWFP7IxsPLsSpF8ePT+ZLIlQREYek6CQ/J2SQZPDcP+xsGOogZxaeLM1MuEIoQfAhoTVtoF3k0grtCNekvhaLG/UizO1nYZD0gdxMiCV4u021fF8wRdwLAiKiA95u35DwPsGeOgiB7G7hhq1bt3aNTTgkAfqYMWNcO/OqQbCYbAn4F5gwEddCPwlPI29SJmOsGLOopxVlm9j49jDREE84xp12LzYvuwWWKy2aswzBjnLkQ2OuIJqS/H2piV77GAPyNSEUBStkDGHUw8Q+5ie507JZEE2ZU/BmYwL6iSjYtGlTJr6baxsCBDbZzuXKgv5mGrOWLVt6zzZ2bgweUrQ/3X3ZdCHdXKE8IjBznVfEK7z8YM3mBiFhPeWwfNpTc6V+xiEgASsOrfIuKwErMT4SsMp7oqp1IiACIiACxScgAav4TCuhRglYlTBKaqMIiIAIiECxCEjAKhbJ+q9HAlZiDCRg1f9kVAtEQAREQATqloAErLrlXS53k4BVLiOhdoiACIiACNQFAQlYdUG5bu4hASvBWQJW3Uw43UUEREAERKB8CEjAKp+xqMuWSMCqS9q6lwiIgAiIQH0TkIBV3yNQvPtLwEqwlIBVvEmlmkRABERABCqDgASsyhinYrdSAlaxiao+ERABERCBciYgAaucRyde2yRgJXhJwIo3cVRaBERABESg8glIwKr8McynBxKw8qGma0RABERABCqVgASsSh25DdstASvBRALWhpNDR0RABERABKqbgASs6h7fTL2TgJWJjI6LgAiIgAhUIwEJWNUzqhKwEmMpAat6JrV6IgIiIAIikBsBCVi5caq2UhKwqm1E1R8REAEREIFsBCRgZaNTWeckYCXGSwJWZU1ctVYEREAERKBwAhKwCmdYiTVIwKrEUVObRUAEREAE8iUgAStfcuV3nQSsxJhIwCq/yakWiYAIiIAIlJaABKzS8i3X2iVglevIqF0iIAIiIAKlICABqxRU66dOCVgJ7hKw6mcC6q4iIAIiIAL1R0ACVv2xr8875y5gzXKNvl5Yn03VvUVABERABESgYAJewNqinbvs9J6uQYOCq6uXCn7+i1+4RYsWuREjRtTL/cvlphKwEiORu4A1zTX4dnW5jJ/aIQIiIAIiIAJ5E/i2wabu8F7tXYedm+ddR31eOHz4cPeHP/7RzZ49uz6bUXH3zlXAmjLrw4rrmxosAiIgAiIgApkISMDKRKZyjkvASoxVLgLWqtVr3YefLKuc0VVLRUAEREAERKAWAts329JtuXnjWkqV52kJWPmNSy4C1spVq93Xq9bkdwNdJQIiIAIiIAJlSKDZVpuXYatya5I8sGo4ScBKzJdcBKzcppZKiYAIiIAIiIAI1AUBCVj5Uc5FwMqvZl0lAiIgAiIgAiJQCgISsGqoSsBKzC4JWKX4NVOdIiACIiACIlA6AhKw8mMrASs/brpKBERABERABOqLgASsGvISsBIzUAJWff0q6r4iIAIiUP0EVq1a5WbNmpW1o507d3abbLJJ1jLldvKTTz91v/vd79y3337rjj7qKHfkkUfWaRMlYOWHWwJWftx0lQiIgAiIQHoC77//vlu6dOl6JzfddFPXqlUrt/XWW693vFI/DBs2zE1+9VVLAt/A3XD99XXeDQlYNcglYCWmngSsOv8d1A1FQAREYKMhMGHCBPdfP/xh1v5OePFF16RJk6xlyu3knDlz3JlnneWbdckll7hL7V9dmgSs/GhLwMqPm64SAREQARFIT+D8Cy5wU6dOTXtyq622cu3atXODBw92B/bqlbZMJRz8yU9+4p597jnf1NdMyKprk4BVQ1wCVmLmScCq619B3U8EREAENh4CErBKM9YSsPLjKgErP266SgREQAREID2BbAJW9Iq+ffu6a665xjX93veihyvivQSs8hgmCViJcZCAVR4TUq0QAREQgWokEBWwBp1zjrvooos26Ob3KnAxJw+sDYaxIg5IwKqIYVIjRUAERKBiCEQFrGeefto1bNjQffXVV+69BQvcq+atdM8997hvvvnG9+fkk092P7/qqorpW2ioBKxAon5fJWAl+EvAqt+JqLuLgAiIQDUTiApYF154ofvP//iPjN1dsmSJ+9RyS5EPq3379j6/1Nx589yMGTPcjjvu6Dp36uS22GKLtNevXLnSISq9++67Dpf9PfbYw7Vs2TJt2Q8/+si988477pPFi32Ztm3buhYtWqQty0Hqnj17tl+M7mJl99xzT/fee+9lDSFcvWaNe2f+fDfP/m3WuLHrsPvubqfWrX3+iHCj1P5+/fXXbtJLL/nyBx54YCiW9lUeWGmx1HpQAlatiFRABERABEQgBoGogPWyfYc3atRovatZl5x3/vnuyy+/9Mf/dfvtrmvXruuVyWXNEL1g0aJFbrateb6yOlvZ2qLL3ntvcN9QPu6aZ+HChT53KTk+yVHK+qs2AYu129y5c91iW1ftvPPObndb86Su1wpZ8yiEsGY0JWAlZrUErPDrrVcREAEREIFiE4gjYF177bXukUcf9YuwkY895i60nBEfmdgUjEUUyUNZGEXthfHj3dVXX+2WLVuWPIwIduqpp7r/99OfJkWj921RRuL1V155JVkuvDn44IPdz372M9fS7hE16v7lL3/pli9fnjyMx9hPLR/E1b/6lT+WmgPr9ddfd9f8+teORWDUevfu7X5jx0NS199Yfx+1/pL/6/q//MX99xVXOEQsxLd7LWFqNpOAlY1O5nMSsDKz0RkREAEREIH4BGoTsKjxnqFD3f/93//5ylmb/M+VVyZvlOuagQuWm2D1m9/8xj1tnl5Ra20i1h9+/3u31157JQ/HXfMgsLF2eeaZZ5J18ObYY4/1Qlm6HFgrbc1y0003ufvvv3+9axCvWDv1P/zw5PFC1jwSsGowSsBKTCcJWMnfK70RAREQAREoMoE4Atafr7suuQjabbfdvJfTDjvs4D744INkq7p16+Zu/+c/k5+nTpvmzrcnmxjC0t72tHDKW2+5FStW+GMITWeeeab37DrFFo3hCSheVzu3aePmmycWTzKx5s2bu4cfeshtueWW/vM0q5unpsG6dOninyhOmTLFe2WF41EBa755XJHcfe3atf509+7d3SeffOL7woF99tnH3fGvf/lzf/jDH9yDI0b49zyxXGDhBty7k3ma/f2WW/zxTD8kYGUik/24BKzsfHRWBERABEQgHoFcBKzPPvvMHZHYrXh/Wxfceuut/iZx1gxccPl//ZebOHGiv7ajeYOvMy+psNPz9ttv7x6zh2KbbbZZXmseNtxhzYZtu+22rpOJYQttfYTHetSiSdyv+vnP3ZgxY/zpbbbZxrFOon1rzAsdu9nErZ49e/r3hax5JGB5hE4CVg0HJwErAUIvIiACIiACRScQFbBwq29s4XRRiz6hu/Fvf3N33XWXP83iCaEKoekt293nxz/+sfv888/9uWft6SBhgth//uAH7iVz2WfL6vvuvdftuuuujqeOJ510kg9BZIE31J58svh56qmn/DWXXHyxu/TSS/17hKbf21NLPL+wcwcNcj9M7JoY6ub4r8zb6jh7ComxZfZFVgcu81hUwPrB5Ze7SZMm+eNh4YYb/h//+MekWMXTyl62oPuLeZPda23GaP91f/6zO+igg/zn2n5IwKqNUPrzErDSc9FRERABERCB/AjkImBR80Hm6U1KAoSmp5580t8szprhLXs4d4GlYsCOOeYY92tLCI/hDT5q1Cj//oYbbnB97D5x1zzRuvECv/Xvf0+us/7617+6uy2PV7AgYLE2u8B2YMQQ5SiHePbxxx+74084wYtYe1to45A77/RlClnzSMDyCCVg1WBwErACCL2KgAiIgAgUnUBUwEpX+S//93/dCbbQwf5mws6QIUP8+1QX+9+bt9KIhLfS/ffd5zp06OC9nHpZrihEqD59+vjwQn+x/cDVHeGo+XbbORZQLBwJzyMMkfBEkqwGIzzwqKOP9ufx/Br+wAN+4XWghfxRN1tgPzh8eCjuX++6+2534403+vdBwFq3bp3jmtWrV/vcWqMefzx5zZtvvukGJxLYDzQPrSssXPAGCydAXMMONzf7P1ofczUJWLmSWr+cBKz1eeiTCIiACIhAYQRyFbAOPeww98UXX3hP6xeef97FXTP847bb3G32DxtmawfycWJ4qb9pnuHNmjVzHSx/6Ha27om75onWzVqENUkw1k4DTDCj7VgQsP5l3uS3mNCFkcbh+OOO8+/58X3LdxrSNTxn6zF2XixkzSMBqwatPLASU0weWAkQehEBERABESg6gaiA1a9fP3fKKaesd4/2JhgRJohFBazrLJzwECsf7A57gnfzzTf7jyEB6ocffuiOTSyYop5T4ZrwSh6tYxLeU5mEorMGDvSJ2vEQm/Dii466eYKIDRgwwOeuCvXxSs6Kiy+5xB8KAla0PXibsYgMhhAWPLbg8BfrX3QxR/6t0087LRSv9VUCVq2I0haQgJUWiw6KgAiIgAjkSSAXAQsRqHfCw3qnnXbyoX5x1wx4gj+e8LR60dYpm1v+zHSWz5rnV+bN9cQTT/jqCEOkjVG79LLL/I6KHAsCVrQ9hA/ifRWMZO48RMTwjid3aSFrHglYNWQlYNVwkAdWgoNeREAEREAEik8gKmDVtgthVMB69JFHXBvLURVsmCU1v95c47EgYLE74TkW8oddbN5Nl9kCK52Rv+HUhDiEtxdeX6kWXYBOtBwQ5KUIdZ9s4Yg/tzwPUWNXQkQvLAhY0WMc52loOuvYsaP7m3lvRRdzJEDlyWmuJgErV1Lrl5OAtT4PfRIBERABESiMQHT9kG4XQmqPPvTq0aOHu8UeyMVdM/zoRz9y4024wibbZjRsVpPO8lnzkMsKTylsrOW0ij6A49gVlk80nA8CVvQYSdujAhbXBGPznAP237+gNY8ErBqaErASs0oeWOHXS68iIAIiIALFJpC3gGVPANtEngCmE7DwaDryqKN8k0+zBO1XRnb1ifaDxO19E95cvXr1cjdZrq1Uw9uKZO7k3ho3dqyLJlw99NBD3Z//9Kf1LuHp5w9tMYkFAYvdgfCuwghxJNQxm0UFLPJXpO6AmO1aCVjZ6GQ+JwErMxudEQEREAERiE8gFwHrEsu7+dprr/nK2YGQNAlx1wy/NSHo4Ycf9nX8e9y4jA/J8lnz/M5ygT5km9hgD9gDtfYpD9QGnXuue/vtt/35IGD9xXZPvjexzkn1mvcFU34UsuaRgFUDUwJWYlJJwEr57dJHERABERCBohEopYBFI3HJxzWf5O0jHnzQtxu39YFnn+2++eYbRzLS3/32tz5/A4lFSZZObip2HAw2ffp0d+555/mP0d2BQt3sbkgC+Ki7fjRpahCwqOAwyxsRks2TpJVkrRhtuvUf//C7EB5oIhpWyGJOApZHGPuHBKzYyHSBCIiACIhAFgLZBCzWIXzX852NEZo31BKiN23a1H+Os2Zgkxs2u8HY0a9/Ik/V6NGj3V/Nq7tFixbuPy33FB5e5KyKs+aJ1s335IWJ5OzcK7oxDp+DgDXc1lxsUIOleqqzrnph/Hi/C3QzCy/EClnzSMDyCJXEvQaDkrgHDnoVAREQAREoPoGogMXOe3369t3gJt26dfPhc+uFEObggUVF0eTuP7AdCVlEPWrXhkUeOweSp4EnizxhxDp16uSu+p//ca1tIfm2LbKuNYGLJKjY32+5xR1wwAH+ffSJJPm4SLzeZPPNfRL4m8z9nwSs2EUWvvj9RPjiP0ykus12T8SOOOIId9VVV7k1ltSdHF5hx8Efm+fWOeecU9BiTgKWRxz7hwSs2Mh0gQiIgAiIQBYCUQGL7/cGFtrH9/58S1/wxhtveO9uLiff5x2W+Lxly5bJ2uKsGchtdaKtcdgohhQLfzVhDIEMcWfevHm+zsdHjnStWrWKveb5kLpPPNFvYEM44K8sKXtPW7MtWLDAXfPrX7s5c+Yk2xzCF5ctW+ZzhbIRDg/6SP7e3XYjnDZtmvuZeZnhJU8o4mO2cQ4PACVgJRHm/UYeWAl08sDKew7pQhEQAREQgVoIRAWsTEUvN+Hp/PPPXy+JOyJUbSGE1PfJJ5/4XFUhQXr0HizC7rYnlnhnITb95Kc/dc/bzj+Z7Gzz2vrvH/84eZqnl7jNE06YanhqTX71VX84mkB+xYoV7jzrCzm00lmXLl3cbSZy4QlWyGJOAlY6urUfk4BVOyOVEAEREAERyJ1AVMDKdBU5MW+3h1u77LLLekXirBm48NZbb3X/vP329eoIH6I5PvNZ87CjIDsLphreYohu5OzCognkH7G12m/tIWBI2N6gQYPke8peb2GGfRMPLgtZ88gDC5pOHlg1GOSBFTjoVQREQAREoPgEXrenjyxushneSCfZkz/yXD1syduxm266ab2cUOy8M2TIEH/u2muvdR0T20dzYMmSJe4v11/vn3QiOvEkEKHoP8yVPlqOstSDOIbAxNNDQvzatWvnzrcQwuB5Rblg1E3y+DfffNPfp23btu4gC1s82xK4DzbPK2zA0Ue7wYMHh0t8SCMLwYkTJ/qnlyzoeCJ6jO1miEi2uXlxYbjsj7RwRoxF6faRsEZ/MMsPCVhZ4GQ5JQErCxydEgEREAERiE2ABOizZs3a4DqEnx0trA9PJjyyeaiWzkiDkMuaIVxLyOB9lqcKr6s1a9a4HXfc0XtPDbK1FA/HohZ3zUPdrC/mWt1NzGuKtdQFFk74yssvu9GWFgFjLdbU1lnBSFB/2223udnmpfXFF184diRksxrSK3TZe+9QrKA1jwSsGozywEpMJ3lgJX+v9EYEREAERKDCCay2xdymjRrl1Atc7xs3bpxTWQrxhBExKo7RnoYWTpBpt6A4dUXLSsCK0sj9vQSs3FmppAiIgAiIQN0SiLNmCGkMcl1fxF3z5NPzUt1DAlbNaEjASsxKCVj5/HrqGhEQAREQARGoPwISsPJjLwErP266SgREQAREQATqi4AErBryErASM1ACVn39Kuq+IiACIiACIpAfAQlY+XGTgJUfN10lAiIgAiIgAvVFQAJWDXkJWIkZKAGrvn4VdV8REAEREAERyI+ABKz8uEnAyo+brhIBERABERCB+iIgAauGvASsxAxEwLr44ovdGWecUV9zUvcVAREQAREQARGIQeDpp5/2CWHfe++9GFepKALWLbfc4rf6Fg0REAEREAEREIHyJ/Cq7fp8yimnuBEjRpR/Y0vYQglYCbgv264C99tOBjIREAEREAEREIHKIdDCdje68sorK6fBZdDS8ePHu6lTp5ZBS9QEERABERABERCBXAl06NDB9e/fP9fiVVlOAlZVDqs6JQIiIAIiIAIiIAIiIAIiIAIiIAIiIALVQ0ACVvWMpXoiAiIgAiIgAiIgAiIgAiIgAiIgAiIgAlVJQAJWVQ6rOiUCIiACIiACIiACIiACIiACIiACIiAC1UNAAlb1jKV6IgIiIAIiIAIiIAIiIAIiIAIiIAIiIAJVSUACVlUOqzolAiIgAiIgAiIgAiIgAiIgAiIgAiIgAtVDQAJW9YyleiICIiACIiACIiACIiACIiACIiACIiACVUlAAlZiWIcMGeLuvvvuqhxkdUoEREAEREAEqpHA6aef7i677LJq7Jr6JAIiIAIiIAIiIAIikEJAAlYCyMSJEx3/ZCIgAiIgAiIgApVBYP/993d9+/atjMaWWSvbtWvn1qxZU2atUnNEQAREQAREQAQyEZgyZYpr1qxZptMbxXEJWBvFMKuTIiACIiACIiACIvAdgZEjR7p169Z9d0DvREAEREAEREAEyprAgAEDXOPGjcu6jaVunASsUhNW/SIgAiIgAiIgAiIgAiIgAiIgAiIgAiIgAgURkIBVED5dLAIiIAIiIAIiIAIiIAIiIAIiIAIiIAIiUGoCErBKTVj1i4AIiIAIiIAIiIAIiIAIiIAIiIAIiIAIFERAAlZB+HSxCIiACIiACIiACIiACIiACIiACIiACIhAqQlIwCo1YdUvAiIgAiIgAiIgAiIgAiIgAiIgAiIgAiJQEAEJWAXh08UiIAIiIAIiIAIiIAIiIAIiIAIiIAIiIAKlJiABq9SEVb8IiIAIiIAIiIAIiIAIiIAIiIAIiIAIiEBBBCRgGb7PPvvM9e/fvyCQdXFxr1693M033+xWrlzpevfuXRe3LOgeXbt2dXfccUeyjmuuucY99thjyc/l+mbYsGGuY8eOvnkzZ850AwcOLNemJtt1wgknuKuvvjr5+Re/+IUbPXp08nO5vhk+fLhr3769b97YsWPdlVdeWa5NTbbr8ssvdxdccEHycyW/uf32290tt9xS9l3405/+5A4//HDfzuXLl7u+ffuWfZv3228/989//jPZzltvvdXddtttyc/l+uaGG25I8p0+fbobNGhQuTY12a6TTz7Z8X+eTAREQAREQAREQAREoLoJSMCy8V24cKFr06aNO+yww9zWW29dliM+efJk16hRIzd//ny3bNky305ErBYtWpRle6dMmeKWLFni/4UGHnXUUW7SpEnJP0TD8XJ6ffjhh9348ePdQQcd5Js1ceJELxbyB1K52tNPP+169OjhxowZk2xiv3793NSpUx2v5WqwZl53797dN5E/7i+99FJXzqxp8xVXXOGuu+66csUaq10/+tGP3I033uhOOumkWNfVZWGYI7QNHjzY35YHDs2bN3d9+vTxr3XZllzv9cYbb7gVK1a4jz76KHnJ97//fS9oITaXq8F66NCh7uyzz/ZNfP755/3/IeX8Ozlu3Dg/F0aNGlWuWNUuERABERABERABERCBIhH4/wAAAP//6iQClwAAQABJREFU7N0HmCxF9TbwNoKKYkLBeDGLCbOi/rliAowooigqiooSFANmEVTMGTFgQhHFhIgBTIABBDFnxYAZcxYT+s2v9d2vdpiZndCzd+/eOs9T0z0VT52urqrz1qnq8/ynR80GTj/5yU+aK17xis2rXvWqZtNNN12R0jj55JObE044ofnmN7/Z/PGPf2z5fPGLX9xsvvnmK5Lfz3/+88073vGOhmxDO+ywQ3PRi160ucc97hGvFXfdfffdWznf+ta3bnk75ZRTmm233bZ585vfvOJ4DUPve9/7mj/84Q/N8ccfH69mu+22a9vGXe5ylwW/lXZz//vfvzn99NObm9zkJi1rhx12WPO85z2vefazn73SWF3g55WvfGWzzTbbNC960YsW/Nbnm/3226/xrj7ykY9csdV48pOf3BxwwAHNHnvs0fL4m9/8prn0pS/dvOxlL2s222yzFcn3Zz/72cZ7+YMf/GCBPzL+1re+1TzsYQ9b8FtpN49//OObF77whY13E33iE59o7nSnOzVvfOMbVxqrC/y85z3vaf7xj38073//+xf86k2VQJVAlUCVQJVAlUCVQJXA6pTAeSqA1bQgSwWwum3gFcDqVp6jcqsA1ijpdBtWAaxu5TlObhXAGkdK3cSpAFY3cqy5VAlUCVQJVAlUCVQJVAlUCcxHAhXA6sm1WmB137gqgNW9TIflWAGsYZLp3r8CWN3LdKkcK4C1lIS6C68AVneyXOk5felLX2pudKMbNRtvvPFKZ3Wd8Hf22Wc3Bx10UGv9WTKw6667NkcddVRzoQtdqPSe+p71oDloaU3/29/+trn61a/eWttf4AIXmDrvWRKq/wMf+MBzWZ+zxmQN21X9Z+Fx3mnJgBX+LW95y4Wi7IC42tWu1rAE3mijjRb8p71RxpWudKXm+9//fnO+851vIZvjjjuu2XHHHdc7OavPa17zmmbPPfdcqIsbuwJOPPHEdVafc845p5Wvd+2Sl7zkAm9f+MIXmhvf+MbrjC+MkBl5kVtJj3vc45qXvOQl65y3U089tbn5zW++wJodH94B/VQX78BCxnO+IWe7UvqttcmYrLvq05TzsY99rLnd7W63qEZr165trdq7KOdvf/tbuxPhhz/8YWd8L2J2PfhTAazeQ6oAVvcttQJY3ct0WI4VwBomme79K4DVvUyXyrECWEtJqLvwCmB1J8uVntMHP/jBdjL/qU99aqWzuk74e9KTntRc+cpXbo488shF5V/3utdtbnazmzUPechDFvlP8+ff//53e0TBF7/4xWbrrbdeyOLMM89sttxyy3YbcqlsL0RYhhvKtCMrzOVK0h+/+93vbt70pjeV3qvy3vERb3nLWxa2VKvkz372s+byl7988653vWsR6DitALKt/C9/+Utz4QtfeCGbQw89tHnKU57SeE/XJ7JFHvDmiJOSLnaxizV77713c+c737n0XrZ78t1+++3bbfzXvOY1F8o99thjm7vf/e7NuuwHX/rSlza/+tWvmk9+8pMLfLkhR6f8PPWpT13kv5x//u///q/tAwH3oejMtu9f5jKXifeKv77zne9sjj766FbnL5l9xCMe0Tj24RWveEXpPfW9dqb994O4m2yySfPoRz+6cZzOrOQZeCa/+MUv1qtnMGu9y/QVwOpJIy9jPQOrbBqz3VcAazb5TZK6AliTSGu2uBXAmk1+06SuANY0UpsuTQWwppPb+piKYvzQhz60+fnPf74+sj93nq3In3XWWecCsG54wxs2++yzz8KZfLMwAsBidTMMwGLls64ArFe/+tXN4Ycf3px22mmLqqg//u53v9sCOIsCVuGfa1/72s3Tnva0gQCW96a0mpu2+gAs5QwCsI444oiG9cv6RM5PJJd+AGuLLbZoXv/6169TAAuAQN79ANZee+11LlBjOWXOAgiQdtJJJy0qFth3i1vconn605++yH85/5DVgQce2IIlKTc68/oGngCwgML6r5IAWPpi5/B2QTe96U3bsbUfwLrsZS/b9qldAViOPlrfnkEX8k0eFcDqSSIvYwWw0ixmv1YAa3YZjptDBbDGldTs8SqANbsMJ82hAliTSmz6+KsBwHLw/Kc//elWCOc973kbk0mWFF1sxdp///1bJePjH/94w6JgEI0TZ1C65farANZoiVcAqwJYFcAa/Y4MCq0A1iCpjParANZo+XQVWgGsriS5MvKpAFbvOVQAq/vGWAGs7mU6LMcKYA2TTPf+FcDqXqZL5VgBrKUk1F34agCwWEwcfPDB7RdvraqybAA2AZaEzUJWwoFj733ve5uLX/zi7bk1r3vd65pnPOMZC2dJ9ceZpbx5pq0A1mjpVgCrAlgVwBr9jgwKrQDWIKmM9qsA1mj5dBVaAayuJLky8qkAVu85VACr+8ZYAazuZTosxwpgDZNM9/4VwOpepkvlWAGspSTUXfhqArDe/va3NzvvvHN7rsjd7na35q9//WtzxhlnNFe96lU7E9hznvOc9nyS3//+982mm27aWb7LkVEFsEZLuQJYFcCqANbod2RQaAWwBklltF8FsEbLp6vQCmB1JcmVkU8FsHrPoQJY3TfGCmB1L9NhOVYAa5hkuvevAFb3Ml0qxwpgLSWh7sJXG4B13/vetxXOPe95z9ZqyteHfIXIF/gOOOCA5itf+Upjm+ENbnCD5lnPelbjgG70ghe8oD2o2teWfDnokEMOaS54wQs2T3jCE9othMcff3zzxCc+sT0Q1peYfM3vete7Xnu+RRnH+UXyUNYJJ5zQ/PrXv24BNGdu7Lbbbm1ZDpV93vOe11px+bqdg3xvfetbt19Fku+8qAJYoyVbAawKYFUAa/Q7Mii0AliDpDLarwJYo+XTVWgFsLqS5MrIpwJYvedQAazuG2MFsLqX6bAcK4A1TDLd+1cAq3uZLpVjBbCWklB34asRwPL5dF90+/GPf9we3vqvf/2rBaxsL9xpp50a//WhG2+8cXvAr8OZfWVu9913bz8Vbkug8zGBTuIfc8wx7eHevsTmoOIf/OAH7aHeV7/61ZtHPepRi+JsttlmzTbbbNMehO1T7Q7kZRkG9Hrta1/bPPzhD2/e/OY3t2UBu9asWdNacvncvK8/Oc9rXlQBrNGSrQBWBbAqgDX6HRkUWgGsQVIZ7VcBrNHy6Sq0AlhdSXJl5FMBrN5zqABW942xAljdy3RYjhXAGiaZ7v0rgNW9TJfKsQJYS0mou/DVBGDd4Q53aK50pSs1xx13XPOzn/2suetd79p+6Qlo5Nyql7/85S3gRHo5N8vnyn0pCBDFKgqIgc5//vO31xLAEs9Xoj70oQ815RbCMg4Lrzve8Y7NrW51q4WD5fmx+AJ4fec732ne9ra3tV85A2595jOfacsR9sMf/rDxFbqLXvSirV/XPxXAGi3RCmBVAKsCWKPfkUGhFcAaJJXRfhXAGi2frkIrgNWVJFdGPhXA6j2HCmB13xgrgNW9TIflWAGsYZLp3r8CWN3LdKkcK4C1lIS6C19NAJZPTDto3ZlXt7nNbVpQChBle97JJ5/cfO1rX2uuc53rtML72Mc+1gC87n3vezfPfe5z2y8X/u53v2sufelLN/e5z33aQ+GdcVWCU+MAWO94xzuaRz/60e32QJ8iR//5z3+aS13qUs0f//jH5u9//3sjDqXPNsODDjqojaNMk+3+T763gR39VABrtCArgFUBrApgjX5HBoVWAGuQVEb7VQBrtHy6Cp0awDrnD81Pv3dW8+f/NM15Nr50c+UrX6rZaARTvnz80Ic+tNlzzz0XxTJnOPzww5sddthhkf80f4Jb/OIXv2guc5nLTJPFep+mAli9R5iGYJvASj2I1YTbGRrf/OY324kvPm1f2HzzzVdkI6wA1vI9lgpgLZ+sK4C1fLJOSRXAiiTmf11NAJatejkDq5Qci6iPfvSjLYhlex+yHRB49cAHPrDd0seiimWUyebpp5/ePPjBD27e+MY3TgxgHXvsse02wf3226956Utf2pb1t7/9rbnEJS7Rnr315z//ud1SSOl7xSte0ey7775tnAc96EHNW97ylhUBYAH3vvrVr7Z8OS8Mb4DB9YlYyX37299uWQZi7rXXXs35zne+kVWoAFYFsCqANfIVGRhYAayBYhnpWQGskeLpLHBaAOsfn3pMc53tXtZ895wLNFs97sTm8y+8VbPxCK4qgDVCOB0GVQCrJ8yuASxfO3KGhS0BVlq7oHkBWFaDv/vd77aTdKvNXjyT61lp3gCWZ0axcI7JzW9+8+YKV7jCrCy36Z17Aii0So9OOeWUZtttt22Vmtajo58Pf/jDzTWvec32zJNZs5wngGXrzWc/+9lFLEL7o/gtCpjwj4mOZ3iTm9ykTXnYYYe123ae/exnT5jT4OjyBvhqz860sfoxK1UA6/9L8E9/+lPzhS98od3qZEsUa5ZstXJO0CByIPakym/XANaovgO4oE76RAd6O5j7Ahe4wKCqjPTzzngvnY8UeuQjH9kCEg972MPiNfZ1lKxl8vWvf7354he/2Crl+vCrXe1qY+ddRpwXgMXa6S9/+UvbV6c8snZgueeh/3bmk3OoJqX3vOc9zT/+8Y/GAe0o2wGHAVgJ32effZqXvexl7RlYgCuTW++38YTlk0PWnZ+lvV7rWtdq+6p+CywHwrNk0l7ydcMyzllnndVsvfXWbV9vLHHO1ZFHHtnmnTOusoVwpQJYtlwC/LwLQB8LZ1e5ylUWHhPwL1sfFzx7N8AuZ3ptv/32C7Ipw3NP1s4Bk4fn6OB6Vmu2UQ6jz33uc+3B+tJutNFGzfWvf/3mMY95TPOud72reexjH9seuF+mfeYzn9lIw+LtIx/5yKItn2W88n4SAAvY+OUvf7lM3t479+x+97vfufzjYf5Cpt5d7SR05plntue22UKqzYT8f+ELX9j885//jNeiq76KJd+FL3zhRf7+fO9732vbqrkH60Iy01b13d6d/n7p1a8eH8DyIQJz1KXIxxRspwUofvzjH2+jK9/7FyLHI444orVU5Ec++++/f+M8uZC+w/ty0kknNc6s8+5pZ8Yglo13utOd2qiA6Oc///ltu0raQddNNtlkwfqxDB8XwJqlHG1YOfrH8rkdeuihrRxOPfXUkqWZ7sd913zk4q1vfevCMxhWqGfDavRCF7rQQpR5AljGVGMGuvvd796OGQsF/+9GO9Qe0S1vecv2S7TuyddzJgNz75BFBoC2cWgQTfLe2Hb+q1/9alE25kTaOCtgVsGDaBoAS99hgYW+YvyXt/fLuJV5mLJmfdfIivXwrrvuusA6WSmv3/rH3Ml4Rq8MDXu3hNMvbOV3DmVJg975MnxaOU8HYP2r+dIzbtrc7Jlfas657M7NW77Us5je/LwlO+e6nwbAGrdPS2HDnkHCN4RrBbB6TzkNoQsLLBP1N7zhDe3XhkyUy45ylgY1LwDL9gVgE8Xyl7/8ZTs4GPDLycI0fM8TwNJJWg235UMnbiKkczUxmpV2XwYA61Of+lTzmte8pjUxve1tbzsry62i7EtXvowV2m677VrrPArWLGSyYMJfAlZAWUrerDRPAEu7phSYyDq8mfLiy2LTKMhlPSuA9V9pGGwpjAZq5wxRzk1UKI+oH8CimJp8skKZ1Ny5SwBrVN9BKVQnSuc1rnGNFsjy1bhs6/pvzcf77RLAWkrW2rmxS19CzvoX9cgX9cbj+L+x5gFgUe7wYyx80pOe1BYEGAIqAJfJ23hB8TRmAj4moUkBLH2lMikmABaKDaWDn3bscHVnYDkz6zznOU97btaLXvSi9jysEpwCiNtu+JSnPKVVoClLFO/+OJQjYMBFLnKRtjzKhnfFIhfwfn0AsPT56jqIAHLAJ+eKGW+22GKLNprnSXliZabftKWin3x1EXBi7NZXaxfGG+OOcX3QmP6mN72pzQugRmGTRn/DwgpABfy58pWv3F9U+99z1v9ok0tZ208CYKk74MXiJf7UyVcrLZyU4Ew/U5MCWPoj7410SBuirFKOkTKFa18lUXJ33HHHNt7tbne7dn5ngYcCDDymMMZCLekmAbCAxeaor3/969t52SD5A8l8oXPvvfdunxfLPu/L2Wef3Vr4Za6sPzOHBv4GXNBvZLeB9mQ+4jlrb+71ec66A/Sbw3kGyMcS9N/ydN7czjvvnOotXCnhgLB+4EGEcQGsWcpZLgBrkndNf0yGZEruN7zhDRfklRvjpUVH+tPlL3/5eLfboaUBdJekX9A+nBs4LZnX0U88z/LMwDI/usynP/3pFszUbgK8TANgTfrePOMZz2i3hAMiM2fWJ5x22mnNGWec0W5FN8YaV0qaFMACZJs/kwOAHHDrbEXP2Dj03ve+d2Ec1TdO+67hcRIASz2900gbUmfjgL7BXLGftB3PE+DlHdSXMR5wLd/5/nTTynkqAOuc7zcvXnvtZv+Tz9fc9JmnNic/7frN+fsZ6vs/KYA1SZ+WooJb9IOICd8QrhXA6j3lNIRZASwdFesRK5Y6dqb2GZRnbUzzALB06FY6D+yh67FgMmlhiWU7xSw0TwDLV6GstmVyaxJH8XAA76w0bwBLZ45Pk2cTyZUOYAHFrHDaQtM1zQvAImMKs0lBlBRtxIrzrBaRFcD6byv4wAc+0CoEAawoDrY/WU2LzMv2YiKsn+1f5S/jDLvvEsAa1XdQmlknHHzwwS0rFGPgg4mUr9hNQl0CWEvJ+pBDDmkthAD6yDur/52mP5wHgMXKyTtJuSZLZIXfZPs5z3lOO9GmkAuj7E8KvPUDWEATFkPyGqR4Kd+E0VgHdGC1kgknHj13FjUm44jCZbwRz8KJ7XTGeYAUIATgxQ/f6tAfRx54pERQdIGj3gPAL6J4UBaBMQEigFoABm1/UsC3zXSMn3HPwDKfGQVgpShgJNCJBVWIkktBAaoAENb0AMMQ0Et9WRTpr0siX+3aMyjTAHPxYjECEFKSeQywYl0AWOHDIiBgU3sf5/D9SQGslJPrOM8GaE+p1zf3j+NAXPMQVmyzAFjhx9xRXz9IWQWgeZfK58ZyCnBE2S8X4OSnfQCDAVklPetZz2rfT4tS5VhjngKEBoQGwEo64za+tPl+0lfjaxYAK3lOU85yAFjTvGvqdK973asFRIwL/QR4BNQY15cLwMLDE5/4xOYb3/hGO1YbswFZIeOKtne3u92t1Wm0+dCkANa07w29z3xBf1QSIOkBD3hAaznY/x5OCmA5Q4n1krlBadXF4lv7Z52mXy1pmndN+kkArLI87xQAWB8DvKRfjyJzLZZ8/cDnsDTTyHkaAOvfZ/UWZq62Z/ORSz+ked+XegDsGLvnM58Y9wysafq04BYVwBrWQjYQ/zSEWQEs4jIhsYJsVXalA1j4pXiWEy0TZ5MvnwyfheYJYLEyoExkFYMCYGUmiucsfM8bwGIWDiz80Y9+1Co8Kx3AspJDCdlll11mEevAtPMCsHx63uTWCnrX1AWA9fdffrc54y+XarbasncOTvPX5uff+UWz0VW3bC55vh63f/px842fnr/Z6lpbNOPGm6WOzubxrtreNgnp57iYqrs3WHsH+xVuVhEUcatmpcIxbnldAlij+g5bNaz4A1WQOplUmbxPuiWvSwBrlKxZyrJsofDH8oUih2cgDMuKSahrAMt7aOLOmgmIHAALbyar5UKJsQeN2nI1qC79ANagONXv3BJYDgBLqd45Ci5lMs9Wm2adBGBkvTSIHGQPvNCfh4B6LAwAWel7EmbeAkAxtsZaJ2G5zssCK/mvRACLQmsbrDnSIAL2AARtty9pEguspBsFYLGW4sq5JaVa/87ikRUXxTs0DMCiGFMQ+wEC6fQvQGUW7iWNApb0UfjqB8qkH9cCK2VNU868Aaxp3zV1GgVgGddZtBtvyvfNvG5eFlh4AmCxoqW7WGywEBJ6yEMe0vrrb1j1zAJgTfveDANW8AiUB1YA88ujFCYBsMxRjJve13Ird2RgF5AtixZMSv1imndNntMAWN4leg4Q0IICvQrgNmoHRFcAFp6HyXkaAOsPR+3SbLnbR5qbvPwLzXF7X6UZZ0Y1KYA1TZ8W3KICWJ74BkxpCF0AWBHj+gJghV9Xk0KDg4NvTRJnoXkCWOELv7aHWfG2ZS4WCAmf5jpPACtWB5R8bc2KfTnATMOvNPM8A8v2EBMUygKrBQOmSSbrg1lpXgAW0I2lA8XJSh2A9h73uEerMM3K8+wA1jnNt1+wttnm1Ic23z/6Qc2m/zi1efI2z22u8qH3NQ/rfUjk78ft2Vz7SRdvvv/l54wZ7/kzVWlaACuFOrvAthZWL5S3ABQJd7VKqO0MOlC7jDfsvksAK2UM6jtY0LLQsorv3WT9YaJJuQtYnvRLXbsEsFLWMFnbdsd6J5YvJoysr7TVSc8z7BLAIk/PjnUN4IB1TtqHCaZtD/rtkK1jVmsnBVMrgBUJTnZdLgCL4sKKikLl3C9EsWF18/3vf7+53OUuN5BxChqACyARxcdknXLs3QSA9ZOznUa1+Q0NwDIGkgdLw2EgvPdUeP+crwsAy6IFgJ2VCCtFIDuQK0SpZsFoyxdQ23idZz0MwNI/ACkHWVMBVYAa5VlSyuoHlix62h5m/CMjwGgs+sOb66wA1jjlzBvAmvZdU/9+AAvI6Pllrm1Ron8Ou1wAlnalzepDtC/vNqtW44gxYRYAa5b3ZhSApW0a95zptsceexBxS5MAWKzLbNE1hg4j2ya978Cy0DTvmrTTAFjq432m85i3ALOAiRYlhlGXANYwOU8OYPWOZNjvOs32H79n89HTn99ss/Ew7hf7TwpgTdOnBbeoANZi2W9w/9IQNmQAS4fN1B8wkW1BszSEeQNYzJe99KyDTGR1fqyyZqV5AVgUZsqbbVYGEoPP+gBgWbV1QDELCgMRMMIWjnIbwLQynxeAdXjvXA/KEh6tRLGscSCpSWz/xHZS3mcHsCYtcb7xZwWwnGllBZsSqn33b9HU7vUnJlL9YePWrGsAa1jfYcJr4gsApWhZRWRVlm1d4/Ir3jwArGGyBmBT/EyIWVw5EFv/O81XarsEsJxj430zmaYglgCWQ1h9HKNUmqe1nKwA1iQt8//HnQeAxRoiQCpA23NnKQOIcsB6rKZY2wGGKTijyFYcfXcJLrCyMA7pF1hJOGB/3HPTNjQACzBk7AbsTUrTAlhlG3AwPQsv2xQHUZRqz3errbZqtzg6hB4NA7CcIWfbGPDbvM95nKU1y6ByjNssV2Kto/2Z2zg7axRNA2BNWs68AaxZ3jUAFsDFPAGRty3QtgQPo+UCsFjZOS9J26G7WBg2FgDs8DsLgDXLezMKwCIz234vdrGLNc5VDE0CYJG/vtOi7DAyB9Bv2kofmuZdk3YaAMu8mxyiS5pXsAzr3yYc3ly7BLDkN0jOkwNYTfOvX36z+dY/r9Jc9/IbyXYsmhTAmqZPC25RAayxHsnqjZSGsKECWEAgyo7zP5hyZ5I5yxOfN4CFNwMUCyyHg9o+YEI7K80LwLIagXKg6/oCYPXLU2dJzia3zs2YheYFYFkl/OlPf9puowp/ABQrhfm6ZPwnvVYA69wSYyFh0qiNW2UrtwlaoWUtEcubc6de2qdrAEuJg/oOyrbJPgWK1QLLMpa0VktHfRFtUA3mAWApZ5CsWbexYjBBpMhRFn0ZznblSS0luwKwKGX5qqhxpR/AGtT/VQusQS1pfn7zALC0z35ivQgoKEEooJZJO1BrFOmzHbxdLph4d21L1YaAHNoXheH2t799u2181ELWhgZgsYy1lb5/e+AomSdsWgDLAdMlWUxaCsDy7CwcmBPglYXJMABL3sZ3Sj/AgjUWJRuQpZ1oC/1k3LZ4WJK5wDwArEnLmTeANcu7BsDKF/0iOxa/pWVP/HNdTgDL83eeICssC8K20pvDzwpgzfLeLAVgsUr84Q9/2FhoDY0LYLEsMu9mMQlYHEYWg/Sb+rtQAKxJ37VJASyLEj5O4h3Nl7/19UAt9S7PSwtvrl0DWIPkPA2AVfI47v2kAJZ8J+3TgltUAGvcp7JK46UhbIgAFqsanSfQqivwSjOZF4Bl8mrvuxWMkP3wPonus8qjtg8k/qjrPAAs/Dr3wUpxzONt87G1TUdnkjALzXMLYT9f5G/CQLEftP++P/6o//MCsBzWaoAvQRPWIJT7WWVdAaz/PlHbTvQZlMeQFVDt+Y53vGO8Ggd4s2YaZTq+EHnITVcA1lJ9h8mNT9aX5zJR4myZKP2GsLnIu0sAa1xZO+uEJQoFEhDVf5DxIgaH/OkKwPLFupyDoSh9NIscq8fGGZYQ/Wdg2a6M/3w1agiL5/KuFljnEslYHvMAsCi7scCyqMR610HLLO5szzVuIEC3hSfgxijSnwBghm0/ZjkOuPWRG4cW26qoXuW5nmX+6xLAsr3NXJMiGfLOspr0NTHWSiHzA9Zn3mV90jBa6hB3Fg/iAHkmpWkBLJZNFFhEyWYNMg6AJb6xw9wOAD8KwBI35IgD8039N2chpf/MTuO2eZJ8EesUfdA8AKxJy5k3gDXLu2a+xHoyoJx5rMWclWKBBdCxVc4WQnK0oA3gmRXAmuW9WQrAMsY6UN77FRoXwBKfjqPvHLUYqw/Ub5JJqASw+I37rk0KYLG6Mge3qFaSOaCxf5ihwSgAy9ECtiGWi+bTyHklA1ilrMbp04JbVACrlNwGeJ+GsCECWAZ79fd54y4sr9J85gVg2ZKkE3RWVyaCJmcGVBYHZQcXXia5zgPAAhIaWEsyyQMAOROkPACzjDPu/TwBLIOQlc1Mrg0kLFSYbw9TEsble14AllUeqy8sQAKwGMwNkGkz4/LYH68CWP+ViHfNRCqHMvM1MfP+WAkN2YLnizvll4ISNu61KwBrqb6D9RWgJdsl8KetO+9j0m2EXQJYS8naFll9SQ7Pt72KAgzUn5S6ArCce0RhDwEZbDXVPlhXAJhNJh2Yz0KHIp9zQWwlmoQqgDWJtP5/3HkAWP1fIUxpLBpYBAAxN9lkk/YLYra8mnsMI+Mm8MY5QoCppYjFpHGKMtgPYCTtugSwWI0B+VkjhuYNYNlaDERaCggLP+V1WgCr/AqheZktn5RP/S+grtw23K9UU7h9LVgeth8P+gphyWP/PeD8iCOOaLdUl2HGbXlq88h5XCeddNICMMNqRL/UvwA6zRbCScuZN4Dly7rTvmsALM/LuIDMWy3oDAMkxVlOCyzled/N75z7yAILzQpgzfLeLAWsOPvP8+BCkwBYnoe0zgAbRrZUsmQsrbymfdcmAbD02SysjOn9lrDmA96v/q+dpg6jACz9ur7TYeehaeS8vgBYqaPrsD4tuEUFsEppbYD3aQizAljOGdDxIS8KpYf1gRWCmFJOK14rjA6d1ClZ2bRNZ5ozTsryKRmUBnupy/NpTBxmUTiVMS8AS95Mza3OUSyt2JOLTjbb88SZlihY8svqximnnNKe1WIVsUsatIVm2vznCWBpd9qyg9ttNbXNh4JZDr7T8j0vAAs/zhcwiHqO2gpQyySB3yxUAaz/Sk+fCSS0imfibwuhiYlzmnIeDesI4JVnoR+clroCsJQ/qu+wDcEEmIk9xYXirP175gFCx61DlwDWUrL2/lOKHe7q4wUUZdaHa8ZQ+vvr0xWA1Z9v/xZCK+faj8muMwzJGXhoe8qk72g/gEUxlV8/aUdpm/1ho/4bI22FpQiW4+SoNEuFsQBhnejdWLt27cDoxiLKLYCSvCwkkJV5She0nAAW60cWsMYS51YBshy4zApm2Fkuvk7Iaqv8OpxneL3rXW8RcF7KYrfddmufEauTQbQuASzWP5QwIE5o3gCWMVv/TG6xoknZS127ALDKMljiUTp/8IMfLHj3K9UCvG8AT+UDIsvnb5sNP2cUDeonWPyxENIPlmBUP4C1wMD/bpynhTeupFkBrDIv94PKmTeANe27ht9+AIvfUrTcAJYt9IBz+lasFWcFsGZ5b0YBK2eccUYLKFvA0bZCkwBYLJxsETSmDhrP8M7S2SJ//xc/LUib34RGvWuJMwmAZfGMHsaCqN+YwPZy80DPCojXT6MALIui+s7yK6XTyHklAljT9mnBLSqA1d+SNrD/aQizAliUZIN0P3lZZ7X8MCHvGsBSbxPzfmLCXXYU/eHj/J8ngAXlB+SZCJoAmtjrZAd15uPwWsZZLgCL6XrAzbL8ae7nCWBRPAy2lHlbmWyDdPjyoMnjpLzPE8AyiFM4gRJWDHfYYYdFE9pJeU38CmBFEk1rPeEdNABTKm0dsi0sZMWd0sZKa5Z3s0sAa6m+A4hiYkgRMsG0FWbSc6TUv0sAS3766mGy1gdS6Jwzoe8G2lJap6F5AVj4B3CWK/e2UQDELaSw0ABsZIv1JLz3A1i2qVm1LEl/ZQW4f1W4jDPsnhUIUJAiPetCVMoAXFEenAHFMmkQGde0I32wZ0zxYJ0C+OqClhPAYn1nOyDFJhbHwErnFQorwQZ1Ew9Y50yjciu4r22yJgJS9o9B+nznrNji7suXg2hDA7DIgEUSRZacS6U58qFQWpDSh3gPQ10DWJ4ZpdM8OTQIwHLkgvmcM9PMk0oAyzzEMx52rhZg+NGPfnQLkNqaGVoKwAIi482CS0ldA1iDypk3gKU+07xr0q0PABY++2lWAEt+0743w4AVBg4MA3zlmLV3SZMAWPowAJWzzbT1frIIZ/eB9z1W2eJM+q4l30kALEctWOSxQ2MQ2Qpu54bFiX7qCsAaJeeVCGBN26cFt6gAVn9L2sD+pyHMCmDNU2zzALDmye88Aax58r1cAFaXdZgngNUln/15zRPA6i+rq/8VwOpKkuPn0yWANX6ps8XsGsCajZvxU88LwBqfg8ljDgOwWM3m7DJgxzTgGG5WAoA1uVSWTtEVgMUCgpWHs3IofeUWYiAlEMJWXJZWr3/96xcYsyACpGBR7vwzgB3y7lB0WFTk4ydJBMBiRem52kIDEGAdCUR3tIB5ku1gAcmSLtd5AVjqYAsjcA3wRinpB75tLVP/WS2wHEcArEPeV6AqMBQBaJ0H1E/OwWLtxjLNggLrCFZKAB95UISdIVbSJABW2gDl3Nl7gNZ+sribg5WFmXdbIFCudsAaM1Yb2hFLDnUbBGBtttlmrXWeLyyyNAXyUk5tWQdeUO5DyiF3VivOwhxEgBrtZxYAa9pylgPAmvRds9CjnfnSt/caKIw8n2GHcEeu87TA0mbNB4CcgBpWnbG6Ur4FKO8gy03vgralrSB9ke3L5A2UCflqJPDE8+unSd8b/QtZWUAKuIRXc3R9mXPt9Lv9Ft2TAFh49H7Ymssay9ZJC1eAG1sHHTkAjAb0hqZ515J2HABLe7FA5f33rmURLYsM3k9Hvai7/kYf7dgDILN2Jr0xwhidcxJTvuv222/fPssYVkwr55UMYE3Sp5GJZ6qvrwAWaWzAlIZQAazuGkEFsLqT5VI5VQBrKQl1F14BrO5kOW5OFcAaV1Kzx1tNABbrnv7Dvx0y7kBxk2XKO8CDsm1Lt3sKvsk2i5UobQGwKA1Wjk3UKQfiskhFABTnSNpyTjlxVofzvQKaAdl8+txcgyUSpcD/WGDZbstKQl+ufAfesk6LBZYthM4+oUzaBpJ6AAQAE8ABSoOzYHKIOitl/4EpLEkodZ6vcxdZgHUFYAEayGYQsbyk1LAyA7JEoUncs88+u7WyAjZSRlmaUfiALGQdQCPxWQqZ6FPQPC8KqRX/yJVsBoEnST8vAOsud7nLwvlKKWvQ1VkuswBY2p4t/OQ0iMiLolhaXognvvZIoSdzIARLKLKk8A6yApwEwAL8lOftDOKNH6XVOZoso1mRaNch82+ACfIOADDFY6EZcrYfC3AgFcVdXQBYgA1KsG1T3qNY/A4qJ3n1XwEMD3jAAxZ5j2uBNUs5ywFgqdQk7xpZsCTqJ6AsgKj/vSzjzRPA0neyLAo5RkQ/Gdpxxx3bs87yX19gBwGaBsCa9L0BKOiLSgKkAWjxZlwZdHbspACW/Fk02jLNWlW53nvAGesn1syhQW1znHct6ccBsPTfFv9DgClHd3heyO6h0vraOGAM0w9ZuPC+L0WsoANgTSvnlQhgTdqnRU7BLSqAFYlsoNc0hApgddcAKoDVnSyXyqkCWEtJqLvwCmB1J8txc6oA1riSmj3eagKwrE7f9ra3bYVi+wRlNBNtW9aATyxZKEQOuqYo26bn/B3KjpVhW6oCYNkeS9E3YaQ0mUTbamoyTlFytg8FBUhiiwhrEMoEUIsC42xJgJoDpG1TRQGwbHmzNdAKPTDEYcmsmpDJPeWcIkSpB1alHqwPKPDOxHQcAHCKpYntu+qsTs7doSiwNGChoD6Uh64ArJbJGX+AVsA6QB5w8HKXu9ySOQINfRwACOLcI24pmheAtVS5w8IpyJQ9oFY+lCIupWacrxAOy3eYv/YO2AQiafNApGE0CYA1LI95+mvj6uK90168396DLmlcAGuWMpcLwAqP07xrSTvOdZ4A1jjlD4szDYCVvCZ5b5Jmkus0AJb8jQ3f+c532uMDjEcWOLr8GJcyxgGwxFsfaCUCWKXcJunTgltUAKuU4AZ4n4ZQAazuHn4FsLqT5VI5VQBrKQl1F14BrO5kOW5OFcAaV1Kzx1tNAFYpDZYdxnfAEgWLtZKtbZQa2y8ACbZ42arAqsnX01iUsEIIgOWjKUAxZDXZqrI00rK4shoeSyTgA4DF1iqWXCwakp/0rJJ8+ACAZfsSSyJndNkGYoXeqjkACg0CsFIPZ6pY6UYAHFY1LCTwZsseAM89yrlbtt+ZyE8CYFndt/rNsmXXXXdtZdZmup78OOeJoud5sJRzoPBSYAfrNdvXbG8siZLoC59dfMhkuQGssh5L3a90AGsp/rsIX40AVhdyGZXHagSwRtW3i7BpAawuyl4qjwpgLSWhc4ezPLPF3SJWSbZEmwc4k3dWCm5RAaxZJbmep09DqABWdw+yAljdyXKpnCqAtZSEuguvAFZ3shw3pwpgjSup2eOtJgDLVkGAFLLNjDVVgB8gVc7JYYUCMHKOESsp1klApYMOOqjdahgAC+AEvEC2KfkqEgsrq6a2NLGQAoYhlk6spnx1yvYqW97c+yIxImeAGACLdRYLEpZHzgYJ2Q4COBoFYNkKiU9k2yFgikWHD1g4g6UMZ2lmYj0pgGWrJKs0ZHX/Fa94xQK41nquBz+eV6zesOsZ959R1V+NCmC9ulW2TjvttEWi0R+zPNR2VztVAGvyJ1wBrMllVgGsyWU2TYqVboE1SZ2CW1QAaxKprcK4aQgVwOru4VYAqztZLpVTBbCWklB34RXA6k6W4+ZUAaxxJTV7vNUEYA06AysAFhBm3333bQXmC5oALNZYCFjDoqofwGKxxXILOfDZuVlWU217c9gv0Mu1JOdW3e1ud2vPKykBMFZZDrsFAjiI3FlELK4AA4hljq+nssgaBWCV9WAtxtILgGVrFeANiJWvFrK4sj1xUgCrrM+GdF8BrApgVQBr8je+AliTy6wCWJPLbJoUFcCaRmorN815epOjpU9PW7n8d8JZBbA6EeOiTCqAtUgcc/1TAay5indR5hXAWiSOZflTAaxlEXNbSAWwhgNYQKuXvvSlLdBl6943vvGN9vwsllb5PLrtfCyxWPwAoIBknO1YsfrytTpfX7Pdz4QaoATA4u98LF/xC4jmoUwDYG2xxRat1ZlDs22fYxlmy9u73/3uCmCN+TpVAKsCWCsJwGJpwYpzEnLOn35oOWlcAItFKOvVcYl1bD5QMW6aMt4sZ2CV+czjvgJY85DqufOsANa5ZbI++1QAq/f0KoDVfROuAFb3Mh2WYwWwhkmme/8KYHUv06VyrADWUhLqLnw1AVgOXQcmhVhf2dpHwSotl5aywMqXrWzzs4XOIcgso1hpfeADH2izZ2X1/ve/v7nSla7UHpgOyAJMOYyd0mnroU/Z267ocHhKpasvIeIHMOZ8LQd6U5pZYjkLy6HjLLwcFF8e4j7Ikqy0wHJuiTOwjA14JguHvQPIqgVWWsToawWwKoC1kgAsFqGHHXbY6EZbhHrvfZVxr732KnznfzsOgKX/1Cc6HH1c8pVSX1TVR05DFcCaRmr1EPdppFbPwJpGapOnqQBWT2YVwJq84SyVogJYS0mou/AKYHUny6VyqgDWUhLqPrwCWN3LdFiOqwHAslXuYx/72LmqyALJ1rw3velNzT3vec/2i34iOdzcwefPfe5z2zQsq173ute1B63e8Y53bF772te22/JYYNn2x3KKBdXee++9AJCxwhLPOUsspmw13L33WfEAaLb0SevLgr4UCDQDbjkQ/WY3u1lb7nve8572UPiNN964/VohPqRzlpd8PBvbDJVLkeuvB1BL+d6Xy1zmMi3w5WuFtkdSxAFwPjuPL2nHPcS9ZW4D/KkAVgWwVhKAtb68guMAWOuiLhXAmk7q9RD3yeVWAazJZTZNigpg9aRWAaxpms7oNBXAGi2fLkMrgNWlNEfnVQGs0fKZR2gFsOYh1cF5rgYAa3DNNixfX9u7+c1v3h5M/973vrf9eqCv79lOCNR64AMfWAGsJZpEBbAqgFUBrCVekgHBFcAaIJQlvOoWwiUE1FFw3ULYkSBXSDYVwOo9iApgdd8aK4DVvUyH5VgBrGGS6d6/Aljdy3SpHCuAtZSEuguvAFZ3slzXOfl6oHfn7LPPblmxDfGRj3xkow9zzwJrl112aS201jWvK7F87wKLvSOPPHIRe9e//vVbCzkWfbOS/FnGffGLX2y23nrrhezOPPPMZsstt2zPWbvkJS+54L+cN85ts0XWWUUlaVOnnnpqc9RRR5Xeq/LeM2GhCZQJ/exnP2u3Cfti6Oabbx7vqa8+uuBDDiyEnPMUOvTQQ9utzp/85CfjtV5cgePO8fOV1ZJsm37BC17Qbr0u/ZfrnnxZsJI3q6LQscce2z7ffEAj/st5BWDZdt7/rG1fd47h05/+9OVkZ1FZ+jsfAmEtHIrOzBKYte/6QgAs7VL/WtIjHvGIxhlzvircBfmy8P7779/sueeei7K7xCUu0R4XsMMOOyzyn+aPZ8ASvH6FcBrpraI0eRnrVwi7e6gVwOpOlkvlVAGspSTUXXgFsLqT5bg5VQBrXEnNHq8CWLPLcCXl4Myvk08+uT03ZquttmqueMUrLrD32c9+trXSWvCoN+eSwD777NN+bbIMuP3tb99aspV+s95TninXIVtal/vw7ZRdXu90pzs1xx9/fOnVULZZp20o5IMKpcLpnXIeU9f097//vbngBS+4kC1l+z73uc/C//Xp5tnPfnbz1Kc+dRHLDpT/9re/vchvXfxx9uAVrnCFhaIBR9tss83C/3V146uxRx999KLibfdmMbuuSR+gLwj9/ve/b4Ax6yM5e80XgUsCEGqzXZIvDO+8886LsnQG5qQfYliUwYA/+iMfadkQqVpg9Z56AKzttttuxTYEZ1sY3Jxn8cc//rHZdNNNG5/ovuxlL7si2y1k3kGNv/3tbxf423777ZtTTjmlud3tbrfgt9JujjnmmKb8XDp+oekOxF2pdMIJJ7Rfwfrwhz+8wKIVvS9/+cvtyt6C5wq7IWvt2ioCckCpFYuVLGs8m7xblV0NtN9++zUsNVa6zJ0fFIuHKHfOGVoJSt6gdsCiwheWzjrrrIVg1i/auAO/Vypp3zlYHI+f+MQn2j5kJbcP511tu+22Cweqr1TZrkS+tM9zzjlnJbK2InhiYdN/aLTD+M1tuiJWN4OUQf3cJF9p64qfMh/960YbbVR6te3Fqv+G8AFzZ88NsjAxr41l4yLhTPmHAuqjDSWR789//vP1Ts6sO1kV9pOPX9Bd1iUNe9dWQj/oS7QlgElO3n/9wLqkYe/ASuifppELi1YfNSnJxwR8MKWrPs0HFAbp5l2/A5tsskmLBZR12ZDuK4DVe9pexChHK/nhWz095JBD2oGzNOdcqTyb/FA8Q8961rMallkrnRzm6+wDZMXIl1xWOvm88AEHHLDApnsg4kon5rxZef7IRz7SsIJc6USZtzK2GugNb3hD+/W0lV4XlhAsH5BJwAMe8ICVznI7gXGwd8j9cccdl78r9upreA4aR1//+tfPtZK+Ehl3aGr/iv9K5LPyVCVQJVAlUCVQJVAlUCVQJTCbBCqANZv8auoqgSqBKoEqgSqBKoEqgSqBKoEqgSqBKoEqgSqBKoEqgTlLoAJYcxZwzb5KoEqgSqBKoEqgSqBKoEqgSqBKoEqgSqBKoEqgSqBKYDYJVABrNvnV1FUCVQJVAlUCVQJVAlUCVQJVAlUCVQJVAlUCVQJVAlUCc5ZABbDmLOCafZVAlUCVQJVAlUCVQJVAlUCVQJVAlUCVQJVAlUCVQJXAbBKoANZs8qupqwSqBKoEqgSqBKoEqgSqBKoEqgSqBKoEqgSqBKoEqgTmLIEKYM1ZwDX7KoEqgSqBKoEqgSqBKoEqgSqBKoEqgSqBKoEqgSqBKoHZJFABrNnkV1NXCVQJVAlUCVQJVAlUCVQJVAlUCVQJVAlUCVQJVAlUCcxZAhXAmrOAa/ZVAlUCVQJVAlUCVQJVAlUCVQJVAlUCVQJVAlUCVQJVArNJoAJYs8mvpq4SqBKoEqgSqBKoEqgSqBKoEqgSqBKoEqgSqBKoEqgSmLMEKoD1PwF/5CMfaX7yk5/MWdyzZX+e85yn2WmnnZqLX/zibUZf+MIXmi996UuzZboMqbfddtvmqle9alvSmWee2ZxwwgnLUOpsRVzpSldqbn/727eZnHPOOc3b3/725h//+Mdsmc459UUucpFml112abQT9IEPfKD55S9/OedSZ8v+vOc9b8vzhS984Tajz3zmM803v/nN2TJdhtQ3v/nNm+tc5zrLUNL8iyDzf/3rX/MvaIYSLnaxizU3uMENFnL48Y9/3OhLVjpd73rXW+iv//a3vzWnn376Sme55RffoW9/+9srvh/Bq/ahnVSqEqgSqBKoEqgSqBKoEqgSWL0SqABW79kCJjbaaKNmt912a/7zn/80//73vxc9cX4cAg4EIPCfP+UPyIHOd77zNRe4wAXa+8STn3j+n//852/jtBF6P8m7vArzX7qkke7oo49unvzkJzdPetKT2uRr1qxptthii+bKV77yAl/iAwVcyzzllfwkThzXkqTj1Ilc/vnPf7ZxxVO3OGnEQ8mbDCIHMuAox9e97nWb9773vW3cBzzgAc2JJ57Y3PKWt1xIH15FUM/ISL7qIM/IWJh8peEvvCR+0iHx8Ot/4kqnLuE5ccUXJr5wgJU07o877rhmxx13bHbdddeF8krZRjapRxkm34TzVw+ujKNM9QoJC5/SouTtXnj49F8d+L31rW9tFeSb3OQmrcJ52ctetrnf/e7Xli+9eJ6n8qWPfMKLcHXmxEfKzzMRL+FJ4xpKPcIzf+Hy5eSZfJNOm375y1/e7Lnnnm02F7rQhZrb3OY2zaUudamFsuQXXpWPfySvlJX8XEsnXvgXP/H4I/9T7/x3jXzDLz8k/te//vUG4KZtr+/0vve9r7nHPe7RXOta12r7QP0gmUYmed76gj/96U+tE0amZHTRi160dRtvvPGi59Evt1JOeQauuS/DB90Dfr7//e83W265ZRt8xSteseVhs802a/OQDx6BRKUTWZ3wp215btpSCJ9x4afk6e9//3v7zpx99tnNX/7yl+avf/1rW2/1l9+mm27aurRD+SYfiwv6jDe+8Y1tcQcffHDztKc9rbnpTW+a4tvroPLJnZyV+Yc//KH54x//uNCOlWsRg5NWPK4k/qHUB49cGfbnP/+54dSP/PKcLeZc/vKXb/+THzkDyDn/yZAM5J3ycy//sqzIJnXCV3iIrFz5la6f/8Ttj+P/5z//+WaPPfZoXvWqVyVZvVYJVAlUCVQJVAlUCVQJVAmsQglUAKv3UCkpFLHf/va3iwAGE2Nkgm7ybQJNaeOQ/8JM/jn/KUgm+VEU5AE0kJ4f5YMCEEoemdyX/wM0yFM6yg8+n/KUp7TJAUOvfOUrm2tf+9rtxD9KQ5TLKBbyDnCBH/HUQTyKiDKRa9JSnChNlJsoK/i+4AUv2PKfsqRL3uTIITLYZJNNGgrye97zntbxB2BtvfXWrSUZHuSDp9RbXaVTpvpz8iRf1yhR0kbhkm+eVXiQr7jywx9/cpCOcy+9sBD/1JHCJozfBz/4weZlL3tZ87a3va3lM7zKg4tMyC5+kb1rwqWjAJOteonLL8o1npNOuZF76icuh+TJpX3Jb+3atc2rX/3q5mY3u1lz1llnNde//vUb1hPy4sQBQihfeyJn9U2Z5BH5pZ2oExly+BUuXsl/y1DvJ/XAV0i8yDl8CEuZ+++/f3OLW9yieeQjH9kmoTQDDIFvKYscwkPeNenxxqHIBo/C8hzUQztQ38hX3LQX8TxnPCadsLQD93HCpT355JObl7zkJc0nPvGJtuz1+eeoo45qAcTHPvaxLRAODPcctVOy1gdoMwANINJpp53WAkTaDgCFJZrnd5WrXKVtr56950xmriXlGUXOeVb+hzyjkqRBrDjf//73t32d/1e72tWaww8/vFmzZk3bFrUzbR7I9b3vfa+9uscHa0r1uuY1r9mm17bCi/YTntMWUqY8f/aznzU///nPmzPOOKP5yle+0oKXQCt1v8Y1rtHyhTftRVkobe8d73hHc9JJJzVHHnlk66//1qYf9ahHLcSNnMgqchGH3DllfvrTn27lfslLXrIFdtXjtre9bbPddtu17d+zkgbhnQzj5Bn5qic+1Vl54n75y19u3Xe+8522nup6yimnNN/4xjfaZwoM9P7c+973bhciWB2SJ4D50pe+9EJd8w65KlsbyjuU/iDAonLVmxOfnPnhSdr0e+4jy8jGVbx+d8QRR7TtM2BhK4z6UyVQJVAlUCVQJVAlUCVQJbDqJFABrN4jNfkHDP3mN79ZpJhHIYkSUCoHCdMiKHom58KjxEe5NgmXv4k6yuTcvfhcSZnYm7ib2EcZkO8gAOuwww5rlbLkJb00rvjmn8m/PBOeOK6lkhClA78UI/XqVxaiaCSP1EUaTnlRliidxxxzzCIA60Y3ulFzz3ves+VTHig8Rn7kpP54C7Ai72EAVngQl5NvCWAFoIjyprzwKy25qBe+OQqqcH4ALFZClP08L+nj5IlfcePnGtkn3H/y1F4ic36RFR6SpnxO+Oun8Jnnp7y1QwAsaeWnPgGAImf5lOH4IyvxObxrExze8K2sXFNPeZCBeNKIy3mGyhWffLjkI4xF4TbbbLMIwPrQhz7UbL755gvPX74AKDxrk5z8+CsrJF/8hD9xkLT4QuE78i15SfrUW/6Rg7TCudUGYL30pS9tHv3oRy8AWN6bvBu///3vm9/97neNLXuf+9znWpAAAEqe4t361rduHUCJn2eEPIPQIBl6DpGnqzgo/UHSCEPaCDAcWI+Ux+Jwzf8ALPkBX7773e+2DnjFoQBYrMwAMNqW+Fzezby72mTKFv7Tn/60dQCeAFjAG2ASHliSAvG0MXngP/UCYLE2HQVgiZ/3gsyUT74AQ8522q9+9avtVT04ANYNb3jD1mmjnpV0KVeepUt98l5I4zl593/4wx+2TlnAOu7Nb35zuzUdKKk/AB4Dy1i9XeEKV2gud7nLNZe5zGVap58E6Kk/eUV+5BrZKg8/wrjEc8UTh8fIIVd+iZt46hg5p47ikbEt9RXAapt8/akSqBKoEqgSqBKoEqgSWLUSqABW79EGwPrVr37VTphNlqM4efJRDFxNllE5eTbJl4d0lDguAINJvHAuE3VpyzyTl6v4ribunPKS3yAA601velOrlEUxCN/KCqU+ZfnyDQ8BfYRTRCgswgI8pM5JI154xm8UjlLZEFccAJazmFhhIRZYN77xjZt73dIK82kAAEAASURBVOteC3nwx7/yIj95RgZR0PwfBGCVdRZXfaQPgJW88Y1frqyf8vErTZ4bGciLXwCsd77znaK2JL38XMWJi1+uwslBuHu8aSupGz8KXoAk/5O2LMu9MHxy4TP5Cl87BMBSljzJIc86ZconvAvXTsVJOcIiM/VAwsJjeU1cV/6csuXrPuVEDvy1aSBIaYGlvdgam/riNe8A8IqCL1/+eMMPKmWXcvlLK67wtCW8pA2X6VJmeC3zlhdabQAWa7J99tmnBbAAJM4RihyA+vrFH/3oR+02LVu1WAaRHZmyBNLugEMBRT1rcvYMyK9sN/+V4P8HuJSD8izET5rIXrg+AxBeAli2+W7Z21KoHSkL+MJSiisBLMALC6ytttqq7Su1LWk4z1kbCo94Vy5/94A74A5LRkDS1772tQXwBsATIEm/6V1Ke5QHAMt5f8MArNRTGuWlzQINWUDZqsqaDMikbvhXfwDWmh5wF6u3yBC/eW6RZ/oJMsy7w8+Cjf7Rs7RF0XMOWOedZG1XAljOxNIugFWsU8mQI38OKKjs8KI8lHdU/dQX6f8A6a78uDwHV7zzk1dkkrpJn/Bc+bGOZU1WASzSqFQlUCVQJVAlUCVQJVAlsHolUAGs3rM1kTahd+C1CbPJcjlh9vgzOY+/iXYm59JT+oVFWY7iIF4ALHmXlDzLybs8/Y9SJj4FhzvggANaBaLcQgjAotgkPh5QFIkoAuHbfxN/FL8SVKGIUUQTR3wUXqP4RXko5ZA4pQyBEbaEDQKwpE05FF5O/clOWPJRJl65bCWTjtw5FD7loT7Si1taBuAvyqL7yCzp5alsPPQDWK94xSuad7/73QtyDT/yUXacvPiVFFnxU6eUGyUfT8pMHcTLs5FX7vknjvipC3/ESuI1r3nNoi2ELEfII88tMiUfLmW7KkdbxVfKCe+uie+aOkYOrtIIc/U/ZSVO+JUWTxxl2ZlXJYAFMKQcJz/p0iZigSXPyOC/tV8MiqR8ZYmHL37qRhbhRb1C4qZeqXcZlntnX62mLYTqsu+++7bWPcAeQAXZk8Gvf/3rtl8Eonzxi19srVwALIgMs5UtAJa+I3L2/JOPKxeKnPNfWXH8+uXParMfwAIQAU+UwwF5AE2DACz1suUaEKNtaQdp5+qhPIQv92kvgDsglnxZYAGwWCDJA8DDoku++ov0+akHwHsQgMXaDUU2aZ/eB+8fwDCyBp4BlwBNAcuufvWrtyCarZDSRrbkziVfdciCAD95cNIY77iMXfx/8YtftNswH/7wh7fnu5UAlnP1Ui/bR20f5Nb8D0gjkwCYkaU6Kp8/2YRPclfXyD/++OVCnoX6eF/dc6lbeElaIKEzxyqAFenVa5VAlcAoCQDRv/Wtb7WLBRbFLA7oz1nXVppMAvpo44b5Astkc4pxyDiw8847t1HNX/fbb78lkxlXWV+j173ude1xE0lkPHMOojmacdNYhZd8RCrx5nVlBf6IRzyiHaucP3vf+953pqLI1W4VNK58hhXIsjp6WL/chqUZ5u/oGh8+M66//vWvb3esDItb/asE5iWBCmD1JKvTM5k3gY8y5GrC7BryX4fCUXqAIybo8RPOn4LgGsUoSoK8TLhD4iPxTNyTxn2ZZybrBx54YDu4lgDWa1/72nbgNdFPfpnUl+UkPGGu4nNR5vAXHlIH18QTnrjy5o83acRL3fjjX1xgxIc//OGFjpMFVrYQpt7yEjdylZd8w7Nycx8lSRpyNQkJD8pPufzyfKTljy9lCguP8g7xVzanPeDJs1CHQw45pK1D+AhPucZfHpGxe+n9j78rirKqDpF52oBr8nONC5+uKaO83uEOdzgXgGVLVQmghpfkhR+DkDqTSRTLlOEaXhLPNeHhjRxKXvjzkyeHUr+Uoyxt+Va3utUiAOv4449vAQK8cWkn7j1v9ZE/PoTJL3woJ2W6hidp8aMduEqnzngq08gn6dqA/+WXe1dnBDkTbbWcgZUthNkipu0jsjMhjQUWgACwAsAiI7IDYHGsgvSFnokwMibLtLc8hzbj3o84JXk+icvf/5IAKP1bCE1kAVjKUR4Ai0ICtGWB9YMf/KAtJ/VyJpwv1QGftD0OqUfJn7I5+QLugFglgJX8ADyAOw6AlfpLK0/8ndR3BpYyTdJTf3G1Q+3ReYOAJJNg2zU5stfe1c/h7xwFwdY9ruQdv5E5f87z4NRP3s4z449fLu8DYNhWUedAOnielWEALJZad73rXdt3Tzx56Vs5IBaLrGwpBKqRQ56ltsRqS79dknAUObgO8uOv7iFxUrc8J/+dgcU6sAJYkVS9VglUCQySAIvTxz3ucY3FX/1lP9kWrh/Rr1caTwLPfvazm6c//elt5I997GPN7W53u7ESms8Zh9ADH/jAdvv6UgkdO/G85z2vjWacNwcIea794Jn5mme6HGSRK19LPrCnrz3jGc+YqVj6QcbOceUzrMAnPvGJzQte8II2uF9uw9IM8zcfcpaxucnuu+/evkvD4lb/KoF5SaACWD3J6iRMtB0CbLLMZWLvikycDXYUEPEpBdB9k3vxMxBmcu1qgi1dQJ8oF22GvZ9M2ikvpZO2TJNJ/rOe9axWWSgBLEh4OdBmgq9s5H+UgJTPjwuV9U1ZlBAKis6Tn7RkkfrHTx7hPXXmh39yAv589KMfXQRgsSTYaaedFhS3xJd/8sK/MlJO7sk9PBn8OOXi11UeypaeHxfe5SF/YfFT9xCZpPxLXOISbT7yDIDlS4p51qXM8qz4RQbJh3IqX2Vy+OeH73z9S1zpXPErTuqNT/lyoTLMvXyVsf322zcAzRzibiC1BSlbh+SlDOW751BZprqkzQuTv/+ceGTvmjoJ7+dPWPgW7j8XmfBLO/JFzf4zsACeLDrIJPKUHmlTnDwiy5Sf+pRlSuc/Ek89XKXl5B8Kz8mHv/ukTzyre85EWy0AFjDOIe4O0Of0ayEAFgfEsUULiBUAS7tbu3Zt6xxonuchbeSWdp82kHz7ZZpw8VGed+Jr0/0A1rve9a528iov5dkCB8DigFcBsJzbxHkf9D0ArLId5f0peeCnneSMKHnGAmvNmjUNB+ABJnHGgbxHabf400bKLYTaXwAsPCsncgMeRdaf/exnGw7oJD95m4RzyguAFN7JSX6ceuRd865zKF+RlEZ+HNlx3kdWCPqku9zlLs2nPvWpBQBLe/CVUGAaK2X9iXKk0x9wORMMb8ZSZeA7ABf5JA1+pCn7IbLOc0w8/1Gu6pV81S9ydv+Wt7ylPei+AlityOpPlUCVwAAJWIABxhsrQvpB/RFgK+S/D+Ls3lPOZyXl6ddZrGRxaNY8J03vKA/6A6ugcaycJsnfVneL0sYQ44RdAOPSNACWnRB2diBzFws5yBhicckCkPGZJZZxiWUdq/J5yqBloPfTNYBlLHzYwx7W1m1tb641S3ucFsAa1n5f+MIXNk94whPaqju3docddogY6rVKYFkkUAGsnpgpMwYWg5rJcjmR1oFk0swf4qzTpXSY2Fs9EEfn6VoqXrlPuCcqL/6ZlPMzEU8ZuQ9oIG3iWuWw0l0CWLa2sX6QJyefTO7lnbLkJ6/4lfH5h0f14KJkGNzjF178x1P4Sp5RKPw3mHFLAVjSoJQR/l1RyknZUfb4e26ehzz4q3fkJr068BNXehQZpbzUJWGpAzkDc/xXBwOlM3dQ8mr/9H5SJn/xyzr4X8o+/ItLPsLwhMRNOL6EuYrLyZfLMxWG8ryZGJdbCCnsZ555ZquYUk7lIX/PNHmTjfQcSlml3BNX2qRP+4ls8ZJ6uMon/MXf8+CkSfswqFLKyy2EtpwCGVIvdZYGSee5IHnhRzl4VGZImaWsUi9XeYWX5B1+5ZU48kq57uXJrTYAiwXWYx7zmHbyZwIYUJ4sWOXkEHeHZLMKAoR4NtpReYi7Z0GuZBS5lc/BfaiUcfyEl3HiLy9Wescee2w7GeUPKPE+ApGQOP0AllVG/sArwJwVQxNt4OggAMv7x4UHbSpbCAFYADznYK3pTY6dqWVbgskxB1BS/7xH8gBgndRngUWmZO3KiUdm0lGggIMWUliRcd5bbVScnOGlPhQsTvrwS6bI/7IuZMCps/dHmGfH5Tmoa4B4zxTwFgssY6OFEmAaHgOElVdl4kv7IYe8jwFF9af5eqNyIyt84SF8+J86pF7+pw5lOLlwZNdvgaUftIUE4Z91quc0D9JfsT7Ql/laY6UqgSqBlScBfYwPbhjDkEUR/YRt5foQixUH9qxmDu993RYZB/X7+rVpyXZ2iztIv85CdV3Q/e9///acQNvbAHNdkj4PqEReZOgjJ+PSNADWsLwtrlmgQs70tGuipHnKIOV0DWAl3y6u0wBYo9qvMd5xBmf2dAxyNz+sVCWwnBKoAFZP2gGwKCsmxMjkOZNmg5sJN7L6zPGLBZYXOQpJrknrmom4K+VBGZmIG1T9Fxbnv3zKib2yDz744HYALAEswAoAK3nIPwqRNPKUT3jkh8KL+Ag/4lFiKDmps6u0XNIoCyXv8Cqv5BeAYhiAZV+3vBM/eci7zCdyxJv71M29Mjw78eMf+YfX5C9+SFjiuaYM/srnKF4lgPXiF7+4NZMVJ3mHf3mQj3z4pQ7iISAbpw7aEYevlMVfHuKnHnkOyVfe0sif8186eUjDUTytOpUWWNo0JZiThtJLgZSvMpJH6oVf9/zDV2SVclwTP3yIg5f4J738QtKpuzSpn0H1Fre4xSIAy0oZkCF1lWfKwTfHL/mFP2WKhyLbpBVHmP8oebtPPUuZ8A9JEyff1Qhg5SuEa3rgDFA+7y/AAnABHGIRdNppp7VtCWCj//PsAJDAjjyPyLiUWfwi07SPPK/4l9eEuW677bbtCmpACAAWy6Yte9sHkne2EFI6gFcBsAKimGQ5DH4YgKVtqgPCHxk4g4oLgGWCCrxy2L3Jm22JnHdKm9I+0g6d0XVSH4AlzDYH7V97UzfpvNusnziAIUsnW9r1b0h4ACIKgvK41F0ceUXm6V+UoR7af0gdpVXf8jkkLYXO2V0BsKxef/KTn2z7MPzgD29WusmYlSfgzVZCDhkj9Xny4DwnbYvTdvCARzxHXtL5zz/8h6e84+oTnsUnb3H7z8AyJgIAWYDhTTp8sNQChi5FrP0AYA95yEOWitqWvdtuu7Ug3957771k/BqhSqBKYPkl4Kwe1izIuKVPS39fcmOBwbwa2U7tAxHozJ6iHiutbBNrA3o/xkdWVsg5Wvokix3GgOc85zmt/8c//vEW3AHk6weROPozC3ZAfla4tm+brynD7oqyj9en2r6FfDijBMT0kc5oRMYI44X5n/7a4qa8gU1PfepT2ziANX0xsjjji7fGH9vU++vXRhrwI40zINXBuPaiF71oUSzyOvXUU9vt/cZu428p80EAlv7asxFm0UlfXpL6qBeSpzGAFRgHpEKszHbvWc+ZyxjrxpGBdMblfEDFXJkcjBvlMxAPeUbkZpzBo8UxzyayO3DMLYRpA+YpxitzDdse73znO7dtwpwD2RVi3lGSuRketE2ytciFpDGWyk++qB/A0gaVDXiSL3AXCImkHaf9AkP32muvNk21wmrFUH+WUQIVwOoJOwCWLSeZOOsUkRfZRD/Kgk5LJ0/piAVWJtc6vzjp4so8cy+snIj7j3SUUYL8Tx78hwFYBjlpxJG/AQJ/iJ9yojC1nv/zj+IkTsoJ//yEy5cfJcg9OUQW/kuXNP4rH0UBHgRg6WgBWJGF+GSIz+SRfIRFTsoqeaaUKDtpXBNXOv/Vg0O5uk95rqk7/6RhSSBvfKgDc1kTIOEcPqLwyiOKVfhLPvLWZih04pCddAbHpFeOMHGVx/HTLl3xnbpLw/kfeSVPk7JDDz30XABWQFdpTFiULV+urL9yUr68hXG5VzeunICED3GkTb3955A4nHR4R8pWZybIBs7SAoulTSywlJf0yRNPypEfxz98uhc/9VCnhCs3/MnXvbj4iMOX+Gkrrknjyq02AAs4a8WSRZHJmkmMtseZILG0MUFXbxMrE0t9n4m4Z6fdASjyfEvZlfIjf0TmZJxn5T8SN/f+u49zzhZgswSwWN0oVzoOoGLyVwJYygBYmcSZYOp73Kd+KddzzbvFT3sSR705E1MrvCaG0nMUAGdzcdJqc/jVlqQfdAYWfgJgaWvip62SKwXF+6rPIHd5hUfbITiyJ2ttuF9m/qtL3kV1kCd+xOfynFz5cyjpjCclgOU5A6nwjigDZJLD7ckboKXd4E09gD8UkTW9STJHVoA+4Jh4ef/kRwYh9/jgUhdhysYneeSef2Q3DMASXxtmqXxgT6Hw/GOBIf0wojhRKG37WYqUXQGspaRUw6sE1q0E7nSnOy28z95rVpmDCBBlXDHP10fqz/QzDht3CLZ+KX1h0lsA0scg45A+px94Sdy73/3u7QdJLLgYR5CP2ejv5VH2h7e//e1bgFxfhABU+lB00EEHtR92av/0fvTLxgeUrXy2DGbnQBtQ/NhOqZ8zF3c8Rkl4t2Bl8WIU4UG/ipy3Wh6Wbt7s3CbAWQig9PznP7+db/AjW35o9x7gRB7Pfe5zF8kXoFiea2UBXxykTOmN8YMoZ0YuJQNpgWYWLIx1Je24446thW9kK8wWRnUj85CtjI6WeNCDHtR6kctSZ2AZR2Php0627gOCkEUUbdZ8HRljzHlCDrI3b9ZOQ9qt9JknaZcBY0sAi4U1sM/iXMg4rUzjdEC5hJXXtF9+5hbAUnOWtLkybr2vEpinBCqA1ZOuSb5tBswlM7HOIGWgMogFtNFZZGCTxmTcxFo8k2XADcUkk+8oEuWk3APNJFxaA1YGxKRzldYVudpCaIW7tMDKIe7y4JJe2lB4S1nJLzz5L045cCYtvyh74gNAuChCwtWXE65cfiWA1X+IO6U3Wy3wW/KXPPr5F4fzLPKMwmPCXJXNocgu9XQNiZP4/Mo00lndUid8GIhtszJ4JE9XYVzq6vnjjV/KFC+KqTIMRlzqkfTKEp4805Zc5cHJO0p22hx/efF3llS/BRZQ1iDDIWVry9LLOy7PT14c2aSMNmHvJ8/cVThyjRzxLkzdk9Y190mPZ+Xy33///c8FYJE3ACv1Jhcu5UROyS88pCxXvKiHPIRHjvyTb/iPDHKVf57foCsgx6RgtZyB5WBPkw8gA2fSqj1wVlABEcAK4JXVYZMVfZ8JW85lMnHVBrWtPC9XsiZD11DCPRfk/yBKPGH/93//d64thKxpTNhSBsUB0MSZhAZ0CYCVLYQmyXln0xbwiH9tRrnakH5PnrZ+AGkAWBxlQj9sks+ax3snLZIusrOF8NOf/nSrgAijpGhjJuSu4qK88/4nvT6D8x+P4gCHODIuKXKMHNRFfFe8qKs6eV/4u8bhQ5yU7cqC86STTmrBTP0GAMvYSDbqCVxzHhbQirIHrKKwSYsXYbaSmBxbNdZOPCf9PqcO4SV8qk/S5z2Ulzr1U9pTWRd98+mnn75wiLtnYxIuL/HUQ5tVB+1Xm3buG4tC47nx6PGPf3zLF4VFXt4D+TzqUY9qlQfWZp6dw+L53+c+92m/vBUAiwJi1dozZw0rv2xp6a9D/V8lUCWwvBKwOGM+ZM5eKv2DuNAH2BqMAsxMAmAZO+52t7u1FqopC6ig/7EYY/4A2Ml2O/0kMEScNT0gQf8Ti661a9c2J554YsvLpADWgT0Q5aijjmrHRBkAYQKYWGDRTwNJECDL2OgcQX08Kybz3lFkXAa66N/1jyFjijm0OloM1r/qa80f9P/GU2WVAFZkYGzQ78sjpP7kgMpD3D0bVkbCyCuADD/jfiyoRslAX87qSlzjBfKM8lVj/43z+nUE2LNoZ0zFpzmQOpkf5VmLR/ZLAVjGyoCT5l7GLPU39rDe84XuQQCWg/JLABZQpy3hQXwW3MgZswH7SgDLszGvoct5BiGW7sZ+7WKp9ps0AYaTNv71WiUwbwlUAKsn4QBYzGEzsdY56cxMqjNx11npoDgTeRNiHZeJNicuZUHHa9KcdCbcmXTLN3knf+k4+cdJy2WCz/+Zz3xm21mXAJZPozIbTV7yRuKHwpsyEp444oV/11KJkycXZQovBn+OEhVFSn251FMZ5ECuVir6ASyDgcm/8kpZKEseqXP4Fwfv4kcunlNcynJNvVxTV3lK5xpSb+GlnBLmagDMcwSoWBmjkEoTvhOffChIiY//1MEVX5yyDBjkF1nJI/zLO+2PLOSnLOlShzwf4WSCpFE/k4kSwLKSQon3HFJ+npt8OWXgXR3wKtwAKCztRdnCUo77hCWf8I4/8YVz8ufwm7oJTzpKHqW2tMDKVwgTp1/m5FHyk3gpT1nCS174SYeH8CffyBGP4ZlMk7+r+KVbbQCWCc6DH/zghTOWAA6RBUXfJPTMnom6yafJKgAAqGHCCbzxPttOR97aj+eR9JEb2YfIPY6feyTOoHjClNN/Bpa+z8Q5ZQCbTAA5E1sOLwGwTFABCibOaZcpUx741z7SLrw3QBqTQaAYU3ur1gFlTHxNdLfrbc+QTlnak3Sc1XptBcCBAFjeQ4CIMsRXvjZWtjNxxeMQ3oSTbdq0ctQh+SReZJH88hzEy/uXd0BceSgHv/oBzhekrEZT+Pz3rNXfWKfvUnaATfmqg3y0FUoYJdF2DmkiX0rT2p6SYZIrP/zhQ7+lTijPJONN6p+6SZP+P+lyPfzww9vJew5x92xKAMvEXjvNWR1W2n2FDIiFrPA7x0p/5Kq/t1WU4mUrh7QUDAqSlXftgKOUAfesjrMEsKXH2EEBrRP6VrT1p0pgnUtAX2Lupc81X9Y/jSLbonJWFCDLB3ImAbAABAgIxCoH9Z+BZRzVn4YAM9luCNgwnwP0IOCJPmhSAEta/bIxC/WfgaV/c36VMTHgD2BLuRalsiWvTTzgh0yNEbv3rKf0pyHytbUQHXbYYe3WTWOG+pGNPlV/qq+PBZa4vlLuXDLWaAAXYzwqrbD6AaxYfelzLb4gi3IWR0OjZCCOA8jNO1Gs84xtLNPNqRE95o53vGML+MUy17gTiyvzDc/MPAQdOAaAZeHHeBgiF9ZidEtkXB4EYFkgMR9Dxqp99923vTf24iHPEoCGD1QCWOZ4rK0AZOpN7jkz0nOK5d2o9ttm2vvxTG1LNfZp45WqBJZLAhXA6klaJ6HDCPptoqzzMuiZVGfSbDKe7WD8MqH3sMQ3OGYSXk62o1QkTpQKV2k49yHxTe5N7OUTJcBXREyOSwCLFUIALIqFMpA0oeSvjIQnjnjhQViUJPfy4wxQBhp86UwNWqVMEk84fhE/sgBgMWmlzCEdpU4TgJX6u4rrmjxcQ3gRxpFLqfiQUZQvVyStNKlX4rvyR5Fp5JRrwq1U4Ul9AFgmIQAseYqTePKKApj40pT14C+OMsiPK8tLuLxSv/CunDI/cvc/bVO8lMXcvDzEHYAFlPUsyE6ZeW7Kkrcwz9ZkSr4BsIQlTXhSDoeEhcfIxLNImxXO4TNOPqmL/DmDqtWsEsAyYTTJSf7ihdSBS53lh8KvsrQDZeFFPHyop3v+rvIOj8K4lCc/ckpc8VOuK1BiNX2F0Cep99hjj3b11wqwyW6eqUkNAAeA5SwLQIC2ou8zyfEum0wBsMiL3PJs5UF2kR+5ooTnueYaGYvjPvH8t8ppwhXTeGdglRZY4gObgAlx+nPPGHjC2XoBxAJoed7CUiYe88yVK0w7kqdJmbwAFiyw1Nt4YQIOvAL4aIfSyDdt0LYMq7WDAKy0NeWTm/R5N/iFv8hCWPhLuDjh1TV1cRXfFSVM+vinfBNoLoCUib7JsGcdAEtd9YHkxjLSe5UxIWWqe/IiL2eUmERTRDj9CkVDntoXxU2+Ju+c8PCb/ogc8Y5XfKd9uZYyE6YtUGD6ASxgodVkyof8hFM4yE6b1o74628ocSyojPHatxXuKCrGMV9j0k9RaChob3jDG1qFxjsCwLKVFKClLXkflAv8lVelKoEqgXUnAe+ouTMCcnhPR5Ft3tm2xhJml1126RzAKsEb/Y/+Qt8a0r889KEPbf8ao82VugawAuTrT+3m0I+VPISXQdf0k8IAGHaIhPT/FgAQIF9dAjQljmspA/2/McM4g4wjxht0r3vdqwXa3HcNYBlfgGjG+zVr1rQLMMpBQCLzGwTMcZQI/cf44awzz6Ok8st8B44BYDGGMA6GjCs5x4ofnvoBLGXzM+Yav8xNMnZKw2ouCzMlDyWA9fCHP7x93uIjwKbnj4yBAR/HAbCMvQHxLGABxypVCSyHBCqA1ZOyTkInYgDJxFinxp/LhNkDycSdMqDT4zKJN9nWuQAkTGJNrKMw+C/PKDnilk6Y/yFlRuGIvwGCuWkJYB3eWwEIgCVvccNP8kq5CY8/ntLxpQxlckg6LnIQJ/KRlivjqau0qau0zq3hlgKwyA1/0srHNfWQT384PnTiFB/8eS6u0kiL16TBk0FZGv5c4omLSjkI7wewDApRRBM/eeSZ4jO8h39xtQdOvv3ylTb1k1/C3Sd/eXLxc0195Ru6y13u0q525RB3Crsze+SPpEte4U/5AIkSwCJTJJ14kZ//4peOn3ohMpZWGYkTZd61bDtJoy1bWSwBLJY2JnQo8fARnvlHFvHzX5lpC3jAd8mLuOGhvy7airK4xJNevv0EwLLqtVq3EGa1Vr2BV1YUbQ+wdQpIYNJlEgeEsNpngmoiRW55HtLmPtfIMnL2DErKMy398vxZ6fUDWN7HNb0JZwjYZBWU1SHrH06bsIWBM+E0MTMpTrtNmXhM25CfcG1W3Tl55QwsgITxAkjBAmvt2rUL7Uw7yvt+zDHHtDJLv1FaYMmfU75yOTxEVsLwjuJXxiGXxElekWtZp9znfdCm8554VygJcakrkEddA2CpLys94CEZah/95au3Pinjo/5EO8kZYia24nD6Vu83R1nhTHr1H/r05IG/1K3kX51C4cOqtb6uH8DCrzwBl6wNWFIgCiwLC2B5tlsA0gB4UcxKAAtgbTJvkm/yX5LnS/Erz6Sh8Frw0G4AnZWqBKoE1q0EvN9Adv2/7WGjKF+sE8d2LYsUXVtgleANyxsgeUkWTJzbiAKcdw1gmWs50yhkcQYvLLLLLWoJL6/0pTX/G3+BfaykSnLeYPllOtavADOL2J4FKmUw6HxC80njMMsnixCoawCrrIcxqP9g/LSVe9zjHi2oaVxE6gG8KYnlsvkQOnBCAItuZw5TkjHQ+IWMMbbKs7IKD8Y0FnMllaBbyUMJYNHJ6AuhWFH5b5HSgiEaB8CyuJW8zI0tSFeqElgOCVQAqydlnQSFxAQ+SoxJvs5VmMkzh6KQi0eJ07lE8RAunUk6iuLh3qTbZJxyIzyKhbCQ8Cgh8o/Ckkm8TkbnWgJYJuwUC+VySN7Kzr304Uv+IXUqeeSfckslQZ3xLY8oDCWvyU/aAEWpnwGSIlcCWFY0Sgus8OeKn/AV3viX5ctbWZE//gLoJC0++XNRjIRFvvLwn0Opb+rVD2A56Jo5c+KFz6SPXP0P3/Ll73njP/UT7p5/KVNpKZic+rnyc+8a3qWlIKbO8uBMsBw0XwJYAAflhSf8l3WXl3YuP3FMGMhLHOUpN3749T5wKVP61F08Dr8JT3zX1EM5oQMOOKC14ikBLO2lnESIn7RJ55pyE566qA+/yI8/fiJLYdLyS5j7UNJKj8RNfFeD9Ctf+cpVA2D5cpCvp1kh5YAJZICAG1ZFTZqAGibVgAmy8f6ZrK1du7YFsNoEvR9pOfLWjtyn3YkTeZJ9SWUc90hcpE33A1i+DrVlbwuhfMQz+QO04ZXlIee5rulNsn1lRz/JAU7ET3mueNTGOCRPfQcARv2tcgJIKBDGCg5oB8DjpFeWdyTvu76PvPoBLAerpu0pmyyVKw/ELzIqeQyfiSeufOLwHJmKizyDtHvvNade3hFAzZk9K6Q4cuO0b2eCBMACVPp6l3M2PAeAU3hOH5v+TfkpDw+s4cguWzqBiywhPDdOGdqc9z3AoL4Cf/JO3eSJd+WSjXKERdasJGx76QewhEtbEoswWwxZR9n2YjwColNuhwFYrK68I1bYbTMsKQCWPiFfIbQiTbmpAFYpqXpfJbDuJMBC0iKMfskWvZw/NYijxBWmD9PXjwKwgNqve93r2qzoEVmAGwUA6OOyfQ5g5lDukoxfscbRnxzeW6weBWCVh8KXB2ovtX1On3lgD2xxzmVJjiyxnXoYlcDPIYccsnAwe+KTg/7QOKivDhmLgST9Z2DZmp0tg4kb0HGeAJav+DkfE2kb+ZJueMgVwGYXjLaB+q2Y+JV5kelSZ2CVFljOIIueJC9kLOwHsMrtmYNAtBL4LHkoASzzJONvqLTamhTAYqWcc9Tqlwgj0XpdDglUAKsnZZ0EhcTkOpN8k2T+JtFRbCgOUVB0dJnEe1D+m1QnXFzhmTwn3EQ/k2ph4glDmZTr7JUpPOmEDQKwrAj7apRwTnx5Jq3/6qJM+boPiVPG4+9/yRM/6cJb6sevPz88RybJ2+BlK006Zh2u82zKM7CSN97wGx7wwfEPgJUy+Qcw4Re+ogjKMwCPZ2oQkC9/LuXwQ5FTwq2GKFO4FQYAVv9qizRc0rsPz7lvA//3k/r5G/nhm394Svq0ubQDfIiXuNol/jhp5WclzSRqEICVeipbHv7LG0UJxTN/Dh/Ifd4JvJZlKldeIfE8E2nCU/h0zfsg79TFIZNWe0oAy0obhVad5IPCU9Lxy718le0/IC5gHP+UJR/3yadMLyzl8E888pFnwsOP7VWrCcAyeQGqrFmzpjX71xeGAFgmoiarJmecSRc5eqcC4JTbA4TF5T1w5RB5Rq4pxzVxc1+GDbLAcjCrSZh26dkAsAAwABkADKcccQAlLGEAFwFHw1PK1Xa1I//xqP83JnBAGAAJZUbfYJJLqTGZ5bQZafARB4j1xbsSwPL+kDWexVdW3i+8xvGPHNwPc6l78otsk4888KYtB/BP3fSPkVfqqJ6ASspTCWBRxKygm+izYEg/Lw+KmHqFR+UhPMjXZDkAlivZeSZ5LsohUwAWJ78AWKkH/slJufzUgSNrddcWPO9xAKwoAEArZ8t4roDNWGBFscx5Wepy0kkntdZ2VpoBqVawKTCUPDxbHa8AFklVqhJYmRLIdjnc9W95KzkG4JujInNrfSHKeVHugd3lOCkesBpNA2Cx5PXl15KcN2l8RTkfK30XP9vEzEtD+sBdd921/TsJgCWBPhW45zwsB8wb+/Tj6lme05WyXEtgrLQ+LeO4t1DA0pXVui31CJhiW2T6Wn7rCsCyfT7b3ljqGv+GkTlGwMlyW2PiA3BYsKEDJwSwWL1l/Ep+nkM/gFVuhy2BvaShbwHDUMnDvAAs1s++donMjc3VKlUJLIcEKoDVk7JOwmBkdUNnQZExGTcxNjE3aeYoZZlQu4Yyoc5kOmmimCSeCbc8ueRpYp6Jf9ILN3goD2WiDsDSeZYWWCbNAbDwIS95SiuPKBPylH/4Fi9KpjjhQXnlff67ykPdyCv3eEv85BdlQ/1N9o8++uhFABYTU1sswkvkpwwUvpNfKTflcqhfvvySRl2jCIkXAIt/eE5c6VDk7MrKQF3FAWAxkQZg4TVOPPfhN1fyyL0reeQ5J22edZ5J8nLlxE+bcy8faRNexk+dfDnHgZn9AFZZz8Tll3yTp/xDwpXpmrZa8ixe6pI05NwPYKWduCYf8gn/zM5ZdpQAlq152jn5c8qRpiwzsnAt31lWJQGwUr+kSzstn0/C8BMSHpmpc78zSB966KGrxgLLxJJViRVRZ0WZsKoz2dpeZdJmddbZCKyQAFjahufNesUkGwgRiuzIP7J2Dck3zy9+ruKUrgwbdAaWLVpr1qxZAGDxCWjjTPQ5BGjibPlzBaDgvywLzwAejj/+gDPyMC4AroA98na2h1VkeVkhB370v5/S6/dsVSsBLO8BMEi7JmNleWe4tDNtUX79PIobSpj88o6V7zG/vGN48SwCEMlHOFA5Fmvqp57qSxHjAmBJR+Gz/dKWPABg3mXvm/agPsrgj9SF35k9MJHMAFnAKwAZsEreXIAsz0S7U1ZA6ChR8pMvGbmm7eSqLJNo/EcB6D/EXR4laQuep/YLlA3ATilDtu5YyabIso5wqLO4tmd43izzyFceAPcKYJXSrfdVAitPAvo4/Zd+ST9jgcHWwJIs2DjrzsIDKi0uWRPlQO8cqi6O/m1NbxwKDQOw9H36nVAJ3hhL5RNwRByHkLOORvo1AEf51Tpnnn70ox9tw/0IP7xnpYWGAViAhoxHbcTeD4CJJViAEvMBiyyIHFgeDSL9r/5Y/0s2dJGSjDHy1t8jcreV3zhtIcAiQCmD5QKwBskAj2SL9O3m/0gdWVFZ7IiVkXHKGAX0EjdWdOLvvvvuC1ZkB84JwFKOsgFv2o0xNmeFCdN+sx215GFWAKu//SoLle3FO2ZeVKlKYDkkUAGsnpQDYFHQdOJcOcnPxDwKmbAoCzpvnRxyr9N21bHrXLhQwnXkCRNPfpxwYRyFKuXxV97BBx/cDgaDAKzEkU8USEqO++QdhQY/KTPh6lCm9T/xo0wpw0Sfc6+u4kWZKvNM/VhgDQKwrGaF5FE6/vJUf/wh5ZXli092iSNemQZvBhkKFsXHMxUn+ZR1bQvo/ahvwinyeQ4BsGLeHLmIiw/5ho/IwDVyiyz4SZM2krKULx/5Jix1c00+4iRN8o+ftM53YZFXAlhW1fDHIXWSR/xck39Z/zJc3biULR7CQ0l45aQt80o6chAeOfCnzJsg9QNYBuS8C+qYspJvrsJMIEwqxMkzV6fULWnF5ZAwdSrD+Oe/9O7x6JlwKXM1AlgOrQVgcUCcPDMTUCt+JmoUfauTtmCRj+dJqedYYKXNkFvpIkvyReRYXt0nvjxyH39XoHf/FsIAWPpvYJOJscNjKQIBsOTF8orDI2cLW9k2xPFfO8pkFI/6Dmd4eIeAL7YSUnAAGBxlZE1PceHkkfaVq35PW4nC4Aws7UibT3uSLv1D2hfZR2bC48ghlPCyfabcMp+yvQegk5a/tIBJLpZXni+LpBLA8m5RaKxO+zAEACvvciyw5OXdTj9hjBAWCyxAmYk2p2+16MJpb5Qa52pl7M3CgzzynOSrTNfwnrq5ArCM3wGwfIWKImnhgfz6SX1t2dFWWAOrs8+wWyRC8mLNqg3k7Cx8sU4AlAEud9ppp/bqvTi8pzhakfcuINtbbd/2zEdtVWoj158qgSqBZZGAhZpYLelb9uh9vARIrV/RJ1gA1Mcj8xL9tzDk3c85T/ou83AgPGAgX4QTT3+qj0P6IeFIWhbn+iOAfQneCDfG+QiPxRFjnTmRPlT/ASiPxZe+EtAuH4dv216Izyc84Qnt3Fxe6uU4CWQeZcxjTQWoYQ0FoNGfsjI1ZirLopy+lGWpQ9f1x8otQbU2w+LHOav6Q4uQsa4SDPiz6GFM0JeSkzHUuGnsM56QZymDeQJYw2RAtng8sAc2sSJD973vfdvnYPxx9iMLdaTdsHojK88JGQOEGyONPdqEsRDZfslCdxSVWwjHtcCSXwlukqnzkVkQOyMreop46pVtjNMAWKPar/xRzosjA2ddkmelKoHlkEAFsHpSDoClg81quI5c52oAMVCUE2kKAIqi4H8UCuk48Q18ictPx60j1TF6yaMEyJ9LuGvC5RPSGTmbqQSwDLgG0yj7eEp+JQ/KR7nm3v/Uw32UOJ2wuss39ROe+CnDNXWXJp03/jmrLP1bCFlTsMAKKT9OevdI+siQn7LJjvNfWOoobu75k6HBYRSAlfThQ/7Kl5Zipe7yzBbCw/+3uiUecuWUXVoHlPmRj3DPWlxtjVNO0ve3EWHip31E/uENf/zwhvwX5lPA/QAW5Uo88ZWXdhI/Mgh/8sCbOPwjn5SfclylTxtIffklX89HfnlurqmPdPLgTAj6LbB81tekKWnFT3nS4M9V/pyJncNHxYn1RtLgPXyKm3TqzCXf1EHcksRPmjyv1XYGlomkCaVJNzAB0BEZ5ytywACrsZRyE2FtwwTXyiQFAJjjf8CvpCfP8hmQLTmWV/dpY3ke/WmAssMALP00NwjAko8Jnj4yFj8m82nbLSO9H+Wm78OfZ67uzoPgjA1WaAF62TaY7YiUAvVM+8hVv9dvgUUuFJmybZe8SJsw9yjtN/eu6oXEzXvmv7j84p+06sdFzknPwk691M+z5fQZAB3yMgaYmNqSYGuA5xDlx/uDR+UrJ/nrn72H+l/b+mzBAWDFmg+YSDkEiHkWsb4Kj/og5XoGZBP5uOJbeZyy/Ve27TMlgEUWlaoEqgSqBEoJ6Fso9Cyb9CHDyNd1LZBku7l4+v41vcUK40JJ5h/Ox3KeHgL+6+MQwF4/mr6cn0UAfWwJ3igHgN7Pk/7NHB8gFQKKW8zup913371dLDY+20oIRA+V1lnxs8ACfHIOKWLVoy8FQiBgHyBqFJk3sMDBp4WubMUjK+OjOsnTvMICkHHJeGJhQ51LGcwTwFKHYTIAQhmrAIix2sYzynMzxznxxBPbOax6mLMG6Gwj/u9nu95XibMVFMgEABpF0wJYxlKW79paP1mMDEh74IwA1qj2m3LNB8wPWaiZu1eqElguCVQAqydpg5pByCGIUWwNJAYqAIhOTIfGUcJNpFEUhaTJBF5nzoWkF5fyYnKvPGmi0CeeCXsUv6xGi6Nc+Rm4KOolgHV4D1ShoJnwGwzwrSyEnygA4T9l4SmKeUAhflZ3IPlR4CgiqU+u8k2do1QIi+KBh5QLwKJ4DjoDK7yIH5f64yWyVh7+UXhVx/CDFwBSyvRfPnl+wyywEj98KBMf6q5TloeyAVgmPFZY+uUobRR3/MqDw5+8XPOs/Y+FUJ6R9PhQTll+eM7zV27aB76SRnr+HACr3EJoomRAjpyUH/kpj798YpkhX21IW+KvbHEie+EpK+UnDB+RjTTK4tQpJD+yEE9eeDHIU4xLCywTKwBW+MZrypNGO3PFizK0V+1W3uSrDijpc1WmtK54SZvBjzgo9fF88J765r84VjtN2lbLVwhZqeyzzz7tJNPqr/aQdpJ3GjgEuAPmmCCTn3gmdv+PvTsB2+0azwe+xazmsaU4Ea2ZoG30b0qIFCWIOYJE2iRmoWomSkjMQ81TVM0UVZk0qjE0qCFKCRExVMxT1Tz839+W+7vWefOdJD0951zfOede1/W8e++1nvUM91p7v2s971r7FZA2WE0gUV0DM/0o2DoGWxgmJQ/+2jn9Mm2WckGjDQWwck+x0a/f4wos8mwbQesWkw/b/wRN9BV9StLO9I0BLD5Yom8wigy4XfNr1113nV9eLyjmecxvdpIzkgCWX6XHFVj6Xn7FVyfEDjZEzvL9E77xGNvTN4MZG+QhecGUTP1ZXu4nbYn80p5gnaDb+A4suLhH874zfST3cnAkj22S+49MqwSs6EICWJ7H8r1Hy8v/TQJgh8iJH+l77KUHBRvyc9/zk290N4AFmaYiUATODgK+w/0LqfGRZ51nlkC6MZN3ZVl1me+HUZ4fcR74wAfOzzTlVlwKGPhuMD6XbE30fZhkTGY1lJW8xpXed+V1FHR6tkreDevdSVZB+RHB81CAX3Bp+d8AfYdY3WO1jTmL7yE8xqiCCAIrthd6sXqSHyi8c8o7rjxXd1y8g5AuP0gIVMlXz3PWj7dW1VhBZavlmSVbGL2HSYKnFWFJyqwMMm5gM1m2ZluVlH/qk++73TPfv/xZ8TQm3xH5ziVfsuIJptJxxx03Y+rc9jXvgfW9YFypHce0IQwEKyXtoQ0FYazGg8W6xZhB2/jOFnhLEkDS7raSGndob+2HL6twbSuH4ZklY5ds0fQj0XJg0ned70tttlzuu9SKYd/XAoW+o71GRD/Ou9PgHxu0d7Z5+mdN7Zxk1Zb+IQncel1A0ob6r3L462vS+A7IOaMfRWAzI9AA1gJgkzSDaNtkDIiRwbQHmkmYZHCegb8vrkxU8LlG6oU3/K7xIA8jD2xH/Bn8Z+AfHg8rZSbYkUmOX478wjEGsARVbGcYB/2xjb2IDDqiJ+X0OY9Nzn3JIDZ4uC5PQiOTfWiUTQ471MVHnwCW/dhjAMuqDds2RjvUQbBByjJJiizygiHbk88Gtrh2Dlt8CWYoI0tZdJLlOnnBQrnzbGFTngDWEYtgYeoES+0yyo8cvkSXOmySp08hZWQgZWyXFwwSwCJbvqQM0UGmOkgeHoMYS5uzhdBgzC80ypaJDCQFZ9fBP7JjY/TgoS/+pzzXs8DFB32Rn7zIdJTwGDyxdwxgCVTAn8zUCUbpY+mzbEmfhVWCW+SPtsV+/rHLddqF7LRPsMQTH3JOpmRA9tznPnejA1g/++bJ0+f/5xLT1Xe82LTD9OPptM99YzrvTjtOF/f4+O+vTP/5X+earn7V35vOLt9s1EZ+mPgLxhmMWUnkV1GDar5LBo/Is1GAw1YJ9xXMBQ7zYm8D4gSA4KUdYCmNfUOZdkLaIPcznrRDgveu8ZOjjywHsGwbW7cYYHpGIb8CGqQiASdET1ZgWWGGbBugwz1GP1v5y36DVNcGhwaFWXVGtnz9zqAaedeDwGl+uSYjxO/VVmB5PtpCmP4XbNQbz9UfZbmW5Enq4w8+yZeHlKMx4UVJ+PxAoz0F/UzqkEG5lVNZgQUXg2yBSpRVejDMc8gxBDsDfOT5YzKg/9BDn0nMrosgoDaFN9LW8RfOSLsnuM5Wif3aLPdp/FzeQhgfeywCRaAInBkCeaYYB53dlO82z7yzm9QZ+Y0DPVslwQ4BKcnzDV+eeXPmBj58n/xv7Obr8vdCRNPrGew783+T8r5AYwDPes/y5cRXz/K1kM4Mg9jne14bbAir8DnC7Oy01Vjn/3oOZz8MGeN4P6OxWJL3nyXAZ8y05557puj/dFzuv4R5h5wf+ATNTl2sNkx//j8pauUicDYRaABrAZTBsgCWveAeRMhDDrlpM0jOMQ8r5R5e8vPQTj0PvzwAyfDlEH7X+EPLOvGlvnaMTL9cWD0wBrD8smOCRmbkZyKQPhD5rpUlxQ956ksJZshjM1pO6sU+x6TYmSOZglf23K8WwIq9+GIzfbnORHc1HXSOfsWX5JGdoN5oq7bCM7Zl/GRD6i8HsCzJ9StF8CETf1Lq0RvMUh5dyjI5Uy/5sQ8/39Xne1YIjTLVi/3qRa+jX7X8SjUGsEzmIxOPPkd2sPFFPdoZW9ShV0pe+OQjPMvlqYMX0SnlWjm/4cg/Wwj9AjcGsLwU2Qqs1HUMVuxFsY+8YIXH9WgD3cty5KmP4JFghiCI9oF/6uCVxmuBHL8CbtwKrF9NJz1t1+n/nfAX0yn/cO/pIj8/YXrU/3vqdKUj3zH95eJdpz876sDpao+86HTKiU85m3yH/9bAjfwUwPJiWr/SGQQhAQWYaiPbCZBno8CGAJa+YyuzZ5Fff5FflrUngtXY9kxzrV1gbiBroEOHga3AhpS+yQbPY/q1NX2rvQPLgH/dIoCVPmFpf7asORc0YY9fR21xdE/rVwJY9CNtLkBHRoIpVgoJvvhFWgAG+YVd0sfGFV1kwUFKH58vFh9WEi5vIdS/bLuIr+lXsBnr05Oy5AdDx9wP6umvY333K7/hG8wdpcjI/ZPnEbysFmOvrRJWJowBLL8CC2K5VwWwYCWIGRvZQx+yfUR/yfu1yBYMpAveZFiF4DmVvsDm2IcHsXHUE1/4q4wvSbbLdAth0OixCBSBtY7AhgJYa93uZfv8UJN/vVtehbXM2+tNg4D3dR1yyCGzMC/E9y+VxktHLH5k9/4y35/GZMZDY3Br02j/rRSruLI60FZJq96aisCWRKABrAXaBtYmTKcuIsgGxRkYZxJhcO3cMQP28DnKU+7c4BplQK9O8jRs6ssPRY/yTEScS64zYLe81AqJMYDlnUdWYEmR7Zwt6i7Li914ox//coqs8OcYPjbH7uhQB+E1IWS3AJaAxGoBrExCUl895/KlTIjoWS3FRnVC4RtlxS5HE0dEJh6JnSbJroOJiS4fXOcdWJZ9Z5IuP4m90e889kcvPufkZ7ItLxhGZ2xmTya4ysiTR4Y6yiLbNR5Y2c6VZeEm35ag2xrEN30cr2CNSaPBky85x9hEhjI86gST2EInXfFjLMcTDJTjHVPqBNNMTC259gveGMCyLFmwQVJPir/Bd1lXynNUB89oS3ByzMSd3QIZfLY6BAVrstJGjq4lQRzb7jYugDWLWDMfAlgGnZbOewYibaMfIO+1EHzQj/iNtGECWLaT2ZaXl6HqQ8EpbeGoLdKP0/YGXPAWQNIm6ZtWgvlFT7vQpZ+tFsDyEu51iwBWZAuY+JdE7/WwYipbwvOvgQJN7LZiKjbQb8UQHfLoFMCyLSBBLLLoSJ0dF780I32U30g/4x+++L3aS9z1OyuwxntKXfVQ+js88EhjOR2u0y/Vid7wBUt4KoOhY5JzfRwpQ/yFnXez2E7ifAxgeZYIVPqxhN+CV7ZPxm6y82wUwNIWAlf6j+sEKfEJhtlmYfWeOvoZf5LGAFZWV8I0djui4MXvBrCCXo9FoAhsDQhsKwEsWHuPlK2TvhP8kGBc0LT5ENB3zPvMWVdLvjdX+5fN1Xg3Js+YzQv86fc97sevjFc2Rl7rFIGNQaABrAVqCWDZRpFBMTAzScjRxAC5NmjOINrgOnkmAyYGrsObSQaZmdxElmPylGdCQH4oeav9C6Gloh5ko4zUi32uk1IWm+mXwrMsZywbefgX3tgX2eNxtRVYtqGMWwjxk5Gjc7JNhj0U6RrtmC8WH9E/6kuZY2QmD3/aRF7qBSd5aReTUm3pWgDLLwz+lcqkG4WPbdETeY5S7Auv/Ewa1Uk98vgaTPGljBz1Uxa5ytktX30TQbguB7CshNC/TQrJJQum8TkTWBN4+Sa9SJ0EqMiOz7FDGZ7IlJ/Ebyl+xFY6ERsSDHjQgx40fwGuFsBKfUcy6UheZKYsWNPrXD7KdeqP9qd9459BgYm2/PAFe9iEBHEOP/zwbSaA5V0Zfj0T3LElThArgcwEsAxU8g4sQR+BHiTQhNSBj36cPqWvp79pC9dI/1IXf4Korul33xn8IrYk2bK3vIVQUFyQJfeKvi54hdiL9FNyUIJydOl/runPCqzkq5P35ynXzw3MvTPCFkQBNsRecvie+yE+89sv0zBbfgeWAFZw4V/6cvzQV+GIJNiFx/3jWv8kw/kyKcszBT+b1E9ynrZIW1lhlhVT3pth6+QYwDJI1c78zio9eEU+G8b7yPuvrNwLLmyFIfKCY+/YsAUzzy4+J6mDyEybKY8utjuPT/i6hTDo9VgEisDWgIDvFd8hnnV77733ev8etzXYP9roBxABDT92+TdW71Fq2rwI+GHIKvQjFquubCn0Hek71VjpkMXqrPEdV5vaEjsn/PmP72/BK68raSoCWxqBBrAWiPsiMQkxATIwNiCWDLqRBwMaJwYGzwb/+OUj9XwZyQ+/fLyRmXyTt8iflZ3+QV5sUCf1HE0sTCDGFVi2EK4WwKJzlBUdsSV2sEGSL7FXmZS8+eL0j9RzDF/04B/lky2AJQA0rsCymiL/QkgG38hIXarkm8CRwSZpxMM1nrFMnhS7nAc/55IyFFsdx3zy6DRJ047O2e8Fh15SmEn6eIwOx+AXPY7hdZ6JY/qJa5M0k7/RX30Ssc+EX/lot3pkyMskD67LASzbqBIkUCcY84tdEjl0yYuu6FcuD+HHQ2fqaLf4rCznwYTOTJLl0U+OiT/yQlSrO1YLYI19gk6yk8iKP8rQmKJfnnrLdrFJfflwZ5MAFko+mXxCmWhrBwEsweRtZQWW7ZC2tXm2CFLo+/qUNh8DWN6PZIuZwEQwTzvihRMcBQEFhWAJNyQF8wQ68MvTlwwQriXuAABAAElEQVTkEyCy5Q9Z6ZO2se3ML4pWAEkGakceeeS00047rdzjAjC2viHb/vyTnkBK2nCuuPhgY/yjm53sSAALX54L+OQLqAm62D7IZ79wKmMf/+Kz+8a1/NUCWPqWwV/6ln46Pj9dK8vzwDlbUPjw6Lf8Uu5cXihlylMn/vANX/L5jTwjshrOS2v18TGABX9yEf/yTFCXz2SmXemQz1e88LbqLe2bd5FZ5aoMDz/IkNRjn6SMXEmespSPPjWANUPUjyJQBIpAESgCRaAIbPMINIC1aGIDcAEsE6AM7A2oDa4zSdATMng3OTF4zuBffpLB9TiwzsDc4Nw5wk+u41iXDHVTP0f56q8WwLIqKAGsyMIbOfwZ5eScHZI64XfNZyRPXcek8Xy0PfWDnevIEcDyIvfVAljBA7+6sEsiH0ZIio7oTd3wxx/+4XWd+q5TP+c5jvUjm+0mqNqXjDGAFR75JldoTPLx0E+HFD55fEy/MXl2ncmgfpX6ykwq+WMChyJTXuSQrx6bl9+BJTDkHVhkRVfaKBND+lIen+iSl4kp+dER+6KfLexC/FbuXOJ/+PicPDzxWeBktS2EJrfqpg9Gb3RFtvLVkvLYARv1pfSPHGM32/kLczLTho6I/wIWyLugvI9uWwlgeYm7l+kLYCHPQv2DzwlgeTZ+7GMfm8kvf2kbuAZf5+oER30o/Qz26fd4EFyTJ4AlsOH9SmMAS1/Ee2YrsMiWbBnMS8P1e/9KJNimL2hvpG3Zmf7HRgEs+QJVSJ9I/xHMs2pox8WWQb8yCmLFJ3bxHY1B4thsC6G+Mq7AgpsAlhQ9dMe+6GVf7vmUBXM8fEjfdJTkJ8kjP3XHMud0Rm/OYaE9/Jvp8ccfvxLAErDzD0uCdIJc6sdH/OrRA4e0K90IdvqTwKitnOvWrZu3wdvOaVVc+GJT7HWUgq9zPPLZ61wKDjD2Ult/aiLZFqufjsn3pK0uG5OsUPRuMNvhrRLcFGnfffedg6wCw6sl28C93+SWt7zl/N1Pt3fVPeIRj5j/JW21Os0rAkWgCBSBIlAEisC2jkADWIsW3lAAKxMUg2zJMQNqg+hMvgymM6DOxCF5yXfMYD08kTkLP/1j1JV8dQ3cVwtgLW8hVD+6x8F+7Bh1Kh9JmQm6yRN+/pk0SbHBtTomDrCIL/RmIoQ/kxnBK1t/xgBWthDiU588culLIk8Zols5ysST/ugLr2MmYerFl9iMP3LwkoHIR+rEr+UAli2EsCYjvCZxyHVSZLoOr36UyWgwZYdyvgcrddnANvmpn7z46To24yGLXJMdNuYl7pZ02woU+xzJRbGdbnURuSbnaLRTPXqCDb7lxLbY5xid6oXkSyOvyZi//11egZV3kLEDPzvpjwzyg2F0OeY8etia+1geWyT55CXBJDg6V05XZLoeA1heormtBLC8xN07sLxfTwArQRz+CwIIYnmfkReCWt3kOkEqeMJN0kZIgqGkL8Efjuln4YOp+5UswYys0LHFzEvX9YH0x9XegeWddOsWARGJfO+s8q4uZDs4sgIr/cSRXfzKc4RNWXUnUMN3KT5l+6EAVlZgsRvpPyE4kMWOyLaN4r3vfe8ZAli2EKYfswepP/a1yEgfxMMmhI/e2OEYecqk8ZjzueD0MvqQeurjiR3+JZbdWYHlWXjAAQfM20PyMvbcj2lTsmJTyhwFrpAXysIQCVZmG2LsiBzHMbEvlPxc00eH/uV9aP5+PgEs/UcQc0z+Yt0qvo1JeceLoJL7ZFMkzz3bL5bbJ7KtCBf0u/Od7zy96U1vmgNoAufeG7ip/lkqunosAkWgCBSBIlAEisDWgkADWIuWOrMAlsGxAXOSAbMBv4G3yVd+fc5kYJywyTMpSMrA29GgNTSWZ0IUXmVkoNUCWF7iblsN/uWJTCYkox58dMgzGTJhyCRCmV/LTVjUhYvy1Mcvj89w4Ss8EJmRw+aU/+M//uO8lWYMYJkgeQeWRCddmcDMmad/KEP0Buv8ok9+8vhNv6NVAiakrsNLdnxNHeWCOOTQj+iKP8sBLP9C+KpXvWoFE7wmmWcWwAq2cBoDWMGUTondY9vJYx8dElzVwcNepAyPfO/r8SLqu93tbvMELgEs2538Uwif2KB+2pI9AjLKYING+WlLeGV1SfChlw3qqjOm2Jy86Au+KWc3nY973OOmG9/4xqsGsNLX6EhfG+Wqz046yI8uR3rUi63qS/iltInz+E9G5KhLRsrwjQGsJzzhCdtMAMsqTs+WBBv0azjASgBIEMs7Lvxls6CAVU3usVBWrekPY7/ItTzytLn+JD/927V2FtAQsLJtUOBEoEMwTTup7w8Klt+BJVhrgi9pc3baMou8eB25L9LX0qe1q/7PT2XLASyy5LNZsEUQix4vMRdcSz9LH3NE8vWbPBcEHfzF9LgCi9wEsPDTEYpcMvQ1NjpPfvpi9ChDsWMG4nQsIjN5eCRHZbBw1BYo5Xis3LTaaAxg2TJrhRtsrcJK+wVTx6TI1G4CV0hwEobIczn+pf1zrzuOfrGRv+xDKXOkB0ZIMNP21uUAlmcjWyXHPAdi69k9roUA1tm1tXxFoAgUgSJQBIpAEdiWEWgAa9G6Bs0CN1YZmCSYZBggGxhnwGsQLRk0GwjjM/ERMDGhM3lynWTSk3+9Wh6E48nAXxl5GZg7H6/x4kFPetKT5knm+A4sqycEsFI/ExH2pp5j7M/An48mp8ggPy8yNrGwCoF9mVTEJnkmHOraRoEyGVEn+tgAJxMYASxbacYAloCFYEv4Hckkn50hvjs3CfXLv5UfCSKQnwkdn9goaQ/kWpsiNua9PvQgNrKPnLSFPPXk8Q2fa1sIn/KUp0yCWGxBbNY3UOqzFT8KVmzMJIv86B/bK37QG//0H5NnuGoHQQJ1yGK3SSRii/4Hm8c//vGTf5VLAMtWLO/ESltZYRKf2eicTL6w13nKXcun41vf+tZMbJfU9U4bNrKP3XDgv+RIFn+R5MhPMnLPsNt7xawmGFdgPf3pT599D66xi21J0eVa27IHdmwey9iadsJLpnL5CK65D+CM8Ehs1t8RuQITyL/seL/RtrICS2AW5toTwTl9QvtrLy/5FsSyAsVzTrn2DD4w1Q/UhSvstBuS8Gt7/Hi0iTJ4k6fttCP9Vrgg9y1Z+PTp5QCWf54T6ErKc8KzIm2qfelmX4hM+t1L0c+XrMDCL1+eQDZyD8Wu6HMkEz8b4zMcXPs3P1vxziyAFZvGo7rps86jJ/eDa7qWKbaMx7ny6fxkIeXL9wFZScsBLM9QvsDUPasNYchPaazrmmxt7eg7EHYJBGrffK+SkT4B69BYHp9hTA/bJccRJyuwbHFdDmCRSc+Y7n//+8/bDb3X0JY822M9g57xjGfMwcWjjjpq/mOJv/7rv55Xh6qbAJaX5gr42qoKp+c+97lzYBOP4J46H/zgB+f2s+3S94ZnBsysctSH2e4HnGOPPXa9FVinnHLKrP+jH/3o/M61/fbbbzrwwANXVmDZQijg/8hHPnL+2/r4wW6yT138aYGXQduiCmeJvbYIW5246667zqt03etWctma2FQEikARKAJFoAgUga0NgQawFi1msmKQbgCaAbXBcX5JN+DMwNnky8DdgFTQx6Qp21ZM9MlSZguDd6b4xd4g3ABcymAfTwb5JiuZ+Blso0w21FGXfoNOE4IxgCUAsFoAK/WiO/aTzX6TRgE7ZHCLBLIyeTDwN/ljpzwksVlZVklYMZEAkXJ6+Bg9qwWwvKtJAIsc8vjHTnWdL19bSWH1B5zJhVUmYnhHrDLhZoOJp3b1omcvfc62NHql1MskaczzPh620SeAZcWNiUOCOdoZjih+kIOfXHnpC7DTl+STidRLmyfohs9Ez4TPxBzG2ls5v8gmR3+xGgIuAgps0n4myvBOAIvf/uWPLERWJunpD3x2jtjHLse0hcCFiRViA79g611FXmzNVsEHcrVFZAUHx5zHD8E222Ns8TIx3nfffdcLYNkyo0+RJamf+27OWHykjykbsUr/iR18gSvMpLGt8ZiQm8C6D9zPSLsluQfcK+qRg/Czf1sJYGWS615xz+gDwUlf1eaeA9ofwTj9BF/6hDZC2gbBF29k5ZkXHMmALUo7KWMHSpuRc/3rX/8ML3HX1/XxJHI8wxBd2pF+tkh0oPQnurSvfsnG3Bv8IUv92DoeySOH7OBDJpIfvwXtN/QvhLEptqsTUpb+Tl4SfSNP8iOLD3hGvvDEbzZK4ZGPIkPZcgDLvShoC4/cG9ou7Z2+oK40toO6yDMiukZ9sIZh7OGfdkDaX5m25JsyfM7Vk4KTwP0nP/nJMwSwBIzok2xd97yy1doz3feB1cCCjJ6hO++882y7VWKCS7ataj8pASx+3OlOd5qDuXg8B61KhJ/ve99RBx100CxPgFUA6sUvfvG87c+/NnlW0f/GN75xfmaTzS9++sFB/T322GN+VtuCKj9bCMm7xz3uMQek/PnF6AffPv7xj0+nLoJY/lX0AQ94wHTcccdNu++++4y9ev6d88QTT5x99NJ738FNRaAIFIEiUASKQBHY2hBoAGvRYgblJkyCAgbLyKDXpEXAIANnjWtQbcCujomSX6UNnJFJbYIRXkwtUOPfmzI4T+dwnYG5czLpykQgE6EM9FPfe3dWC2DZ2oI3/KOeTGr4IJFNj4m6lxwjE3JkFZkykwL2JYBl0G6ljSTf5MH7lbwTxoDcpIBdmQQ50oNMIKxWGVdgJYBFFsrkhHznIXqQQb2BtwF4UnS55jddfDR5QspNgkzItYWXQAsIkUcn3sgYMQqO69atm/nINdkRvDIxSdBPOyuDF3mZZKU+PfDTT/Sh5QDW2OaCoAJFcM52G9gigbT0KfrI0T6f+cxn5lUAsElQ7X3ve9/07ne/eyWAZSJmZQE52otsq1wSHEq/CqbB0VEZspoF7iaw+jqf4KbPCZyS6d4hN+0GW7gEH+dIfX4KFPuHOD7YqmRL1bgCi636W7Acj2kzsmEICxPP6173uvNkMnY7sgd/gg/8jI0pFwQMloJZ8RGvuulP2pM+hI/MbSWAZTJrkp1+yu/glOcGvPRx/Vl7BPvgCC/52iXtRQ7cQrnf9fP04+A71oct+eRE/movcfdsEcCiRyKffUg9FPvxkOfIRv0G8YkNbGQTverF1vipXuSRoz+7Vh+lj5MtH35Wnvo3v3EFFj3eYUReaDZ+8cHW2EuOcrqWk/zwjXXGNhvzI4dMJKU8NoxHASxbH7OF0L3t+0EdvuGNLH7DMdiSLciZe93z172Mh338jz2OruEXbNVXB+kHyrSnuniCrXqS9mGDPrxaAGtmOv2DT7vttttKMMrqKQF+Adx73ete86olPwSQ54XvvhsF2z0vE8CyCjcv4b/5zW8+42TFFrusuNpnn31meVT6bvSsM07wwwQ/PDs8L/0gkOArXP3ZyW1ve9vp1re+9fx9o/7hhx8+f+9sKIC1bJOX2HsOkiO4yxZ9zwvtfXdJftzwrjDBMYG4piJQBIpAESgCRaAIbG0INIC1aDEDS4NKq1kMmE1eDK4Nug2QM9jXuJmo4DNQNzg1IPSybMEEE3xkUn2jG91oDp6QYTCeATv5GYyTmUnSOGnJhECd6LcCy3tqlldgLQew1JEy2HeMjEw8BE3yj12nLn61FXwzWOczMkHgB1szsSUjeSY5fnG2ssnWGr9mRy/d0WMg7cW5YwDLr953uctdVmyKberRi+jVLvSZSNgeYoAu4ZeCIV3aBWap6zoTIZNfv6azlVxtFxmjHOex2y/reF0LYPkXKpMcbQwvAUA40ROcycQfO9hPV/BTRiYb1ZUvz6RG8NBEL++JSQCLHcEEr75Cvve9oM997nNzHxQYEmQyScsKLCukbnKTm6wEeATDEsAiC5GVNOblPnBP+GUf9vqHPi9pf0QHmbbwBXt45D4Zj4JhSF8TFEPum0c96lHrBbBMnINN8CXbJJa9SH7uG6sPvCPJhDFtkaM+Gb7R10ym2cK3+Kcd9DnytREcEHmukcm5Se22EsDyrqZXvOIVc3/QB6QEDOCX+xoO+jQcg0Vwdsx9HOwc03fHowAW0i6wJlNdesge+2Xa3TPDs0TQVHIvW3WjzdVBsYXtSeSSoUyKDrbFPvrxkBF/I5ONSP3cE3yXR3b6R+Q5JgkS6CNjAIttD3vYw1Z00ZNEnpQjnbEnx9iIB+EZKb5HxlgvdeWlvnMp/sLes2c5gOXHnfDiH+tHbo4C7r5ffDf6EUFbw4WdcE7fkZfncdoIz7gCK32OX9HpiI89vlfJg/FqWwhtx0ufFjDynZDAj+eP9wS69wV+BPsFRaW73/3uc/8S3Pb9mjp04JVs2/NuMMFf/Vggni2eDZJnMr8EMfVfz0u6kjzrPX/4Y5uff2T1LjrbGiXPd99bZxXA8tzXZjCCNXsF82zV9y+Y8ZNMWxxtIWwACxpNRaAIFIEiUASKwNaIQANYi1YzgRHA8utrAgwGlQa+GfymcTPQNzA1aDVYt/LFQFGgRX1kFYl/GTLYzfuC1M2KA+dkjxOfcYKQyYA8tkjegeXFxhsKYJGHP3IM8g1qHclAysg2CTc4R34NFpSxkierH/gHF76YrMmXx19+W9XEN4NlQRY02soWevwLoYnnGMASYPHrL99jc3ykg066TYCQfz/zb035Rz3+ILyIHDaaPNCJ2KtNTVgEOAQTbdEgF6mfRLdr9cgiJ9sN2SeAZXKy1157rQT9TNDoRME79dWBeya3gjEmFvJjMx3y1ckKKhO3/AObiZVJiUlOcFIfsfXII4+c7TI5CWYmmfpiAlgCVlYSCODJIysBLPbQD6ekyGeTdtZXrbwwkYK/+8OkDF4mVvq3SaH3rVhhkMkme/gXLGO/1U7ZDpqgmK2hJoHjCiwr+tiV+uTqB2yK3LS3o20yt7jFLea+CHf6YeRcSh3yYkvawT1rgum9NfzTFvoHfAQURzmpzxb34bYSwHJvWoXC15G0s76gX+jj6c/p5/AIf/pgnhfw0zbBWVuEgq3yyMz9r71yP5JNHhlWzniWjAEs7+5at1gpmX7LRsS+EBnak57owKMO+9NfYid9+st4f8SP3BP6pntnxCR9w5Fs+m0T8ycKYwCLDYLhsc9xObE5dimLT7HZNR6ywucoD41pNT3qS8HDOT628x3Gtp+NK7DcG/FLPXjCynnkRJfvBwF+wW44InXjV56HcEzbpJ35kf7BFnqWn9fslcgkA+m/nlNn5x1YCUYJzvvxxWpQPt/73veejjjiiFn2vvvuO7361a+evx/HAJbnq+8Syeot2/XUYad/arzjHe84H2eG0z880wVaPSvzz4iwsGrZjxfw8y5L77QSzPfeLMkWxT/7sz87ywBW/FDHM0twVwDLtkHbDo1NBNCk+NUA1gxHP4pAESgCRaAIFIGtEIEGsBaNZoCcFVgG0gbRkgEykjJQzyAdnwm+QXoCWAanmVCMAay814is1QJYo55MQkwm6MpkRb6JvgH3cgDL4BsvOfgzQcmEIbaPEw0BGKuJBK9si7PVweoYA/FMGuBiYpcVNuS7JtegXkDIwHxcgTXqYJNJp1+1lwNYflUe7U09OhFcrYZBghyCWFaMZWIJH22A6DHZCY454kFsFcgRwMnkU52xXemXh58sPpFNlgCWbSNWjVnxhExms1KATJNcR3XJ0A/Uh2XKyIeffDz45ZnECCjyzYomwUCTRxMe7xiLP3gR/PU5ARQBSAEV7XnqIgjpfS7LASy//FsRaLsfm01yBFWRAF/ksgnRB3+kbwgcWsngJd7spJ8OxE79G/FL2/F9tBm2KO/tYqf2ZLt7RmB2DGAJjsIi9sCQLSbGwZc81ygrsLx3DtbIPYDHMT6xKedsRAJYJngCWFaY6W/80+cF5tSBT/xxFOTi67YSwPIesiMWk3B+wwRuUvoFnyVtC2+YyoNlknrp78rSTsojj3yU+0X9PGsik078CC+ZZNt2vFoAy/OHvthKzthe6uaZwhbl4Ymu+E0X0n/cIwItkT3K4RuSUodMCX/6oJVtqwWw/uqv/mq2MXaoF7uc851c2DgPH7zodc1mZezyTHFcTsqDhTqu0Zgie8RvtRVYAs94kyInul3HPnb7ntNXRv3RgQ9OiN0o/pAPd8RX8qMjfI7y2EMWsoXQNvPNHcAStHr2s589P48E8T3HPB/Z49q72rw3i+1WaAlSeV+VH0R8v2a1lB8gbDmUYGcr9c1udrP5lQOeK+4R2/5e/vKXb3QAyz8zCsoJrNku6blLh7ZsAGuGvh9FoAgUgSJQBIrAVohAA1iLRjPBEcASxMmA2uDYANvg2ADTABtlEJ5JteCBCTASDArfGMCy7c+KDbIy6Y4cOjLIp9vExWDYJAg/O1wjv8wKaIwBLP8yt6EAVux2DOmjZArACEj4Zd3A2uTdxFwe4hdc1LOSB9kaYWCOBEPYwq+sMFvWQY/VV8sBrGyLUJ6krpTAiUCJgXaCHn5lZp+JABKIyeRXPTiSxza4wTKTKHYLRphM8MNfuguQxN4ctUP802baglwBLJPOe97znnPAQ9CF7gQmE+DThxLEIhOPdks/YmcmvPLoolNbINdWHyH6EWzTV/iH9LFPf/rT82RIAAZG+q6A0Hvf+94zBLCsABDEIzf+aT84wCR54zFbgMi17cXkUL8Q4OGTd7shAQRyYSGff7BnJ7vlJfARO8n0AnckGHjIIYesF8CCM0xhhMh035DjvmCnFR7kIIFUAUq28Ic9+FI/uLnWNxxhyE5tKRgogGV1mX6PR9+GkUAGSrBRXQFVK9+2lQCWyayJPzy0lzRiFby0gXtK35aHtHHK9XckBfPgjS/3mfZTBw9+7ao8zzz18Woj9rDLVtjlLYRWyGhzdZeJ/DwH0v9i03ikS6Ir9yY7PF88I+SzJdiwJ7rku0bpT8rUQ3DdUABrtCHn6jonl82IXHnKcn86lx+dwUj+KIMc18E6deQnBSc6JDwC3stbCN1nqU8mbFHaXJl7BMEq+cGHbLgiCQ87oje2O0YO+XjIJiftkz4jHz8ZsLaSajmA5ZkcHfDzXbcxK7C8m8q7rjwT2OU54YcHQSjvr5JsQRRk9SOEZ6tAlh9qrMTzAnc/gsDb97XnDtt8p/GHbVZJeQ55hul//LMC9na3u928DX/5Je7LfrDBsyorsDyv6WKn7xHPdM9Jz64GsKDVVASKQBEoAkWgCGyNCDSAtWg1EwWDSe+jMGjMwDqDe3kG3BkwGzSbzAm2mPQKXtmGZEVTJgd+xRaosc0uQReD9+UAVgbuBtkG6coNaDOIl88+g3d/+20APQawvKB1QwGs+BKbdNCc02EQLhAQMrg3CUAGvfRK5AsS8EMwCFZ5v5SBtl/LDZzJDmXSYNK5/A4s7yvKO7DYGDvpgicysPeLMXLNXviwQ0BGwIR98FI/CcYmAwJCZCCTbrwmlSZnKO8pCR6O2iKTREEQmOsDAljeHbL//vvPEw8BDPwJcsDFuYlH2k25+myGBWKnPL7QZSLkKE//cs5GMjIJdh4scyQnwSD4pM1syxvfgSVYp+2sPDOp0m5JVndZsYQnKx7oyiRTABHuJq6CZUgQUaCT/VZJoXXr1s0BI77zgb+OSdpBP4ss8shJ0FTQzV/Djyuw9HPy+AsTMmGEYp/Aq20yyGo5+PPFijA26Z94YZxElvZE2gcJAApguX8TSNSnswJOPxtXqrFJMM8LureVAFbegaXdYMzH3AfBTJ9zHyHnwRG+CJb6RfoyHin3I/4k53SkjnuYnqy6waeMDDY5ep/PcgDLtjEBrPQTxxD72aU+u9z/dKQ8Ohzl0aef4WWz5xl7op8NeFBS7MOTPkqWuglguR/HLYTqeAdW7MiRbSE68j2BPzzBEp/86M8xbYJfHjmRmbzkx4e031ju+WhFkHuAHYLJ7tvc23jznIudyvgMM3qDCdyRvDzT0ibqxOYcY49j+glb8WqbtCWZ5EjssYrQvZwAlhege86MibxnPOMZM4+VUN4pmSCSH4esKPXuK8k9IQBlS58faV7ykpfMz1krsKyKEnwXwLftT1+T2IjPOzH5a6vhvoutiCm3ClkQDEb+ATCrUD3v4On5Y0ui54vvuP32228OfHmGW0XlhwRBW1vZ3Q98Hf1ggz8b8ez0g4vk+8G74rQTe+h/1rOeNQfdsgJsZuxHESgCRaAIFIEiUAS2EgQawFo0lMGwgaxBqYEnMihGBr0GysjgPxMCA2mTOcGfTIDHFVhjAMuAEpmARBY55EvJMwDOBDATyOhn05kFsPChyCSXvZmwJJ8cia5MPjJxF1QwIBYUEKjgH36+eCeTAEFWG5mMmKgZeNNrwhHcZgWnf/hFGo1bCP3SLIAV++K3o1VXoawGgwn5dPkFGcGT/WxUL37hQezPdj9thM/EwVY6ZHVTJlywQWlb/iyvwPLr+d577z2vvhGoxJ/AkOCQc4EUbYzYwy6UpJ3HvOiN7uDoSAY/nMNJXTKRawEmpM/a3uflwiY+711agWUiZAKG+Jv+YOIviMV2q9MEabRn7Bd0EqDVFglgOddH3C/B0SQ3W0jjJxvTpwVCTSRR/sHRKi5tCgs2Cw6OASxBWfjDRQpujjDRjgJ4JorezZW+yA4rzRCfBLGUaVfJEZ6ObJRMegWi3MMJ5KoHNyQwRm5WwrEJ3kcsttxtSwEsk/L0Mz4mAAQj18q0O4IdHFH4YJo2TXupoz/hwZv2zDEy3Zvqhzf9xzFkBdbyFkKBIf048vBKjp4X9DrPPZf2xx8blbse+fKsYY98CY/60ZU65EQW//HnHhJUcT+OASy25F/syIhcskNkwNnzDUbRH3xgKT+E33naBH/KIn8WsviI3bkOJq7JQasFsNy/aV+88VHbIWXuS/dndJAlH8lThtgWWbBGsTN16ZD4xMYRYxi6JkeZOgJOguEJYP229vb9KVhlC6Htt17c7jvCtkTf96cuAlu+Q5uKQBEoAkWgCBSBIrC1IdAA1qLFTBYEsAzqJANvg+IkA+VxwGzQbBCtnsGgya9VWFbmZHBtC6EVWCb6CfoY4I8DdfLJzmQlOujPwD4DeMfVAlj+AckvtJm8xG4yYrdzNieNZexNIEhwwiDXBN0KF76xKcGKBDusSkkggd7YTfdI9NleYQXTcgDrrne960o9kxmTIHbAUFDB1oms3KEr2wD98yESkGGfIAsf+MovGCMrBrzU94QTTpi3TghOyLciDgnG8SPvOeJHsHMkn13y2e8fom5/+9vPq+wEsEyOBYAEcKxksm3DthETO23HFrgEm7SFI3vTBnRlYpc2UkZGbGKHgOkoL3lWDep/KNvaxndgsRF2iMzIWLdYpWTyL/AmSIPcA8sTU0HEBLAEjRLYTDuQD0sUm7V77BP0EtiFmTZF2kKwDAlCeUH+GMCyVQb+SbEZduoISpHDZ+/8gg1MtaXJt/4q6OSa33DMRDdHsmEvyCnIIBilv9lmI4CVQCl8kMle6upT/jVsWwxg6XtwGdsyfVWbelYphykagyrp62l71+lP6ctwJw8pz7OHzATD0t6xRZ1dd931DAGs/Ath5I33GPvJIze6kkceP/QbdSQ8qa+d47/zXI/1R7ns1f/4TUbqeObpo2MAi079PQlvsEw9tuQ7IfbRF6zxyU9Z7CdHmbRcLm8sd52UOq7pXi2AlcA1+yXYojyD+e45xsa0NbmwYUvsV+4aXspgioIn/XSQ5zzlzoMz/a7VoQPpC358aQALOr9NML7tbW87HX300cmav/MEq20/bCoCRaAIFIEiUASKwNaIQANYi1YzWcgKrLERM0jOwNnAOwNmeQbZAi8mKQJYeTeSgaMJvpdLC5aYEJNvgJ9JmsE3Iie/YjtPPj3OTQYyiBfAEmgYtxCeWQCLPMSPyOOf6xydmzCYSJqkCCgI/AhcCDSov9p2sUxg2Kg+ch58ZgWLD8EfvwSPASzbHwSw4ARTuukyGfIruq0Vpy6CiXCRJwBo66QgiZVgyAqd4KYd4qcJEpyt9vE+EdtABCUEupSlvhelkyFQwuZMumK3AAi58vlg64h3kQjEJICVwJVtjWgM4sCVb6FcO+Y8No8Tv5THJtew1UfhhdSDGRLAsv0NwU1QZQxgCawlqMeX2KMfCbgJSgpkCcTBOe1KD/+zVc/kUDDK6im2wNHKPAGs/AslfPVVKfYJNGlTL+AXVNQuZMOXDe9dBI+sChgDWLbnKZeCB7udC17xhxz3nHsvq8XcZ4JX7jn1bQPlE5vG/k9u+qpgqe1ScNNPkHuVb/EPNgmosUG/shVpWwlgPfOZz5wDcsE7zx2YJQ/+6RPBTn/K8wwvbMKnzzpPfxrxH9tUP9GfJLzpo7k36JJMuN3LgvWSvmMr1LpFIFYiUx06HbU5eUnyyU7/1LdjY+rjQWxF+INF6o4y1YtO2KDUV08/FvT1gnHJS71t9/VS76TIj05HvuSed56U+0sd+XSNKfbKiy/L5eQvJ/LG5B8f3e/6vfZxz/legBmiG45IuWe0fPalDekZ7XSuDLENbmmntEl8ih58kZcydZLIDG4CWOzwz5RN6yPgGee7QRDeuMTzrakIFIEiUASKQBEoAlsrAg1gLVouASyT7SSD45BBcyYnyuXLM9DeUADLr9jeOSH4k9UmYwDLwNuEwyA9kziDdHnKnKNxkO49Hd63NAaw8g4s9VKXjerGbudkSuRF7pyx+OCHCZMAltUlAliCFWMAy78rCXQI+iC6TDzIymQrtjomCf4cc8wx6wWwbGnwDhB64QpDQQj6TPAMtq3aMSGRJxhhO5cgkdUw7LClS93I4CssY4N3XwmaIHLoYK9gi0CTgERePs7W1MuEiI9k85MPBx988Bx0s0IMyTfBE8DJdjMBIXKCr2PO5Y86xklcsIpusoOvOuwYCd7ax+RYoA9eCfwtB7BM+BMg4390WJkkuKM/ZbURTPGgYCKA5V+2EEy1E9zJtVVv3SKAAM8xeMc3mKPYp12zJdSkVPAPbl7wv88++6wXwLL1Spuzlf8SHKVMgm1p8s4vlPb17io2sS3BK3mwjBy2kRWMtSXMEghLAMsKSgEsbay/mfzxGwlg+VevbSGAJVBxq1vdag6yzwCv4Q8BLKvqpPvc5z7TcccdNwdX1qrJ+tJjHvOY+T1JbNTXBWvdd2s5uTd8Dwh0uF922WWX+b5fyzbD+olPfOL0l3/5l2vZzNpWBIpAESgCRaAIFIEi8H9EoAGsBYAJYFkhIiXQkGOCVQbzSckbA1h+6RRcEGywCsR7W7zo1S/YCSKYgCdI4GgyrQ6iTx6eTJbpzOT70EMPnQMvGxPAiozVjvFFAMskEQmOLAewTOYFPAQXyBFgUJftgnDJc0zAwd+FH3vssesFsPzC72W58VsAwgQEjQEs+uUJWmUVmECC4JLVNhJdsGIHCm4CLXmJu/YIvtlOZxIpYONagjN/0j7LL3F/+MMfPt3rXveatzdqZ7zsWrcI4CSAZVVI7GBXKMGStK2VCvSxlW36H8KvTF8Jr7rxK37oc7YL2tonACMwJKAjiPXe4R1YgnV+cY9PWSHhGJtso4StAOW4nVIdfAJYAjbI+6zolrL6DAZWxyEy+cBebacNBCIF2NiqvhVcJsZ0ujf81butmeMKLO+z0c/IgzNKIt+1rYzaAel72td9JtiE6BC8gmXsCubsCxbsE7yygo29SJ8QvBLE0ufXLdoYTvTw3+Tev39uCwGs4NpjESgCRaAIFIEiUASKQBEoAkVgrSPQANaihQQSTNhNxpeTCXOCMTmGxzUysUUCDOExQbbVyQSajJHUdz2m1Bvzkxc+L+x+4QtfuDLZt8rLBD7bm8a66izXj5zVjnhN8OOLSb5raQy+JfAhnz71QslzTLLFzYtkj1i89Fp6wAMeME/+1y2CAlL05igQAUdEv3zBHDYgwYsEJNSPDZGVo7qh2Ic3lMDIGByJPEdYq49f8MaL5wUxYhsediXQlCARXcuJDCm6x/LYlnojT+qFf+SFk6DXGLyTJ4hlFZIXvAtI6YfLMke5/A+2cE1KHf0gfSLtgYe/8Vk9OIwp2LOPXSh5o04BMlusrMiTBK4SUHY92uo6iayxLWCDN21CR3xQx3kwDq88MuKffHLVhRtK+8pTjqzU3GOPPdZ7t0zs6rEIFIEiUASKQBEoAkWgCBSBIlAENg8CDWCdjqvVOj/4wQ82D8qbSKoJtxUhjpLVSQIAaz3ZXiaYJwlOjFs116rtVmdZ7ZUkoCXYsZYTjGGdZGWWFUVrOQkM6dNJAm9WAq71ZLWdFV5NRaAIFIEiUASKQBEoAkWgCBSBIrBlEGgAa8vgXC1FoAgUgSJQBIpAESgCRaAIFIEiUASKQBEoAhuJQANYGwlcqxWBIlAEikARKAJFoAgUgSJQBIpAESgCRaAIbBkEGsDaMjhXSxEoAkWgCBSBIlAEikARKAJFoAgUgSJQBIrARiLQANZGAtdqRaAIFIEiUASKQBEoAkWgCBSBIlAEikARKAJbBoEGsLYMztVSBIpAESgCRaAIFIEiUASKQBEoAkWgCBSBIrCRCDSAtZHAtVoRKAJFoAgUgSJQBIpAESgCRaAIFIEiUASKwJZBoAGsLYNztRSBIlAEikARKAJFoAgUgSJQBIpAESgCRaAIbCQCDWBtJHCtVgSKQBEoAkWgCBSBIlAEikARKAJFoAgUgSKwZRBoAGvL4FwtRaAIFIEiUASKQBEoAkWgCBSBIlAEikARKAIbiUADWBsJXKsVgSJQBIpAESgCRaAIFIEiUASKQBEoAkWgCGwZBBrA2jI4V0sRKAJFoAgUgSJQBIpAESgCRaAIFIEiUASKwEYi0ADWRgLXakWgCBSBIlAEikARKAJFoAgUgSJQBIpAESgCWwaBBrC2DM7VUgSKQBEoAkWgCBSBIlAEikARKAJFoAgUgSKwkQg0gLWRwLVaESgCRaAIFIEiUASKQBEoAkWgCBSBIlAEisCWQaABrC2Dc7UUgSJQBIpAESgCRaAIFIEiUASKQBEoAkWgCGwkAg1gbSRwrVYEikARKAJFoAgUgSJQBIpAESgCRaAIFIEisGUQaABry+BcLUWgCGwkAr/85S+nww47bHrsYx+7kRJarQgUgSJQBIpAESgCRaAIFIEiUAS2dgQawNraW7D2F4FtHIFXvvKV04EHHjiddNJJ05WudKVt3Nu6VwSKQBEoAkWgCBSBIlAEikARKAKrIdAA1mqoNK8IFIE1gYDVV1e5ylWmU045Zdpvv/0mwaymIlAEikARKAJFoAgUgSJQBIpAEdj+EGgAa/tr83pcBLYaBASs9t9//9nec53rXF2FtdW0XA0tAkWgCBSBIlAEikARKAJFoAhsWgQawNq0eFZaESgCmwiBcfVVRHYVVpDosQgUgSJQBIpAESgCRaAIFIEisH0h0ADW9tXe9bYIbDUIjKuvYnRXYQWJHotAESgCRaAIFIEiUASKQBEoAtsXAg1gbV/tXW+LwFaBwGqrr2J4V2EFiR6LQBEoAkWgCBSBIlAEikARKALbDwINYG0/bV1Pi8BWg8DPfvaz6fOf//xs7wc+8IHpoIMOmv7jP/5jvrYK66pXveom8eXkk0+evvWtb21Q1kUvetHpale72iSgttdee818u+2223TwwQdvsE4LikARKAJFoAgUgSJQBIpAESgCRWDTI9AA1qbHtBKLQBHYhAgIYO2+++7TT37yk00o9beidtlll+nDH/7wBuXuscce0zHHHDMJqJ3vfOeb+fbZZ5/pNa95zQbrtKAIFIEiUASKQBEoAkWgCBSBIlAENj0CDWBtekwrsQgUgU2IwLYUwHrnO985PelJT5r23nvv6SEPecgZUDqr8jNUaEYRKAJFoAgUgSJQBIpAESgCRWA7QaABrO2koetmEdhaEdhSAayvf/3rk+2JYzr3uc89XfjCF95kK7DucY97TK973evmLZEvetGLRlXz+VmVn6FCM4pAESgCRaAIFIEiUASKQBEoAtsJAg1gbScNXTeLwNaKwJYKYP3iF784QwArmJ3VFsJTTz11+sQnPjF9+9vfni5ykYtM17ve9aaddtop1acvf/nL0/e+973pZje72fTd7353uvOd7zw95jGPmcv/8A//cH4P15mVn//851+RJdDmfWBf/epXJ3Wvc53rTBe84AVXyp1885vfnE477bTpnOc853TNa15z+s1vfjN96lOfmj760Y9OV7jCFaY/+ZM/OUOd9QT0oggUgSJQBIpAESgCRaAIFIEisMYQaABrjTVIzSkCRWB9BNZ6AOtRj3rUdPjhh89BotFy78o64ogj5iCSLYOvf/3rx+KV849//OPT0572tDMt33nnnacf//jHE13Pf/7z19N1oQtdaHrFK14xB8Ui9IADDphe9rKXTec5z3mmL3zhC9ONbnSj6Utf+lKKpyte8YrTO97xjjn4tZLZkyJQBIpAESgCRaAIFIEiUASKwBpGoAGsNdw4Na0IFIFpWssBrPe///3TTW960+nXv/71/M+Izo888sjpK1/5ytx0L3jBC6b73e9+0yGHHDK94Q1vmE466aQ5/+IXv/j0+7//+/P5m970pjl4dWblV7nKVeb3ZiUIdqlLXWr60z/90+noo4+efv7zn89yjj322OkWt7jFfP7gBz94et7znjefW4H1uc99brrc5S43ffGLX5zzfNzkJjeZ/vVf/3XluidFoAgUgSJQBIpAESgCRaAIFIG1jEADWGu5dWpbESgCWyyAdbvb3W7aYYcd1kP8Pve5z3Sb29xmg+/AsorpXe9613TyySfP/0woSGQr4CUucYl5ldTNb37z6Z//+Z9nmd///veni13sYvP5QQcdNC2/A+vMyk844YQ5YKWybYh0+ldE2wivdKUrTbY/Cmh98IMfnOU/8pGPnFeFubjMZS4zHX/88fN2Q3L23HPPecuiMtsZY5PrpiJQBIpAESgCRaAIFIEiUASKwFpFoAGstdoytasIFIEZgS21Ams1uJ/85CfP76o6q3dgpa53Tf30pz+dt+Z9/vOfn3bcccfplFNOmYvPLECF4czKDz300Omxj33sLOdVr3rVtO+++87nPqy6GoNk3sFlq+Fhhx0289z3vvedXvjCF67wWxGW4NmJJ544Xfva114p60kRKAJFoAgUgSJQBIpAESgCRWCtItAA1lptmdpVBIrAjMCWCmDZduel52O61a1uNe2+++4bXIFl6+Bb3/rW+R1UXpL+ta99bb33U1n95KXr0pkFqM6qfL/99pvfp4XP9kGrr5L+67/+a97C6NqL5L3UfQxgve1tb5tuf/vbh3166lOfOj360Y+er22BvOENb7hS1pMiUASKQBEoAkWgCBSBIlAEisBaRaABrLXaMrWrCBSBGYEtFcDamH8h9PJ22/Uk/wRoG9/lL3/5+d1UglmbKoB1hzvcYXr7298+6/HS9vFfCefM0z+8I8sWwzGAZSXYla985RW2Zz/72dNDH/rQ+boBrBVYelIEikARKAJFoAgUgSJQBIrAGkegAaw13kA1rwhs7wis1QDWl7/85fnF7T/5yU/m90h5D5aXs0vXuta1JiuyNlUA6+CDD56e85znzLKXV1TNmUsfYwCLXTvttNMKRwNYK1D0pAgUgSJQBIpAESgCRaAIFIGtCIEGsLaixqqpRWB7RGCtBrC8wD1b8/bff//p5S9/+dw83nmVgNGGAlh777339NrXvna95hy3GC6Xe4fV/e9//5n/gAMOmF7ykpes1P3IRz4yvfOd75we9KAHTZe85CXn/AawVuDpSREoAkWgCBSBIlAEikARKALbCAINYG0jDVk3isC2isBaDWB9+MMfnnbZZZcZ9mtc4xrztsFvfOMb88vWjz766Dl/DGDZoijA9MMf/nC69KUvPR111FHTZS972fkfC8997nPP/yS4ofIf/ehHc1DMPxx6Sfub3/zmabfddps+9KEPTXe+852n0047bfrd3/3d6Qtf+MJ0gQtcYL0thF2Bta3eGfWrCBSBIlAEikARKAJFoAhsXwg0gLV9tXe9LQJbHQJrNYDlnwltFfSOqTF5P5X3VH3zm99cbwshnvFl7KnzD//wD5N3XJ1VuRVeBx544MoL23fYYYeV83Oc4xzzO7L23HPPWU5XYAXdHotAESgCRaAIFIEiUASKQBHYVhBoAGtbacn6UQS2UQQ2ZwDrrne96/TJT35yRs47q5b/hTCQ/vKXv5x23nnn6Ve/+tW01157TYceeuhc9NnPfnbeusdGK6yud73rTY973OOmI488cnrPe94zr7h63/veFzGT1VCHHXbY9Ja3vGWWteOOO04veMELphvf+MYzz1mVH3/88dMTn/jE6cQTT5y+853vzP9IeP3rX396whOeMN3gBjdY0eM9Vy996Uvn62OOOWa6whWusFL26le/erZBhm2MbG4qAkWgCBSBIlAEikARKAJFoAisdQQawFrrLVT7isB2jsDmDGBtKmh/85vfTIJctgKenfTrX/96soJqQ+msytWzAuy85z3vhkQ0vwgUgSJQBIpAESgCRaAIFIEisE0h0ADWNtWcdaYIbHsIbA0BrG0P9XpUBIpAESgCRaAIFIEiUASKQBFYWwg0gLW22qPWFIEisIRAA1hLgPSyCBSBIlAEikARKAJFoAgUgSKwHSLQANZ22Oh1uQhsTQg0gLU1tVZtLQJFoAgUgSJQBIpAESgCRaAIbB4EGsDaPLhWahEoApsIgQawNhGQFVMEikARKAJFoAgUgSJQBIpAEdiKEWgAaytuvJpeBLYHBD7+8Y9P+++///Sxj31se3C3PhaBIlAEikARKAJFoAgUgSJQBIrAKgg0gLUKKM0qAkWgCBSBIlAEikARKAJFoAgUgSJQBIpAEVg7CDSAtXbaopYUgSJQBIpAESgCRaAIFIEiUASKQBEoAkWgCKyCQANYq4DSrCJQBIpAESgCRaAIFIEiUASKQBEoAkWgCBSBtYNAA1hrpy1qSREoAkWgCBSBIlAEikARKAJFoAgUgSJQBIrAKgg0gLUKKM0qAkWgCBSBIlAEikARKAJFoAgUgSJQBIpAEVg7CDSAtXbaopYUgSJQBIpAESgCRaAIFIEiUASKQBEoAkWgCKyCQANYq4DSrCJQBIpAESgCRaAIFIEiUASKQBEoAkWgCBSBtYNAA1hrpy1qSREoAkWgCBSBIlAEikARKAJFoAgUgSJQBIrAKgg0gLUKKM0qAkWgCBSBIlAEikARKAJFoAgUgSJQBIpAEVg7CDSAtXbaopYUgSJQBIpAESgCRaAIFIEiUASKQBEoAkWgCKyCQANYq4DSrCJQBIpAESgCRaAIFIEiUASKQBEoAkWgCBSBtYNAA1hrpy1qSREoAkWgCBSBIlAEikARKAJFoAgUgSJQBIrAKgg0gLUKKM0qAkWgCBSBIlAEikARKAJFoAgUgSJQBIpAEVg7CDSAtXbaopYUgSJQBIpAESgCRaAIFIEiUASKQBEoAkWgCKyCQANYq4DSrCJQBIpAESgCRaAIFIEiUASKQBEoAkWgCBSBtYNAA1hrpy1qSREoAkWgCBSBIlAEikARKAJFoAgUgSJQBIrAKgg0gLUKKM0qAkWgCBSBIlAEikARKAJFoAgUgSJQBIpAEVg7CDSAtXbaopYUgSJQBIpAESgCRaAIFIEiUASKQBEoAkWgCKyCQANYq4DSrCJQBIpAESgCRaAIFIEiUASKQBEoAkWgCBSBtYNAA1hrpy1qSREoAkWgCBSBIlAEtnoEfvjDH07vf//7t3o/6kARKAJFoAgUge0Rgctf/vLTta51rTXpegNYa7JZalQRKAJFoAgUgSJQBLZOBB7zmMdMz3zmM6cb3/jG029+85vZCcdf//rX0w477DCd4xznmPN/+ctfzsdzn/vccx7G8JzrXOdaqaduSLkyclKfPNdS9Dgm31HK8ac//enMd85znnNCsYnsX/3qVzPRgX7+85/PvKmLn73k42WD+nhdR698dfCO+XQgST3yJPUkZeol37UyvOgXv/jFirzggCfl6kZWZEQ/PjTWi3x14hv+UGxRR8IXcq2+RL86Unx2LT82pZ4jebFPHXn4w6NMvbEuPiky6U4d/KONyvBJ4XGeus7pkuhIih2uU385L7aljmNkjXnL53hCZEd+6rOT3ezhS3yXp17qpJ48dZKSH3mO8S0yxrycq6ccjb6lLj6JvshxLoUndriOHbE5ealPRurmPDbIZwNepC4eFLmpG7mOkZ164SEr9dw7yXeUH/nqScv1k4cP5Rqf+pHB/2CQvJl58ZF6uR4xzv0sL8TX2EOW88iOHSmPTMc8D9N3kpc6OconVyI39pGZc/l4oh+vc/n40m74Y4vzyJUXSt2Uk4E8J6TR3+gf6ziPnuiPLGVJsSk245Vcwzb2xF5HdZZl4Y+s5Xp4Y0vk0RGZ6qLwRA4eabkOPily54vTr51HrvORJ3KiK76uxi9vtCPPyeRFrmPk+d57z3ves55+NqyVtGYCWC996UunN7/5zSudeVMD5AGx++67T494xCPmRtxvv/2mb33rW5tazYo8+h772MdON73pTafvf//707777jsPglYYNvGJjvuCF7xguvKVrzy9733vm/7mb/5ms2HJ9Ete8pLTq171qvmB8Pd///fTq1/96s2mzwP5Bje4wewT3QceeOD0la98xelmSdruoQ996HSrW91q+p//+Z/p3ve+9/TjH/94s+gilH/Petazpmte85rTv//7v0+PetSjNhuW9F34whee2+u85z3v9I53vGP627/9282mz0PzD/7gD6bnPe95VE8Pf/jDp09+8pNzv5kzNvGHttM/7nSnO833m/vO/be5En1PfvKTp1122WX6zGc+Mz34wQ9eGUBvDp3nP//5pyOOOGK60IUuNB177LHT05/+9M3Wduy/7GUvO7385S+fXXniE584feADH9hs/sFyn332me83/eY+97nP9I1vfGNzwDjLpM+9drOb3Wz64he/ON33vvddGXhtDqUGDJ6Zl7jEJWYcDznkkM3adhe/+MXnvkKvQMLRRx+92fTB8g53uMN0v/vdb4bu/ve//3TKKafMg63NgSV9D3rQg6bb3va209e//vVp//333+yDLPeB+6Hp7CHgWX/Ri1507hMJ5BgsO9cnDZKl//7v/57zPNN8Jynzfav8fOc738pg3zPB4NpR+3sWKsdLpvwMvOnB42jykXwDchOm85znPPP3gnGTazpDbCJPgCu8xgFk4Umdi1zkIit8P/rRj6bf+Z3fmZ/L7MlEwjn9F7vYxaaf/OQnK3XZhiQ+84VOOvjhnM3y5bmOXjbAjDz59Mau0dfgpVzCS+fPfvaz2bcLXOACs2588pDEHnXwqhOb6GAPfrYgZRJcJbg6xwuf2Ekmf1LHkewLXvCCM8Z0KZeil570B35FJx7yQzBOH9AfjG8kctgiT33X8cX12Jfooh/FP3Wdqy+pS4Z60S2fXfjk6y/xQ5n86HS+TOyILeHXDpGpjeiClTyyoh/Wkvy0E92xIfZGpzK8KDqVyacD1ukb8uhBzvE7kqk+HBzVl9RXrk/icc0+eXhyH8mHq3vLEa/EfmX6A9mu1YketrElstWh3zUd6iqni9zgQQZSjpTrK/GNjJSN/qifRL5El3rR5RofP6OHbPpTJ3rgJ+FnAxnqBB/3Cez5qc31OdfRiY99ZEuuyVY++kAunmDu2rnn11hPnrr0OGoPfrCTvNjFBnrYKl8iM/nqxI7RtrHt5fMbn7rpS/K1r2eKhIctbMMbHx2RuuSyg734ky9PPTxjn3GOFx8f4Kte+NUJsQvF1vDK0ybyyWM3O1B8i8zYrwy2wS3YRRe+0Qb+omDjPCnn6ow86sdXftOFJ3Yqk+I3tFZfAgAAQABJREFUHmWxkX9k8CEYOwYHR9j93u/93tzesWctHddMAOtGN7rRdP3rX39yBLKGAi6wNYCG1yAeEDqHDhUeZb5wge9cvRBZOtKpp546T6K//OUvTwYbBkuvfe1r58bSsJGlMelMh1cmuZb/ne98Zz6ywY3nqEw95AHOlle+8pXTH//xH09PfepTp4985CNzIEuASacgh01s4JNO4gGjHnkeDknk8Z+/+PhHBh6+STqigNXjH//46Z73vOccODv++OOngw46aNYFC3XoDC6Osd3Dkx1k0xNflcd/ZfJzU5usCAwYpJhEmJQ54vvBD36w8iDmK7vZqz75ZPCLTnZIbMuDDI58Y7MkWHXIYrKn3SRtBV88Bit06hdwosM1vWTjIRfJT2IT/fj4icjF83d/93fTunXr5oDgSSedNF31qled3vCGN8zy8avHRvx5OLCVvuRHD37ELjzwxIfky3vKU54yHXDAAZNJ39Oe9rQ5kPvABz5w1gMrdfGSnTrwoltic3x2xM82CX+SPHrvcY97TO4DS0MFCb797W9Pd7nLXWZb8ITSDmTAh63kj7bzJ30EX+yITjjTIV8i+2Uve9k8oMefNlBGjnK8iB8o/TzX7ECuydC3yJHe/va3z7i87nWvmye2Hr6vec1rZnlks51fdJER25WRl3zyUPohe5yHn06YvPCFL5xuc5vbTFYbCMI/5znPmR796EfPfuBRTzs50oGCJXvZQ48jHkmbI/UyIAr2gqmf+MQn5mDnQx7ykOk///M/Z3zjGznI9ZhckwcvJPGXXGV0q8dH5fL46nkiH69JGD+veMUrzjzq8IVc9XJPuWY/2fJyTQ7s0ag7tgjICSQdc8wxcz33rMA4HPNsVA8mZJHrOr6yFwV3+vElpY/kWfCiF71o/s5xz73xjW+cg1me1/xXL1jEPvJQdNKD+BoM2aQ+H4MBOcoFyN71rnfN33FPeMITpuOOO26+55WRORIZsEtbkCvBHB+Z/KFDYoekzLMBn3va95VAliDyXe961+ka17jGXFd5Etn8pSvfEWSP3wUjjsE1NpAj8P6hD31o/q5zzSc/bMB67N/BiTw2IHrZTa4UHOaLxYc6ePA6x/f6179+utSlLjU/S/SXe93rXtPzn//82Y/4Fl3qIil60r6u9WGUfpM2VB8ejr5L3d9//ud/Psvpx1kjIIDl+1lQM/dA2twR9rB2P+sj7vGMD4wh5KUN8bq39XfnylynrchP+0WHNlcfv3P3pHGWNjX2Sp/GT54jmcod07/xRZa+l3vNZBtPnml8lWecIl9yD5NlnEQHObnf8LCPT3Qqz30RfeqyyzXiizpsoFedPGfC4xjf2AtTcqTY6ihPv1efncZkkjry6WEriu30sxuxCw8iTyJTfTLphQW5rvEFy9jo+eBcu0QXOfLSHvFZnuSanuhSl55gQa9EF7tgSz+f5AUb8vgBS+fsY3vqJk89OpPwBQfy0+/Yr53JYLtEBoreYKY+vpSTiSRl8tnGx+jCj4dOx9gaXcmL/viftkr9EVd6JHq0Bdnaa8QktkZubEtdemGE8t2sjmtyJefwka+vIbq0WezTTn4Ydx3CQ49ngzYMHvKUIX5uyDb3uTrRwfe0gSM/R9ycjzzsRRKdysPvmL5EP/z4RVfuGf6NNuce4yt5kakeWXjTV9kmyQtOrmODunQ54qEfTs75oMy5pF3wyadHGdIu8unKfYKfz/KDr7z4qsw5O8372MM+PqgjkZs2GWXIwy8v2KZO5JItL7xsVgbT3Nvq06lMyjm9qc93PvKNLNfk4MUjjx72xF6y0kb8Sxm95IRgDS8+kxc8ySObPPWRFDsd8SDn5I8pmDhGJjtdhzdHeqObb3Sm32lvRId83018GOXSC0c+BRuyY6tz8nfccceZZ7RzrZyvmQDWzW9+8+nggw+ebnjDG84NB7x0BuC61jG8V0Gn8GDSMBoApbON4ANZA+hspy4CWAb0n/70p+cvu8tc5jLTV7/61bmxNKpEvk5DbzoNeZGvcxhYKXeem8KRfermy1qwSr0EsPxCfOSRR67cQOzVqfC4CXQ2X35s9YVMLz3y8SojWz6/c+PQq84DHvCA6da3vvVKAAvfwx72sBUM2eiG42OID+rDFE70eQAG62AAG/K0g5sAn8CAwBK7BLP22muveSIPg7QRWbBlNz/Iy42fm9ORbD4i524o+exz/NKXvjSvqMmqK/blnH48CZqxkYz4CF82852PEpucq8eX3PjkquuXdgEebSiABdePfvSjK/bBPm1EH5/4FtvZjcimgy1k48Ef3fLpfuQjHzntvPPOKwEs/gqC4GM3e8kmy5Hs9Fk65ElkyQ+/fIQHSa7pMtkUwNIv7W/ee++9ZxsjFy99sV/bsJ3N0Yl37CPqjInP2n6nnXaaj8pMpq3iyRcfebGfX5JrdeOnAKu82EanMsSWfKmoK4B1wgknzJNnKzP4pu3Igw99bBplKEs5mc61r77D/+Cnbn4xppM9hx9++DzoSgDrX/7lX+bVLnSpF4zURfLgSL+kjRH/5KXMEbGVDcrUvclNbjK99a1vXQlgGfAJjLB51EGvPCn4krec55qtEjsiQx1YCBLII88X2Zve9KY5gIU/9irD476AGXn6LX3ue3Lk8UM5PalLjnz63v3ud8+BpH/6p3+aZbm3rcBSThY56mmbYKK+5Fo5Yge/nMd319oMhmxhr4CHvASw/KDh3qeDTxJ+FDkpU84X9cmTL9GDPzbnWp4Av5WWfqQRwIKNST4e8kLuNUnbszNtEVtgIZ9+vPLxkqNMnnKrca2Ccs9d97rXnfulVZ6RGZ88v9gr37PSOdLXyUzZbNTig514tSMbyPnwhz88Pfe5z51X/+KDiWe07wD1o8sxfjjmmkwYjljQIcnHh5S7Ftj81Kc+NQeVBLAOO+ywOfCf+o4S+9JO6ukT/CWLfHwwQ9pSfvBVH5Z47njHO84rvhrAgsrZS/q2cZrnkz6Q5xw83aPaI9/f2gLWuZfc42kfbYJXGdJX0lYs0Y/wOuJL28tTF3/4xmeDfqCt1XP/xD469BP19B11YoN8uiXPOHX55phxRlb8koOXTQl2pX8FD7aSide5cnazBeGTT0b6ac7ZZdyjLsqzQP34Phu6+CCDP+xMuXMytRFZMJDYgODDJ3L5wR5yYhd5sUk5eWzjT0g7Kst9RDe+6MEvj348SMIT39kiOUZ+8lyzG+FXn80SuWyVxx624pEvkeE8tvMNj2NsJB/Jk/js2lG9kGtt4HkXuY7qKZNcoyRy2EMXvpSRIfl+SB12ag9+wMp1+KODHuSa3Dz75KWdose1hE9ynWe1eqNdkcteib3RH92O8tkcmWwNVuQ7ZzP74QYvKfzayY9keOQhtrjWpuSrFzvYoH0luuJ7cMFHr+v0WbzJix/xBT/iS/yKTPXwk6UsfPLVDz+bnbM391RkqKufspWfsGJX7BntJp9cdeFClnJ1yWeLumlj58rVwzMSGfhif3BjKz75ytmcPqaO/OghPz7y2XmIjNibdmNL6scmsiPPc4FfnqHOJXJG29RDEl3OPUcl9ugL9KmTfkKmfkUWG5TjdU0GXvXYgc9RHt7U1S7yYSCpy/boS5tot+jFR350xl42y0PqOZLtGB51pejEp555T+a1bKAvZY7xXT3l/METPPjhHG/allz11JGUI/nskeCVcrzmb3xfi2lNBbBsCcgKLA0sARJpHA2hs2ssDZKHhIZKUk+5zqhRNIZG/cIXvjDd/e53Xy+A9bWvfW0uV3fU55ouenVQOnXgfDkpl9J5NbzydA4dwkoMMhPA+ou/+IvpqKOOmnk8jNKp2Id0FAEtN7Rfk9SlHy9fEuyiFxZ000O3On4hvuUtb7kSwJJvABn8XNMpyZNyTRZiA13y6Scfb7CBI13KBT/GAJYB/h577DHbSw4s2Jkbnx9skE+OMtfk00Oma+fqy8fjxrEqQ4AlQSt8p5122lyuD+DJjU42e2M/WfIQGyRyJTz0sCk+y3/FK14x61otgKWcHG0U/NPX2KUtYYTIph9JyunBA+/4KFh1vetdbyWAdeoi2Cogwj59WZ0k53xJm5GFjw/5tYkeOuU7TzvS53o5gHWd61xnxjdYqJc2cU4WO+hwTgZSJuUoj30oPO7NK13pSiuDY5NpE06BkfiGVyKfDeQ5zz313e9+d7YHD7uU5R6PffoAOW9729vmybTVHwlgWQEJM+1EPpvwyosNbE7fxpNVifi0d9pQ4E2fgztbnvSkJ82+JIBlv7ggBR7ygwd+NjqO+JCL5OmXbEx78S3YKse3HMBij3ufnSM/3XAKZnyKz8E5euCsjG2REzu1Fz76d1wEsAR5rnCFK8x8fAz+6i37Qo88ZeqTE53K5KkfXKzAskJpDGBZQcQX9qjjPPzq8ouO5XJ8uS/pkfKMUwdZPaduAlhW6lllox+oS4aEJ7a75k9wCjZsQ+wgO/6yMdgsB7B8r/iRIfYFJ4M0eWSxOTrYgfLsJDt69NHYkLpXv/rV1wtgCfII6NLDxtg2Tlzy3FKW77s8q8iN3+oHE+f/9m//doYAlucYX6JHXXXwS/JTNmcsPvgQPe5T5Xleqx9aDmBZxWpVVp4L5EhkIBOH9Ak2pW1jA152xbacR5/vHyseG8CC1NlLxh+wFsCCp74LT9h7vmpnz6+Upd1J1/e1jTwp9bSv8/TJ1E0/0lfS9rlv8ctzzD2knu9L+fokfemb4aeLHv1Hwps8154R9JKFXCs3FiHDc1V9PjjHE5/YQadEbvqj6/CxJ/c1uSi6PHuds40uZfLIpVNdepE8Rzzxkx3J10by6ZLURfLJVC/fgeRERvBgu2eyOmzJc9e5+w4//+nE4yiRlTz5wS+28cN5+OOnZ1R8ZINzBA/tT5fkmm72szFYyCdLIjt15ZEXuxxdy48dzuUjstWFIx2htAE99LLJMXKUKyPTUSIveYK6yowx8cIGaQ8YRWewJJf80XY87EPK0ibxgz7nyh3xuB/YQKf82Db6jFf+WDZilH6CT/5I5KiHh3ztNPoNv/RrfGTER2XqJAAUWWx1rpys+CWPbjKQBBMJbzDFE39TZ5RFXlL8Jg/vqI888vGon/ma+5N8vHSxX1sY/3pOuG/0D+Vkxp/o1S7KYUa289gbffLlxS766SIv58olPGx17Ygv12S7t5C6kUcPO9kSu9STlMl3TWZI/SRlkR0fjX3o0Qd8F0h42KKdkXr08S+26B+RkXEgnc7lk4kHxvFRfdeO+GAp0R3s5BvvILapG738Uz94qyePTfgk10jiQ+qyyTVevjgqk1xrHzzy8TmXTxZcshgEn3zlcHGkG6krj41IGVn6WvyAC3zxxb7ZiMUHfik2xE956tuBBJ+1mNZUAMu2KSuwdF4gSmkIHStftBpBY2hUfOm8ATgNiU9n1TCf/exnp/0Xq03GFVgCI2l8nSP6dLB0FvrJx6dTeTClE3g4sRV/7MFDp0ksGQlg0W0FFpuVK1MnnYYePpLtwUZOePG5KemSlPFbHUm5ZfoG19lCSI4BpA6IN5jSS646eMhy7svSDeM8+PFLfaSTx1Yy/LpvBZsvWyuwbE/ZbbfdVgKM7FKH3cEwNxY5cGSH8/ilDl55eNnBdsFH7zQaA1gmtsrZgof9+UKMvMghiy/4+OtmluRFH97QEYt3DPFtDGAJgsAmcjzk8NNPHiwluvkV38hHEjtQ2kM+vsc97nHTH/3RH60EsPRL708jm1zH1E2b6UOIPuX84j8+7UW2c/nKpfhnEmuVUlZgCWAJ7sYefOTyS1164h/b4Q6L9I3gHTtHnXCyfcnDVBIQ8S6eS1/60iu4qUenxAZERr6I3H9pKzol5Wl/ebHBe/Rsn00A69rXvvb0uc99bsYibZdBP3yC54gzeXjk0UG2upJ3uuSLT76VNNlaJ/jh/XPeKaaePpk+EvvjG9lICk/y0j/UkRd81BXAestb3rKyAotu20/5IuGFTWTJC6aRl3L5uSfY4DptDnM4LK/Agu/lLne5WR8s1M+gMrqCKxv07+TPJ4sPutgSSvsJbApAJoDlGeG9YvoaOY7so1Md9eObvGClXfioncZ7Mz7qz87d384TwBIAEbxWJsUPmCaRTTe98unETx8bYaFe7GSjMvVsNR1XYBmcbCiARZY67OMbOY7y9C2+IXbIQ/Chm33az33uWZIVWLaYu9fJjg/4tSN+upRJ8k1o8AVbfvCZzqRc+7c579nS/yW2nLoIYLEVPuSFly/O5UnBMPmulX3zm9+c7YIlu1BssM3b9ln3nH7z5MV76Nzz6qa/OGcr+/kXG5TDzhFuwYJsPOxQz1EZW227bgBrbq6z/WH8AWerw2EraUPPdauU4Ktvwlj7IO0hH5/2U881Sj9KG5EnX/tKeNNXXJNHtpT+41y+vs42Ml3rp/oD2a61vzyy3dP42EOOPHzhZwN+ZWzwnadc/VE/3Unykbp49TE2RU/GgnSNtmdSA0M8jnjIoc/3VuTAQp6y9HnPHPz00U+fMjyxlS/yyafbdcr45xqR4RouwYx/6igjU3uSFazjc+rmOtjBQh3yUFL42cpnGPNjtAcvf/ktsZEs9iGy5bHLNZkoNqqTfOfKXEt4kPrkyOdXEr1sIRv++gze2Mv/1NFGfGO/PPUQLNRJAEtbRSe5/A6O+JTJDzZkOZc31oMtO6To4AM+NvCDfs/78PCBjtFHZa7VQxI56vIf0UsHPvaE2CXFbnyxNzYrj3zH9KPkkYvoUUe+a4ksSR4d7ELO2Qc3OpXj5TcfYIpHeynHq9+Tr/6YIptOdfHgjzw/tKqj/xmX4YGjcSBf6KJHW3jufe9735v7AX5yJP2CjGDjqIy98VXf14fYCwtyI4MeefjJVx8l8WEk+fwP8Ym8JPLYxA86lPNLPrnBhL70eXXN1fHjI1sdRHZkOsIi9zk/8fATwYH8+E4O3+Tj4z+Sj4dt2pmOYKY+fnn4cu/J098jn+2u3XvwZRPZysllp2sJT/TTSxZf0i+VxWf1Y2OwU6YOG+NP+MjHpwwfHMjGH7l4Ed2IfHXIMmZ2lMZyMrRXbCBLSv+ghxzknHzJuTFj2mjOXEMfayqAJQiTf6zReBpREtBxQ+hgAAZ+GiCNmZvUtXpIo2tEvAJYXu6cAJYJ9Mknn7zSOdXHT346WPJcJ398yKeRY4POoaO42TcUwGIXWXS5KdSNP+nMeeCRhZcdeONz7ExHI1Pwb88991wJYCkz4JbU54NOSCZSh51kurnZgcdReR4s9OORxz9ylVmFMa7A8gu1ABbbfQGoE142uEaRpz3JpA8fnyQ2SHR5AOIXwBIkGwNYXsAPL/Xx8MXDSz3X8iV+OieXftfquaZX/1AefvX9uj8GsAQGBbDYqJ46sMQLC3qVkSEf3vTIi9/O8TvmwUIWDKzeGVdg2b7ohdlkSLHfkQz5bEdkuGYH2fFJPjv4qsy5RPfVrna19QJYJrp3u9vdZlvTF/iRL3IP9/ihPh4E5xDZ8ZEudkq+DJYDWAJMWYGlDiKff+TxQX062E+nMjzKHZWPPqtDju11H/zgB1cCWHwz0Q2WcOFbUvBUzm6yydKfyNM+jtHPHryukXfPGYxkBZaJvK1U6sBNIoPcUHQpixx2qCM5jx1pNzY593wURLIVzP0t+GB1p7rKyaZvlEcHv8kgF68+K8nLwEO++xKu8k2WBKvUJW/HxQosL/23/Vq5NjQgyD2PR3742YLolMc+OpzTiZdt8dEKLO2XAJaBwqmLIAh79AF1nQdH9o++KUd42QIHzxDy1clRn3T+4he/eLYjASzvTVveQkh++iS7JXXjm/PRX32LDfCNf3jx3OIWt5ie8YxnrGwhZIdJPlvpCU7qqqM+efSrnyOf3BvuT+XRI59u2MoXvB0DWIKtnjN5rqonGWzr7+xhCxn8YgcsEdz1ffl4JTbKZ5t7Go7LAaz0/bnC4oOPfI0O8pB89jiPDfof2XTgD5FltZzAdAJYhx566JynjF30slciO9jRTYcyPPJD/KWbv/jodo5/3333nV9x0BVYM6Rn60PfhrFxXfqzo35rsqddEiDXBvqtNk77aQtJmb6B0m/IVR6e9Kv/z969vNh2lH0c/ze84j6Cl7FivKG2B0V0oqiRhARtCYIDIRBEFIxECU5EIipqELUhJGQkRkFBRU8GOlBMonGicdATefG/eNenXr/N04tj6He2wS6oXmtVPZffc6latWqvvRtvbWJXjmvDi648EuPy3lwDl7HRmKLDeTmAT9GGV7825/TQLa+0lTuL4d9/9MslBU+Yw+O6go6M5iq6tMFrzvWgYg4wNlzjDS9/kckWeFzT7dpc3TUMdLievsRLV/aFCw158WjPr3zkGi+5SjaGxTU/hS9s2tNFdj7Pp7CobGDvjBH9eMJITrK06cs2OMhUZxs88acLfnKKWbia+6IjU+nakS/Q4SHDvFJe0CNe+tHp18cuOLS7B/OJ2JPhnJ7wOJLDDke20JtN6FVFWza77hx912S4lv/46HTtXN+U57qKn3w+UmCM3nW49DvXn0w6YHE9dfGBNrTxuZ5+4Cs8dOUD9Ao6VaFT4a/Wq2Rpl2Po2EyOa7LI1hbW9JIDDxoYHdGQjQe/D9Vdiyd92WUjEo1nRxv39Dt3fyNHfpBFFzn40OczfTAq+uQIDOiNBfyKNjmFXlXIUBW259vVsP2hv4qHjWSiU9hTPmtHgx6dAgMaOpLjCKeabkd0+T18ZCTLuZKtEy/bVH7Bq+pH65jdYYQLDnRwiAc6Y48cbeZ8bfkNjdqbcdlWTFsnyw/2JA8dPeyo3VHVrl/NNpjDRbZzbXCQqZDlXIXVkT2O6XKOj2y68Kj69fE1mWjkpIqOHO2O/Mlncqo5iX4y0JJhHel4jOWoNrC8SeC/9gkCpxuYgmdikFhu2hyZo9EUtBnkAlBiONrA8lWbuYFlY0SQBBa/YiAIrJJsySDgqoA7wiGRBR8vTPBISOf7DSwPmd7AQoufXrQKPknoWjsMjqr2kslRVWDUhxedr19+6EMfutjAMlC10cePJTT8JbnJNDt6cJ2LyAY7Xv7HSyebX/KSl1zawPIJ9c3tv3m56ZoY0JHtSB8cMKvk5TfnaPSzQz+b2Am36/PtIdbm3NzA6iuEaJNbvvAvmQrM+Zd8euDh43Ipv+pTfbq/38DyI8XkkJ18cuQOvWRkMz36Kvi0pQc//drh2/8GFt2+EkNG/smXrvMVea7ljUo/uWJINn7Y1GTpe+1rX3vpN7D8sLMNLMWNFa8clhNwywNy+ZkOeS8f8rujAg/6qja8+9/AeuaZZ9amj37y2ECnI9+Q5xxu/qGbbCXf68+mcNFrg8VmY29g2cB69tlnl3/QK+F1jqec0A+HfnqcqzAosKraFHz738CygeU/A2YDmnIQH3562DPloVOyGy4y0OETf/6wgeV3qNrAMtbMLQo9an4hSyHDeXlHrjjLGe02g/Xh1W5s4vGQaaMaTnhubBtYvgZtw0NczQHGu4WYjTQ8ZMPKHvK1ZSf52umySHDUX376UXM/pj43sGBjT4s9/Hiq7GMDHZ3Tr8BMp6P+7PUQZ9za/DAe2sCSM9rwoFXwoTEe4NWOV/5HIz4wqM5hQ1OhX5/5UW70G1hk+q+4in6+0xZmsrTBoJ9+bfwlRujQa6MDJrrFxJjZb2D5uusdd9yx+MlCQ654spGPFbKKHxqVTjZp5z987KcTPhtYxsJ/2sCCUcWnwolfbIsPW53rc8wuOumowihWL7zwwsUGljedtcVDLh+RQx/Z+Y98/eRqZ5+j+U4fn+Khzzmcxpi35a43sHj/aqUNLF8h5G85Jh5yxtzCxz5IVPifr9HJMz4Xy+LmqCpo5KP4OUcrVuKriKHiWnv5Vh4YN3LDPGEek/fmUfGHTT7gIzv9dCiu8cGmv/zC45pcMuj24BoWfNlFDr4KGtiSRbZCprGmn37yyVWthdmBj1/xuM5evqEPj36FjHI77OjZ7xq/4hwv2fpV8vBrdw2bqsAHk4LXOV5FH7uSzQ8waNfmGq3z4q1/ttNLPzlhQ4svjPksGsf006WghTmsaPRpY5OSn/UlK1+gy9dwqGjCQhZa2OnQjoZMVaFH/oRDOx5Vm3x0rpRndKCDPx36ydKmZGNHPI0PMt0T0MKEjw60XaM3pmDX1iYOWlWb0nlY0oEPfnLInf2wa6/oV/Olc/1k81sy0Ccr/frkinZt+TkebZMWXTmDFi6Y+ZY+ftAGP1qyjWGFHHT6yUeLh51q9OxzbU2Dhozo6Ta+tJtfvFVMhvPGIr9rg4E+8mAgn+70T1+j154+tvFncSbDPDRLssiFT6UPL92u8xXb0ZNTbOlS8pVzOOBnM3qy8rN+utKHpmfO5ki0fEG3c0f0bM1GGODkY+doqmgVffTTEQY2oCMLRoWPyGWntS4e9uDh8zAmj80q/tZV+Zzc2sgMOz1wqvToy5/0qQp+1bV+OBxV7WF3JCNMruFEo6BPd/K18RmZCtvgRkdOfezif3aYJ/SFy1Gb50P0x1iOagPr9PR0fUWG4zgyh/svaZzsIUkgDXz9BoEkQS9gklC7o8RuMDpa7PpvaG1geYvAJogAC2oFPx1K7WjIoEu/YKvevOiTMJjwoTNIfNIOQ18htDn361//eukjQ6KRp8BOB3sbHOSpSgk/k3Z1jD8WiX5jpa8Q6upH3J2TZTGUHXRLTro9wJCtaFPQ4dHPD3ytDXa0r3jFKy5tYN15553rN7D0i5Ui6fv0wUBhI5/QzU5FG7+RqeLHJ4bReCPJ12/2G1j48fIPjOjlAplkaDdw0WjLxvrpcg4P21T8+zew6LbpUo7hUenES24TqXYy9NEfLaza0LFNu36Y/QaWH1nuvxCy08MmueTDLxbhJR/W5HXUjpZ8R+3kk6OPTn7xneb5I+4mKG/QoRc7dspvMYOX3jnxJw9+Jds7hscRn00QR8WY+ctf/rLGDZwzx2CkG05HeuB3XmzyKfuUSY/fj7j7PZ65gfX8889fYERPhgofnqrrin74VLoVvHyRb9Hb/DCX9AbW008/vR7k0ZArfuUgWWzjJxVNlQ5t9BprePVpo5f/+OLk5OTSG1jG7qc+9alFV76QBSc+JdnkkSMH6CAPPr8VBpu5DC05MFuQsQ0fW29sG1jmMDliXPsBefEjU1yV8pSccg8OMsgkx7VFHZ2uLZbR+2rpj370o0sbWD54UJrr+UMphuti+0MO3+Zj7drkcDrZis88yEb/hdB5G1jewHr00UcXPnRigM6x2LADfv3aVG3ppUsbGvrSDc8HP/jBS18hNNd+9rOfXbLQkSFu+NKZPPrYp7LJNdryCR0fOZKrfb+B5S2lN7/5zYs/XXC5r4ohXyhk0A9HczGd4kmv2JcT2tlq49aHNnMDy7xdf37Ld/SQL+5KtumnWzseBR7t8eIzvudXCP2+l81P+NDjV/GwlR2V6V/96e6+Ze4jJz45cL2BlfeufrSBZWz3QZoxz9/yqM0d85d4K/xt7LgWw/yvTTwU/PrERNFHXnHUp03BL4fKCX3OxV91Li/kvr4qHjLo0KaEQa4Yd4r8qt+8p+DxYISOjeUxPcZCuNOVXPjJTTc+xTV/qGjRqPArbKSLPPKzLWzh6D5Ljj5HtPR6qNTGj3Q4kpVvjIf6tdPJZ3CgJ6u44M2GMMMJn2s+N8848kW0xQNeeslDj4ZuRRt9rlXn+KtoZn90dOPNHkf60arliXP408ln6MQz7GzWlmzn2sigAy85ytQx27TPUuzIMXej1aawjW5zE9yuixM5qja6HZONR4VT/Pg8DI7dc9HzuSO5+aINLH0q+WgcO08+HcXNuYJWZUe5WlvY4MXniEY7bOWlHMOTP8KSjvjj0Z7f0oEfXrxsQytGzrXpU7S37nKukA+DQrbcJ0+c5AYdfKagJdO1djTWO67R0qn63WV9bZ7Ai06b+MKELl3wTf+Qnd2O00444OM/NkSnLT7ynLNHha2Yo4/fUUHrHB9cSnTFNho2wK/Az3Y62KXWj89ak27VPUCbfvTksYEsupT49bNNxaM6Jwe980p9rmFnQz6mA0Zt7C926IyV7CADFrT5yrWY7f2X3vShQ8MGlc6JL3r+jQYeVRudxqECX+s6fWST5RxWRwWu9OBJFhxsyd7sI9/cQnb24a/K/+sfcV+uffE//guhTZ6T7QGNoyVRTneD5WifkikNhAaINsESlBJBmwBLAsHwIORBb25geXDDM5OKbDKUBoBria2iF9Qe8GGQTCUEGvR+D8SxDSxfX5wbWOSXhJKqwUseW9MBOznks4VPFNjCJ3n5zkZLG1hkPvDAAyux2Yff4CWPDEcJi65BQk807EgPehVti3tv8XhTSEx8vc8bUn5EHhY2wEan72GT5eZAvvN8pF8lt8meHwwmOMhR/vnPf67/AjU3sJyzS80PbOocTrLJJZ9u8hrw5ZA+7ezDq5ydnS2d/QbW/AphsshzTj+9TVZkJId+duRnsosFXgU+v4H1xje+8dIGlt/AglVsyE8WPtcqWWhgyT4y0YRt2lW7Dau5geUtpXvvvXfJhIcu449NbKFDTBy78dKnD47s1U+HowJfE6CjYqPDG1EmTX5RFTjpVvJtPjW2nZeT8Kl0ZTudZPgNpf0GljEPIzno8ttStv0hmx3h1k4W+fIknvgc0cNgU2C/gWXzWslH+3zPb+Qo5BdP1/qzDQ798gi9eXL+F0I/gtwbWPxXzMSLvXjKb3jIYRN92tXehrCoYBP98g5tHxpou7FtYPmRerEzJxv76OmxCCFfPIsXPPQXo+KprViQq52N3lD19uN8A8t/5OQDeBV+waOEVR8aMmGmjzyV7+lzPn2p3Y+4myf2G1hk45l68ZOrnf5kpYtP6S6HXTtHCyeM5uf5FUJ4vYGVXHRkoFXpcsxeMvFM3WFFk61iQJZxPf8L4cPb70T5rT0x10+WIo545Ayd2Qh/dHjI54cWeOi0icnvt6/tPvLII5c2sNwf3LPIwIfesQJzbXyALl/oo5P9Srbrly+Pb/9MwO+j9RVCb3/5ai0sSj4sbhMDfkVfFZ97lMIX4eEj9Kfbh2v+S/L1G1jLRVf6YwNLfvh5A7HsHiIn5LmiXQz4Xxtfa1P4XhsZjQNt6NHhUfVpEzNjQ5VXaIt77fJKLa/w45Nf5RhZ+umgGy85aNMDH5p0Neb0t54qdxyNGfnVeAkDnGEo/8nWXqVHxaOtgh5m/Ip+vqMDdljo5kMVfXjRoyPPHOiYHjLEyD2bXXTgQ6/ddWMET7Gg37k+mMLgXCWXHBt7sx+WcMEMp5K8fC5OCrn6FLT61fwVX35wjRcuNsGvaFfJgAc/HhUeG65orXlcJwfdvOZbdMnIj3Roqz19jmQocMHeXAsfevL5C2by3F+d06NPGzl44S/X81G66MCjaotPjpJDlz5y2E2OtnKY7CoafaqCX8WnDZ1rdMmhU7yUeGFAhybc5QZ68hRjhiy+0o6fffi1hwttMdOnoFfx0pFfXU88YqfAY3zqpwOvI776+YTe4o1Hm+t40gkrPfDU59y3ifibva7JgL3Yku9aP9yuVXLRV+FU9Sl0VNBqzz/OYUGjkkGHCjs6xRGt/uR3JDPb0JKT/OwsB7JdO57o8OjTxm/s44vp9+xzjH7minYy9IXJkf/IU1zTzYcKenY4hkV7PsGnD73KJ/kVPZ3GJzp64dGWTLRqeMnKv+jYmBy88CnoqunrOvp8Szb92vGTT7aiDZ+iPR3JSvaUoS2MdJBR1ce2sPu9az45xnJUb2B5i+jm9jULjnOTEyjVJCKxJLrrHF0iCVQO1q8UvJLYp7Xkzw0smyDo0iNoJRsZcNDRuUAr9DfwJYUq6Ojd4PFYzJPVBtZ8Aws/XRM/2mS4Ybpmd8nl3IMjHTDjDZtr8ucbWPDdf//9F4mYX/Cr9Dcg82nX5DaYJTkMbCSzm7pP9+cGls2rD3zgA8uX2cZX3uLAXxz4h0w3p3zNbrFFA4OFrgnJNVk2sPxI/NzA8um+PrLhJyP/kQ8nGSae+tDiYYsY8JuCJr9q9xaIt/PawGKXBzQ06UKXDDLJqLomm7/Erc00uvDTrz8+v00zf8SdXz/3uc8tP3i4JBdfOZId7IKBHn7jL3TkZnPndDvX70f55o+4e9C18VlO0QOzUi60mPCVj5mb+vmFvvyaX/Cz34aZo2ID6w9/+MO6gYkP7Phhb3yToxZb+eC8fNBXrkZLNiy3ewPLgy4ddEUXn6N8wSsmVXk6/ct30cGiwvXQQw+tr8H0BpavUvX1YfrIoDt9fBO/Y/Eiv8ovfAxLNPi1+U+fP/7xjy++QmgD677tH0TQAzN6chqn5NdONznFBy2fig0eiwq6yXKumHPwkGMDyw9my0nyyVXQm7PIJQtuviI7ncngC74ub8hFz1f+A+H+K4T9rkQ+IS8b+YO87JAT5BRDtPkXzs7hpf92G1jf//73ly/IRa+QS5ZjuuQqm7Qp+uHRrsDRuNVHn9jNrxCi+8IXvrBk0IcOX3kAJwz6tOlTFdfZjiZafTCp+/9C6K1O/4EUFthVcmxcksvH+shS2MKXcKULPbp8rJ0c86PffptvYLWBhR5fcVvCtz/0JKdzsrS5llPySJFXMLILRj+4/7e//e1iA8smpH9uIAZ4+QRdMUx+fmOTqmhT6XLMNx3JsMF/vYG13HXlPzaw+N2bxeYR8eNfeeWorziIqzwxpzT3aMOD3lwi19DgkUvFR76UN+j0iT1+7fS4Lh/EU8UHB7nud+UYA7Xpg4fMch4feaoiZ9DKu/jDoA8WfTb82aENLjzpgJFNZDYeyk30dEYPj3mFjPyDDz09dKtszT/Zip5N+QsNfK71OdKH39H9TRt+Fa2+9LK/NroU8q0VihFa5yr7xdaasP7F9O8/xYcMhU4FLdvSAQOb8xt6FX3ncLHBURtaudQcwp/05Sd2kolHm344xR3u2uChR39+JxO/Sk+xQutahSFM+MPPP87ZFEb2ujb/wYDeukt+wZOsbCsejmRUwuM6TB3ZRC5dZGZ7/PqVfO+YjWgVPoEBVpj0508ys1u+4tFPTr7kt+KKJp86J08eOda+lG5/4E4WeYq4oatPG16VX+Ry1+jyHZwKTGTACTcaOvi8fnOYtnKoGFkL4SGTLmX6BE+FvfkSvUp3voB/tsETFjKci415AB/ZdKrOu3ZkL11kwAMjOjJc8zM8aMnSjxYG1+jwO8Kkj0z92vm0eQ0mdOQnM5sd8ZFJhuJccV11TXZxKg5kO1eVdDjPX+IIU23ss64hGz1edironOPVFx9/qPkOjuLP38nA55xsNrNFW3nBfvrLydvFFg56JhYyyNROhgofOfoq9BX/iaV+bdEnL5mNS/3mYv1sYUcFXrjQ6L/+L4R55kWO3iywSHzPe96zkoijDRqJwPkzEBzM6W3o6EMv0OgFo+A3aGxc+THRNrD6EXe8+NA1AEto+rWpDSomOMdnANOrakOHR3J961vfWu1tYHn7y48UZwc50Ttnk8pWA1bykAmbQWQyZ692+MKLRpLbnJu/gcV+r+6Tx1f48KCPl6/g1U8GHufxGMz0w1mbI/37/0LYBhba8NFDHpsV1+nM1vro0odXn6M2xWbV+973vksbWB5sYWZPPoWNPd34y4lo+AA+Fa4KXAp56g9/+MP1taq5geXBDF+y6FLpJhd2eFXX+vhT7OSJku/zSXj3P+Ju88yDbZsE5Sd6sl0rfMRGRzLJ1++owFY77Hyj34bV3MDyo+4f//jHL/IjuXj5xo2gRefLXvayZRebyNNPNl34Zh5pY7+HZjgVG1i+btTbPvmA37pJkEFWuUcGXeVDOvBWyYbDG1gepvsKoY1WD7pw5gs+SAeM+LKBPG30ORdD2PHA56hPvPnA5uN8A4tt3rIhA63inKziBEu+qx+tKnYepujFgzYfa7u5bfDvN7B8NZps+Mglpw0sdplPyGAzH4RNH321lT8TS29WabuxbWDZYPLbV7CIT5jpLf7kZJ821yp7FDyw8qF2uIz5221g2bzWjwdO8uKDAT/bZu6gpQu98+JLN3rYFB8y+KCkN7C8wWPsyzc6lcnrmlwypg7tFdjqq42/yXn/+99/6Q0sttioJhOfkr+08QldKn72Nm+ymf9bOOIrzxzh95bsfAOLncYDefnHuYUMevLhqK9zspXyMPvQ6VP/0wYWGfyJFn8y6MU3c2+2aVe14Zm2sfvJJ59cb1X3BlYbWN07YBRnle/wqxVjuk16tHTQVbzphllxND9e/wZW3rva0QaWOds/m5AHHnbEh79dO8qB5gpS+V+7WMlHuSPHG7Pipk/OohUzsUKnJkOO6FPQl0/047UJDw/95Qe9E4v5XV5oQ0cemsYhWexjiwKbil5b8zF6b7nSC5drcss52LQZg+WoIznWMvRmA34VdjxyE34l2+iFszFNDrr0kuUcXzjZyn/sQa+PPHxkKY50k6t2rQ0vmWwhHz85ZPAJ/7nne6O3tcS0H1221c5u+unSr5ApH8jURh9dKj66Vdi0JaP4k+Wc3enTBp929NVkOsKhKmSjwVPVFm7nMNRHLl3p1M5fbdDgK0Zo4REHOeo3kxQ/2cFmcZry8MYTRtjo185HaOjOLkd40MBBrnM6o+FjBVZxzW9kolVgVsnSXn5lHzq+67kFPn3wqGRq4y8ynLMP1uxyJCMM+F3Dmb2u8dSeXPrjgw9WfM7ZRydaRbtzPHSidZ5vyMaDl0/hMM7kdGstdshtxRopP+BxTp6YomMn/fSQHc6u4REbR7bhTw6+fMQH2bAUb38aF/TgUcQWHT1kklGbfnrJglHRDxf7ySle+pyTk2x+gEfRTj85yULXObnksYdOstoALH5o8xd6PtYGnwIT3yj46Q872frw+3BXgcm1PjrJUos5fM7Tj9Y5Wj5zLofJyT6yYMsG8ozn5lGYVD4mL1548dE3Y0eHdkU7H7LTkRx9dCpk8HfX5NOvTLn7fNYHR/lSXtHDPrYo7KBXocs6suvVeER/juoNrPu2NwlsYHGkBwvFuSqoEk2gSz4BEBQBbEIQ7Bko13i8hXF6enqxgeWh0+JeQNGXWGTTVSnJTF5kCS4aMmfiuFYkh2T79re/vYI+N7B8hRAvPraoEhwvPQZe/Gwjx5FtFiwWM5IWDZ/ArJDnB+rnBpaE8+q+Qg9Z3ZS0wcEe8izkyYTBNXmqBRf92vgp/zt6mJ1vYPl6jMqXTXp0NknCQxbcCnkK2Yp2fiCbbgU+mPwnLRtk8w0sX/9U4iGfDfT5z0YmRf4kNx1oGvx4YVUVemCie/8Glq+N+MqdPvj4TiG3Si4sjmShg0clV3vxJKeK329gza8Q8qt/eU8PvvC7LlfzE9nZMY8wpCPd9JOx/y+EvuNs81h8lIkfjxtB/9L+la985bJHzpSDjuROPvgUuesHx7vh2MDylpKNkfDSSw+cYoSWXdpUcunoXB+6dDqq/GQDy+ZcG1g262xg4ccXHX7+ITv98LpOH1rxY4vYyi0yFOf4/bdI+dYbWB7kbYzgw5+NZJKjLVvgrZ1M/Wq20anwi7FAnx8An18hpNsGFlxoyMZnnoLBuXHvaFySobhhwYYvnfwuLuRox//Sl7509cNqzPuK36te9aolDy5y9bEr/NpVhS1dk5fPYeJ3/Nrx+oF4cZtfITQWyJg68ME+/UQeX5LPB4prdHRo0wcnfufelJPHbWD5cXz/hZDt6PDJOUcFD6zkKmicO7KRjuINL3x4nGv3hqyvlvcj7nTbFNE3F/nk4TN2wgEzXfxEnn44xYve4hi9o3jNDSxvSBmL5FTpzh9s48fi5H6DrlzgB3bKfQUdjOz0tV0b/vMNLF//dA/RjxYmWMmgly3sUMoR+tCqzRn00Y1HEZPHt68Q/vWvf730BpaxTyY9aPmJvPRoK6ZsMh6iLT/wNLbxKfB/4hOfWP8x8vorhMslV/rTb2B95jOfWbEwJzUe+Fg8+LZ1hpiXY9rFR5WHYo6+MeFBUBGjmTPFjBwxbayIMzrrAvqMG3iaE9GWm7DJR7rgLUfCJi/14TVuzZf0aNPnGn/0ZMz7JXnsQcNmmFXnbISjXCULfTRkqm2+kVFhn/GLn07XChryXMNJHl2uyWIv3OzBH41+tCp+ZR71u1bzs7jRBwMb8xV94ihu+Zxc+pVsd81msvN95+lCwx/hck2/El686OGAifz6aqdH1dd8oK+SDc0HyWEfPnbgpQutmh+0w0Vefsov2siyqRkWtFW8ZPGX3//F7z5PH778hr77gj7y6SezfHEkS19+1IaPHHnpmiyxx6uwWX9zP17XsDknT6EvH8Kgr6qPXHngWCFHX7U+suVLfNrD46hfrQ2dgi4bXbOJDu3hRetcOzzsZwNZ2mDGh657MVl8w+f68aF3ThYfmUvwyQEFfkWe4+MTPOSo1tKum4fIxEsmHCpc7CHLtXM0ycCDJtz6unaej6Zs59r1ZztbXSvO4VJgYRv/2ZAjW26whU7t+NA7Dw8+Fc78ALuCnj/IIY/P8OkvXnDJNzqKV/GgR7t+sst3PPIv/9GlDwYbX454YKULrWv0cDjnF4UObfroda3PEW42uKafLLrjc3Q/YaOiX00eXvcHsvhWuzayusYHD8xhY0uyHMPIHjin3cUDRnxKdsCKt7jwZVjpEguFPO2O6FXr/WgX0RH9OaoNLK+aexNLIPx2kgALQInC6QWbYwuioM+k0l4imIwE3m9g+aHq3sCygWVDRFJJGPLQ0YdfoV/g0FjwGBDe/NFecBtArsmRxPi9gYWuDSxf8fNftiSGBCMXRgNK8uDR1oAhV9VHvw09kyU95MLa4KDXG1h+JLjfwOIPXyFEr5DFF/TjV8nmU74mg+3anOt3A8WnwIaXXv2Hw+HSBpbfwbKB1STjSDed7DSgyKYjGnJd53PtZCv8Qbc2b2B5cJgbWB6OyAuvSRBG+SG29KkwkK/wifP46GATncUFnQ0sb370Bha7/BdCsVHRKnyhKtpgVfJv9pBPp0lQDPWXszDYwHrTm9508RtYNux83Qd9GOlNfjlADtnyAA62odGuZJv+aLTbUZ9vYImlsdGNgE466CTXppMNLP7zBpZ2OakPXT6euukhR1xe85rXXEycZNnkMZ7Skxz4ycVDB5+JJ/lo2MDeYpu9+Rmdh1ibjXMDy9eH8cKPP5zFjN1yLV/rJ0txTk/+s/CADS7Fb2D5MfM2sPj1G9/4xsX4JhNvOYOHXexRtJcv5KrasrnzcuEtb3nLpR9xbwMLX3MJXn4kNzlsSD69/K/wCTpHc4yx06JM22HLDT7Db0PE2JA/xYV8NpKBDl6+1O6ajHxHf/Myfj7I5+T7EXf/QGFuYBn7+PQr5Oc77a718Y9zOukjVy2WeJrD+B+vjUZtbWD5WpqvEOIhozFLLvr4XasKWpV89PQr+OUpeys+YLBp1gaWxaGvpfGVuTafkY1PDNlAltjmA9f6xMt4oju/0sX/aC08/KddNP5JhHuSDSwYYRYzuhr32vGyVZ+3JdCxWw0LX2tHB4e+221gnZ+fL7vQwafCrsJHBv2O2mZcs5898Okr19DaSPXPIHoDy29gGfsw5ie8sDVfFKPws5edCtlw4qcPnz7XsHgDy4bM9QbWcteV/vCXMeE3+sS5GPOvc/41n3rYQ+c/jpp7rLOsSeSWmJirxEyMrK/ETZv7hDGgXd6aU+jBo5IpF8SfTtfkom9daH6ykdCcJe764JCX9NEjd9Khrbw3toxdtMYzWg+pcKBR5JAKkwKLCoeNqHzDLhiTp52P8OlLDhlscs1m5/TDx6/O2amPLQq5+uUyufwCK3vJTj679aPDo9DfeNUuFmTxXTHyxgkfuWZX/nJND4zwkA8jmfjJoQc9Orrb5OJnesljqwJvD/9kqQr8sLFdxYuHL2Ggn2x66NeHVz8fw5I+fSqMju6xaOATY3zuk+jJ1UcmnPCKKVo0bCYjPzk3r6KTd/kWL7+SrU0hE67kFzv+0uZafNEbB8YNfyra2OuaLud8BxcsaGFhA4x0q+j4kp8c8WhDGx7XaNmOZvqQfLT6yVXIgAE/uXCHnS362BlmRzE0RrSjbb2oT1XIogu/ku3/+te/li64FHph8WEYv1nDwk0H/Y5k8gUZ1nN0Kq7FnM/QkYMHfXmOlk/ggFmRo7Br1wYnnfhhEC96yCK/OOFzDju/oSUDr0Jncwdf61PyK340yRAjWNMPY28mhS/5+RO9PCTHiwL04Sne9JGn4s3/+NhHDj794sb/+owLcl2zX0knvPS0qcs36OnUpyp8BTe/yDE8+sivks+v9POh+MCFFg+5+I0dssQ2edpgYpc2/Ery5IB2OvgHP/vxkKPN+MYfHvziJ174YAkzP/AtfufNCT44hp98cpzDgJcMNvENLHSq2slBj08O4aE7/9GRLdbWaLzdqR3+/E0PX+CFLz+w5ZjKUW1geYvI4l6SqAVFgkgIbYLkXBWIEsVR8NRJT4Yg2Lja/4i7DREyFfzOJUrX5CQrLBKGvPhqx6NNlUAejpS5gdWPuNNFBjqJAjO9YaAzWdobSGwvScMlsZx728oPqbeBpd3XUwzaZJFPlqMCu/NuOq5hCZsEpt9g0VeFwQDjP4sNm1cf+9jH1tf88Jqk6DeZ0mfwiJXBkQ30s1+/PhjDpc+5/iac9773vZc2sHwyxW6Y8g8eeOkjT8l27dM2N3B9JkR9KnmKrxGxrQ0sX1/srSH62Mgn5ClwsheOYqkdrb4mOX4xGdCrjW46bX7M38A63x78vIGFnzz05NCrTc44p8+RDBWtmzC5JlG+Qw8bvIqY+m0cD5zeprpve+vx1a9+9cob9GjFyLmSX+RI8YAnveGASX8LovIalv0Glrch5SUfkA8bOdlFTnlevqALDyxN0NqmbzzE/u53v7vYwPKVKWNfYZscdKSrvORHuUMXf4WJT+Wm4lz7vGnAbHwbC21g+Qph/8ABHx613KYjWbWTU3z0hwddNT/sN7DE2QMiWd186aWPXL5RxczNSjv57Eo/ev2KPjUe/0GSHDhubBtYjz322Iqn+PFVuYAGn2t+1aeQo12/Qo48bY4Qx8aM39fav4Hl7TlFvMLrqNA1/RMW+vKXtnwfhuYHbyS5abeB5WtpNujIJIOPjIMWo/LGfIdfm8JO8sNBh2t68cJqcQCP+Xn+iLtc8pCvsA9f+Um/go9/6FS0Fxs69St46YIn3x8Oh0tvYPlPfX7/jjx8cPG/h0/yYecPhQzyVLawvWt60WqH27VN6Ye3H4mfb2CZQ/kQtvIgP9GvzzXZ+Yxucsk3JpxnU77QZqPTh1JtYBmHNiDzP7nlFXp+c00nOWxBy9/Td9nLL3jQyvV77rlnfSX/egNLhK5W5Lbx4sM7fi6OxUFc5Jtxos+mC3/LKfcR/eJlriiW2sXNXOccv/NySZ9cU4sl3WKoakej4qFDW/NZ8zALxV+/4kgeHOlAa9yo8E865+gV+UWWIi+10614YCGTDdY0YdGGFq+CR+Uf1ZghUz/d6PkNJjIUbfq05UcPb671kYefD8lEo01xdE2Hezj/dB2vdrLQ2qzRDpfKX2Q60jGP6PgQHRrX8aKly/hzn4dfRaddEU++UfVVXCtkmJ/pbB1TzOJDxx6VDfTxAxx0kYuHbfKPLHTkkukBG35tfBSWfCQGzsNUrMgJMxpYFW3phsO1NSr5aMKDX77hhVm7ftd0Fb9082Hy9aOFhU1oiz2bVb5lFx0KWrL1sds1TOjwa5/5D5N2bfTh5TPn7COjWMAOJ1pjGW1tYXPEp905++kkT8EDE5lsIq8NCvRoHRV2kcOv+PDoz3/RunaOVnGNlt30ag9POvTzNf368CjljX7n5kP9ZNGhjc+KPVv2+ooFeaMhTzgAAEAASURBVOnDRx87tFkHahNPBU5YxIk8cwPZKl35hGxtYmR86YNVDQua7vPa+dE1O+gPb+Myu+gXb3QKPjLJwAOv6jxavtAmls7J14cGP5ud0wGvCguZ6MXedW3pyR/w8JF2dsFMB3pFO9/ASR8a+F07p1fBp8Kaf9DTA3v+q017tuOHg57iRw4ebfSxOXu1a4ORHBj1VfDgV9AkS67pM7bwkaE6V8RcP13yUYVHPzu1w3z9XwiXu178jzevbGC97W1vWwHgQLVgCmKB5GTVYCtYnO66wSnIs3oLw38CnG9g+ZemBZ9swargpZ9cOtBF67o2/Sp6/Nqdf/Ob31zncwPrV7/61WrLFrRzULhW0klOOvE41weXvnS69vte3hRqA0ty+u0JA1y/Qka4ycpXBiLs5M0JJ53oFLz8TuZ+A8sC3yZTkzFaA8K1QaU2wYfJIKSbfHalg94Gk5uNB613vetdlzawvAlHR3x4VDZoY1/y8ptcYie9FozoTXj6+UgVj7Ozs/Xg1waW366x4cM3+d0x3MkkDz8f0eE8P8DCB+xBz+4mEL+j5N/bewPRw/T5toHlvxAqJhGFbHxsg8N1VRvs7KObbLrCpw0vLNr2v4HlR9bvvvvuZVs+RZdf2CGO9JGLhv1NfMUczjA6RwOLryyiUXxi7Q0pmynkNUlO2c7ZFH4ywkI337IJFoWeePw+1P4rhH/+858Xf/EvJ9mlTV6SSR88fCn/9LnOXrYpsCh0Gt82ANrA8gDffyHES0b4yHFdfjonk678Rje5VTLQK45vf/vbL72B5cHB25f14yOvfMDDf+Szj84qPNrxoNPPr67zAdvqv7FtYPmh7MPhcOEDfPzBRvIUfuXP8iL/pTccFhJurorxaJPYBtJ8A8tX4PDzgwIvfSp5sxSX6Uu88IcvOx3N0fS3gWUDxAYdXfDjIbN8c8224kqGSgefl6dhgq8+fObnuYFFrv9CiIZP4CSjeNHdAk0//fTgyw66si2f5Bfxut1XCOlBK9Z4+d412fxhXKmuyZIL+vkVjwqzPnT6bGDZIJsbWD7hywfFwHV+60gWHKpCnlIu4kWLl+9dewPrhRdeuNjA+upXv7o2tchqcYgO9sZCehy1kZmvtZFPNxx8nF6x8waWN5qvN7BWaK70xwaWT+BtYBnr/Fj85TNf87M2/nfuqDgXa/cJdOWEeIkLWc7lqHuqeOLVJ09VceyaPvLEXJvcKv8c9cORbvrJlt/yqVwkky5HbRUyjCPj1f0EXhjDgS4b6FfI4Bfy2WnD1/iDQxtMbJr5ywaY2A6jilabPvLgcg0THexwrr8NLNhgVayvnJODlk70aMiyscjH2aMPjfbweVgKr3UNOXDnVzxhjg4Nmej4BlYlWvTli2M6iq8jfPGRlY/de7STzW7tfFVxTY8KR5WMMONnnxKO1rCtX9Co5CQTv3P48TtXotGOB50y9aCHE2Y+16ewI1nO4WWjXEpv1/rx0udtJDLIE192kING4T/8qj72wYdWG/l0kSVH0m3jla/yraOaj4uxa/lAdhiSST467fJeu7ztfuStfzhsCMClpNN5chzZCB95/MAGuslTOsfPBtfyR8HPJ/KLHLryD9vJhbG44XHNJoVMsowjhV34tTtvQw29+RAvPXDyP9368PCzNn1kup66ygH86ODTZl2Nll2O9CpsQSsf0M0xg0Ye64edn4sbvmyHC2246YWXnnznGGa0fFm+hFl7c4O40ksHv9KBXptCdke62GVuQ+uab1WYYFb0eS4Uc31kkUM2zM61h1k7ufDBCwsd+tGTJ17lFLn0scPcx2eu2QI73+ojV3EdXpjhSTd6ctHzNdpkaYcDHjj04ac/bDMGdLFBIY+d6Iut/FPYbmyRQSY6csTNuRJG52Tp93zIT8dYjuoNLA9iNrA4UTALRMkhoNo4vwAInCppqhxdIBwVn9ZaSM0NrF5zjFawlGTSJYgCnmx660crUdCRgV+VgDY/0LaB5e0vG1ho2YGebLQltz5V0aegSwe9rqv60cFmc85/y2sDywDTRr4BRkZ+Sge/am/gOproDBTtbbA0EPQbkAaCNzPmG1j+S6D/stXAa7AbnOjFUx+s9LrmqyZc7XSyTVsTi0mVLScnJ5c2sNzcigt7+IG8fV7kH7LRkx8fWjdO/PphMMA9xHrzow0sD57PPPPM4mMDP878xF9M2WpCYHc06OGgQzzozXbtNrC8WTM3sB588MGlp1ihw+fItzMX4FbZlh3hkSP5xzm/+lF1m0i9geXtr4985CNrQiabDj5SXMsJcdcmduWfc3bIEwUG9qNV9cG5/y+Efqzba/lky02F7HBmG//B4qbEb+j5gH4lf+CLxwaLWM2vEP7pT39afpFL6GBr3JEjB8RMW7kKO7na6KOL72BgZ/p8hdA/hGgDqx9xZ89cEEzc5BYnMulW2FqlEwZ40Mb/zne+89JvYNlI9s8a0JAlP+VesYBBLqjk8SmZ7IIRD9lKtsJnzPOLT5qLzY1tQ+SnP/3peuU4PPSWL3SSQYdP593g8xeZ2ebIPpjYLh4WYP47pd+gmhtYvsrL13johJcelW59ahjRudan0qNP1QdHvDaw5O7cwPJmj3708MFGDj5y+VB/C0byyeV3stiOXpvrYsgPt3sDywYW2nSyb8akxVG2FEs8fK3kA0c40y9ecwPr0UcfXZvJsMJdrvMrO1W6zYHyxjVcKrv04a1dmz6ybGD5euTcwKIbFgWNOv3jGmYyFOfsYoMCl8qHivby1gaWr0f2BpZxaPOTDJu6ivxDz05zFfywk6lN1UZ++UG/Gl7yVL+Bdf0j7sutV/5jA0vMbP7xoblKPjvPx8WEv/U5zrlKHrbAL7fLj2LVNWDaKmS5lnPyVhVnDyvGr/lNPmgzXynaFTkCm3uftq6bq8sPR/lDlrerzZfyTrvc9/Agv+UkXeUyOfR6QDI3wInWnMFe8y/c5MhhsvBrQ58s/XKbD2BE55wPyaRbnsNnzYTXNZmNJXj52bhnc74iFw15eMSNHG1woNVHh3NHMtjANjLhgRFe+MhIFl/wGT46YSM72mxHR764oWWbI3nihp4+BT/5+ulCU064jo4u2FX9jrBmL1p6yWYPu+gvF/Ur2c8fZNvYcU4Ov5IND9nFjg/RkslGts232bxNgx8NPrZMbOjlDz+kX38PqnLKWML/P9s/BIIVBvoU/DDQDRP5jnj08RkMsHedTnkJG/100q8PrWvn9IWZPnropwM93eLNnwpZdOIhnxzX/AezPPSygX62iQHbs0t/84Q+Bb/4Gb+wiaOYJ1sfGeFlEzx8AKtnjqqxyx/pJC+b6CWDr/MF2+CAi07X9LpGAzf95QGd+hVy6NdGDxpfrcabHbCi4SuY2BYvfmMKvXNrZ/1w8gW52uU0++CrkqmwpwKrQjef0i0mnp3FzTmZ2tnEbvr4i1x8dMHJRkdt1v98yDcwJpscxbW5FG48Cix0OpIlH9iiDV++XcTbH9cwsIse+BT69anayEPn6JpM+umVb/I2XjRw8538ZHtx1qcqsKETP3oUfkDfPWY1bn/yCZz4XfOJfBRLMuBhsyO5CjvQwysO+Fsvuw6DeLBBv0qeOMGCn0zn+vDQnx8cr38Da7n7xf94A2tuYEkoARMkycmpAiFYrgumAJSQNLhWJA0aFY+vLe03sHwnWr9S0iZPu+DRK8AmC4PJQCiJ4EEPawMPvUTY/4g73b/5zW+WruxwASfd2ppAnWtnl6Qn30DSrppgtEk2WCTnfgPLoKaTDd0UYIWTXDgNPNdoYTAwXNOtKtr00UGfdgP3da973RosMPsK4cm2weSH1vkNjwEBI6x4yaWTLjbwkbb8nz466VO1kSVOd95556UNLDdmtrEhGa6LzcwDumAgkw2u0cGDhx70zg38s7OzteG538DSb+CjJY8dClvJU8nKT+TDr7CV3/HCi8ZRmwcjm0ptYLk5+A0s+kw2Csxoq9qc05f9sGmjyznd+PRrU2H2Ozj7DawPf/jDK9fkODo4+Qsvn5BVXPTRox1GOeqojb58RJZis1PcFZP3z372s/U7BPJSjvATHkd+UengV+duFs7pgz97W7DlS/z+S95zzz13aQPLNZ5yABbXKv+JmwI72xULSvbgUdiPDg40rtksTnMDyyaM3+MxRvCq5CaDD/HTTZ7xAXe+JddCo360cMCM3j+5mP+FkO02sGDAQ16LYdfwpptssvDAxMfZnj1iicYCQ+75fjxs/HRj2xDxFc1+xB02cWOro/jArpCBj3w4sgE+bTCYO8S/rwN7A8sPqc8NLL91RyZfp0ve8CuZKmyK3OBLtpkX1P3CBX354rfKYG8Dy38htKnlIcR8i45f5HH44aCPX9lCPrpwwMYvbLTohhl+mMyT8zew4PXfRvGTyV9k0ik26Wcbe7WXJ+j5VaHbOZ549YvX/A0sX5m0mYwGffcQOlW2wY5XpV/bzE92wYCXX8Lga7vegtpvYC2A259w8xve+GChW9HGzvxQjtKPTmGraoPahwxtYHn7ywYWn3prUDFvJJMscuBnm+va2Ki9GMKAD132+43ABx544PoNrOXZq/2xgWVOOD09XXExp/A5X8stR+PvH//4x7rHi7Gvs/vKuVI8jCF9eMVGjtbvKK6KmOExDuRQMZVv1hDmEps46OSuuY5cMp0bu95OhrO5g0605YJ5WE6Qnx73IR+MopHfchAOespBD8G+iuH+170BLjzksMF935zhIYR+fdqzix9g1UcH7Gjo4hM4+c5GoXkpX3gLx4eN5Br/fgMIznSzhZ0q27w5aWw59yBKpiMc7i1wx8/HcPmGgz44Gs9whsGRXmsBsUfT/YVePtHOLhvf5mByYdSG1jwaLwz8ph1+8uH1wOeDuWxEI2bkiX9rFfj5T8XLNrIVbfyO1zkb/ddtP70AazSO8OFjN3p+V8iEm1xYyUDnnO0wZ4s+cuLjNzRyx32IDOfn25v5YqmwiXzy9NOtWAf4mrhxpx2dPvJVuSoP+ILvYNCPll4+ZLN7s3P+knPOxch6gH9f/vKXX/CyRWFzfiNXJVc7v5FDF73klkP4YdOvzTU54g+vMes+xibzg7GElo9aC+R3vOW7Y7mAJywwFFc+JIefbBQ5Ko7axSbs7Lix3VNhKGbijlaf8WctY66BVynGjmKFNl+zDV5zgvwybtlMJlvR8zs68vmIHDKMNc9A8pov9Sno+DC9xoFKhz52Fwf2wctPZJn33DvRo+UnOSEWdNIBL5/5Bypy0iYTf8iHxj5a+vkNv7lE7jb30q8WZ/Lkm9zqQw7+FVs+gAUNfZ7j2UuXb3awC06VX7ONneUULPxazMjT50gmXOY8dmrjc4U8vI6KdnJd8xOb+ZpOdIp+BW5FnBT4jB85xud0KeWP3JEDxi+f4ct/cpuv6CUHdnxoxA72bJUP6MyV4guXc/OuuTH72EIGuc7pzA5+UtkCJ1xkHWM5qjewPMB7E4XzDGBBUThWAgqWN6ma/PzwtcALaoHBi15wBE8VCDdYvxUz38AyiZecaPDOBJEYqkUFmZKS7jAZqG4wr3/96y/teqP1IGTQ9QaWDSYbWJJFlTgqfZLahNBEqT9cEpJeE7BNI4OaXDr4By0b/QaW/3LVG1gmJG9kGZySU5GM+cOgMPgaQNrJq50+dvGvgefIPy0E/ecz8WgDix+8YWAyQ8sW8thYLPCb2FXnJiwDq1jzBbtV5250YmQDwoOfRZgi1n6nSuGbfEWfCc2CC02TCfvh4SvtikUSH7FN0UcfWm/R8E0bWL6++LWvfW1h4h/Y2OQcdvroZbe4kEWuSVv88ik9zvm6WJPFFj/w3AaWPLFhp/CTG4rfcoKN3gpbyMp++Uie9iZj/hEDvqHTuTyaP+Ju0e4NOrrQqPR0A8ebHDH3I/PGBDzksUmBAx+/ywdy4eMf2BR+evrpp5dNyRQHMuUWXjzo9fOnfBcP+kza7KOLXvnHPxYWcNsA2X+F8Pnnn1+6/WEj3+CflU7yyUYjbgoM7FdgYx8+hZz9BpbNOW8cGHeHw2HlOHxkqHj5TBUrevjyfMsVtrqB2yBilwIPOjmFx0b//C+EaLwhyC/oYIQ/em1ssNCwcelcGxxo0dHLlx6g/v73v68FU5/8mDPphZ2P/UcxMYSrucG48YDj4chDmjmSnvIje+HC59rCwRjxSZMFNSzmaOO9DSxznR9VJ0c+8Mlh8yld8gEm8pRixgbzBB4LDL6Hk3wxRu+cD/youRxvA+vs7Gx9jd2Ci63iYH6SV4o8VMjhsxaqxgSbGjdkyw302sgwn963/d6cTbN+xF3/5z//+RULtuDhE1+Nc08gx+LBPCnvslV7ueRc+z6v9IvFfAOLvR7C+JL/4baYgl385YK48w8sdOrTzma5yafN79roUXzF2r1ubmDJ6fxNHh1iI+dd86F+93Zx4m/zBrns0g+LGGW7I529JdsG1le+8pU1FuWS3JMP5JLVeLWQY182sG+OFbLR05tt7If1rrvuut7AWpG++h8bWBbk8l6+mTfEgj+NC0f598tf/nK9wedBzZrFva/Yy1VV6YFGnyJe8sP841y73BAzOSNvFXOFNYT7gnUWeeJrrMFjPiFDXviKqHlSrmuTh2jhLRfxyxt9bDBnmffZqA0dufKLTc6N/49+9KNrjpSj8lA1b5NnbJh7rU/9cwK8ZGlnk3N42ciexoRr/HLePMN//qMx7Io5xv3W1+iNPZvo/qEDmxV+Iw9GhV3+YY1/qOEeZgOATxzRGbvmVrEwDxhj5P7kJz9ZG5F8D6/KBr5wjvcd73jHun/R4x5h7je/kcMPaM3fv/3tb5csuaHQwXZrLTjZi6dzelS+sv684447lo18LnbmOc8Nt27duvTmCFvJgo8sMrTxbX7XxscnJ//3Aa15ynW5hZcO/M7xywlHvsUvd+hRnCvNK/Sw2+YBuRW55NlDTBX3RuNEHos1eWIsjvTCbH6z5vJhpPbmaf300WWz2BvqYiy+sMMLQzkOt/jyuxgYt/rFi3zPaD5Iw5udMNLhWtE3K9l8QQ7c4qlf26za2KLy8bPPPrvGrTWcNYxnPj+jILbwwabIQTkGuzHkfiTnjWX5cLLFjzzjiD/QwcJ2uWdM3trygxy60cFCJl+zy7kP6f1USj5DBwcbjGdjGGb3Qf6mBy9ZfGD8oIWfP2GQU36mhF/1yyW5br2Dn376tIuL9aJ88E/BrEH4kk10qNmGz+/3GnfyCB5YyZVD6Hw7ga888xiL5o53v/vdSxds/ItPHhj3dFmre0axbrc28XwkLuSyFT3d7JWH8tYHXHKXXa3n5IsCh3FLhg/y+UabymZYzaOeG30DoGcP3xppUzn/wAC3WPOJqsCkne+TrZ0t8sTvU8tL/WQ5wspfYswWNpEBjxxQjbE5bvWr4gS7eOJnqzzja/MbXXDIKec2xHyDyfhy76ELnyIfycwfsNHLH3xqfkcj9tPvdKPzT5d8s816UHzyC/mu+YoN5MJMlz6VXM+LjsdYjmoDy8OR3wLiUAkgYIqEEXwLe28fSDqJ6s0Diw6F0zkZb0kloAKi2Lm16dIGloXV+bbArh8/XkETYAH1NoU3VSR4gXfjFWg3C4NCUph8DEATmEJv/4lsbmCZcGAscQwU1WT01FNPXUoSMtCx2+Bhp0W0ZLQo4RuYw+XTYYuTNrBM+Dag3LjZYgDhYy8edvBTA9OkQqdJiW9MJBYu9Jo8xMNDlR9aJvOJJ55YE7A40Otma0I52W4UBiMfwZ8/+JReE6UBx643vOEN62HOgNUPI6zizTaTsxuBAf/HP/5x3VzIY7sNHzoajNrY4CEaDn30qdrJdC7G4mbCslCkA692mOi34GFHG1hwmqTJFD/0fGWyYKs+vjaZm/RMHCYXtspZN6pyoxsUPXwPk0nID+63geVNCXmFRjWxW9STwRaFf5R84Jz/splfYAwzerLEf/9fCE1QfsMMLdvgMrGavNnIZvHnIw8AYmIRRB59TZr0ke9oPNjQ5A9fUUSjuCHidZOC0Q1RHDxcuPF3I5KfZNGhiB+5LWr1qR56be7dvHlzLXBs7sivvkKoD2b2k81HzuN3JJceOhR0ckHhC/2KfC6nYWf7w9sPV7OlrxD6mpYHBOPIgkTuuCmRrzbejEU4LJyMf/nI5xYQ5kAPDPTCm17nFhf7DSwbhHINbvHLZ+LF72LnRn/vvfcu/8NNt36xNQ/IUXOGt6DOt3mx+c28RC97b2ybOvISLvxo3HzJId/ijs1ixBaLF7R0wJGP6RcTi2gxbwPI2DCe2sCCy39WVfD7xM2chIZs8tgLH3/CTS4b5DJMFhl8CYOxww7nfPXd7353yW4Dy4cOxrI533h207dhOP3PHrId5bGx4P5gTiEfDv5go9yH1ZwEu/82SkcbWGwy7hV5aLyZYz0Ms4MM85wFKFvRsBee8jZsjvwgLmxEZ5zPDazvfOc7azHCz+6DPdCzh27YLabJYQ8bySGPbfKST9wT9JUXaCzM+JE/FHg9DOBlB1s9lPn6sPnOuOcfuuWQhwy+dy+Qr/mYPeIVDvKU/W9geZPNxrEcLq/FmBw82swVYvHWt771IjfZAB//ocuvzulUYHDv9R8j5d91uZoHbGC5Z52enq57onN5w9/GNr+aK7w16+cV5KUNGL72QC8mckMRR3OKmKjiJHbiqriWc+KmXc7UZ861fui+Jc+10U2WB2NrHGNVfN2vzHXyp0JupbyAzyaAnGMDeWxiHzzGjHNHayrzrzyny72GTXj4xLl5yzyudr9jiz46+QJuvmtMsJnf+EZuw2+c4lHg+973vrfmKmPcm4TmaP4li55iASt9HjbdY6zpzJ1terHBfYLd5OMzpq1x/H6gzRHt7OEH+ooLWusB/+xHYQvbzSXGO3rxMl+Rxaewh03M+FExN7GbT/C4D+njB3PeybZ2s341l7DxfLsvuNf8/Oc/X/dbcRVr9lpnsKcYlFPNHfjpsr7wQZE5xDX/41PYKD9cw2OuIxsdueVk9NqcswM9O6yL0Ll2JB82tskX9ySbBtbeNvn51hzqHD9ZirWctSKcxpt4sAHG1lrWR+SJJfmw8n82OJqb2WEd5F6rzbUcs4Hkvkw23o4wo1Pp48tq/nXMx47yjy75wAY68hsfua/c2jaW3K+MU2OTfmsezx7JohsvG21w8JXnLesVawBfAUfDv2xV+Y0uazX3W8+WNqPLK3YYVwrcfO0lAXOUQgb74WQvP8NrnuFjOZQfHPlJ3BS0+OjnX88scCraYSj32UU/Gdr5Qvx+8YtfrBwhNx40zvkFPvc6413c5EP3XL4wdmH9/fb1f/LkDHq/h8t2+OUlWWIDg/WqdU+bZ8aRDVPjg6/QNabYxk7rGXqsc12TI071s888YN0stsawWKOBU46YK/D7gFp8zRk+XMWjH1aY5TMfKHwFj9xyjq65ZhFsf9htvnOEm88ag+aUbHFeDMXFT3mcbPMMn7pmi1JOyE30xk/xMI7FzM+cmM9gIle/5yU5IF/JVPhJbNlVnmvXxteem9wrrKmaa/mSj/mB7bCRbe7yLAITrHTHg558OFT6qmQctg+NxeEYy1FtYNmQMoAkUE4uYBzpBukTeRtYJpP7tk/27LBLSkkqeQRIUgiAIEkCxQbW/C+EcwMLXYkrgK7JkdgWFXapBVjiSGgy6ZCQdq1N5h6ULf7D4EGFHW1gzd/AokOfQWdgkm9DiI0lKl0SC61kNMDZ68GqSVAfer7yg+1wtIHl4cRAIBtWmNGjxVNyu4bD4GYz39LlIcvGHPv4Ep0JpDehDB4Lhjaw6LHQ6QFTO70KWxQTkgFswLVJ1KIANoOEHnxuDGJmw6zFrQciRXzgY5MJgj18hc9kbSOITjJUMvWjFx84Hn/88TWpstdkgIZ+fG7sbG8DywYEv/MRnMWfD8Xc5C0P3QDcIMQUdhOVGyN5/AgDn5FRbsJ3vi2wvvzlL19sYHnby2YYPfB4aHRToYv8coQv9JNVm4mxBTp+fRW2a7NJYsK2OJVTbWDxATzyAFb28QnZMLPDg4BNB4tW/jAe2MuHZNNB/2Gb9CzYHX1aZ2JV3BCNK+MPNvGTqxYcbv6K8UxGkyjdsLkWu24w6DxoWKyKlwWrRYib5dzAcsMnA58y/ZLf4GZzetBqg1HFzzeOKix4PbTT2wZWX9MSZzlh89GcVo7xLX7+sFnBHvH3QM7f8sxGuwUH+XTDQbdY7L9CyE/GucU5uQoeecEWthoXNnN8RduDC1kKeaqbnIWJm6GNNPOsNnqb+9jL18Y1+WTIRX6i15zh076T7aau0M1m87T5hb2u8cojm9K3toWpeQStwmfsbwMLvQWrwg43Yv60aDlseSX+/Akn+R5S2ODhhx405kNHsi2K+IKf+c34VtrAciRfjvOTzUILX7R08KmYKPDIM28qiB8/8lH3IWNDFRu4fa3D3GkTqQ0stL4+rMRrMe2rcBaJ2j75yU+ujUG+yFZY6JevfC8GMCq146V3bmD5UMVGmgdDY9Aim6/EyD1FpUdsVfJdiw+dFm1ibC6jhy/4ky7yHt79F0I5FWY+t2D2G2cWzHSJHx/BbqPQGDbHJbNjeIqBfDJe2NYbWO5/4iVf6YSNXNhdK2S7T1so2nRmA9mNG3ZUymtt4u7B//pH3PPO1Y42sMwX5jP3CeOPP40Vced7c4G52n1eTsgvmxzupeJmjMhDMRAvcRFbbc7JQKfqJ1+eaHc0D2h3DzCm3JetPazd6DaHeWCSUx7GbKK6H5rTyVDkB53kKY07NrkP2sA2lmCwVmNfdGGDy33APYEf5CW55n8YzLfeVHAfJAuNuYP/GvvmOLbQ33gnhwxtxrsNMmMcD/nGurcV3e+93eRDht5yMAboMQ7Zxp+wG5/eqDrf5jXzuo0n6yrjxxjmq3xhjPOt+wZ/iBuM/OXeLm4KX1vHWB+yC27+hbvq2hssP/jBD5ZMMfLmCJ+iR0dvfhBb1zYAzBVspZ8PHM1r9Jsn2M8mNGSZBxzJ4ieY0TpXFfq00eE+5IME9wUxxcdGGFwrrvmPHxXyydIu3xX9dCno4m88mCe1Ne/YRJSz7kke3Pn+sN3P+MrY4Bs6+NpaVi7B6T5mkwc2suk0vqzdrKeNBTnkns537AxLPPDBo0+bfutSa4nW32zTX+7QgxZ+fVVtanqKo2u5zxY+ZZ/c5XvF/Uk+3trWCmQbq8anB30xlrvRirMqb9wH+Ix9NobMQTDCQ7dz1TkefrH+5BPzALv5mM38U+55FrARIIf5Hna2ohMH46C1rPhb78LoPD+VX/whH+SkeBkfxjCZbOUHBQ39sMkBtsHreUyOW8fzG7lwqMapD9H5ydrDmHDfZhtatXxgtzmHLOtOz2QwwGvMw57f6PdMY1PqfJsf5IM3S92/0ZMplmwzH1jPkM3Hivwkj3+LnT7YPROYZ/jXPCmObIbFiwZy1gcF1s387x+X8Zv4sCeMxYsPzY3kGAPk0Jmv9FuH2oyTK+Kt3xgngw3Rsg1GsbCWNMd6jpKDfCrOCgzyip3k84ciJmyRy+Z59pPDP+iMKWtVsuCEVxV3vGTigUGFFWbPTvIBj7ncGFL4OJ+49naXDzbM+fKKTHFiF6yNPfjh0e6o3RzM7mMsR7WBZePBDiwnCoBAmWA4krN9tcOn5jYyJNnp6em6sUh8iarkfAEmRxI4uslKeEeyBNJuO3rBpAddCaLNpx1uHh7o6JRseOk2MZi4TB4G3GG7qUhicrR7WJBA+w0scumQjAYWHSYED18wmUT0kQEbP5CpmjxN4CblMJOFxuJ6foVQcvOLic4kZGBI8CZFiYmPHskpYQ1Ykyk73CRMIjDBoc9E43di4DXoDUALLBtXFggmMfEzIGDkEwNQDOAl283TQx9/eiCCGa0CB11iZwLuzRy+oWtuYHlzASZx5xs63MDZaMElLnyJJvzsVfD42p6HLhMy/XxkEkDDZyb7NrBMqh5k+Uo1uZnoTNCOJn0L3vSJq4WYTxL7LQkLY76UP2JWfJ3ziQ3O3sDyO0MW8mLCF/xo8hFPuk1m2vGicXTNf478we+KNjHnA+fKfgPL5GmDTIFLrFT0ZBV7Y8HbExZL6Exs6NjED3CYsNHAaJFjs+F0G6cmb0VuuWmIE17tbqB8IM5uTMYWeWygBwZxYasxpWoTL4tXi2w3Mnm3/wqhhaobvRIG9mQnzGQ5liv6FPMBfyrRwayfP/X73R9xaQPLxiib2SIHD1vsLEqMPznihk+P/OYnY0IO8gG5NnDcyNwg6aaHbnOCvPUA4K0oY9NDu0WKm6iFriN6MXCUK8anG75rD1Aw8T2/wcEGY8fYtrnshugBD17znA8M0MBmnNhAI5Mfyk+4zrfFDDvFATY05IoJ/GTA4CFKPIw9mOWJ/INFu+s2sPB6CNZm3qZTzskrYw7G8lxO8IWxK7+MTXaebBtqYgArXvkHC3pfqXPeBpYPHfjo1rZYJtuGiDcT4S8HjAnj21zDV+ZC+ddDFqx0wS6uxgq7zadnZ2fr4awNLBi8OUsmGjlBrs0Zcsm0weyhUz/7YZEX/GVMaKNTbouRNj5Bx25xZbOctLlqMeth0ocIFpbmKfjZiw6/YkzQQ6Z7hbEv/h7k+F7OG6PGIF028/jRUSHHfA2nQhY5FvfmRPkMm1xjg0WzeVve8J/CfnYXLzLo4n8P5exoA8vmrAc392h5KPfMS/STr7iHwEyX+ygbyNNPD1td82dzn3bjyPzoa/rG33W5mgeMXfnhtzjlk7mdf80XfC4fxNB90pjVZg3hrUPjRQzlifuXOIqLuU0eiAmZqoJX/NR5jU+bPDMezYUW/OYf+dGcJtesAeiVI3JQDlRgdS0X2eTcnGedZQ1nvjEuzH0wwqqUh3KdLXLORi2bYIdbzpsvPPwak7C5D7gHOFpXGNPGOP8p8DiXn45spAstW9CTD5dNADJ9GGtd4x5kLeLe6F6Lnp/4Fb17l/Wd+Rmdhx/j3v1L7NiuGk/mBRt4NrLcW9CyiZ/4AQ48Nij51VxvvUwveT784is+xWcOt8ntCL91D8xo2aqNH8wvMLOdXHqMfb48bPMef5Cnnm9x8m0K6yqYzHXWnWJRvpBNJnrnfKm6Nt/gcX8tD8WSv/TLFbhcw4aGLLLzlXuRdv5V9OGDmz508lF/Ocb3/qlI33qwIcV31m+w8Ztx4D5iHLXpaJxZk7vP0FmFz5rDWsu8Lwfd79wX8YQb9gosYZajaMTK2oDtFbLVdDnqZ2fVdZW/5AX56cPDLjbxCXnuicaXN9utHcRXn9gZqzZmDlu8yTF2bBDwo9wkn888k/hwP9340Yir+cD4UGGSa9b77tv41WLnvsUX8NoElsvoleJvDeUeR56cNX7hhJt9+QIP+8wLPnQVQ+PHPRBm92J+xsM2mOU3G41P91YyxQ9e+dicA5/1knUEf5rjPH8Y73TwDRrjxrzo2c3YoIdM+s2FaOHXxndyVDz4zP3X5j37jSU+NhbNS8aA3LaGsc6wpjHH3Nw+6CfXuWINyh/mPXhhMYfayPOWG1n8Sr98NYd5M1RMzGGf/vSn13qTn9guNuZ4dpkH5RG/iCUa1/xhDoBV/pvnjC8ffMLlGdu6T36LD3qFTfSKF3q81hnWU+Zp5woescQnds7ZaJzTb73PHzC5d4h9+eQZ0BgTa1jo0EcmO+Qs3Ow03/KHsaFYd5sb2IY238kT61Q40ahkw9Q8Sg+ZePiRTnhVNPJH7I+xHNUGVj/izlHzpiCgksfN0uvQgmdy9+m0gFiAC5oiMILM8YIhOAamAeINL0eJgF9wyTY4DRRVwa8YrAa7amL0kAmHhD3ZHozIkOhNNgKPl7xHHnlkJW8bWBZxbhySUXXjlsgeuOwuw+iGY7KjAw058Pcpl3Y3fgs8yWWAKPT6+uXcwLJbzS8eCg1Kk5fFVTch/lHodc5v5NFLngHfwiC/mPBNWuzwYMsvJhc3SwsEkzp8fODcosfkTw7ZbkAmYItVE4GJ10RlEqRTvOgykfUwKkYmJb5yrvALDGQadLCbMEzCfHXYbmhks9dgLcZyCq9BDr+BzQa08FqgkGNSIbcNLJ/guBnARyffsNskRJ7JMtlotLPvySefXJhNXD7BF9viSg5cijczLNzbwJLnbdDByjd00InHpChu/EyvI7niCI82dLCYmNwoyDBG8Jno3LTcoDwgyw+fepMLK3+SF1a8/C127HJjdqPxUAyTIk/xy2v+M8702aT0XxabAI0V8YcJVtXY8qmEDUu54AbmWN7ALC5yHj1ZdMGVvW6Mig0kuTjfwOJPdHxJlvPynZ9U8dCuNIbZT4/rClr+pVv/Qw89tBZ/bWC5IVp0i708CbdcdBPhe3bI6T7F4jNxsiizKDKO3RDpxe+o3wOFr9d424o8G1geSsTBPOQBns/kNFvwyhux5gPF3IXeTakbGVvME94YdEOURxYxxoSNWz7jLzzmszbhyOMfY47fxUXczAcWxc01+dfY9vAojyyk9VsgWdjwlbywAdIGFnwWFuZrCyZzAJvMk+YWvK7FDkbxPd8eVmDhK3EyB8oNR3YftrkBHvQ2rGBuA8tmCB+Kiw0Oiz6xgLP8gcUYsDCzoGW/r2yw29iBBSb2WGCwk3+MGXJhawMLBhtY5hp8FoYWajZhfWhirPC/+Yf/VcW4VvBkOxzlpqPclEOwksP2r3/96ys35ZIPIvjahzjmbLa6l7JTFSu4yLVw9nDknB1kGf/yga3wkGWDbG5gkQ1fMmG2gDM/ki3fjH14vRUlb5zH03zXOKQHBjE2vtG2gWUtYA7l95Pt3uyBzP2SHSpfe7BwD2GnOcY9EbbGM71o5YQxYNzpM7cZd/+fDSyLXJ8W91uNbP9vKzaw5IeFOb8aH2IpLs7513gSS/cX8bVBbn1z2MYpGvGO1v1LbMhq/SNmYiQXGh/konFdLuOTc3LfnOJB0zxpjNiUNKeZf805+FX85CYbPhjYYEy7z5jPjFtjSN5ZS9CBVoHPmPbbLeZ5eck+87z1I3kw0scH5nPrEjnqPkKeOdwczQZ5rPILHrz6+IAufoEXLZxw2NxwX/KWv/uu+cw4IdtmiLnefUOxxqOff8y35k54jXebOHSSawy7x3uYbi53f7M5DJOqwGbMn22b94702+Rin/UQn8DYHGvdZ41vbhVD94bmenaRq9345AdtcsxRLrHfvEEmOtV6Ek5zL77Dllvm1eYvOMPMNnEv58hxX5EXYpddePS5ZiMseMVFHFS+ci0WMLqWgwo+mPFoFw964cXjnC3WqeYtvnNvUuE2J6FR5BA/mqM9Txhf7kny2ppWgUGOeC6Qi+7zfN7GhvyHA264GlN42Q8vejSK60lDPtvgr5/N/MgOWPHOuGhjq5g4Jw99cXPU515uLe7ZQ+HrPsiygcUfCvvlrTyQn3jlN5/JOXaRL9f5jFz3Kz5xbkxaV1kPizd6dsHh2cWc7n5Kvw+YjU88bFDY2QaWOFhfW+/ZEJE7+Pit/PB8aaPLvdhcZA0nbjC0gZKf5RiM1h1k46XbBhYd+uHlR5htKvtgwNwkt9zvbDIZx8Y4P8BEr3WKOZhM+ch2c5P1lY0/z3DiJp5orE2MZ75wD/UMB4d+eMkw5uQtuTDR6xmILHTkNW7Mx+ZRa1DrNHMDvfrlBL/SZcPHGsp8Zk3jg15rVPaZV9DKVXGXa/KVz/mDDP5R5Ef9dJsb5QGfp5tv5FAY8JEFh7U9vxqD5lA8/KDIFbbRxReu2S/mrt0b+FC7tY+3TfmLfzzDuwfhZQP5YiG/yEQHgzWMvQj+4Av5erLde+BAI7dbY8kV60l+l1fWs/LSGOCDcpE+fsKvjd0q3YdtvtR3jOWoNrBs8phsKpypCigHGjjewLIwFhCLVsFzjkaioJegTSoFwo3RAnRuYFmE4FMkBl4ylCZbgXVDsEvsIduAp9PNQSLQbaDgLVklqsU8GfsNLIlInonLYsVAoNNCwURAtgRnL34JLNEtPtykLJR859jRgDNoFW+X2b03qL/4xS8u2QahxZMHpm5+Jg/6+AdmdjuHXZHYEphuvtNvQKCFnT9MjDbo+MJiwYOHRY+bYIsHk6vBzR44+ZndJgwTm3i4ufRKu0UaXHQZdCZVNxZtcBiwcwPLZKfAZXIyiXmYwUeGG4ybsxu4iYBNZImNG6084n8TrUUz/8CD1qdeNhXbwBIX8SdXoU/M+YKf8qlzPjKp8LsHGA9/bLOI9+AHQ7mKnt/9fosbcRtY7HzwwQcv/I1eXOiFX0xU/OJfvJpktJErriZ0/sOnH58bmcX3fgNLnxsbeQp6/qXH4k/+m4DF1cKyhS/Z7NYnR93oLRgtuvjWgjRsbjziyh762GTjwuJDu4kcj0WrXKJbYVP5WO5mO/+IGxxuLre2N2jcOC063FjMG/rMC3DAmkx8cgcOhez6+VCF01HhG3rFnG++9KUvrYVAG1hscTOnX36QxQY5ZBFhA4ntFiO+TibW6NQ2WU62m5EHK7Ew/ulsDvKmpbxtA0teWkgdtpuMfO8hAw/M9HvjEY95U+y9AWB8uumjY7uHEHkPF7xia9HngYT98tZC8WxbuMCpLb+YRz2o25QjE49cNx/AwF9iRK7xD4/xK//cdOEn0zzHb21giT//GEPmHJtw4ufBB588SS472BoW87x85GtjlS89tIhB+brfwJKnFkQ+5eMncbD4tJijx8LPfCFP2QuLOJlzzcdo8hU85izjABZ5ZiPR5m4bWBYZvkLIP4p7gQWSN+z4h8/N9TZmzKFkoGWn3OPb5jTndLKtuIsxeW1guS/ITbx0mCvFmw3mcBtlPeQbB/jIF1f3H+NIMTb5hq/Q8cN/2sAyZuFRyDIf4ZEL8s2C37xqA8smemPL+IoXPb/C7SiHfKAgR9vA8k8o5J05HDb+IhcPfnbJITlmPjYe3XvoUI0B+GDFw8cKn+r3deirfIXQ3Ofr4GLvAaCN4yXsv+xPG1jWdYrxIVfMZcYk34qRzWlzgjnQnNNXPI1Z+Sw24mI8yxtVe7ErRq5n/LQrYimvxNc9wBwt/80rxq3cFys5I79gwiMHYcbnHkG2Puse47M3B/CYi+STucw8gR9OvN5EMH7mBo6HzsM2Z8Mj3/jFBpZxZJ4wTs3n5h/3AHLogUElW8kXbJ05zMfo4TBnwdqHKmjpM47Nh6q1Ih+xzxhxPzZ3mMPFw5xr85oOY4nv3FM8RNlYsM4jhx/Ehg6+U9GebfcNayJ4rZ35ic/FlP3k4qHTPMy/7HSvsjZzP6mQbx7BJ0au84dz1ZhnOx9YT1tTmjPkmPnOh+U+pDCn8i1+tPoVuUc/HWQ1R6BhU/MwXhjiL+7hISO5ZGlnJz6FbDRiPOMnDvLIHCkf0Fnfm6PdF40ferXLIWtO62rrcJsX6PhOHtEl3nS4H9kw4V/3RvcWcTMOwsd/xcM5mxQ+UPY+QUO+vICHvew0ZviXLxVy0OnHAz9Z8Cv8ihaddn5xj/SsIHbyhw59h23swG4t6lzc3Ft9uCf3+U+R48aRsZlO8z855FnXGp8wkOf+Ide738KgDwabJ31o5V5jDeKDK7kopvxr/rchYkPG2JHn7uHGF52NCUcx86GtucjaTE6JmWcB9zZ6+ZFPHOkWu966QWseQcvX/Eku+9Ga56zz5b/x6ZnIuoZv0Mohaw7jnR/QwVg+ktvPgMgH+WIOs1Y0l1g7WF/zrTyDgX4xNi/whXlEblnz2MBqLkMjL8WS/+Wt+zofWLeYk6270GuzDpTX5JnPYLHusmkux8SrObrNm/KO7+AS/8YiG/mAXh+o8gEZ8slagm7jT2kuC4d1BCz87AN685M401Oly7niXKGzccJu6y9vm8LGj54RbWDRxwY+Z1NzCjliZz1pE9q8a0za7DOGzafsowOdary7v9Jt3mObeBgDaMWgODTm4NYGF93W/WQeYzmqDay+BiBQKodyIGeaGN3cPPT5ZMjGkf/sJ2gemgRbgnG+xFLwuZYQFt/7rxDODSy61HQXLG0SwULb7rcBb9C4mUgEOCQRGljpUnw9haw2sGA1sZkgPOSb4NoQM7kZCCYBSWYyZi/d5Bngt7aHcnbRZ5KVVM7ZiMbmx3wDywLagDTZkUu+iTz7JHTn+CVzvi55+RQdzDDBTZ7FkAfNuYHFHoPepIHfuRuByc1DtdjQh5cvbS7wowWaByExFCuTqIFt8qXLJGoT6mxbAJnEFHLcUODGY6CJgQdPOAx+E6YbgUVXmBqw7PTgY7FoMjSxw4GeLH37DSyLteKBhm5y0u9YrliUnW9vCVi0yjGTrddd3Uzh5Fc2iLGJwY87i1EbWG5m3lpS+L940KE4FjtYVDTkwZSd2hR49MFMtxuvRVEbWDaN3KjKg+jkG15HkzYf4LcA7c0UNw9tTZiObnDkozc+3XTgUjwUi6+bJxtci7XFh8nWjdaNWfz4rXEgf9hJDj/zAfvort1RDhgrcwPLvKGU43yeX/G7kWW7PjrI1uZIH3oFZnrEkTwPq8ZvG1jeKhHn/2Xv3lIdubIEDNdjDUNDER6JoIZg48uDk4MvkAm+gjEY/CA/1Dw0FA2l1xfk37UR6a7TUNFEY22IVChi73W/7RWhk2ioOAdDgnHQM19SYPQHKX13sFU+ISEpjAy2C6ciCW8am3y7BpYYcp4NuwQINl8zH21kx3c1XDTMNSLomp17ggk2vvieglai42P4B0eMQ0v2JOawA81218iBHviywoqcyYrf50/kSY6GgkwM7W0EMUkjATwyVMCg4bGBJc4oGBRjCg5xTcGggEEDWgwFh7jgTUw5gkzdT494UcCxezp5/F8INbQUhGKUT/Rp1LJV88ETX9DJZjXdyJL8wWRLaCF/BxrQbS4e2LcCuwYWeWmKFB/FLb7PhhS2ZItHMVQhk62TMR058AYXPcancwffg6MG1tu3bzf/gkdxyUfpm63ZpIqDYLJbdsM+4CRXPsyO5ICKYcUeWPCSi1wnphr8Ay/5iWtkCC741uFToUv3Ygr8eDEvGcaLT/bMhuQPBTd/qoHlDSl/1BWM02xoxKX8lk7wZR0bAot92mzHIzrJ21yHc6NPPyX9n/6I+9q42hbOP+T/bGD9fXvznR2J4eIB3ftOD2xBrNbAcs/GkC7FfroRmx3m0n11BDvi2w7n4NnsmAeOuXTKjuiePbBT9dttYrMYw/bVW/6GC38Xf8GqlsuGwNM0gJtt9PdY6Fzsc0+sFH/VhDam1qAFDTZ9GihiOJ74m9oNj2gC11z50maKD9VcUrOB4T6/wK/55SzX0YAuNZd7BlyukbWYy9fZohhOJmKT+KX24nvVbuiTX8RzG1SxmU48eLEhdx8+sOjMJorM2niL/fkv/3OupsObRhZ/EjfQYRNFb66lQ7L1VgL41ssP4iU68USu5uPBWjKkr9bj2RzDOd3Dr4YWb8gDT+oxusIPGsE0Hywydd0Rfa65LweY7zo89IEGn4YYhU7zzGFDdIIv98xN72imR/p17j4c8k02w07JGBwNfg1e+M2RE9AAHz8Sb8Vha9iXmoBuyRkNdCyGy+HyCzo0ujRu1NkrDfhBCx2g0SfZOAcLDeh2zobpgwzRQ+YO95rjOpn4zObJy7nDdeutCT78ciZ/kPfV6mRkPl9lE/Izu5T3NSHkEz5OX+TDv80Rv9WxYLqOVzWYN9zURa6ZJ5+rreDBg4F3+VvjgG8bcMv5fJ/syUueVTvY56FbnaLxKr6YBz887KK4xC7wp07gV/yCTuQxMsEHftmD3KU+cs6G/aKo5hV4dIIOvLEJti628n20aaSJU+akT3IjMzS7Dhe+s1V5Up5Vl6LlPvua5qPX3ozvi330Bi758zW2xufJVd2lZoPDMI9twEe2dMduzVcPgUkPp/e5HM9sVt4nMzWrfCxO4huc7A988oDDNSPZmIcPB1uwF1HP2bPQEZ+Rf9iNNWTIbsGhO7FEo1hNR3aaV2I0GYEZHvM74HGOXzplB/aF4qzmpZqcfMQ6tgEOWdKD+Qa6DfJhB+Kz+3LJ5XLZYjnc8p654oXv9IVeNsoexYPiOFs2pxgIPtzFITSTIRuLDnOONA7TwLJZ0HWtyUIJhOcwCFXBwSElVkG514AZFuOgfArhvBzFYR2lCFY2f4yOkgVvRUUOxcgYBMN3GGBRIuUxWMGJ0iVzQUawERjMFzSsb403fAS4GliCmA4+2mwCbCg5jnPBSEPgNM6qmAcPPWiHG07BwneGjXedWkkMb3j3JF8Bb8PjSbuAZJOKb06p6aVxkVOjEyxrGTB8HHV1AMkKLdZIXooeTwk1AwVdG5uKN7LkICVt+pNEvX4ucZIzPXEmm25yUOwoHH3ihfzwKuBKWJxVQiFvf9jcPQNNtylC0d53n5I326ALmwdBiJ7xaYCPLjrVPDAfTLYnAJMTXm2KrOkNLAWXItBa15MJ2YPlu3O6Ij94BHEbacGWTDx9AJ9MfbeGvMnV31Hy6nANLLLV1Mqe0Z59wkN3aHGkR+fw4t1hbUUYOZI3+dOXYMsu2Kc/bklGlwmC1gh0aKMPwVpywYtilc2ydwWtQgr9dGAunNkWfBIC/gVSuiQnw3xvplmDZoWIgGxzCT69SXiSHfrBJVf2Y77zZA6eOe5JCmBLCOxU85DP8AGJ1KA7a8GIVmvxa7hOhmTtuvlgukbuhrnJHyz+LbnXwGKnvismydwccpXoK7gkLw0j9sf/2QBZ8n2+oNBgu3iHCwznErwmC35qYGkskBc/ck1sMMDDjwMOeqRbOMhcAWCIKWIJejWW6A499EbH3lolD3TwY00f8coge4MPiWXkDg89aQ6cp7GDDgMMdODBxs/QUHIY5HwbnwantzHA5wvphR158keeCkNv4NJRvqEQVeyLH2wXzfkoGZIP3ZAVPxSjxax+Qig/8HV2eJpYLGaKDdY6DPFL4aGY1sgRNxQEYh3/go+NOOhMvmmjxyesr4EllnrqRtfWkhUe2DD7MPzPevSb34PrnN7YMFkb2WzfzUM/3fBZMVRT3KaNjskSn3wEfvpSjFlH3vkdOcGjwGSv4tlpZCNPKx7JmS8r7smT7A1wyIkfobdreEQTH6Bbn3RSkYwP+PDn3MBTPsC+5A+5VByyAWFP4idbVfgb6QsdDgO/5X+xmA2xc7aHTvgc6dAa39Hyj/mptQagAnAd4o66hV4/NMD/qw02QabewOLDNlrJmG6La+QqX9qU0KHr9KeZKk7JS9ZbS5/m+3SIyemWjsQBccGc7C3bY3Phh09tJDfxNfnG5tbbOHzY+uI9eOkffL4AjuaKjY94aa7YDgbfkl/zQbw65AE51PXyCn9nG77jB++aPA5+wbfEHhs5OKMJHQ5DfLNeXMczP/SdXPJhGz8xV45Vt4kl5tkMgil2qT299SAWiv18nX+pt9236RU7NbzQoikuB8nZ5uCLztRqauL8De/O8WYNOfguf8hT6IgXcjdfDmEPva2FNrWAvGgtmtEIJ/2QI/j4ZStkQmcOc8EU49Cr7oAHjeoecQ8Ma1aa83/36JxMwbG2uXTWPLT4DoY16EMT3sjLfT6BHvfxbi7doN/hHprBMUdc1CigBzUtGyMLucNasKMPXeIQe7ZG8wBMOrXvoEO2BjY7UDPIL2xVjtfAYv/lWXyhGVx8FMOc4wduMkGzueSeDNglPAY6nZsDNni+WwsOfg0yNad1YLlmyCFiq9wpb5hnPV/lbzb96hJ5h47ZDX+Hm+7UOuepQ+wV4W89mwDTflKTQtOEDcsJ7LM6Hq9goZ8Pg402NRMZo8U9NItXt6lh7BX5EH+x55KnxDP46Qw859aoieRVPq92sUYMpGuwDTTTrZjjP3hBA335ExL4M8B1oBftbNA8DS9NcbDkKYd5BrrlbTK2t4VazHYPAABAAElEQVSbLPHFD9HGhtiIg774MVnjUQ10mloArRow6ExOahjyJWf8y+98GB34J0O0+mS7ZKAeElvVK2KOukD9bg5cmtDexKMH+vJSiBoHP3AbZMpX83344PGdfYFlmINWeNVCbIc/qOnUpGIEG22e2OUBCdmqUckLPeoIshGnG/hb/TnawANH/WU92ZMPu1NHsmm0opntoo8O0yv4aIWfTl2XvzTcyMkatgw/n3RfbqBLfPBj88RdciqOossgn/XITskCLUcch2lg2bArgNtY/aeFxfA4mp9+UCbDE5D3GhKW4lphzWAVJBnKHjgZrgDAob3NIkG3md0DH2fx1ABPCnvHXvjoSQDEl2EDSr57DbD9RNIG2bnGQ4FvD5wagQK+gtXmzJO2vWSJfrzQnUDmdf3PP/98N3ySnqAp6BqCvcC9ly/Q11dffbVtmgRoSZC/7zXgU3Db2CpafO4Vw/BAnpKtZKc4sWnf01YkbbZieP34NgVaBe128T/4Dz/wN6E0kvBJdxL+XoPu2L8CAI82d/jdayhGbCA0jm0iLtM03lN3Chh8+fTGgY2NInuPIf/IOd99990GXiNQ3tsrbtKdxqOfp9mYyw8K772G+sEGwsbhcShC3717t/2h4ceaQkPirzbaZPdH3P1tD3agIDYU9G0MxGhvhGhg8XU+aANhE2lDwXYV29YqrhXSYgN4FdvOszP3zWfn1thI0J37NgZwq5M0wm2EbFjYrY0gfO6Da5hvwAeOmkd8sOmxqeZPrmnuaHDaeBk2gei2xgbCZhUt8q1PtmujIo6iC82usRV5Uh6xkbYp9PalXAmWwzpHPLF5vJqTXODAB9waIfi16bRB1hAnWznYZt84zwa/DaaNIvya7ppTYhV9qLlscA3ryMAmyhx4bVLVuJoKZEJ25Ig/tNAtuujGd5/muWaOQwzxYM3bBXzaPBtDOtKEwSeYZGV9mz1r4SPfGp5ibbaiAYR/zQr4vFGgsYM3MAwwyNB9OKwlWzB9sldHuY+fxwv9mm+t3O87/O67ZpBRh2aG6x4aoZdNwR9u6zwo8FBYzUuH9iv9xA3NZGNoOlpHdnShGaFRR1bW+M8nbEDRTbc2wBqP5Mvez6P73ohDH7jgkSce6U2OQica14N94Tv6rU0n1vvOZsnCp++uk7N5rsFpxLs55O+7IV/epuZQ86gPyAYNcPIzdqcW4o8eUJAVnRlg82t1db8wsNZgw2xCIxufp2nEeJjkbRi08S904Nt3g16ND+kVXHxpRKGXL2uQ8isvO2i4JDtwyA5szRs5WvzTVKYrNbI6Eo/kQMZrAwsN6PSLJTGHXZpLx+IOWwBfbBXn+ClZawp5oYDfoRV/cKOZTYhjGlZ8mGzIHFz0eKhqXY1V9Mrv5oIp5mf3Go3uW3+fN4DcJwe8kSU5sIPkyMbojsys4UOaOuxXrAIXLg0jNS/++K6XNcQl/sluwKN7fDvwRx4O38kpuyIPese/t+Xwyy/hxK94Q0Z0ZJ0HZ/zFGvFRA0qDDk+aqGpjsB1owRO6u+YTfXKOXxZpRPJH6+VHfJBtOH3Cy4bJHQ/WexghR4BBjmKyh48aWWzM/PwH7da4lr7ZBfqix31w4HLdcC394Nf+jQ0ecRymgXVE4TxpekrgKYGnBJ4SeErgKYGnBP6dBB4bWYpKT5T/qkMDy0Zak11RrUj2adhAKPAdNbBsMjQsNBdsTmvwVFhbV/GtoFeEg2kT6Fyh36bFRkbhbvOsaFektxHV0IHTBqIGlg1RDx7aBCjkDd/hsR5NNg82WzaH5ni7UWPIWxkKf3PMRQv81qPPPcNmwD00WY8nGx7NBxspb9GARQY1KMzBs82ajYmNEHjmaXShH43hIgsytvHVELIx9MaPhoZNmg2NTZgNHFo1MbyBadOtaeChjMaPTZENnQ2qt4Bs7L2ZAZZPDREbYBtdjSFvS5GpjRWewXbg03d80HmbTJtCusIbuWgswG1Dq2EBpo0lfsABA4++G3RvE23jbbNrLpsDC/9kQlYabhpY5sOnAeCTHsyjCzDJNL1pItrUg9kG0j34wceLgTffXQfHHAO94HUfHvc0XMjfptineTaKDrLRlCBbG2QPNjW6bHQ1QrypwSbgowtzwWdn92kW2Nyybdc9zGaXNTnIgh34Gbu3MtBCp+SFP3REDznHEzl4e4aN4Rmf1iYD69NtvPtsrvlGMk6XbMA1eOmFfNi2Ya37mjoaBpow5MNeXIePn52nAUce5om15OZnVZocbB/tfganCQu+AZ9mX/IFD29+wSJmG3AZcJAJOsnYgJtefeLNdfyCe5vmlbeT+HINrP6MijnBYdt8ht9rVGpM4IEda8ppYNFr8MUqfkm38IGtac7P4CVT8w1r6NpxvV63Bja70oTSGBJDzHWNDDyYERM9nGEzZNqbWd5YZntigyaUdXzUL1i8jcX38NfPA8lNHvTnLsDme9760kTkc+gkB7ZLx+CxH/7pgQB87BVMLw6wT6OGrphLFuKexo833PBvgGvkq9lv8jAP7wZbYHN4d8Av1uFfDtL4JD969ole+sIfPXiLV4zCP7/0cgw7ceCJ/cFvfXGFndE1G+Gn2S99g6PxZ7ARtoUP8OD2qZEsJnsQIW6jg42fpvnKP8Uq9Itr6LQGDD5VzEUX+tAUrfDhkZyy0WhAM9rwcsTxbGAdUStPmp4SeErgKYGnBJ4SeErg/50EamRpciiM/6pDA8uGs58h2zTYtCiOFdS+K5z93NsbP4puG7f+iG6bHXPanCjsFeAKc6PNRQU/+G3onMPRhtc6RbrNh7dUFP82VZd5E9JT5t6GNMeBTgNuR7ht/m2q0W2DYtPrJ0oaKHBb6zoa4bcW7mC457ojHHi3qdEQ0sCy6bDBsKbNBBg1sGzUzbF5sSm18QWPPAzz8M8Wr7OJtTm2EfKLAM0qG18y1xjQIMGDTaq3fGyy/B0qG0VyscHyhoC3EpI3mYLPxjVZfLchs/EjUxtPutdcIFeyQD9e8E//Nu/WtMHDqw0sem1+4dc8wqd1ycK5NfBrAmnI2VxrVsBpwEcPcNi02fBpYLVJBLeNr80Z3ZI32uDBj020NwLJCj5zHBoINr/Nxxe5wIemeHQdPAf9wgM2GtFHBu6BSTcareaRGTrJoJ9ykqc3PTQC3EefN9FsqvEBL9lpJmoAkrk34tglfHDhAUw/fdWEJRtNW7SjK1rR7cg+bdBrTOLBAZ81aMeLc/z7bLjXcE4uaHXABX7z8Z3fmGc+urwdw0Y1GczHO1nRATo0MOjSG2WaHODYcJMN/2brGlhkRwYGe9LAYueaJuTOtjWwNKPhBgdt5ma78e0+HnySAzqd40ls8TaY5oLGD7sU09CNP7yhnU3SHdzpRENE00YzBL3w4RndGsbigpjjuyYdejXe2GH0oBlNcBn82K860FgDS4MDHeCTAdmim435GbAHCL1pRfbg4UXs0DgiV76kgSXueAOIrYk56PW2FBvkc/h0n/2IMWhFG/9BM/n6lCe9DadBo3GPf7IQf8gWPeSkGQ8++/b3Q+HFiwPvYIPJ1vHXAYZraHROHuxI/HKQrQYWOskfn3wsuPgiN2vM1fDDH3sRIzT52UkHvumZH8HJNsTi2zSv/DkaMqRDsVvDH8/mowsfaLQOPE1AcNg5ftiCN1V7y8099kVWva1KPuSKZuvMIRs8ZRtiLzz028FmzHW4hya6h/eI4xANLMKTfBjHXkPH29808nMRBsHwGdVegwF70iEgSEKXKZJ6wrcHToFBMOKkfv72zTff7IaPMdMXvgxPADkkZ99j0J2faAjYAp9iipPvNeCT2CQ+TxsUDYLJXkNQUbxKvH526id9e9kKX1OQwWfYZFynYJRM9xgStMTH97KbPYMh3Xk91+vSihQFDJ/Ya+BP8pc4PHWT/Cqi98Ap+Uj2khIf5+t72Qq75AOKJsPTewWNAmGPQXd+QujvidmgidES6V5DjPbkk43Y4Cm0PA3ca7B7G1TFsk2fny7tpTs8KH7kBJ/+AxMxbS/+xGU/ufazPuP/MifYuHlDREG217DZU+h+6CeEf4ZTbNhL3n+G80jX5RaFtCfl4lYbSD7t3KZAwW4zVAPLxkUDy2aiuG2evGVUXKvdwLTeuWLbUHCrDVxTj7hujgEGH/SGBF+wWfLk2s+LbN48+TcfPrCdd8DrmvU2U/xYXORbnnzzZRsIdZjmg80D3q0xfI9W+QGd4quBXhtmb0RpQIBtPvrRQg74Md9139kW+Oj3Uxo/t0Zbckp2mkD+pqfNMZnbnPZzHrgc3spBk0aQXO3tC39qQz1ug+bve4lZNnXmoQO96PPGmI2U7zaW3g4Q02zI1DNk420R8kOTOgqccgiaHMlGMw1ucQs8G7A2uemRLBxki0YNM/FGzkeTWhS9dGezZ4747u0NugGH3ugKHHLLZqwBl7+ThTd38IF+uhBj5A202TSijcytM5zTkQOcaCUzOncN7uaAC7f7dEqOZIxuMrCHwI830TQg5GMyxJN8CT8+8C0OilH+ThAdqNG9gaVWgEONB6afJdqEk0XxyX2DbPAApk/0kwG8mkXiPFoN99BvnnV4M1xzgIFPtIFvXnjcT/Z4wQcZ4t/1bOU2G/7eTgKbzOlBg0rDiu7JS1OZHsHlx2gEVw2BdnEFjWiBy3x+ptFCjprP/qYSe0Uz/eMHD+ajiZ26hk7Xjeb4bo44poHFp8QDb8yxSzTRP/zoiGe2pDGjqcHv0KvhpSGCLrwa7IGvXadWBwPffkLIzn3HN7qckyEcvmtgiSvk3t/AonPzyAudNbDEXPvV/l6Yv5OmTmFXhje+NDPQJWarr80nX3SLRwZa+bAGD5vWiBKnxFg0oQ2N7NIa880Vi8RkPIlTYpq9CrsRx8jHm118Dw9qGjYe/z6TAV0YdAYXndIR3zOyWbzfxsZ81sDiZ+yMrYNHttZbi3e+wy/V4XjDvyZWc4rP9G09f/WpyeqnmnRtrmYZ/2S/4px1aGVTcGV35EN/5hhsUw8D3WhxHy68GvYi6MGvOECGDnjA0fSvNiGH4h8aHdahD99g0oc5RxyHaGARDuVRBiM0CJpwHYQoIGmY2CQ6t+k4z6uOAg9jJvAUYD0jsNZw3d864Sz+RoeA4emKJxEG/Aw+AxE0GIlrlAiWoCRRM2BOU5d27WKClRP5o+oKC4WN/6lMAWFjxjhyVoGFUYHn7x5ZC6cEn5PDbRSg8EI2vpuPR0bv6RlD9noy5+fwHECSYtCaMBKQdYydDMGJR7DMd59xh7NgK1mQgWAGj+AFhoEmRQ4+/E5ZgScwK5S80qjzDqaOvc0+WOi26RCkbAroj1MqNAQyHWZ6F8zJ3H3NHTAEDRtp9x3u0UO2suoOr3g0pwBBNgKzp1B07w8So4PcHf4wN3n5I4mS56effvq3X375ZcNBf9bgj+4EJ7Bdg4u+BD7Byu+18a2A8xSzzU+BaRPe/HOZ5uZPP/20JS1NOnQqqtENHz2Bj0d6goeeuu4e3gUr19iDeY3VF8DjO+YZEpBXZvGLn3UdvSooBWoBG69sia0J8GiA13U8Oad79u1v/FiPB8WGZMgW2Sc/t4Yd8UW6hMc1dKBJ0bjSjVa2iFcDnfCv9Jr//fffb0+FXl5eNjuSjG00zMOzT8kBXUY2Ay5bct89sA1r8jlxYcXpurcL+Dr/tVHQaGXvJf1sE0wbBH/MX+EkYZoDHp1o2EjoChO2olDAL1tQ7PAr/ter2Qotf+xTwtdY8pQULLaBD7K0Fj/8NL58gktW6LcGfDSJrff5GQL/omPx0n8s4MmRYVPy888/b/zhi17Bg4/fKrD4LR/iU3TJJtkjH4ZXgefplaGgwiu7EHvhx6M54iWeJHuyIXs4xGDzPb3SMGGzaEEH3OxJoeO7p5MOdgYu+fJzBQreNIptUvztC29k+M8vxCtFnYJLgXGeHENGBvrFL7ICU7wT48CSg8ibTNHDxtAtTqKrJ8k2z+KeP6h+mwLE/6TD1sUThYU1nkTSA3rFP3SA/WiXbJNc6NJhwG+4R4dkpXi2ERXP2Ca98Wl82hyxJTHBJ3/IP+gVHPajke+tE3rh+4py9gcf3GL2dYprNmC4TlZsmzyilR3ArQAmMw8jFMZiGzs0yNsBv7Vs2Xd5QwFIv2yB7fRH3DU9/J0vNqdYsw48tocWMMQo566jxzl/MdKZa/TsMMjccZkY/e2332762G48//m3EugNLDGkeEO+RnFXrhaf+bxzuYgu1XX0ZdCF+QY74Ns+xWz36NY1OOjbp+90ah6crvEV99mqvC7+8j21Sw0s68yDz9oO17NhPt0bWHxFXLf5BYO9s3GDTZeb4xtNGgnohie6+Rh/0YAQX/BvA+wQQ9mgmIMGOKwlH7GWD/WTF/DBRL851vA1jQsxhmzFZnGAT8NFFuoU8Z0szFOb1gji6+KmDR46kwnexCx1m4Nc1Gc+wTBPbCw+iq3iDP7Rjg86B8fw3VoPoPg3GOIWHZEHHZobDelDjNfgEb9cE9/IPlnUrPD2hvXwm68WMc8gL/ANn/SDXjDFYby45gBDbKJ7cRkMsnbNfXPpQGyhN/fBzIZ9sgdr0WtN+gLDEOvIQLxTr9KXvCW+gW8eWw4XfGoBdQV98wl2eZm4Ra/mwckO6FsNBq83aMiXjsCLFvPxiW46U5eQM524jvfkSx/xZH1yjLZsH6+udfhuriO8+CCzYMsncjc7pTd2SG/lsOixTj6mV3Z7n/yp0aHmlgft16IR7ezUW1Jsgp7U6OKUvE+XrqELHfSEZvJxD910Cqdzw7m59IVeurPxl7v9DSjyJSdzrCFDg/+ojdVEfgJJZ/KqBkR5Cn71MVmgF134lDfVQWon9oA2ciQ/c+C7Tk5Wc7gmX/JlcvTdfDWAh9ne0lJz0rW3ggw4e8tHDUiG8JEfG2KX6O0NLLyRsZgDr5pHXBA31CBsEu/mOMBxiAH0qfZxHx34539kiE4wyclPKNU0apDL2DZ7yI/oSFzBN3nARw5kLbbQEbxkZJABP5APHGBqxPEzPkP+YKKxOIEfa+hZrQk/fWmQrrYAL7rhJhcDf+on+yP00CF/5h++Rzsa1bVgsEP0goEf91x3sHM2Tjb3sXcPD9Sa4JAhObA7vkuW/Jys0IQ29ReanfvMT8nJuU82L69lrxsjB/rnMA0swqQMgiNMR8oiYILULefoFMNoPBlQrFIsYRspIRi+OzQgNBZqYNlIStI5OwMSCBgGZUno7jnQoXlm8yjgcHKbRkUDusE3x4gOTx05dg0sgfbNmzebITJifIDHUDWWOCPjgk/BAibD5YirccFTkDKXg5nDSBmw4K5IwQPH01AQnAXm0+m00Rit7ucMghqjL2DgA2y4BRhFgCc3Ng9gckaOY5jraYDXz/EpEAu2HMZmWMEkANAvnsHgmBptAga8eLdWUcnBzcGPwkXAAkuDQOKxadRQcS9Z4KUEgyb4yIce8UG/5pgPnqdUAhF9SnzgW0Offt9t81wDy0ZXMc7O2J55grKDrsA2yJIuFLBo958S4Flg9CSGrZInOtCWrfhfCDVePHWxmWbvCkl6oxfBC2x4rKdbOnRuwIkvgcs1363BNxzguW+NOWtAspmWuCX51psPHz414iQ4uvedrCSyNolocd1hjaRHrhINWtBB3hKlTwlQ4xBtdOO6JgW9komEiD5FYzZoLn9AF94U9WRfYQkP/uDn32T28r6BpbmkUQ22eeAEj+zIBFyHc/SS86pTcB3uN8BxzR+R9hSlBhYbVWxKtnCaZ9C5YlExI/FJ7mxdzEEvO5HkNQg1dtgj2bJHNidmkNN1CgPyVVhrbvBFNiPp4ssaMgIXTvj5hU/0GPFDHq6Ji2KhQgdNGoga/PwLX3Rj8FNvLrBLsmDn5EV2/V0AvmsePsEoYcJRc4bvolUMFgMUCuYpvj0lVxzhVxzT3HQfDzaN7it2xDvNQ/EOn4YNGbnepjGEN7bG76wVb8UXGz50kZ//MdKT+xpY/odH8Ygc3OcTfDLbIVuNb/DxIg+I8QqRmr/mGOSCBhsyxWGFODpqYClyxRV2YZ3iiP/wHTGUDj0EkevEHjrMhjck809+7Tp/cWRzbIju2BW/xS/bRLuCjbzhU9yI3fIQXbJ9PIMNFvujV7RrPq36zU/A8kYguIbreKDXZMEubaDMoWM5SW5g73glg/iAHy8GmvhI8YJtKCBtTvibItub1eoB8cN1MUR+htNAj/jG7sCDyz2+AI/70el+vKPDGvD9ZIHPPcfrJMC2xS+1gXhRPCJbMid/OYFP8xF+3htYdCenGNk4W7SOPnzSoXvg+g5Hc62jU3NXnRdH2I94IZap5U5TG4kl4BTr07312Yn7fEpO5KdsRsyWQ+Ula+BAh8GW0OW6A03FK7buIAe2beMLrlgq/mhMiTH8F+/ig/lwogc8cYHvgGuwcffVVw41mpjNb21C8Spm8RP35F/Ne3keb2KuT/nLNfFSU1FOoBP64tMOfOav4rt7aOTj6kX5AV/0RJfirryAbt/FTDSSUXzVwOLj7hWXxApz2Ij4lQ2QixqMjMAja3QZaHQPLI1BcnBfI4YMfKKD7Miz+GMt+HhXY4BjHT1lX2jBh3tk7rr1cKPJgVZz+ACZgukwBz64fVprHphkAY9mlPzAL+hNjhEn5STzDDQlO/DVEBo9GljoomMPRG3GzSVPugFTDYJu8Zdu1XN0aCRb8x2n8Q01LHrNQW9yg9f+AL/WkUE275qBXofv+CRvNgqOYR1ZkQXfMMdc99HLJ+QM/mnDL/eTIV7lVXZMl+pSPuOaOoB/qwHIjOzAN8Dnw+oodS16zROn2Bn5O9BsbnkDn+QBjnzkXnZhLr7EFfWD/Yu9lHoCbvZpfb6fnvmMvQLfVxfDz+a91WMOHHycP6l/+Cqc7OEye0Y53n10uW4kWzL1BhZ62AM/lr80NbJ5cYFsPUBQG6iXyNF9vuye3I4fezlyUhfepgZCO/zm25PRl8N1D+/FMY1Y9g9eNoBG8+gdf+oL52Tj8zT2pi5jl/I4OfABD3Ht29RxZGuPhCbxzxy2SC/usw++T1dkg3/DubnsC034xx/Zkgv7oS+xDl1gWosHNGvaWZMPqd3IVB0LLrvxCTZ9oAUMfMFNNuyVjtgzXvmMgf9iEFrMp0Ow0OAAG1ww8eY7XsVqcU7MgBN/bAYeNIq9bFGMtM7BrsECw7DGAbbhE+x1v7jdONA/h2pgMVJGTqh9Omc4DIPxMhxC1UlmNIIzxbeGbK0l/FUZ/vt3iq2BJZGDxSjMA4NCKTPDycHAtAkW7Bjf2sDiMNbDb8ALv/86em1gSeT+p0VzBU9P2zRKOB+nsVHhJAxudWa0gG0duMnCHIaNbsbISNcGlmvu25ByZPMN1+HAKycRVMlTQLCx8sQATIEFTp+c6j4dXgWbjYygpDghCwPPgn8NRcmRrtB+Ggfl4OgjW9cVTYLDZQIw3ulQEMabzalD8rEx0VHmiDYQNbAELXpEK15ycDDJSHLlqO7lzM7xglZ0ecVVcFYoKFQKUGQtWNus1MDypENSQSPeOTTdCuaCEDnRI/jkKcnTseQhsBgKADInf7pwmI9em3RyqYElASskfdeogRfdBhmhnyzhZb9glnDBcx2/9OiTfunQPDQo2guadO7NQDaNd3DJ0afiDf2KPw1c8Dxx8NaKYp3c2bXr6LCePBUGGpXRyFbWBpZACz/+nYNNXuiU6PGI1vSKB/zjEQ7Jnd1Inu65RiZ4/+GHH7Yk9vLQwALLvA5zG3AZcJgXP64l7+b4tJb+0KOB5S2vGli///77ZuuSLb3BxybQWUFDRmxawcl+yFkjis2WEPkNefBdslLcKI68cbI2sBT8aBAL0U/mDj5AvkZ6YBdodyQHc9gr2OzwPn6ukaHYQS9d042hcaGBo4BBG92nd8WKIojvKzCtAwPtcLEpcLyZJ/axQzTb0KAH7bcpirx9VAMLDNfQLZGj7zoNPLht8Lz1IHbkV5oxCl6xmt40MsCgB8WuQsXmR6GGNvFXQVwDS8OZH5CFTami7KP3r2KjkR7Rhw4yUxC4X2FAzmJXtkt3npLZUCgsFOJyTg0ssvIGFl7wr2AU9/gOvzDEHnG1+MTm2B6ZpM9t4vxDl+6B5Z5NifjPpzSwvOXpjQZ48IAeMnNPrBFP+ZH1YOHZJ3mTa/plo+KfIpNs+Qz5fv3111tMRY9rGlh0w5/IhL3IoeKuuAKnuEof4KDZPJ/8RUzFr7pAjGbT7ECe85aGUQOLLYFDTvROJ+TMPvHABq33nYzYI33iFS6HAT89mu9e8lQv0NWzgbWJ6VX/9NBHfCJP8c0gdzbB1uRT9s7P2Ye3BMiavost9FGMoI/0xcfFFzbBZtgce3Pfd4d1BjsyFyxxQIxhR3KhjZBcIkdbywasg8th8Gv31Ezsmv+0meQPHlja9GRPfEbtwfbwypar7/CNNqM4Ki7Js+KoGkvsOZ/Pm48kBzIsN5EhGGxaHeY7WvNH/IJtw4VXcMVfD1tsZvi8GCavyL9yirggnsHH58QiPIk/Yrpzckmm8IHhcE+8I38xxXr8g4sf8hNrNSjxTxbyi/n4QCv+0NgbWPTrTXTryJhs4WIz5OCg83TEDtIbWGCLfZpx9CUOuy5OqFfVcWCSoXVigkHP9GWgjTzQr46Rb9Dlwae8jQb8WAM2nn2Chx76Bz9afTeHfuAwz+G+dewTTjyqmfiF2kCdIFeSBZrxHSz26tzmmJ7VkuDRsX0IPGgnOzA1S9QffIw+PMCQ0/HPfuxp8ING18g32tITmayyN8eBfvLBk+ETfV0D11r0GXhBO1mZAyb+w/fYwNKMIgP2o47yMEyOVQ9qxmlkeRjnYHt48zBafgAfXENe1OSSz+GWK9Vx7Bx90Y8nuNDFxxx4FMvQjTdxy6d19ixsjc1V79EbW2En5qABHPGIHdHFbfTcGvUtms11kBU/BlcOd00d7uUI8QgcdKKJTumangx/ugNN1vB7+YsN+04eZCTuqEvUBuKOvTW4YLAX+VqDBx14IiN2Ju6Imd6EB5ut4I081Fb2Mfx53fuwRTq3ll+wN+fkCydZsHW1AVrsscwXU9CqvgbfdXjpF0y00plz8qAPenPd/OoL99CYfqsL8Qk/uYp34hl9GWwWLHoXI8UzPsQ2+Y35l9nLkie98m+6YMfmsxOxiI7A8r2BN3isRZM17pM1OuFsjetkzF7hMB9ctOLTNXyTp/qK3u0PyESOU2tlh+g0F25rwe6gCzgd6MIjuR1xHKqBxUkzLsrpnBAp8jqbF0oh9LWBReAZZGsYhoNBGI8NLImR45oDts/gUKzg3Vr3BUqbNwahONZQ6fVu88xBQzgVu5xwfQNLQ4QhSE664pycoes0cwDJ1noGyoAFGXQwLOeuweWaEc8MkOOtDSxz8KEZo7AAl2wM1w3GbC3aFQiCZkW/++DD6/59Nra66uDZeNdJNg9sBYG3QBSC5pIXRwdDkOktAj9Bcl/w4vg2y9b4jmaFAjolJxsmhZBmgARVA0sAJVvBWsKy3qaFo3K66HYOFpmlo66BRQcCIx0IcAIMGtD3xRdf/HcDS3PR0yz30WcjL8kIsIKtgCGIgKEQNUcg9tMIiRJMtKW/9EZuBpmyBTzZTJOdhOtVXgU2uHyAfbIfQZFeBC8wwKNTn2zFPKOAKegVJMnBU54CEn17c4IeXHOwPzpnHwKhBKYIhlNRRB6nabDAJQGjAU6fii1PKDztFCTR7VOCYDMSj808evFlo25Ty1bcVzwZeEGrz/iyBg52Q/b48J2Oydi5BpZk8/K+gfXJJ59sBTpYeFvlRD4d7mcr4LgeHa6Th8M895LzZfxWs7EGljc92SO9K4rIZU1q5Mc22Dd6JE22wafYMzv3BAgM9/kF/ZGT5o+mqMJL00MxonizQbSGrMkBj9ahE70GHsixROrcXP4gwWv6aGiITeKbwlaxAocixGD3Cr4SpvVsAj46Z7f0zFc0jjQ5+IL75rIN6xVLfE4MFTPQjY7bFHGa5DWw+ICijazZpKJBAUM/cNiM1eCFw4ZL0YQO321UzJGA6UP81jQiF/LCr7hUA4vu+IE3jehBsYwH9gQnPbBrcUORSEfirthDj+jk/+bSpfl0jV8ypLe1gUWn8oTC0eDX/I0/iAl0pkijA/qkM3yhHw66da3h2qrz0/govmtgib1iJxo1EdcGloaep69sFUywguca/YrHfFc8t4lgJ8U1Ba03ScUKg917+FAeY2NyJ/0q/OhcfCNfMdQ8w3U8WI9nPiC+igtszX3fr1ML0EENrIpZvJmHZ/7nYQf948WnmEau7I2+yDPfwLdzR35unoN/2wzSxXO8TgIaWOxDo5lM6ZCM+TL9qj2KCWox/sIfxQT+I1bRg7UGHRrsg07ojj2wEXDNpXv3DPNdc8h/DrDgEgv4JN9VC8qzNlpggwl2+MCGg42KW+oRMMQysMViDSzrrWVXcgV80eMausDiC87JIPo1F8Q3P6PmH5rJNuRqAnSIn3DxCQdZgQUGeOgLBx4c8Msr4gn/lHMuk6/4nDc44FRfiRHiAR8X4+GzGeJL5CJW+qQT+NDinlgKNx7lY/kCXnmcbs0V/9SlPtHPHvCuDsBj8cM9skDLH3/8seU7372lqz4+TSwDD59yChj4jVf6Tiaul+fo0b4C/9eJGWRC5/7WInrhMJcs0Wy0vtjgu3VwywXmkgE5wY9252zLPMM1832utJpHZuwD70Z6BDMc/ELToJzMd2xC6c48NIFLhwYdqAU0Z/GJJ7UGuxRfrcEPOcj1bN91/sZ+xUa0kjE79xmf4OPNQV7guId3dLBH1/DuOjirXtzDl0/8h8O5aw5rwO/cPTA0GNim3Mm/5KjzNHbZIhu9T60unuBFvEcPGfBP9szO1OpqjZU29qhWUVPJb48NLPRGs9yuVkUbHtMdetkMmSQ7tYOaRW5nX3KkpnyNg2wNHOvVz5rIeNTAsqfEn70YnHRs8GP2oLlLNmpfccv+h77Q5pNN0TUa8avh5YEcHcnx8peayVz8aQrJ2fDzC/K1tyZr9KlH6MAcfgSOWIBWckPvZWIKeumDPPBkPyOOydX8XLyhI7SjC240ONDLHtUWcNCt2Kf+wifZ3kfPbMAelP+TrT8ZwMbZCf59ki99oB2t5Mw+yAUcuNDgvnl442PqRjpS99GXGpcMg5vfw0239MyX0Eqm9kQG/tUl8gR8YiE64M9O8g2f9EsWcCUT16LT+eqL7JasxElwyUHNah745tKDWGBvK+bXxCL/08RR9aZPeiAfekQL3/FJPh3oeL6Btan2z/+hOAZSA6uZjIyQKZegPVmogeW1RRucnNE8wxpHinDNPQ0swb43sBicYoGBwm8NBVIcw7PGwSjgtvGwseJIjNwGjRHUHCpgpHgJcm1gwe0aA6+B5Qme4Cho2ERxIOs5SUHefPQwUM7pPlqj0z30cfS1gYUvh6eFgpyuO1zgcmhGy8mim5EKtr0NkDzhJB98KywEWxsth+BkoMUf1FPkg4NXwUiRaJ1g6B46PAXjWOjQiLABlDzQgq+KOzDgEgAEC/ZRA8saAY6cOCUbcOAPDps0zg0HubEFQ4HjHB5vstxmw8zB0WwdWOQpmNv49gaWnwfY0OOTrNsYwYNutKIPLudoFmD8NELwsO40tkK/AjabQgNcDgWFxkQNLJtXCRePAmlr6ERAoT/X6AaPYIHpwJ9r9Aq2wsa5e9bTpWTi09DA8jfavHkCtrlszicZsimJk+3Dx0YkTomLv9AXO8Oj73xY4sI7OuEl97WBZQOANnRmJxIpWApoPJMneqzHH746l9jYKRrw1IEGP5NC98v7BpZNFNrNQScYPuE3H1yH7+YY8eI73IZ1ZGYuPjtsnOmqBpa/tSdB0L+CgF3iRdJT9JMhuVhvHrwSnqTEfiVkT+xqYNGz+QoG/vTYwOKHGlh8iW2iE91kEF/oT5aKInI3h16cg28zJpnb0KChBpZPtBl0I2aRe7IkK3jpVIODnukGD+wXz3gwTzGEBxs1cdPGSLFEJuQhxmr61sDqDSy0kj2/JF+8iQHe1GArigN6Euvw4OmrNRpY9HIa3+OT4Cpu+eRH86YBmdJdDSzFns2Sgqa/9ebJInz0xC/wj052Ll4oIBQxFRDkQqbiAr2KkeK9c01a+YvP+RtYbF+D1cMD+iErsREOtPFdmxbFIRmRIb7SK5rw7ZrD9w7f2R/d1cDS3MWXApOM8Hmf+EyWijB0sQUw4cKHT35Jr72BpWDyNE9hii70yKWPDSwNRXqlfzDIQSGMR2vYh1zKP3w34HZOnnggF3KnY/SQL1u4ziYNbzWwyNHPZejFoYBT9ONN/mGj4jWfozMbQnSB50h++DVca+CBnTx/QphEXvcp9pKzh1vkKfaQc3mYXulI7GEX9Mov1XZ0xu/I3mDXdMM+DPbh3OEe+GIfG8mWfDrch4sNGDaYcLLDmtyniRH8GQ5w5D9jxcEf8SCW8x1vLqGPT2kUiN94gM86NIkD5pSD2bPai984zDEXfeKb+GSjxsfkOTVB98HlB/wFL9bGO7ni1SceyA4tGiGaxvIrWXugqvmshuHr4KBPXFaHWI9WdDrnMxrNNX/hFsvEWptJ9Y7aSZwiSyOY5OFcThH78KY2oFsNL/EfP2RKFvDWwFID4c/DIT7cm7Z4Mw/fyZktuM6uDH4tv1gvP6KBzrx1j1651Vvncge5r7EGzOwGHjDAJgujmGgefK7DZzg333proo/+fHcY9G8e3q1xnw7Q6ZBP6Iqdkpkale3JU/IxvYGF7jaf5KdWs4Ze+J0HDWoDNQiazBGn5Vhz5QUNsWIiPTTARn/0ue67g1zIzTCPntkL2bqPF3IKBn/CV3pznczAdo2dJkPneAMDz/xMvtUsZTfqVA0pNQi45sCJHrDYpsaVmtWnWM/eNULNIwew75P32CK7J0M27A0stQvfka/I2T11O3uyHp/w0J1z88DrkFdvs69g72Cql9UQZI236KVztMj5/F1N5IEP25QXxUH6MAc+udM8D9DYjj2L/S/dsRewDbJDpzlk7qGVmgP96NDEYg90QGbiAhl7KKdeIF8NHP6GJ3WT3C8+w08e8LWv4fP2A+dpummckJn8q4ZR35CPGgxP4NMZ2orT6HBObr/99ttmQ/xSLeKwVzHEavryN8DUVOTpT0iIDeCRU7DIlm2xKXLBJ32RDZ25bg5eNKHw78CXuKupK96ZQ/bWWQ8H+8IXm7SWLNVndOF+fiBO0oP5coADHfg30IBvBxzoJDs6x4e9LfnDyx6t419wqnH5MXo9oPPAhw/Cbz1YdAGH2MG26E8sZN/m83vz0ZQN+45Xg/wMNtReZLtwsH8O9QaWoE1wBEn5DMhBiIQs8DJ0QudkEitjp6gE3howHIZrGlhg1MDSoBDkGAaFmwMno2FAFMmwGKREpbhQwCuaGQ2DFUQEBnM5ERqsB+fxDSzG+dlnn20w7xM8wdOltl4y1yThlGCZ6xP9ztFh5PTg4xmd8LkvoNswKMIkfXPAQC8nF0gVIxzCBkbgFEwNczkJZxSsycMAG07yB0cDUZAV1B4bWIIJvPQBHgfUJOJo5CeIcR4BE51guqbxxtnhhc91vDknTwEAXvhqYNk4aUBKUPSGXuvwYAOqMy9ggCNpkxOaBCyDzjUCOLXEoIEocNlImq8JQl41sGw2/YHn7FKwwKdgQYbwwM9W0NxTFfYqmNOxhCQYkz/8DoOOvO3lD8fXwEKDZCr5gm8O+yLHgjV+6Aa8ZMAvDHTi1Ryytd7husDmCUo6liQUc2wQ7WChLZujK37i7y/BRS70LMCTq/n4Nh899CTAK6Iq8Njw2sBS/NKvdeZ6QiQwo1fRTr98C63gu+5AszXkophRpK1+h0dypI+X9w0sf4Af7eCg13xy8umaNWA3fM/uXTPPIBO4ydBhjns2zWyRLbPP62ysbcoViDY23hTyKXYoRhXSbF0MsY4vsWPJma75qKaOZhF88Ihb4OFDEc6H+JKmAz/zhoNNHxtEE374AjobdOE+myUfupYQ6Yyt+BkPuPSHNoWOTQ5a+L6BJr7Ijq1Dn4OebDzEZnpWVFnPttDHX/BG1zZ9iuwKKkWVuINmDSaFTw0sdib5ot1w7i0pekejpgI/ZJeGpg878vQVPLFFwX+azSn7hJfPKwAUXooiG88aWP4HPQWc4lPSZovkSo7kxW40Zr3hZS0Z8K9kKFaJ4fms72wMr4YmH1snFzGFzuUENsJH2ILNHhviI2K5Jt55ikP6zFbRk83StwN9Rp/wsju6Q5OmJP7goi+6IgtP9MzDp0IfHWDAAadz88mkBiXZy79iWn5Ato8NLDZr8Du+Sx6KTzgMfkz38OAHLp9wO9gnPtirOeDkEx6mkF8NLLjFHLbsOhtQuIMPrjhvQ6eQZpviB9rBb/juIGf0shn40KJIlw/43HO8TgIaWPKw2oCN0h/9krl4yq97Wn+bTZ9rbIrPsv10Tv7ZO72A5Ro9Ofiga9kV6ugcPgedFv/AsVmxcbUJE6vEYZtNfmKA5egcXdZ1sGtP7MUyQ93Qz5nhtbZ6QJ5kv2IHGtwXg+V48MRHPLmnVgJXDJNn/UTXRkM8YYvmOBfvwEGXIx7BI1ufrVFTXyeeyDFkjVdxje+BiVbxS8zVwJJr0O4euGpHtS752DChHf9o9fYK+m128S/G4NVaPOEZn2j0MFLcVPd6K+Y8MU0DC2540Iwn8chbJuoO32220JAczaXzbAge+QAeuct98RY8viuGOKpJ8CePibtkYA5YcCULOnUd3XCBjScH2OaKM+zKsA6+zq1hn9aBjUZ0NR8cMNKR79bDZz57lgfkY/KSW8HSfOQb9AM+mOGGU17jR+SsflJHkR8fBF8epjc5XIPQd/DYGp2wKzSA7zCiOXzgoDdfcx+97uPJep/moclwLTmjmV/Te/EdDHrBCz7NsdYaelM3yS/qJvFbw4Atypd0D7dza8HQaCE3vKrr+RBbowe0GPKieWyYX7FvP9dnw3TsGprQiD92bT29gyF/wEsWaMWvIa/SAX9jZ3QAP5jm4hV/dG+9By3yFFr5qv2L+oBO3E+G7qFXA4dc2C7dyt3qtGwYDeiTszWvvTBgHVrEVjkeLWDjB53kS15qA/sAD6eyGbj4u7qOfYFJxvRP9nyTDamb6JTu7S3ZmDgm36MTT2jILsgBDT7xSL9yOnnjTRNJXFXfwccf1EQePJAFW/VgBM1wkqkDTHK2hox9koe4ZbDr4qd6RK1gf6O2hKs3/MgULGvRyAbQbj9HXnRsL6wWEk/PE8+yf/iradgQOVkPFvzkzp7Iy+G6a2Sa7Yur4JknF6JBPKUDstJA4+P05eEBHGDjl84crpGV+XgU/8mLD/ELNMKLRnQkP3x24OU09bN5RxyHamBxjoyRADklhQganEL3mTIoUgEtsSpQCd9chwFGDuK7648NLB15b/bkRD4LRHAbjIDifHJwiUHgY7RwU6wkABc6DXCs97RW4OonhIzH38BCK8MX6AQjRsT5NbAYeQGL4cBrgM+4rHWeceErp+DsAk0NLDIzn9wYKyezsRbkGboADaZBXskBbDA5jgBgkLfCQjC0CeMUAqTgZFgjmHgjwuYWLMWE5CCICdIcR2DimDZ/8At8NhWSJxjowJNzvHNosGyudZJrYOFFgAS3TR/bEeTAIkuw6ERRimdw0hHYgqVNDlps3gRtyQDPGjo2vzWwNEV+/PHHTTc1AMCjIzIUKPADLrkJjIKtJhkaJbvL5bLZzaNdopON2NDWwCJDDVb6QzsbZD8FUXIRhNGazftEAx7BpH9yjF50wk0vivYCksSimJNozUc/PtiINfhQ8AuY8ElYGgslcPDBgtt9+lB0+KkX+ZCTAFkDC2+KWTbFhszlC3wCTxKX5K0ha112mK2zTfKGCz/oDI/v/hg+mb08NLDYaTaAXvDIyfDpO9mZQ+7g54uuO8xxkBNcrj02sDxF0oTiL4ohCUbRoHHF3mx62JkkonnDZyVPSRFOfqJpwf7Cy2fIxybjOpsRBUkNLD6oAeMNrHjxiQd0dpA3vsmGTPHMTumYnBUG4IoXaGCLNg1oWRtY8LMfcNihteizGcQHPfNBTQJJnTyTFVo1qMhAgeQtLXEcLeaI7X7uUgNLg4ptKGrYmXNNGLjJlo8oNNgNvdj0iDfm0V0yYnO+szUFAFsmAzoSk2tg+RtOYqQ3xRQzCj7FARmCz87ISS4Qb8gOXWTdfXJ2XbGt2OFLim2yRpsmUA0stOR7dMPHxSO+Y4NhYyhPySPwkBObINPVNl13oLOBHja0NrDevn27+S950hV7dJ89aszYMPMnAw72CC4/bQOKZoWTWK+56b41tynoPBzSFDPIROygV/JAL5rYTP7Kj+mST8eDedbAT3bBAs8gX8d17PA+D4JqYPkfAuVTNLsuzpG5g12IYWDwTT7LbtDFDtAFl5iJNgN+9x1galBrdj4bWJt4XvXP2sCygJzJlczliw6NRz7pvrghLqir6ItNs4nsg+6rT+jGHL6R/sC3xnzn1jrgolvzxRm1JB8WyzQn2YONXT7k03o08bno951fi5VgsGe56jL53YOhNkf8GU3yJLz8uvrWmwjiAzmIn2jFk7hlI+ttE3WRzZRYoaZDC7+NX/TFM3+JbvMcYKJbPNcQslGzXjyXj8QGwxzy0aAWn8Q+sVys5p9qR76OXnIGG0zxwANYc/EhVsvb4ia94EdecI9f1YRQP6o12vSRpxHd9/FdDz7lRTxpPKDB5jdduk6m1rpGJtazDffgJxO8uYYXeemf859AsQN6Up+fpn4nJ3PMBUONZdBrsNToZE2n7rdGXDAHr9EDhoEutuBedQyajObGj2vmWYt2tMgFZCHfkJnr/EKdSi9ocs1AG740QshZniMzelZnkA+c9EfHcrB6hI/Jv/YfZIIe/JArnRnhcA/92RWc5raGnskj3tzDj/l4I7t4rAZBs/sGGcELjsNa83sYwWfZIJ7UJvzVmuijQ/jhIQNvFPFRPlRTvNwGvrqcn7Fh9myfINerK/gsvvCCRsNatm4u3vmP/EwX6KQzh7yKVs1HdQf/9cYYWZsHbnoGV/5FA32ASx+aWOD7Tub0Zs/FhjXe5TZ4NfLM9TCO7MB3gG++XC2miDviifyOP/YQf/yevNiOOoC8yFd9Brd54p0mqrn8Xt1E9nzdXPth9tP+hO2KOWyNvPiwOtj+j92SP7hoRTcdopVdotueXh5Qh6pB6QBMeVyOpzv8y+PqNfIBpyObQn/X4DXYB97MERfYl4cGt6lfNDHJiAxqmFtDXnyZPvCuPo039QDe1BVrHGHjfIAf4dd3tLApB/4ddOXTPTaGLgdchvv4ixd1YXWyfIV/LzuwWevADgb89KbmFEMM+6v23L7DQyZ4pAf4rAPDAE89b84Rx6EaWJ6SGgRJiJQqKHAWTiSYK0QpmoFzDEGEgRgJ3XkGkjI8uQenN7BsDDwNpzCBL5zmGz7hoTg0aHZ5A4IBc1gFraQq8IFhDvzWOR4bWDb23uKBixHaBGnwMGwJxFNKRgQGWsLNeF2Hw4ivnCH6BJ+1gYVXsBXwCovzbCYZLtgCB3oLUODCm3Oh31pyZeBooRtvFAn6Ajn4AoBhvk2gBKA4g0PAERx0+CUSfDjAU9gYgjXarMEXuji8zTp9o4/zCLAcsQaWhOCaIkPTCh3m4x8fgolPQUfDhaMnQ3jwowEmEEggdMmxFbNo978OSiA1sDRF/HQJzJ5MgEGGeCcn+nAOD/4EevSSm+ACFvnj0Xz6dE7mCsQvv/xySwbkKHCTZXPJTPEpaFtHRvCgFU148imA+kRH5+bBR5bWSn429mAaEix+6QEPkhD4DnKzCSWn2wR4g4zQyO7xT8ZsED5rJSx6Jy+8oZGe1gYWPZlvnbkSAj3Ax6/pTLKzHu18Bk/oc6x2C455ZIA/jUZ29vK+gWUTpfFsPXrJFAzzO7qOHtfQzP7BM9x3kK1PsML3j3lqJ5b0Btavv/66FS7ihMSmgHTwBzYsWdrwsHkHOyFbhQa+6EaDUFESPj4MHj4e/4g7+0eD4pac0EceBvqTlevJjk2AzabwoUGhMOKn7IP9aZooJGxM6MYQ7xQmbAAuNkL+0VcDyzz+dJ6YQxdw8Bewbfromx9pgGhio5FMrfcWQA2s9Q0sdqbI+mb+XhvcCjGN3xpY9CpukK/NMB2aI8aQMxx8URFGjuQmDntzpwaWxrXYIb4pYBRnfiJKdvxFIUVO9CXmwO1NLRtMMjUPn/hFL/nU3Kug/FADS/ynGzAVaZrr/I6PadKhgx8Y9Eav5OWwzmF0zblraKM7cMhC80+eoHfNK3zwRfmMvtBBjuDAsdoJO5UvPcmrseYNaLbGBjSu/C+OawOLfOkBHAeY5Ig258VBMPJLtLvn6Nw899GtePUww0MNRWkNLG9aejuR34g35hts7j4bQfK0Dm465oMKcEUrXdEZOy6uszF40Y8Wtvj8G1ibSF/9j9grJ6htigHsQB6jS3ZDTxq2aiu27Wm93CdusEO24Tq9Oacf5+7TPz2Zx67cc42vG+bxSevhcm6dOKOZwSfleQ0stiAmoZPOHfkcOCs8eUIcUUOIKfjRGOJH7Im9wOVAnw2kulXt5JoNtQ2fuIE29gefn/rxH3FMrSAn+2SraCMzvOEhnsTu/AeN7oEl9pjjvniiqaFmEw/ht/ElN/K33iFHyfVqK3mZn2sY2CCRizlioM04WfM3cOGQ69BrQyWPowE+a/ifh59iDVmK+/Db4KPTNbJ2aPTJoebiVV6zqRS3wEKvA35yFtvo1kGOdENO5GW9NWDKC3Tuu7jop3U+2SO+6UXOp5NiAXpcM4d9gQ0nuRnFNHLGK7rIHz8O9KBTXAGrteCAZz7/gINc2S5bUkOJYWiVb23u4dCUsrlWH9EBGaOF/NmymKjO8t1DWXmD3PAGHproVf7TMCE7G3ANxRpC6EcHeRpwGPA7wDDw4vAd73jAC54MsndkY/SMb7S4Th5g+4734PtOru775DfyPhloYLEFjZt0l9zRbNhn2VvJU97I5pNqXGvABhff5CGnZZfoJAuyJQvyhT/+1ASay2yJTjVgwbY/ISu80ddtcqrcqoHlpYLqPzhXHsE1X47kR3ITm71c/vUfW6FR/PAATN7ja2obuQw+9mAvRH94QwdZwqXWFE/IAG/455/kZi3dGfCLOWousZB98c8a7PQKLrmi0X5Oc1CtcpoGsNrJXHSmA/60Ns3VCWoLNRW5lm/5KR7ZnNhofy/2iR9sV+xRS/Ifh5ggltnr8VO1Ebj0BRYbQ2u2Q8bk4hNt2SIaXBeX8aMZxb7ww77EXPnAGrbKDtDMrzSCxH1yNbx5Sv54IyP2T2YO+NBjiCm+Owz4zfVpLjwG24peawyxwjr+gne2fZ0HeOaehmZykE/YjwEW/ap9xD0NUvGBnDyEU/+QMZmyQQOPrYO/Aw7z2cwRx6EaWJzUKDCnZMZJcRo+kiuFckgBh3NnaNZmIIKFkRH43xg4Sw0sRZLAaF7Ks9b8DsGA4szRwOLk90nGkrSNHefiDIwlY9yQzj8aFmjsDSwbmTdv3mxGIhAJdBKJoC/5Myz48QaeT/wLDgX6ihL30QRnwUiisvnh2IrtEiK8grJgwDENcA1wHfh1jTGDKRiRietwuiZg6ZBLkDZFEodrBrptor2e7um8tWTtUOjpmnN+zsCh0Y4vb7GhTbDgUHhREAp+ZCQ5SMQC59rAUoCBi17JHkzn5giEkh6bsJmhJ8EFTQUK8wXC2+jAE0fyoitBAG30hK4aWP42jiKbThQY5oBBThydjAQPgZgca2BpNkh8Eoq/0cJu0otggWZwNLDgFLQlBA0CZ/CFyQAAQABJREFUdMOXL5AzfdA9eVtHL/h0HR3guZ+9oAWtcDUHbRoUYBuSu8aqZOxagY2+FM6SvITF79BOJ37yWBEgWVgHt2v8VPJWhLoOt3U1sKynJ/SgXdPEE3jXyJYM8C/Ygo2feMJ3POHLIAPX8A/mh/6Iu80RmbBH89EEtmvOrUcrOsGFj60ks+DDYaDDkNT4t83L2sDiA/jBiwJGgiupgo2OcPElMkAj+IoeCV8x0TBXbFS8eJNUUurtIvLWZFF00B0+wOdLq81nA2BmU+YZCg5vRdEbeGyBj4mtH2pg0SHYZEle7F9i14RTIIuLnhTjnY7N5ft4FUMVeHStScbvbPrQjQbH2sCyoSJ/NIuXGlh0I5bVwIKD/SnGFJnk5JpNkg0besmdz9CLJhKZK1o0p2tgffzxx387TUEg8YsFmqmXKSiTKd/xhhh/IDP8acCJM/m+mGDgF4/w+TsU4gD5rj8hVDx5A0tcYGt0LK5VyOETfs0lAw/06JMNOtjMapddpxe8rA0svCpGFC6KIBt5BaNCmL4VuAZa4CBzQ6xHF7myPXbB5r31RzZsjdz9L44famDla2jLb53D4TDYEh3StYEGvJInOYhH98m9ZIgGdoHmGlh8wBt0/MAacPgNuGC5hmf0yQ9im+JX7qVrsUudUVyFE36yxZ8mB/tQczzH6ySggcUvNP7omT7o2BA76Yiv/XMaC2KH7zZkZEwfbIQfsUN245wt0Qs4zsEX9wy2SM90JrZlx+bxXfq1lv41yvkw3fNhD0w8aAJPvDIPzWgw2ED26brNlFhgI+O6Da2YpCkDv/XoZk/m8HtNczFBzDOPH5lDFj6rb8UxDWc1iDjfZpofqhfJxjm85BK+Ggi+s18027houvNfslZzqQXFLMNccsInWuFW66qN0WeuOGvQjwNv5GljpE4DV/1p8yvuk7N5+EKnGOOn1zaM6BI7zBWX81Ew0SFe8Wlx03c5FGw5wlqyzxZ80jfZoR8sg/7KO+B6+KN+UfMZZK/mEgPcZyvWkCt5FIvgQoNr9KbGIyPf4XPP8J0uXDMH72wRXa5b45r5bBFc3+XNbA0NeKFDaxxgqLnFLXpkC2K0+g1/8MInnqvTxGf1LDxyF1/SsACXrOBQh9Evm7SWvsR/skATmskEbmvAcjhnT+kJbnwY5I4etOOVHPBpTrI0z3dwDWvR5X5ycB3f4fS9el6u5gdqKXXDaXKbeWiOFufsUi5SY+B1bWCxH/xZh8775BM+zDfEAj4MvnwMJl7FA/c0jfiR+gjd53k4J3/wUbkJ3WDLqXCrgzw4I1t60wwmIzrIbp2rm7wYgB4xSB3JN+3jDHJCh30On9BsyefUWXSs6UKG+DffgV4NrGIOeyALfsQ/8YA3NYicqCbiF2DZD2W7fJjerdGgISuxWiPPvu0y9Yl6l+7hRytaNOXIn2zAE0eqG8nfILPys5xOF+yXrLycgh57NzSojcAjK/owR3NbvYwPcMgV3QYceGRv5Y1slM+5BiZZqin4GJvCPznJBWCBiyc0sBeNX7WHmAeeBy7shQzoEL7WWBc97Al96ccc/JOZOeh1zcF/4LOG7Ftnnj03esmBPtiJmM7Py4P4dlQPi+Xg2lP48zrm8n1w0UwW9Mdn4fYdH87RJ0ei44jjUA0swcGgZMIjYErmEAKTYH6bpgNlKAIUHhohFR3Wto4CrKd01xTX4NTA0rVkiIJvDmUeo+swnzJdr4HF6CURgUbAkdjQm4GigdI1PyTftYGloDNPo0nQsCFjaIImw3KOZvyh3/AWhIEWQQQuiRbNZCNAoA9NiqoaWAyOQZKpYug8AVcwxZt7+HLf4RqcaDOSme8M3OA4AiKH11Cij7WB5SeEGlgcHx/gOczvb5PgSUEDvgaFQkYAokO84E/AVRhJXJyYnCXo+wQPhY0CR9DmxEZBAC73FKecW0AhVxuagpHARX54Wv8GloaBzZCAafg539rAsgHVdScP+MBBG53ACyY5+qR7gUXRpmDSkJN42YNAZz7d0TN4jsc3sAQYQd+cbILsBJnoz2bhawSbPq0z6Np368CTNPFZQNLA8uYJG7G+JEtGkoTiT/GgOKKH0wR5P7tyDwx0xIcCgQ2ybcU4maDD5l3yIRdJTLFl8B2NhOs8TXCNTPm0jYB5vuMvXwgPnA52jydz0O67TTq4L+/fwLLp1BBBSzI331wycVgLh8N39gk3fHh0fZWztQYaPIGxua2BJXGfRkYKmIpIxbo4w27YInnwWxsE8lJwKQrQSA+SN/7hzC/4nAJKU5TMamDxQ35HbuChlY7zbzh9j344KuRcc0jGNlj0zP/ECYUteI8NLH6g2CUndkVW/LbC7T5+qgBQDLJ3+MkdXfQPjyek1vFjzRn2Dh49iTE1sMhUMWg9GiViMUARxrfJSezIR9iQuECWeIQffPqgS/oSsxQrZC7+rm9geYgg3tIV+uUYm2n6ZiP8XTMefEWU5odiWh5QEJBttokfNKDJW4HiANrWBpbi1ZtDClZ6EKsVnpp44gcZ0S0chu8OsLPBfMJ91xxoMBQeawNLHFPEKIYVwviAB68KTHqLfnj4gO/0Jv/RhSJabJTb8E8uDrYDPt836N0miY2IKeCYF3yfK73snK9lk+Ya1tIxeyZDeNiPJqKHGzWw+OG7d++2OE7uYNFROgFXsd7mhk3wS5sQ54o/vmSdoaZAO/mixVuW/hOWZwNrE8+r/lHvsANvYPFRMUBeUQPwM7Jlnxq27MZ9vsC+5Ez2Qe9sQAwQZ8R2OuWLYJtnfrkCHvoyt/jkUx5zwM0nbUScq5fEUp82SzaF7A08OK3lb/CxUdfgVweqH/m05oJ86MGLuF3sZUPijXqP7bFLtqbxHR7wHeyzN0fkSjGR/4q18Bl4Yqdo5cPWFPtc59v5vxoRvej01iuY4gs75uvwG/jBH3+nD00mm1lxTr3BPy6zSS3mkLnBt/gguHRIZmo5sOGkSzTIc+TO7wyx20MFTSkyW+MXWsQXDwvlRXoUw9WK4is7QAe+fRrWkw8ZynPoIGN2Yj56bbbFfPWY+fSs7pGLraNb/JMh3aVn8MUpMMhWQwI/YLiGDoPM0YomdDrHf/fBANc8+jIPjK6BYT5a2Ij5hjm32e+gXT0BNvmhwxyxCr/opwO1tmtsB3/iuRzOlvFHPvQgv2gUgFfTRk1IjmhGv0EfjmyD75qDfjLymY/ii7zlTtfwkRzMxVs0g+ncGvjyF+t8Nz8a+CmaHexegwHNbIJ84AQbTHD4hfpIrvLpgQ1ZqAPo19zqITYMLh8WE9ij+R584cPgA/ICu9QENcQufqFOZfPgZRPypLjAL9iZeAAuXwgWPtknW+Jv6gD32ZjYYH5+jV4yh4P/iiVyt09D7HOIDQa5kx97YDt0zx7UWmiBR9wDHz34R69aILvxcgfdkmc6Yldkoimi1vMJtr2TuMeX6IxfsBN1MPmrHdSQ9ldktdoXG4DHNbIVp9gl3VpjD6dJhmY+rMlV44bdqwHNzR7BYw/4Zw/oc452ugcvGvBGr2hUU/Ax9oUXsZFvJPf0pQZ3iPdgV4eSGz+Dix/DhxaykAPYBtngky+57rv5PvMj5+b6bp356DTwY/B1urcfUyvCxw7lCXICE3x2wK7YNZmSl72FvSb7Qgfbil72aB08cLiOB9/JDU9HHIdqYK0NEcJjOBTCIQhVAhIgKFkhqTnBCSmLQgjb4T7FO+eADEIDiwPWwPJaNMcFlyIbzuF2mE+RYEvqNuWCiA2ezRXngh98A70Ohuep49rAEmBspvHDATgseOYqoDxB5gR4cc08g1Faa9NrE8epOBiDQ6PABr9E/9jAQrcNqYAs6GtycTyywVtFOjw5SnJ3jRzRYqCZ/AUuMhCYVn31N7A4BxxoAus+G1rOpqhBCzjucX6bM8kYz5wXTXgVyAQVuvGU36dgUwPrPM0496OVnq0X4CQuNqJAssFSUClyV73i1d8qErTAtRECU/BCm5/z0UlvYNmYacKFhw7ITiIgn2zMOUeXGOnCk2WbLrqyOSZ/dLBn+kU/3hWV3mpiL94GOU0B5pq52YM1ydU5GqxnnwW+7M8nu0Qv+2AH+DJ8f2xgeTtMMmg9vTvwRWcKIzpRHEgYaGSDaBP0rMvnJFcJzpMaOpYIJEkJnc1IogIwusnQdXIqISpuFQdoxD8ewDbfJ1x4iR88kTsZGBpYeH9ZGlgKNjIgMwMscMgPHGtdK/GYKxHC7bpjlXHrwPJThLWBpTFq40FmmkASNxskdzglUnKkQ0kF3zZvYhH9shEyACPfM5f/2OixRTKugcUHxaK1UWM+mukGDMUMOyc/yYg/VPjhiz9rDtETPIpETRPxSJPZeoPOPUkX98BiH3QkLvV2Jl/FNx3ybTIkL59o4JsONEq8PQEGS+OKLdTAgvs2RRge2BO7okvxV/OBXNkQPumx4k68cU0BL0+QZfSiT1K3IVBkicm9geVv5yk60ao5Jn4oaIPvOv7JiszISZNLQUum9GeOgWb+oXjQdKwRvDaw6B5+cmJ7/EOB5KcgihN2qJikC/IxwMcrW+p7fpFd5hv4pjs5RPHiJ378j0/bUCtayYwO5Id4BRtutupckU0v7E58Zp+9QQG3Qzz2purawCJncNCONjEPvMeje+7jj+zKf3xW/HSd39jQsAFvLMoNNbA8KOLz/KCYSddwo0+sZt9tBtkGueK5DYMNBX9g09aRI1rg5uP+Y5ZnA2szu1f9o4FFnv6HYrYk5vB7viP2ycPsnL+yLfk/2dN7tiCegyPOgMEf2YdPOUbtdJqcaT4fZF/8yX2DHai31AaaquxB3Ki+852ewfDQwYYQXDjYkgMMc9DHLtgK3wJXLLHBEgPETD6CfrS4jmf4xC3x3Rs01XritNzA922k2SgfghOv+T1a4CSLcgiZJCe+7o0EGxmbSWvd89BJzgBXXaLm4u/igIF3ciMrfgiHuOBBAhnyD7UIOsAUS8ylO7GN3sAWU8hGfcDX0Ou7c/xbo0bVTJC78ECe+BEjnDtqYNl8oZec4tF98gKPz6IHvXDRORrJl1/3UMF1OU28E7vJw4CXjOFGI36SZ/ZDLvQm76nN5Bv4rCEH9mOgA03oc06m6HQfDnbhu+tkbK7z5lqHR/eyebKztod/NZ3QT794ZpNgFD/hUDfZ/LepZqtgJ0O+JmaSCR3IcZobbF6tRhbs0XxyQA9+0cseiovwR6/r6HXgGc54I1N0uQae787BtN7RcO4eHsGBi0/U2GXb4jtaNRvITe5Ft0E3PeRgk3KFegePanx6QIM4QrZwqUngUH+Zjy6+gT/w8U8eztkM+daoZmPsMzngzT4RvfIh+NUEyQdv5pM9uO7jxx6tpm442T+c1S9kInaKYw5xh57EUrzjDV/siz07+MJ59jZgFxvpMvnjWyMazWsDi0zNc+DDQc89cBX3fCdbuRSN9MXP2dB1HkrTgf2eOk4dzO/RZB38aDefbMFTQ3qgJoaoe8QLMnafXu0VwOUT1uGbf6KNXMF1Hf90gV/0kwudkYW3ldAApnVqOfUoWbrumkGOZM8+6CMfdl/sUfs56B8v8AWXftHRwZbQBieewUZX19lGeOFqfXZlHt3TMZqci5NqSbbLv8QjNJIDGGiSU/AuXtA/G9Mghat85jw68R0f6IMf7OpT9482DtnAIiTCo1iKJ0SC1XRQuBreUHGkfPMZiHkORkx5jNicxwaWRG5DBD4nMIfiHZTnKNGA4ZVzT6UEkBpYgqfi2lq4ohl9NkMKhd7AAsvfGkIbnBzWpsAGVLFkE6o7DCajigbngobmzH2aQRKDzYiAwWjx7BoH5fwCO7nAx4gV/RzNhlKg5Hwcwn1BND45h4EH1+KHw8EBN/nDwakF1xpY1viDehqKjF1gsc4Bl3k2DoK6JIF/m2BNnYIzx+RI5K94UkQpEG2UOJt7H2pgoRl9gsd1ghuHhrNi0RNdsOnIPHy57yelOX/FicJSEKYnfKwNLLCtF9jBEESMdO6TbslRECEvTwtsSNlXv5VGiwRqvUBG37rimkg1sBRMGqzW4Rtc8+FwGHSLJ8M9/JtPfuazWfQKYvRgvoE2iYQODAUlPSjO8B4ca8xVjFdUsiXB0Bq2RHdsCI18FM/eapEQwGd3GgLe2qmBRa6K+uxNo0dxxi7IRqHBVhUrcLNtfEn2Bj5WOeAxX3Hf/yBp/sv7BpZNlDeXyAX89MSvyM9hPfrhIDsDT+bQNRxsxhzf0UA+5tAT33WwTz+dxCO9s0HFIb3Cbz1dpVeyVlgrIsQDOtPU0RRhAwaa0aEoICdv7HjLsAaW2EBmCrsaEPGAVnJW7GhU4MEfjidbcYv94c3mQ2HLRxW2khyaJWdNgrWBpenuOtrZC9lpzvAn8/iHDY+NhEKE7+LBXLAVSnxbUwQd/NvGi0zw5+3LGliKDfPFKnaFb40s/LLBGs50ipeKK7HaNTYqFoqrZFFRzScURC9jI4qrGlj+bqGnoPTrDV2xg32A7UAjn0afIopuNXP4sOIh+0IvXzFfvsAXO6dncka7tzy9ZaopAg+7YH/05SfU+LTeZoRuxW1w+UR2iadGdplN41/xznfliRpY7Ioe+CM9kJm39/gqedITWHCUH2xUNafQRA5ym4IIz+yaDchPj29ggW0+eOjxyQbZnOFa1/NheME0p5hlTTGGPNkIPZBLDSy2gi62Byc+4oVsraM3zQHnbIjPsmWw4WOraLQeXcUFNGmSPBtYWdvrPsVe9siv8g1xQywjc+c2ODYRYo+agu7dowNxzFznBj06Zxf0pc4QazWbazzTuSHWitH0aB34dK9pbC3fAt85Pftsg8xX+A67gws95qDNwR7kN3WQ+K2Jw/7dQx981ojncj0/Etc9JLIBRiO44Bhg820bPrC8FcAO1wNs9imGkSXcBj7IUS4Wy2pcWIt/8vP3KNU61vATvi4OkA24eKcn9KBDLhLnzZdn1LDw4Mm8ZEx3mtTiAv7VC+I/OoOJNnjIE16NcrEM/2QoD7kv9lkjrvJvcMkuHZKR4dM69KCFrMMlzomtmpDqYGvpEF0aYn6iBD5c9IQfuNGYXn13kJ+15smrYr1cRT7g4lMsto6ezWVP6EuW5ECmdBZcn3SCZrB9OtACBt6C4b7vYri8oUYic/jwjQ+2BSYe8GzTL66p0+gpeGQHvjwkp5IHPtRamhByEHzgghXN+EObTz5lDp6qhVw3Pz+xHj3muYc39xuumetAj+/mk102m07ZRg9a2CSe1CbsyP7BGnCsB8egE7Yu11rL5+iNXZAVHOJM9FonJoBvDZun24b7eGVv6gl7BLJia9mmz+hQa4GjVmErbCGfIUd1gbl8QB4GV+0t5oBbPiIb98kar9aghSw1W+yl4PEdXLiSn3MDXfzdPlR8ZFfm0wmazFcH3OYhoX21nE5OahqxlVzZKhrgcK7WY4eaXuSiKdRewBw4yNdeWRzDg31hD8iKufkIOsHBk4YM+GSjJiRrdLNhOdvDDk1oc1yLLrYGhpEsyI/9uA4nGtmOmgGNeEdDeQGt+SXYYKpvxCDz22vzKbGMnNiWWGzAE8x0RV+uuYce59bTueEafeAjeVhjkH0DPD6hbsUTOOxcs1ROs5+ia3EBD+gFDx9iggYjWYpjmrPoMa8BXvisjR4wxDC5AqwjjkM1sGwqKIvBESRlOiiaAm2EFd3u2eTZjKVQa3KgkgwFuA6mtWD1BpYnqgJACnOPYxcM4ZQgGJhr8DIYGwyGAL8NmqAIr4DPiAwG4A2sj6brXANLYPS0nbHAI5EIGjYH6FTg2PAqQNAEFryCgSDDUMmAQ0s4p3laKKDjzXpGasNQA4vBuad5BK77ij1Gjif8gcWY8YmuDvA4sPWGuXTjDSwbYY4koKwNLJsHibOmnvXkgFfwbW4FCW8XwC8IaHr1pk246MEGVCKwhvOQuSbf2sCS0MlDAAFPYlf4eMJKdpICOeG5gitHJZv+lpBzCdGGm3MLLn6KIqHUwPLHj23QrScb+nbQKXolPNfdpzvXyek6TS8yIhOJRIIgF/xYR1fW2CyvfwPLUweyBNPAj3XrsM4BDv2Qc4kXT9awfYHKPLZExuYqds0xBGK2qjtvDlnRmzXmk7GEQbaKP0NC7YkRHG1OyJ6fSK7gnOfJj7neQKmBRcYKMrgER35Al4oIPEqIijB6J2Pz8AiPTwN9Bl7cR2u+6w0sOnx538DSGFS4ui8hmV98yD6Tn3v8AS7n+He4Zn144HZu+OmvZjh9sU9NXg2T+zTzFIfky77IG/30IlY41zjis5K3TRx+2Z24ppFChmyATfEhTRx/M2ltYIFhk2G+phPYaFUI0R079GRLw0is9AYJ+vg+3tDBRm1Y6IBOxAow3bcJXRtYGgeSOdjkjC44NJ2tZbs10yoy8UGeijf6VmBq3liPFs0ENsR2FDE1sLye7pwN+2Or1sIBfptBusODOMxOwbaG3MhSA0tMRSf50ps1aPHWo+KqBhZbyTc0nNmheEme4JEtWaKRLygMNfjEJvTnr/QFB3zmKebQLt/QM5vQwCI3vkcX5uLTfG/x2cCRJRxyQ3kObDz4dLhuWAsGOuQFNowuuqMvspD7xFs2k5/SPRzuuyeGiKd8RBGrgGMXeHbOh/DMPhSaaCB/Pv+hBhZ6mmMeOzCck6vBD9Gbj+ODn7jviFc+pHBjq+zwPPGlBpa/RcEP0YZfNkdOPsVjRbf8Q65gaHpoDuKHncNDhmhxzXc6dBjPN7A2Mfyv/hE7+I+fXqZPOmRf9E/f7Ew8s9nkk3RNH2KDuCtXsgd24x44dGS9+CK/8w/+737xEp7iJx3yP3GWP7iXr4JVHBQz1Uo2ksUuDJtrDvhoQg/bcq5+Y1s2QmJMfJkjn4lX6kQNEHUjn2KP1poLtrnO0cfXxAUDPnaIRvyXt8QhuKzlr2SkxhD/NeGyX/etUU/JzeapSdUh5idTOJz3HT9ilfnyCj8phsc/mtAgJthA2dCqCc2TG8CkKzr2KbaIpzZS1TLmmO9Tk8lQW8INZg3N7cb8g5/k7tOgW+f0Q7b0Z6MKJ5myNXM8UPLAWu1B/uJm/EYrW2UbBhrxAS69yYnswki3aLaWrYLl3Bo8WU/2+KdHc6wzzHEdP4b71pvPXvDju/kOchC7PDwWu/FG9uaKwfDS1Wn2BOI4HVdjwEUGDjjpS55ka4aNPf7kGjolK/DwYJBhdFsPrnnswEA72GhyD02G9fgAC18+zXXNXHJFm2vBg8t1NLhGn+K15qi8Tj/0oJ5iv8WSfAlONFojH/F5jZP2Pumc7NBB/vDJuWxeHLKPMP6rvfsA2uUq6wC+IIJir1ii3jiIiGCliFiuETsSxYZiNBhFsUVERSNggoBMmMEoOohjJFJUbKgzCiqOsaGOKEURUUevqGDDgr2+7m/Jfz33ve+9+b6QS77yPzP77e45z3nK/3n27NnnPbufdjrY6G58kQhz33ONqWcXXuzmb/IlBs11jWfuJwr80GjnS3LpTy755tLmHXzgmYCdaDxzscc9FA915OonmeOZMLbQMTrDQ/yQaW5lHqq/epjnmqEbXvT1o7M4cI26htxDyXI92rPPdSP+9JHwo5tY88OXOQz5ZLDR85sxx5jgeuSDE3N88rdCH/7Ggz7GUTEOf7L5DSZigJ/FNzxcw8YG2OpLN3bCxgbPXHd8xl4bvxn3jD+hhZH5N5+5HmBJP/LYqz/91dGDnvTmf7zGZ0u66JPYxgMW+mqzJw+NsUBRj059dIIJWhufOjfGB1e20kGf/OABO7Tq6ahox59f+N9zl/uQ2IKH65RMRV/yIpsMdohXcyX20vMglgOVwDo1P/QBDqA2DuAIAWly40HUIMOZLhpBlId2dQJDP6AbrDhUX0Ftws6BSWBZonj9nHnGX4k8FwRH4uem58HPjcrFaNDAz+AjeF1oJjocbPJDlwyM2wks+pvIkUeGiVSWuRokDFIuMg8dglDwoDNguHGZ1OBvImAgFZjksxGdG9GYwIKdejboY/Cgt7pc4GQ5NhiQRzf4Sy55CKJTiky6Byu67EpgsddKIpOnXABkKbA1qLmh+L4B/xisrV4xQSLTBaTQwcDshsVm9hnU2JcElsSUlTb4wMQNFI0+6vjZQ6KJLf/EtvBns/9KCX8XMl8aLOFDFw+pViUkgWVFlmNtfOPCz8VtQBCLsNIuduBpULEaxwCIr0GEzWKRvuw0QDr2HR7fyTEB9TAt9iTgxJKY5ieTJzgGJ3IUNKkT8+rxTB05+KmHpbgQCxmQ4GRVj4kP29iB1saP+Jj0uHEY6F0P9OA3gyK8YcB2EyM0fKGdnwzYPqw+JrBgo95AymdejXNTYqvYdgMVs+yhL13ZGb3gTy/1iX+6izcJLHpfeUMCy0OUcUN7xgpyyUePP3zYFP+ihRtf2bQr5KLPRh+r17IKS3z6tdtE4NQNCSwY2PDAk43xg+SBa1YyRxIPf2OaODAWuL7pwk6bX+e9qssX2iWj4J9rTr/wNj6IQ9cQeoXfxZVY0s5+m7HJK6J8Z6IgTsUsTFwLYwJLkkfswxCe9saGjE+uJf5z3YkLGMGQHNcaWhNMDynGVfEmGUVvExiTlCSwXIOPe9zjFjsk78hyncITxmSIdXrSRfzhIUkEa5MVCSxxSrY6cYQeNpKBkoVJYHl1WNzS8dJLL13sMK6LNb4RH5JRfsgwiTN5kzChE7+ylZ1kkOVcrPvV0Nhn0sfPSWDxvfiBtVjnS3VebYQR+9jJbzBX6EIGG8ShGCHP5NIky1ghKUi+4zGB5TrEz/VsVZhJvmtVLLmH0QM/EzmbY2O9WGYvjCUDjRUSzNrhr7iOjWHGboU/2Z5rmL50hyHdHIvtYGuPxobGNSzmnSuuH7Jsxm2rl8VaEliSnRKbxnw4iDn48Atb3LvZ6ti1z+9WaohReJKvjZ/ZRTcybfxoZVdXYC2u2PMfYy//+3FLyZgv/tRnrHJturZhzr/2YoQv+Ebs8wE6dbm2+FiciEv1aLTxu3u8OLJpE8c2/F0v+JJjTy/H6sULnnQTe2TYxIe+9BRf+JIjPtSZ34hXOuirD12SmNGHnmSpJ1fBEw+89KW3MRgP+kTHtOmnjSx7PMnWTgZbs+mfuBbb8DM3Mu8ID/z1taFnl7HEGEhX47OHajoqfEFH+rpO9GM/erxybyA3GKGBK37a2a/NOftt7IE7HcyZ8CSDngpfOI49+OER3bU7hoF7Gx3xRJ9+cBV7eJvf6oOObXjBEk3sMB7rbxymGxrjBXz1hSkdE0N8TqY9mex0nxEDMFTHVvV0JRcGNjL1VYefdrzx0iZ2+c8xPdA5Zod+xjZ+Zb86PGBJFj3JNU9wzFf0ZwfZ/Jh79QL2/AdPNMEPL+dw0E+7og5v9a5p/PWhNzp2wJiuaON7WKjPuT74wDwYsEc/PNlP1/G5BB6wwIssdPrHp+Rpi25ixrlCno1+4iGxwS68yKVbfANPsumEH99E3nhd4xM/kUMHMaDAhEwFPxv+/AJfhUx09vgrrhmYKPQnG0/3ZLryHTm28McPfwlO1zBc9IUXGvzgnVgyhsReMRScyHGMB2zIVsSQc7FDfzo6x8Mm5m3wSOIE1rCxFyuxk67oXPdshon5CJ5s4AuFffTkX3rQCy+2jLGmDU9+ohM72cQGdfijR5f48lwDl/jInnxxp+iPj8Lf+tMNDR2ij3r2i6nohc5Gf3xhTj/n0dW5Da/U608/+AYH/R2TYZyGG73Q6UsfOijGOsfwZ7O+eOMbXdDbYGqjN/6w1Qdv8yw4HsRyoBJYJtuAA7pgSuC6EPxyIgklsw1oBV2CGL0LmXNcCI4FCqdynAtONjoJLBNSWWeBgE+CMEFEtl+VTMglr9AZANVzJh3I9MDjV3x7N05OV3y41C/bWYEl0CSwyHERuTA89LHHwwr9MsDiLYjokoHFwOnh1sOGhxAXkcBT7D3wSy65UXpoU+jnwYlOaOBAvkEETh5YyDK45cLwwJb/7mDwo5NNIu0JT3jC8gthBicP4ApsPIiRm8FMHRvwtZFDP9+SYiv9Pfi7OOhGH36ADToPHHRHC38P3klgwcBDr4st/tefnCxVh5UHuPgNXzTs1w+vF8y/mnp4x4MONgMK+R7Uk8ASKx6GDYCw4390eJLj1/8T80MmnAz4cIfXt3zLtywPcejgEl1hRo8MCn51tcIpCSwPyAZM9vCrB2UPaPQnVxEbbEvs4ifeDUwGHXo6N/lyUwi+4lDCLbI9TEugsW+MA/zYQXfFg7VEiMQDzBQ6kBM/k+3YdeBXW3JMrHwkfkxgSTTAAq3l7B58XVduhmLbr9VwpT+96cpO8myO6aaez/DRX5vVcuL9yhsSWJJzXiEMrX7wQQNfdpJBd3jao8HXuYLGMf4KWeJZf993kQzPCiwr+8S0RIyHab8k8V/sxRsfPMmScIGpcYBd8Td/SCSJJ7LQO5a0Yk8SWHyLn5sZufjzCfvYzFY4wlXiwcQgkxq4sZPfJbDo4VpjV/zO12MCS1zSxzVk/AgPv9zxGTlsEKe5FnJ9sU9f2IhxSY9Tc3LEdYWfWMEnCSxJX3aykU30F1fsZAN+8R2djaeSfMZtONDDmARLGKhDjxdsrMCy4i8JLMlPyTd6WWFLnoSNyRY8xYAEltVIEq5+WXRPIYcNSuKRv8iBp2vbL3w211ASWMY38RMZrk1JH6uF8wu5cRJvGGq38Q1bxKExh//hCn8JYPcd15LEmvumY7b48cAvoe49edXXdcmHij15YsbmnqPOxu/sNQ4by+hErkkSXOgrQTYmsMQNXekpHuhMX34T+3yhzjkZ+Dl3HN86V/RHTy/3H4lV8ZUEluvPPVg/usFfTJkHqONvPhSzMPCDiMRmrnNy8CdbHzo7t+HVFViLG/b1RwILvlapihHHcOZD5zZ4iwUYO0+cxC+pt0eH3jH/JE4cJ07GdteMcUEd/6MTCzax5hwv546jB16O6SJexYP+rjFb7s2OybApeOhDZmI5fNQrwSF6ii9tYz99Yz+5+iiO9SMveMRucmKD/vTGU51rGp3xyDiIh6KPwn7ttmCF1nWOnqxcB2TzH750tLHXtYjONaYv2WhjPxnq8Il+9DKe4acverzoEX/hr+BjLEGXh1z0CnyiIznq+Uaf4IWGbLJGXsFIP7o7xwt9eBj/2WTj+9hFR/T01Vd99EgdHu6vxmDFMTvoRRf42iIXNor+6lLwhbn6xAZaeKEz1jmnty190Tq2wRsGxk/19NUfX/ydK2QEf8f0w9txdNceWnaod53wDXzpkH74k0sHOKu3xwMdHRQ07FDU0TGxqj591eGlP1nqxTtsycffxp7oE1v1tZGrsBuP7Y3ObKYDGpt+4Rub7OmKlk7O8c79MXgHX/0VdGKG7mTri2b0Yc7RsxWNdnrYwyS4k2NDRx++ck4eeten48gUy/CCWzb86IU3veyDL/z4WcEDrviz1TkZYj36RT59xL7+eJsvoDO3oA85CtvwI4/+Yon9NrwUspyjRcc32tgy6oA2NmhH61z/bGjwopc2tqNTF1q64a3AmX7ajAd0YA9d7dmJtz72aMlO3KnTB3/H+Cj26mzos0UXNGTogyb8Q69dHfk2cYdekZSjB30jL3yd2+CW+xv/wkHhT214mifZH8RyoBJYAOdwzklAA03AS+SYdPsV200vzkxguaAEdOgdc6wiKYO3B4cksDx0+jVcSXCQmWOONxmX5LAyIc5GI8jIVzjXL78eqiQLyEUroXPR/OCaBBYb/OKvPxoXhuSMpas2SQwBRK7NoILOIGPS7eHEA7GHEjdReuKFr2NtkgxJYNHBACEZIxhT0JKjLz4CU9AKVm36+5YCexyrp4ekoFVLkm184QFuTGBJFEjkmfTwiYuIDtnoeWp+WPXw7ZcDukVOJljqXIBkSXJYmWLjA0mNJLA8JHvQZAOdFf6QvPLAy8+yzhlo8BVXMIetvVU/vt3AlgxedMbTQ5+H2zGBRSaf6GsQgClb+YXdkg3ac8M0UOej924e5OtDT/2VDEZ874EsCSxx59ce2FktIwlixQDd1Ok3DkT4qtfuWDs9Fb7Qpp59EhIemDMgweoxj3nM8gqluKAfTO3pzfdiAG+rHyUHJCD4Ew80ZMDYsWsNJpKg4lYi0gq2MYElTg36riPtkljiilwJDCts2B1/BG92oFGvL1/Sjb340dnrn3S+ckhgeYUCLT3RsBONfnhqs+W6VocvWnYHDzLGY5hKQHi4TQLL65Iejk/NsS5pIKHAf/iww0Z/fMhkv+SVRBaZ4lei4MScEI0f6eOGT28JBCvKksCCN14SH2wih1/0YQ+e9LBlpSA6urOPLuKfD4ytxjr9govxZ0xgGX+008X1pS9aerlGjIc2/NG4HrSLD5si2SaWvBrA72jpLIHF70lgwU6ygU3GBQktr+KSy5cp9IElPV3Tlq+TKbHkew7RJ7jj5/rwSrdEVRJYVnWSmYS5MZVNbvAwFvNWLklCWdnq2nFdXnjD667iwxhADmzJMI65ZozDEl9eG9fPK4SuA4ly/WEgscQG9znJLf3pqsCOneKH7fYw40uy+EFM5EOdxnZYjgks9z40HmD42gosttLbpsCW3+Ap5uBIN+ObMdi1KS6NZ8GEbhJYEvZjAktMasObvvTkR33ZQv9cD2TghyZFWwocnNPHsR9CTs3XWBJYXkd3TxBDZKJlB19ky0pWP37A3P0NL7bShezYG7n2+FldbJVxP+I+InPuYwkseHodN9ee2HW/dx/iH+OTMSK+Smx56BEjxh++ERtoxQnfujbw4hvxzIdkkYMHusjEh5/51/WpzbE6sakvGv3JcZ7NNeBaoh891LtG0JNLJ3qI6cRS5NHTHEFxb0y805l8G10Ux9rpgJ/r2nHmd47xY5v+9rAR7+ad6sZ5MYyNCTZxjj8d7BU64kGO8W3Egh7O6R499Etf/bWbO2mHEX/gCQf+1I4/nSPLMbxhTKZ+7gUwhQM6duKJX+YW6vFjEzpteKBV2G5Dgzb05PMPOjbBR3+bc3v6sotu9nTCi07O9RVH5nNi1v2Wf8gnRz8bWTY82QQDcaI/m/Uh0xivno3qR0y37dDGJgV95lxjzLGJLsZVvqY3fWCkL5zxpZsSnR2rh6n5Nt6Ja3qFzh4dO+hDNnlsie6O0cRv5GpjM7l4RC94wxNO6vDFD32O8UHnnC34uf4cK9r11+4ZBJ9co3Rnh3ZyE5dkOrcp9CUDnaKermxxXdGHXtojC+/YSSc8ncMuGxr0cKUvfnSgK9rMJdSjw0eck80uG7noYU0PvOnHTv20B0M0Nr4nxx4PssUGH5Crv36Rg1acKvAyhoQ/Gej0S1920RMfdfEHnuQFO/ZkowP9s2qOvZ4d6EVmbMCTvdqz4ZuijXx8legZO9niumVr4ggdvvjhFR+gcYwX+dnQBUPHZCr44cMWdWKGLPam8A9sFPzQKOSOMUZm7Ii92vHXxi7ybAqc2Uhf/dSr0xetPT3wSPy5v0U3+QV+wiM4aKMj3fDET0wqdOD7+EObcz962x/EcqASWFatcIZgCZic5Jwj/LpuYu8CADInCEiO4OQ4RluOge5B2gSbI8YElhVYgoIMe3I4WhEgEgsesDyEaMcTTQITnZUAWS1hEBUgeFiBNSaw6C+BRTc2sk/QSwR5yPAga+BER5YbEttMkjw8eAD1QJJfcvARVC469B5cxgSWQUNCRxDTN5jSjW3kk6EefgIfH3sP0FbRCGw20xfmVk14cHPTkBRIAgtP/+HKg5n+BlR98KMnWTb0Xv8w8XFxoGcbOWjJ0p9dbvQegCSwPDSyPQksWFi9xW/4Z5OY8Su8BAo+9GIfvo7FCHxhJmHAFnVso18GRA/Al1122ZrAkqTwIMwmAwU82Qi/E3OiwQORyZ52/OnDtx4S+YTddBAb+uIRrJ37povVEUlgSbayg05s8koQm9jLDnLiQzEY+/DVJm600wWWbhb01R/2dM6AxAeSdb4roF0/e/qJvdhq0E6yRUyhEzdiFn8yTYRca/QVj/DhPw8yYwLLwzxd9ednCU1JXPZKnEq0eNiEF//Bk06KPXsV9OyCiWN0Vgmqu3JIYEmaaqePEpzwic3woI/z2IwfO/GHh2P7FHRe6RsTWBKRHnJhxHcSIHwX/uzBT1/8+Nr4IpEAQ34X38YSfWz0zMO2b7VZBZQEloQL38B01I/udGUzH0viGKvIZqN2mMBYP/KNd6fmpIA2WJjguE7GBJYVR64tfcWaOGcTvbK6i66uJfLFh4I2YyP8xVLkqUfresc3CayTJ08uq9vYb0IIS8lA+rHBpq9z17HrzHiaHxzEkIQou9Eac0Z6K2KtVkoCyzecrKY0LvCBOIYb+Wwkwz1IrHqgEaf4S5YrHlqMZWwlj+/oBFvx4AcArxPyhwSWuiuuuGLpz254v3p+IHWvYgd5ePKPmKYH/e3Ru77V0w2dpIz4kfRzTbqW+M49gz2uDRiidV8zNplQ8jV+dKZ/xg398IavCS6+xmG+QpsNrpKwXvccE1j4Bzt9bMEnMYa/mExcotGmXnGd2OinwFa5bv6+IFyTwJKMtFKW72CkhIdjukq+woff2CZG3QvEI1+xA12wcEw2jPFuAguSey/GfdetBJaY4heYKnDlaz5KHdyd87+xUOzE//qoT52YdV0kLhJPeJLDt3iIKzTxMX7q7PWxKfjSI2MoPRwruebQJFbTrg2vjNPiUz8bHcUOGa5l/bPRU9HuGK2CPx726vTTP1jZB69gYHxjL1q2otFfCX32Ylwbnmjt6e84OuinzjhvHzn6uZ+wjT+V6JbxXj1ecHGtw0UdvNjONjxt7OAXPDKOqSM3MuiLHzr9Hbun4ONc0ZevlfiFvWTQg3wy9LHHQx171KFVRyZ5+OqLlj7qyDduoiePjmQpZMTfePED/ujgoh0OcMRTHdnq7LWrt7fRRdFmfNJGXsYqbXjTxRyNjsZ7fKM3HjZt7LHRUR1+6OgauejoTL620LKR/drRkhtaexue+OuLBzv14xN1+uFnH15sUNhAb3Pw9IF1eOJPH/bjC1s8spnPok0CK35VF3zJQE+HbOkfvPFW6KAvPNmkXh/1dNFPn8SguZc5ECwTg+x0rp/+6PXFI+f4s4WO2tDwN9sjB43C72xQr3/4a9MPPmjYHtwiUz92hIZMx3jZ6OkcPf1Dl/rEKd7q8OMLOgQreihk44lXdNRHXegTt+hTl370RKvoh1ad9nHTb+QJk1xHwcO5uIIvm4ODPX/hwZdsUBzD3uYYDmjwQ8N+MvU3rtGHfxMj2tHqS27spodjG570CS99YR4c8UshS18bWXRR9ImN6sI7PLQp6jM3p8+Ia47xJd89WqGbMQ5e+LEVH3MmbQexHKgElgdZDuMkzgGwc2DmIhYEAsAGVLTZOEo/juPIOJPDTHQF55jAsuqAg5Q4NX3wwd/FQT65tlwsnCvg0CnO6aHg4XsZ4yuEBlq/tqMR5OxS8GYLnRUy2IEf3h6A8DPhTp0Aw8M5ejh5WPEKjYdHr81YWeAbH/TNReJYgQPdyUnJZCMXMJl4K45t+vCDh26rp+imsMlqCg+wdNEPPf2ds4++5Htoow89XTho1ZOLHi700p9P4Ca5Q2YSWCfnB9sXzKuywp+f6KUf3rGXb+MXfOkCb/Lc+O3JD52bEbpHPvKRy4NaVmB5tYgO9MEDTzLgoc6Art6m4IEnnfjKnv9gzC6y6WyAZoOPuHugTQLrxJxgkiiAiRtzJg362vAnm/4KfdSTz57EF9lw8/BJR4OTPh7kyFc8TEvQeZXKDVMc0p1dZPAdvhJ0+rhxs4dO8EbPj/jzLfmOtdNDksK1sJ3AYreNjfTCi138Y5Icm52Tb2/TB19ynKPTj130tgKLb668IYHlIcqKJf34gF10HuOCXbbgiTe++sBAfI8+pU/84OFsfIXQ6pyrrrpq4UVPWGQyFEzJojs5sKQPX+GJ1rXBhtjIT+TrL1kuSZYElpUhkhMSgfrrl77kwESCxZ4v8bHhzT57hR58wTY6w0ICQmyMCSz/zMB1TpZNsXftsBdPk1F84UZuaGHp3F4c8Tt5/EJn2LEtCSwf2pa8ztjEZ2ItdjmHCZ74KOSzUz35aGx0oBO74K1YNWrlWBJYPgwuyeP6dM3whb7xFx78FP54wDKTZ7/Q0xUOaOmlLzzgazWu7+IlgUWOsQZ29IJLsHHumrDHJ3HOPrbSAW86BnM05NOH/fw+rsAyfkpC4UnXjAdwiY/wEAcZe8ihO/9oy7VAT3zYSj/j8fYrhOJHu4LGFmzU0VudEj/i6dpIPb34QJ3iXLluK4EleWaMphc9YWdT2GlsMoaJH7wjj330cO5HH/zZS178wWa+6zewFjj3/MfY69o2hsDZtQJ78esY7jDmX+fq4a5eHdxt8ZV6/nGOTvyLF7ThhZ92ceZaSJt4poN+2vHRJ8dihW7GBrq4JkYZY/xHR0DoT2/jGXmuZXLopT72qsODXnirt1cX3dXRi84KHvTWrtiTja9j9AqM8VVvCw1e8BP/aNHY1DvH3xa+9my3RQ+8gpt611ZsoycfaM+91bXDB+S61mIDO9C7t+BNlr72SvR3DBN24EMmXelhrw4vPLTBf7zW0ZGpHr5oyFHo7hgPvNBoV+gR7OIX5+joZo9vbDPuateffBjHV3jZ8NHGbvcAPMQIudrxYkfwWBS5QRd91YtHtOZE5Ed/+OKbdjqaN6hDpz95ZNARr8SF9pzTmY7O1dNNCa093uodo1X4nAy86WfvPH6z50f1qUOnP73wYgOf2Pz4Sb6YgSU7Q0t28NZGV321u+7wY7v+9HJOpvPgBBdY2NTjYYv+9FG0oZEUTryIafVog4XnEjzFfeYTuReTbWMDm8V8eEe2OKC7c3bQk53mBHAkGz96oSOXvtr0wR+9jb38iDZ+wE8fOmjnC3axRQmG9IuusGdTaMjSF6Y2vOlKN/Xk4WmPjy1y1Sv6OCZDIUN//MZ+6MhW1GuHmzp91dkc04v+6U+XyCNf0U6W687cmJ/w0gd+SnjT27F6fGKfY3y0O6Yj/rCEqw3GeDpGiw8adfRSZ89P+qMzh2QDWrzQ2tg2+lQ/BQ/1in3sp5c+sUe7PurtbZGTem1K5ERnuuHD964xfIOlH/zofRDLgUpg+fU0DorDEggcAGQOAW7qDQQK8NEo4eE8QebjygaHJLCsmrACKw7FmzPt9U9w4EGmTT254R897MeCj1+EJQXyCqEBz4QuAyAe4RO+0d0gQT6bXMiOQ0sf54LLRi9BJ8g8MBjIJbA8mHkARGMgoLeLcMTPhcre4ISGzGAWPWKzAdVAeWpepSE5lgSWC1GdAUO7AgN8YZNBIbrSCW82xR59grl6/dHo68HEioEksC6aX830iz89I4eOeKVvjjPA0ANtcECnxDY4sEOxKgKeYwLLd2nowwb65+ZAZ3wTC8FTPd7ZyNPXNtqMp2Sg1XlJYElO+NYPX5CDlzhAS0c8wh8vMtUpiRk+R+PmZ/JDvsFcsbIkA5KHaR/ZlWzNTVU/PHOj4VP9yVZvAHYMB3rR0Xmw5TNFO79J3I4JLHXBAm50QYs32eNxsGKXjQzyggFM9NOG1mtgbL/yhgQW2f7zpX4eYNHARB864xXe9vjyp3q06tAmXuhKR33Rur6tzsgrhFYYSnjCAA1eNv3ogJcNbxMfe3wUx7bQBAeyU29lm28qJYF16aWXLtc6P+BjQ48HPZVMhOJzfNFpp5PNsTr9YGpMscLlwQ9+8GkJLCuIrOxU9MHLxl6YOTbO2gfb2BMMcq3EJvEJI6/YXTcnJpLA8t2366+/folfPiMPpsHJnn9Sjwfb1ZFtckCWc/olVvRjs+vbiq4ksPwnxac85SkLfXRCC1v0bEpf545hZtxDY6Ik9simS2jJp4fx+JprrlkTWPr4Phxa7SmuNza5/siJLLYHa1ji64GZzSYdwRkNfhLV4wossr3eqsCDfjbHeLAFRs7pgE9iKVhqo5d9cCZX3G+/Qnhqvifop0TWcjL/Cd/tOKQ325XEI/76K+lnPLYSzj3BR/slHn3HLQVd4kEsW9nGp/She2JVGzvwl/gjy/jmPNij9SPD5Zdf3lcIA/Ae9uY7YgVuMOST+MV8CPapi6/FOFpxCH/XiFjkD3ViQ4wk9jIepJ7vtOHrfsbfuR7043u8yFP4Wzve+pnTOKa3etcZHeiUeMr1GB76GZ9ci3mQpg8dXJf6k03XjAva9Fen4BE8yA5vfBzTUx+y8cqmH33xoW/ilt7q6A1r/ZzbK47RpkSGc7IiD3/446NknNGfPtptbA9PK0nJMS6ioSt8yMCHfWTzBTkKejqrR6MNbuxnH1+i0Q5DMp07xle9Db2iThtM8NMmNmCMxlig4BNa9Ek0eeDNGIuHNoUdeNGJXerxcs/Dmz3sgwXeCgz0QytJrh/7tAdrOqmzkRdc4K3AUr2SOEFDFzixzY8u5DpmM3n4wYkOeQ6Inur0p7u9Hzy0mZfgo+i761hMkE8nfLLpwz620UE9HWDJRtjgiSbXmX1WArt+4kP92UZW+Guz0VfRzs78aJO+dKZb5OqfPvbhoR4denzYnjcJ+FU7PNkQGv3jTzTa2YuWPmzD0x4tm7UprhOyycFTvTGKrfDM9eUcLmz3Y1Ni3XVAlvNgT4Y655n3L8LmP37App9XX80DyRLvdAs2jumijQ7qycePrnjbFH1Do592utBBgZHNGICWvtrUOYaPGGMnvNmYPZkKm41Z5GtTwt8x+erxhJ82feijni2Ka82czJtd3iiij+ubnej0HTd8nNMDDz5in350yUZnNmvDBzbsUqIPDNHQEY2++MR+x+rDK/axDQ998SWDvvqrp5d6x8FeHX7qYKCvIhbw16bepjinF75iAyZilGx6RC799Bk/ObMwOEB/DlwCK0HEGYAGpgJcDovTUueiVCcw4sg4jSMFNmf59/YGnSSwrJqQwIqzOUvgkmmLI7WnjswEmr2NbHuOTh1dPThLSCSB5SYhSUGXBFJsTNDipeQCYg96F4OLnh7RUx/n9oLQqx1jAsurRR4ABSk84IgP+uhJDn7kGlDoozjWzwVAV/3Q5KZ+an4w8d2vMYFlkCCHH/DHV9EPD3aQ7Th44ouWXH0d5wJ17KJSnva0p62vi3ggu2hOYFnxBRM6koUnfvyV8+BFJ21s0u7cYEqu+IiudLNdOSc/rHRJAktS5Lr5wTqy0LMFpvR0HN8ZaMjAJ3VsyE3OcW5odMLTKpoxgeWVMw9M6U8OPWGEP3lsU8jPpo4csebGmnjGB678iiavtOkvgeUBw2uj9NI/MS/hww44q4cfGudK/Ek+LHNzpSuZcPKq2HYCK99l067viJW6xKF6x2hgwAZ1sUs9TOgBS8X1TY8rZx96nYlsK7D0gwnb3JjwhWViXDv+5Ku3KeyIPtFVvXZYSvDwXxJYXjHzKhp94yf9yIzuiWs3afLYgJf2xLA+ClvxUdBIuIyvEIoT40wKubborz6YsgVf53glTu2DR+zib77bTmBJnklg4WNzXetrksUuGIsP9XRnU/CDb3QINvQgU71vPz3zmc88LYHl+1Hijj5oojvZeLuW6Z9rgyzn0UUs5vqnT8YhNOJ+ewVWVlqSQx46eJJHV/zV8xMb8BNDzvmYXPZo01c/RT//VVFyMyuwtLvu2aHoQ25spW/shKlzG/n62Lv/4c3OUT9YuyeMCSz/rEECKxgmRowLdMEnvtAfbrAng9xgyUby4YKXNh++t/JwfIXQQwlsFLzZkvimK+z0D8bBOZhpSz/78KGj7wv6nEASWFZe+q4hOnzwpCNa56418mz4syE2oVPnIZEPMn7hYRNbfvBqAmtxwZ7/SGAZD6xc4wc4w1Pc5iUT15EAACevSURBVLqFtw3+2vkPrbr4XB/H4oEvEyd8iZa/tPGT+BK7Nu18bC/eFH1dS/ok+escn7RHNlp98VXn3LXpnD5k0dvGJjHlenGsjkx60D/22dM1NtMjtOSTh0/01RcueJI5nuODFpba9U27PR6xazFu/sMGBS25NgVvx2yim3Z98cU/86UkcLSRbeww3zA3dK4vfW14wYMPyIWFfWzHGx+yHdNZic54BG9zEQ9aaOCPj35k0lu9c7zZ7RwNHmIQzZicDI32FHX62+igDR991cFb3XY9rMSQero5xyt1bMNDnTZ0Clo0GWfVwyw4BhN2wRAPx+GPBxp9Eu/aI89xYhWtos3GHvzI1leBE1629GM/eWjpBxfH4tZxdEGnHUah1UaH8FTvfhDf0IMcciUa0LETTvop+ijOHeujPcfq4y91fI4PDPGNXtFNXwXu7NafTjZ82CWe1bNPfeI21210scdPH4VM8qMj2bExeiUWyWe7/nygrw09fuq0O0erP/301+4cPR3QxGfu1drojI4OZMAVHYyMewoZ2hW82Ycm11xiTnuwtUdLBlolx3QxTtDbfJBc+tDNMSz5gW5kJ36cK2j0RWOcSbv6yIps/Y05dI5/Yh8d9aE/OvjhpQQ37frFp/qqc47WuXZ9Hatjnz2byFCvDh054l1/dTBUhyed9dOOll/U29SzV4ls/fVVHNMZrf54kZ3YokN8jB7WZKhP0hv/+Cg8yDU2G7/NjRyTr6ANhviZR9ofxHKgElgmvAmWOInjHHMK5zlH4zx1LgwXNqdoEyAuBOcKB3lw4MgxgeWXW/T4c56At7eRgz9nJkDUORZUcXb6451A0e7BxAd+k8AS0D5mrQ1fvAQT2XjYyFIEEzm2BJkBIUEnMKMT2/GSbbayJSuwfLPJgzXM8CbfpugbfbWhMRgEv1x4aB3TEQ19FROBkydPnpbA8t2ZXDD0YedY2OwiMCAYAGwZYNHhrU90oxc+Nr+2jyuwrBbynRi8DJh0088DpD3M1NF7lAGr4Ew+3okVsukHFyuwfCsmCSz/Jc+DNR3xx0PRJ1vqghHZoR/xDB050U2MjK8Qeh1UYiI2kIWfTRF7fJU4xQu+9mTZEivsdENmmxseOt/1yYDkYdqDhg9kk4cnPmLR9YAPuSaPbI1Ooz6O4WJzHdoU9L6B5RWScQWW15oU/OFBJ7RjwZMOwRdvetknVtDgwY+xZzuBxTbfwCKHbfrDxzlbEhPBLtjShWy8Iy9jAR6O1fsPW+MrhB7gfetIm+sNXzzoiR896e0Ytgp+YiF14hd/kzo0eKW/j2iPCSxJagksdPENnniQjS89woMschTt+kUPempTD59Tc6Laas7xFUIJAyt78M9EiAwJbDryPR5sxA+N48RnYkwbOfCwafdPNXwPLiuwfLA9/2iDX9hgXMcvGNIz/sATfzSOtblBq/MABAcTI78OGjce/ehHn5bAsgJLAoteYiRY6c8m/JTIjE70UscGdegVfOip0Ofiiy9eXrNLAgu973ChozM++tMvvNQpdKeP4jpGRyd7saJdLPMBmepc52MCS5JHAot++uGNh3GT/nR0Huz4FU58Sh96RgfH6uCk3Wqo7QSWTwLQFT8buWTxNznaxF78h2dikQ2OYwu79WcfXa+99tr1R42swOI/vOhsT5bxj630zP1BHVn0IAMO+MIPrQJPsRNsHvKQhyyvnPYj7gs8e/pj7PVPFXwnkL8TM2Iz8ZA9P4u3xCEB/M0/iR91Yo5v8eMrbXlA4Xf98U+MhUdo9eVXm1UbijFBQSMW6EJX+ogJ8xrFuXggh3xy0dIheqpPUZ+iXgziSwa96Oq+ioe6bGIxfNCzxx6dPjbHxgyxTH+40AEdG5Xoxga6qMdLQRt+zh1rp2PswV/BO3OqjENo4ABH9ykYoQ/eeJl3kG1jD/yCGb7qYG5Pvr0Nb3wUeMOFncZF9mUMQGcMie76sktfOosBMumJxhyansarYEpPbTBV0OIRnEbe+NKXDnCKrvqpU+iDLlji45gNinM80dCD/2HKPjpoZ5925/bkpK9jtGzHh1x0Njbb09GxdrThlTrnNnrBBy+bgp9+dFDwS6xo0087XuRo01ebOudjP8dssinwwdM5/8AF5vDUn074KnhGBrvJ1b4tQxtabfiyif7w1Zb66Io3zMmnu9i2KWjpIa7Jw4O+Nrxs+gQf8oKFOEeXghce8YfYTz9t7MZPDKjPNUa2axo2wZt9aOEHK3Idq4vOwVIbGjbSHx0a15L6rDRGp56MxCc5+jmnE/21sxle7HMeO8kPHzQwMA7keYFNZKKP7fEjXPCCCx5oYhNZ/BUabfqp49+M39rRKtrpj6eNbfSz6aOdjmxzrB86PPDXlnN90MACH22K9vhNu35kigF2J8bYxG40eJFBLl5sVafgGz1jr3p9ybLxGz7wI0MfMtXZlOjLpviDL/SnG3oFj9jpmJyMsWgV+qRo94wTOak/KPsDlcDyEASoBAsg46gANjoNnaAI8IIpRcAo+ts8VAqqMYH1/Oc/fw1AtAIIvwRh5AsIRZBkI9txAjh62av3CuG4AotsH8tWBFR0d5yAyUXkoidTMApYNC5YejnXrk0/tuNlmd/4DSyvL3o1TR86JYij91jnGF+YxSZ81ecG55xM/U0kLppXQY0rsKz+cmFnMKC//vjpS1ebevrHrvgndoQWFrHvWc961mkJLLJ9XBqvDCbsM9go+NOTfDorzqMb3o61k+9YIU/dox71qDMSWH7xxwONfWKFffRQr5CtkGGAMDiY4JlI6EOeNv3EmriQaBwTWF4Pu+SSSxa6YBiezumrv80x2fGvdvrFRjcEE0lys4LON4yCi4dpsZoEFr+wx8Cl4I+fOFAcK/GXY3rQQVxIWLhBht6DrZULYwLLB6r1UegZPOzxYYOCxrF6e22O4Zg2GNIp9khUG7ivvPJ1K7A8RPmHAwpb9GcfPPDgr+BHZ/xsaPDVByZoxJc6/fBxbHAfP+Luv+sZY9CTAafIUEfPXGvabXiRqaDhM7yjp71+7Dp58uRpCSyJTqsh8RADcKIzHur0U594XYTcIIePydWGJpiqx+PV82tXxpAxgSWRawWWPmSQR4Y4Zqc6NuBHvnhgI2ydwwPvYBgM9JGsslouCSyr2qzAik3pg9YxHPHDN/HGPuf0c/3RjTzjhGN0Nu1+ZNh+hVACizwYkJMYII+u2hT1scWxQq52tMp4TAevXYuNJLDoY4UgOXTFT19jPVn6sBF/tOIALYyDIXpYm/DCXz0aungNekxguTasvqSXje/JZGvswUub/o7pFT+jsQUL7fqicX1b4TWuwJKo1peMbMZD/RRt/EBfG7nO7Z3rM5boqH1clSuBJTnn9VYY4WtvEs3veLIHhvqqgy+aYBCfkQFDtGyLrpfN/9TDONkE1uiRcx/7pp1XO+HfUgSKQBEoAkWgCBweBMyX5Bae/OQnH0ilD0QCy2TSJOfC+b8ojQV4NsUEM8ehyWQ6dGnPZDT1zj00P/axj12+OWJi7dfpEydOLDzTL3LSP3LG9tCkzX5X+6l59YKHMd898R/6PMSzb6Qlx8R6LOps6EZaNNFrbA+N74d5iJFx900XD2IeNNMnMsbz9M3+bDLSx0OFYw+rfCZhkT75r3HO8dvmmfPwst+mC6/wsFf4TiLi6quvXlZ6eNc/3+ERA8rIKzJSP54vxDfQ53h7T9511123/KdD/0nQA2dem0KL37jxYeyLPqGDWR5G9Ymejj2g6StWvBLp+0bs9JC7HSvRUX99le3j0NBhlJMYI89Dm5WO2hWJzuuvv375b5DOx76hid7aI3s8Tjs786DKbkVS2qoP9nkwF59sS59tGyJz5D/WLUyHP9EnNHznWz+uN68YkX1ivs63S+jH/urG8xwHEzimLvzIk3jxTxOsjJJ0ESuhRZ/++Nucq0cTPfKwPvZDo11dHujJEy9kWB3llT4rokJHL/1sSvjnPDy1jbIcpzimo+tbMjIJrBMzjuokQsdCRmSGf/jF9pxHj7F/jtnGJokINooTMsdCVmwKjtrDP8fkaFeiW/plTwafZaWXRGDkhSb97XfVqVdi10gz1jv23ybFpCSSGPVqVeSN/cMjeturyxa78FTUsz88Xlf7unFTwkjCxtgimey/hIY/urGP4+C4i2bEO7qEzpjyUR/1Uctr+eHrmypJtKUO//Qhz5bz0NinbtRPfQrf5Z5gbJGAPzHHin7h6ZoZdU7f8Axt6keZOU6b2JSc9t9aW4pAESgCRaAIFIEiUARuOQQORAKL+f4tuV9Mz2cxwTWhVnzcbvzV/uaWa+LswVIxaffwsj0pvjllSgz4zxmKX449UJzP4sHWazmKFUZJZp0vmVYNZZWKlSFZbXU+5HnAkXVO8fAi8XO+CrvYp/jFXzLyfBZ+4z9FUkmS6XwWcSk+FR/I9FB9PovrLg/5XmOymuJ8FeOJcSVFsidJgNTdnHurbHyQUjF+GcfOZ/Fqcl6hMT4bp89nkfSwgkbxn+Mky89XGcdoMiRFJGHPV7Ga6oILLljYi5EkBs+XvPGe4Jpz7Z3Pkv92SsYb+p5gzMxqqfNhox/Y8qPJ+eBfnkWgCBSBIlAEikARKAJ7Q+DAJLD2pm6pikARKAJFoAgUgSJQBIpAESgCRaAIFIEiUASOGwJNYB03j9feIlAEikARKAJFoAgUgSJQBIpAESgCRaAIHDIEmsA6ZA6rukWgCBSBIlAEikARKAJFoAgUgSJQBIpAEThuCDSBddw8XnuLQBEoAkWgCBSBIlAEikARKAJFoAgUgSJwyBBoAuuQOazqFoEiUASKQBEoAkWgCBSBIlAEikARKAJF4Lgh0ATWcfN47S0CRaAIFIEiUASKQBEoAkWgCBSBIlAEisAhQ6AJrEPmsKpbBIpAESgCRaAIFIEiUASKQBEoAkWgCBSB44ZAE1jHzeO1twgUgSJQBIpAESgCRaAIFIEiUASKQBEoAocMgSawDpnDqm4RKAJFoAgUgSJQBIpAESgCRaAIFIEiUASOGwJNYB03j9feIlAEikARKAJFoAgUgSJQBIpAESgCRaAIHDIEmsA6ZA6rukWgCBSBIlAEikARKAJFoAgUgSJQBIpAEThuCDSBddw8XnuLQBEoAkWgCBSBIlAEikARKAJFoAgUgSJwyBBoAuuQOazqFoEiUASKQBEoAkWgCBSBIlAEikARKAJF4Lgh0ATWcfN47S0CRaAIFIEiUASKQBEoAkWgCBSBIlAEisAhQ6AJrEPmsKpbBIpAESgCRaAIFIEiUASKQBEoAkWgCBSB44ZAE1jHzeO1twgUgSJQBIpAESgCRaAIFIEiUASKQBEoAocMgSawDpnDqm4RKAJFoAgUgSJQBIpAESgCRaAIFIEiUASOGwJNYB03j9feIlAEikARKAJFoAgUgSJQBIpAESgCRaAIHDIEmsA6ZA6rukWgCBSBIlAEikARKAJFoAgUgSJQBIpAEThuCDSBddw8XnuLQBEoAkWgCBSBIlAEikARKAJFoAgUgSJwyBBoAuuQOazqFoEiUASKQBEoAkWgCBSBIlAEikARKAJF4Lgh0ATWcfN47S0CRaAIFIEiUASKQBEoAkWgCBSBIlAEisAhQ6AJrEPmsKpbBIpAESgCRaAIFIEiUASKQBEoAkWgCBSB44ZAE1jHzeO1twgUgSJQBIpAESgCRaAIFIEiUASKQBEoAocMgSawDpnDqm4RKAJFoAgUgSJQBIpAESgCRaAIFIEiUASOGwJNYB03j9feIlAEikARKAJFoAgUgSJQBIpAESgCRaAIHDIEmsA6ZA6rukWgCBSBIlAEikARKAJFoAgUgSJQBIpAEThuCDSBddw8XnuLQBEoAkWgCBSBIlAEikARKAJFoAgUgSJwyBBoAuuQOazqFoHXB4F/+Id/mH7nd35nYXHixInp3d7t3V4fdoe674hFDLnVrW41vcu7vMv07u/+7tNtbnObVN9i+//8z/+cLr744kX+R3/0R09f8zVfc4vpUsFFoAgUgSJQBI4SAi95yUum1772tdOtb33r6UM/9EMnc4CjWI6LnUfRd7WpCBSBMxFoAutMTFpTBI4sAj/3cz83fezHfuxin2TIE5/4xCNr640ZNmKxTSt59emf/unTN3/zN093vOMdt5vfYOf/9m//Nt3+9rdf5F1yySXT05/+9DeY7AoqAkWgCBSBInCUEbjPfe4zveAFL1hM/Od//ufpzd7szY6kucfFziPpvBpVBIrAGQg0gXUGJK0oAkcXgTFp0wTW/yfz3vqt33p6u7d7u+kv//Ivp3/5l39ZA+Bt3/ZtJ79cXnDBBWvdfg5+4id+YrryyiuXZNg3fuM37qfrQtsE1r4ha4ciUASKQBEoAntC4DAmdm7KvOIw2rknB5aoCBSBY4lAE1jH0u01+rgi0ATW/3t+xOIbvuEbpsc//vHTf/zHf0w///M/P1199dXTL/7iLy7En/mZnzk9+9nP/v+O+zh60IMeNH3/93//9JCHPGR66lOfuo+eryNtAmvfkLVDESgCRaAIFIE9IXAYEzs3ZV5xGO3ckwNLVASKwLFEoAmsY+n2Gn1cERiTNuMKrL/6q7+a/uIv/mL5DsQHfMAHTP/zP/8zvfCFL5x+7/d+bzLxudOd7rRCJqnyy7/8y9OrXvWq6W53u9v0wR/8wWvbePDHf/zH02//9m9Pf/u3fzu91Vu91fRBH/RB03u/93uPJOvxZrOZXvGKVyyrnd70Td90+oiP+IjJqigroshR3u/93u+M71Jpe+lLXzr9+Z//+aLj+7//+y+yVsbnOBixSAIr5L/5m7853fOe91xOfQ/rT//0T9M0+S4V+8mEBWzQvvmbv/lK8+pXv3rR2+uaf/d3fzc94AEPmK644oql/X3e533W1wJV/NEf/dH04he/ePkOx4UXXjh92Id92PTGb/zGC+2uBBZ+kmv/+q//OvHV+77v+y60238k4172spct2+1ud7sJNnTd9Y0Pfnr5y18+/dM//dN0j3vcY/HVLrptGT0vAkWgCBSBInBYEThbYsc9+X//93+X1dfv+I7vOP393//9ct+1Qtu99K53vesZJqeP72i+0zu90zL3+ZVf+ZVlVbf5i3u1b22lvPKVr1xo3uiN3mjhmXp78ybtinmWOcF+5hVLx+HP2ey8ped+vkUKt1OnTi3zDraae7zoRS+azAvf/u3ffvkm6WDK8kPjXuc2Y78eF4EicIQQmAeIliJQBI4JAj/7sz+7mYevZZsTWKvVX/RFX7TUzZOkzZx42tzhDndY6dDPHzfd/Nd//dfmB37gBzZzMuS0ts/+7M/ezBO9lZeDyy+//DSayPysz/qshc9IPCepNvMHyk+jnyd5m0c84hGbOemz1v/N3/zN2m3+VsXmy77syzbzRGdtJ2P+fsXmWc961kp3roMRizmBdQYpXnje9ra3Xdv+4A/+YPMO7/AOp8lEA685IbbSwSQ2b+9/67d+a6GbJ8SbObF1Bt17vMd7bH7t135toZmTVGv7533e5y14bNv8pV/6pavcHPzCL/zCZk6GrX2jw5xQ2/z1X/91yJb9/e9//zPo3vM933NDv5YiUASKQBEoAkcVAXOb3B/NK5T5x7y17rGPfezm0Y9+9MacJHT2D33oQ0+DZOwzfy5g85Vf+ZWn0evzkR/5kZs5CbX2+7RP+7SVZq284eBhD3vY2vZnf/ZnS+1e5hXbfHK+y05tt+Tc7/u+7/uWOduI6/yPhTbzD6er7eZ5Y9nP3Gbs1+MiUASOFgIy3C1FoAgcEwTGpM2YwBoTTne+85038yqojUTKOLGQQJk/KL6ZvxV1RhLnOc95zorgD/3QD6397nKXuywTvfk/Hq5111xzzUrrYP5lcG2bf23bfPInf/LmAz/wA5c6sqJDJpf6PPCBD1zr519Hlz5v8iZvstb99E//NLJzlhGL7QTWvMJq5TWvrlr4zCuaNvOKp6Veou9zPudzNp/yKZ+ymT/4vtS967u+62b+dXahxY/t0Z0d+trmlU4Lzcd//Mev7fOqp40t9POvtwuvMYHFTu1kS6qF1p4tKb/7u7+76qTt5MmTp+kSe9A/73nPW/l8xmd8xsakeV5JttR9+Zd/eVh2XwSKQBEoAkXgyCGwK7Hjx5vcX+dVy8vx/B3MzbySfK3X/jM/8zMrHvPK6LVtXj2+HM8rrjb3u9/9Nrl362O+k3KuBNZXfdVXrfySwNrLvCK8t/e77ERzS839/OAXjO3vda97bT7pkz5pA7vxR8Jxnrqfuc22/T0vAkXgaCHQBNbR8metKQLnRGBM2owTA6udMpmQiJlfmVv4jMko7fOrfRtJlX//93/fmEylj1/xUuYPjG6++Iu/eFlVNb9mt1T/4z/+4/oLpl8hU8ZJzPxq3WZezp6mzfzx85U/OVaAKfN/DFrrL7rookUX9fPrhGtiRzLoxsqIRRJY8+uBm+c+97mnJdW+/uu/fmFlguqXVZPO+b8Truwf/vCHr/r4dTBlnATDYyy/+qu/uvaRGEy57LLL1npJwTGBBQO06qxGG2m/4iu+Iiw2H/dxH7fyGBNb4y/CP/VTP7XQz/9pcaGdX3lY+//Ij/zIYt9eV7KtHXtQBIpAESgCReAQIbArsTO/ur/eQ913v/qrv3qxaH7F/rSEz7j62Y9XmQ/ZWz2eMr8OuJHMSnvmCftNYOF3rnlF5O3a77IT3S019xt/uHzyk5+8qmzuOX+2YcXKnCtlP3Ob9Om+CBSBo4lAE1hH06+1qgjsRGBM2owJrDEZNSZDMLnjHe+4Tiae8YxnrHxf+9rXrvWf8AmfsNZvH/z3f//3xuqp+ftXC70l4imW5mdS9/SnPz3Vy96KJyuR0o6PYkl/6p72tKctdfkzTnBMGs9VRizm/za48Uvr9i+s9773vTevec1rzspGIu+6665b9bn22mtX2nNNNK+66qq1T14p1NHkbf7o+/I6olcNthNYSQii9SpgcLj44otVbeZvl62veFpBNxavJYY+q6u+4Au+YKmbv8Gx+e7v/u41GTj263ERKAJFoAgUgaOIwK7EjrlH7pX242t/5hVps1o8ZbxXm7fgMZZxnpAfwA5CAuuWmPv5MdKcA47ml9ufoPj2b//2FeNHPvKRC4z7nduM2Pe4CBSBo4dAE1hHz6e1qAicFYExaXO2BNaP//iPn9bfqqtM2HznYSxv8RZvsbTNHx5fq000fvAHf3DzMR/zMRsre9I3e6/TpVhRlHrLw7fLmJBKAuvSSy9d++BlxVi28ftQY2Jom6/zEYvokL1vQFk1ZVI6FgkmK5nmD7JuxlcW02/8JfFcCazRhvHVyFGW43FSPH8Ef7t51cE3xJT5Q6grNl41DC727/zO77y2ZeL9kz/5k2sdG7w+OP/XxWUV2hnCWlEEikARKAJF4AghcGMJLPf67eITC+6XXs9PGe/Vn/iJn5jqdf+Sl7xkvdd+4Rd+4VJ/0BJYb6i5n++sZs5kFfh2GX9sSwJrv3ObbZ49LwJF4Ggh0ATW0fJnrSkC50RgTNqcLYHlQ+VjkYgy2fBR8+3im1XaxgTWE57whHVyIiHiw+Fed8v3rMYEVl5hw2P+b3zb7Def+qmfuvJKAmuse8u3fMtllZZfPLe3LNM/g+kNFSMWvv80/7eg5fXEs63ckpAaV4R5JcBH6cck214TWL6LkQmchN/ZyjgpvuSSS84ge5u3eZuFTxJY4yRZMm8bk5z71kSKVWzjkv3oZXVcSxEoAkWgCBSBo4rAjSWwfOtyu+S+e7YElo+tb5f5vyyv9/wHPehBS/O5Elh+QMu9ON/A0ulcP4xtyxzPd9mpfVyB9Yaa+/mxMrZ97ud+7qjmcjzOY5LAGuv2Orc5g3ErikARODIINIF1ZFxZQ4rAjSMwJm3ORwLLCqX8OuljnOPrd37JNGkZE1heZctERgJpu+Rj7miSwBo/bvpjP/Zj2132fD5ikW9gnauz/4YTXcfkDh1Sv9cE1pd8yZesfcbvfm3L328Ca/6X1CvfXb8cb/PPuSX8L3zhC5fJbFaWmST6dllLESgCRaAIFIGjiMCuxM74CuFNSWCN3/kMZuN3L7/2a792qfbDWeYO2/da3wRN22FIYO1n7je+hnnf+943EK1731GN7Ulg3dS5zcq0B0WgCBwpBJrAOlLurDFF4NwIjEmb85HAGicevq+UMi4ZHxNY3/qt37pOVMYPournFcBMYuyTwPrO7/zOtT5L8SNHEsZHP30f6sbKiMVeElhjMm38FtXnf/7nr/qcLYG1/Yvs1VdfvfbxumWKD6d71e/ud7/78h8C95vAwmf8Dz7jxFeS6lGPetRm+z80mkz6aG3Kd3zHd6y6/cZv/Eaquy8CRaAIFIEicKQQOB8JLK/vb39u4eu+7uvW+6rvTSrjj2K/9Eu/tOL6yle+cqU19xnv4+MKrO15xcpgx8EuO5HdXCuw9jv3y39qhNU4n6LT/e9//9X+JLDU73duo09LESgCRxOBJrCOpl9rVRHYicCYtDkfCSwJjySd/IJoIiYR5SPvqR8TWBJNt7/97Zc2K35M8p73vOctH0YfX9cbE1gmcFnC7xVC/8raR0H9wplvbpnonOvbUsAZsdhLAmu04du+7ds2fhGU7Ml3wOg4JrD8R8N8FJ4+kms+BuvXXRPS293udovdPmL6+7//+5uXvvSlm7vd7W4rTl6pvCkJrPG/N3rFEV5w9p+U4gMJNB/h90F9dVaEeZXRJimojn7bk/CdQdXKIlAEikARKAKHEIFdiZ3XdwWW++c973nPzYte9KKN/17sA+5ZmW7uYu6gXHPNNes92T+5QWcluk8y5F5t/yd/8icLvT/nmlesRDsOdtmJ7OZKYO137mf+GRvvfOc7b/z3Y/8defw+qPYxgbXXuc0O81tVBIrAEUOgCawj5tCaUwTOhcCYtDkfCSz/le+93uu91olJJigmb3e4wx2W+jGBRVersCSvQpu9BJiPoeZ8/FbU93zP96z/xSbt2eO1l1cLRyz2ksD63u/93lWXyLI/ceLEWj8msNj24Ac/eG1Lnx/+4R/WtPmmb/qmM9pCYxKn3JQEln/1Pf7L7vDM/l73utf63wYf85jHrDpItiUxiPZhD3vYokP/FIEiUASKQBE4igjsSuy8vgks35S8zW1us95bc++99a1vvXnqU5+6wii55Ue4tGfv26G+G5rzl73sZWsfB+eaV5xGOJzsslPzzZXA2u/cz6cT8p+pY2f2Y3LLqvGU/cxt0qf7IlAEjiYCTWAdTb/WqiKwEwGrlPzaZXvSk5600jhOvf/2MhYfE9W267/g3fve917aTLZSXv7yly//gdDKKsvD/RLpv9353hU+H/7hHx7Sdf/c5z5388AHPnBJvPgmgl/aLCvPB+T9y+Xtf7Vsyf1FF120fhzeB+V9MJ6NeykjFk95ylP20mXzxCc+cXPBBRcsCTev+vkvin5lDXbj64AYWkUFG4khH8G/613vurn++utXWc985jM397jHPZZfZ9l44YUXbh73uMetCSaTwvB+xCMesfbLAWy1b79KKfH18Ic/fHOXu9xlmUjf9ra3XRKLV1111cYkMAV/fslqN6uu2GclnBVaLUWgCBSBIlAEjioCXsNzD/WjT16lt8op993xh75gkPuu+3/K+GOTj7Q/+9nP3vgPzlZo2+5zn/ssq8tDn72V2R/yIR+y/EdhiSv/FMaqcj/CRYftf3BzY/OK8B73u+zUfkvO/cwxzGt8DB/+PjthJZa5WZJZ5ixj2evcZuzT4yJQBI4eArdi0jxQtBSBIlAEblYEDC3zq33TnDw5K995wjj9+q//+jS/QjfNr/9NF1988Ur7qle9app/yZzmlVfT/GrdNL9it7ZtH8y/mE5z8mW7+ryd71ceLOaVYWfVh41o5l9tz0pzUxv4YE6OTfOvv+dksVe6czJpYxEoAkWgCBSBY4aAucz8o91i9fzh92n+nuVynEesc93/EZoDKO7Vey03Nq/YK5+bm45eNzb3+8M//MPpxS9+8TQn46b5+6fTvAJ8VcP5/KPicv6jP/qj0wMe8IC1bTzonGVEo8dF4Hgh0ATW8fJ3rS0CBwqBeQn9NL9yONlLQM0fN53mXy2n+RsR0/yfeqbnP//5i76Pf/zjp3mp+4HSvcoUgSJQBIpAESgCReBsCawisxuBeWXVNK+0Xxrvd7/7TVdcccU0f5Nzmr+BOl1++eXTvNJqmj87sfy4OX/wfTeT1haBInBsEWgC69i6voYXgYOBwHd913dND33oQ8+qzLykfpo/7rmvXybPyqwNRaAIFIEiUASKQBG4GRFoAmt/YMJr/sTBNH+yYmdHq9me85znTPNnIXa2t7IIFIHjjUATWMfb/7W+CBwIBObvWU3XXnvtkqiy+sovb3e6052m+WPm0/ydiXO+fncgDKgSRaAIFIEiUASKwLFEQEJm/obVYrtXCJ/xjGccSxz2Y/RrXvOaBaf5vy9Or3jFK5Z53vxfmae73/3ukxVaVmS1FIEiUAR2IdAE1i5UWlcEikARKAJFoAgUgSJQBIpAESgCRaAIFIEicGAQaALrwLiiihSBIlAEikARKAJFoAgUgSJQBIpAESgCRaAI7EKgCaxdqLSuCBSBIlAEikARKAJFoAgUgSJQBIpAESgCReDAINAE1oFxRRUpAkWgCBSBIlAEikARKAJFoAgUgSJQBIpAEdiFQBNYu1BpXREoAkWgCBSBIlAEikARKAJFoAgUgSJQBIrAgUGgCawD44oqUgSKQBEoAkWgCBSBIlAEikARKAJFoAgUgSKwC4EmsHah0roiUASKQBEoAkWgCBSBIlAEikARKAJFoAgUgQODQBNYB8YVVaQIFIEiUASKQBEoAkWgCBSBIlAEikARKAJFYBcCTWDtQqV1RaAIFIEiUASKQBEoAkWgCBSBIlAEikARKAIHBoEmsA6MK6pIESgCRaAIFIEiUASKQBEoAkWgCBSBIlAEisAuBJrA2oVK64pAESgCRaAIFIEiUASKQBEoAkWgCBSBIlAEDgwCTWAdGFdUkSJQBIpAESgCRaAIFIEiUASKQBEoAkWgCBSBXQg0gbULldYVgSJQBIpAESgCRaAIFIEiUASKQBEoAkWgCBwYBJrAOjCuqCJFoAgUgSJQBIpAESgCRaAIFIEiUASKQBEoArsQaAJrFyqtKwJFoAgUgSJQBIpAESgCRaAIFIEiUASKQBE4MAg0gXVgXFFFikARKAJFoAgUgSJQBIpAESgCRaAIFIEiUAR2IdAE1i5UWlcEikARKAJFoAgUgSJQBIpAESgCRaAIFIEicGAQaALrwLiiihSBIlAEikARKAJFoAgUgSJQBIpAESgCRaAI7EKgCaxdqLSuCBSBIlAEikARKAJFoAgUgSJQBIpAESgCReDAINAE1oFxRRUpAkWgCBSBIlAEikARKAJFoAgUgSJQBIpAEdiFQBNYu1BpXREoAkWgCBSBIlAEikARKAJFoAgUgSJQBIrAgUGgCawD44oqUgSKQBEoAkWgCBSBIlAEikARKAJFoAgUgSKwC4H/A2OnhMDWsxMvAAAAAElFTkSuQmCC)\n",
        "\n",
        "* TrOCR paper: https://arxiv.org/abs/2109.10282\n",
        "* TrOCR documentation: https://huggingface.co/transformers/master/model_doc/trocr.html\n",
        "\n",
        "\n",
        "Note that Patrick also wrote a very good [blog post](https://huggingface.co/blog/warm-starting-encoder-decoder) on warm-starting encoder-decoder models (which is what the TrOCR authors did). This blog post was very helpful for me to create this notebook.\n",
        "\n",
        "We will fine-tune the model using the Seq2SeqTrainer, which is a subclass of the 🤗 Trainer that lets you compute generative metrics such as BLEU, ROUGE, etc by doing generation (i.e. calling the `generate` method) inside the evaluation loop.\n",
        "\n",
        "\n",
        "\n",
        "## Set-up environment\n",
        "\n",
        "First, let's install the required libraries:\n",
        "* Transformers (for the TrOCR model)\n",
        "* Datasets & Jiwer (for the evaluation metric)\n",
        "\n",
        "We will not be using HuggingFace Datasets in this notebook for data preprocessing, we will just create a good old basic PyTorch Dataset."
      ]
    },
    {
      "cell_type": "code",
      "source": [
        "!pip install -q pyarrow==14.0.1"
      ],
      "metadata": {
        "id": "qRtaBAjcGSg9"
      },
      "execution_count": 1,
      "outputs": []
    },
    {
      "cell_type": "code",
      "metadata": {
        "id": "pkSzlRJq68tH"
      },
      "source": [
        "!pip install -q transformers"
      ],
      "execution_count": 2,
      "outputs": []
    },
    {
      "cell_type": "code",
      "metadata": {
        "id": "a8eZ6PWTHriw"
      },
      "source": [
        "!pip install -q datasets==2.17.0 jiwer"
      ],
      "execution_count": 3,
      "outputs": []
    },
    {
      "cell_type": "markdown",
      "metadata": {
        "id": "lsTaPrDR7My2"
      },
      "source": [
        "## Prepare data\n",
        "\n",
        "We first download the data. Here, I'm just using the IAM test set, as this was released by the TrOCR authors in the unilm repository. It can be downloaded from [this page](https://github.com/microsoft/unilm/tree/master/trocr).\n",
        "\n",
        "Let's make a [regular PyTorch dataset](https://pytorch.org/tutorials/beginner/basics/data_tutorial.html). We first create a Pandas dataframe with 2 columns. Each row consists of the file name of an image, and the corresponding text."
      ]
    },
    {
      "cell_type": "code",
      "source": [
        "def download_and_unzip(url, save_path):\n",
        "    print(f\"Downloading and extracting assets....\", end=\"\")\n",
        "\n",
        "    # Downloading zip file using urllib package.\n",
        "    urlretrieve(url, save_path)\n",
        "\n",
        "    try:\n",
        "        # Extracting zip file using the zipfile package.\n",
        "        with ZipFile(save_path) as z:\n",
        "            # Extract ZIP file contents in the same directory.\n",
        "            z.extractall('')\n",
        "\n",
        "        print(\"Done\")\n",
        "\n",
        "    except Exception as e:\n",
        "        print(\"\\nInvalid file.\", e)"
      ],
      "metadata": {
        "id": "md34Wp_6FVzv"
      },
      "execution_count": 4,
      "outputs": []
    },
    {
      "cell_type": "code",
      "source": [
        "import os\n",
        "import os\n",
        "from urllib.request import urlretrieve\n",
        "from zipfile import ZipFile\n",
        "\n",
        "URL = r\"https://drive.google.com/uc?export=download&id=1Mvc17XMuml9EDJINoEuYCRYJCbdZBf22\"\n",
        "asset_zip_path = os.path.join(os.getcwd(), \"Dataset_OCR.zip\")\n",
        "# Download if asset ZIP does not exist.\n",
        "if not os.path.exists(asset_zip_path):\n",
        "    download_and_unzip(URL, asset_zip_path)"
      ],
      "metadata": {
        "id": "tJ2Y3xjlFVBh"
      },
      "execution_count": 5,
      "outputs": []
    },
    {
      "cell_type": "code",
      "metadata": {
        "colab": {
          "base_uri": "https://localhost:8080/",
          "height": 206
        },
        "id": "KkHqJw-W9Abl",
        "outputId": "fa52a108-f4f2-4bc8-b000-fe549799264d"
      },
      "source": [
        "import pandas as pd\n",
        "\n",
        "df = pd.read_csv('./Dataset_OCR/label.csv')\n",
        "df.rename(columns={0: \"tps\", 1: \"text\"}, inplace=False)\n",
        "\n",
        "df.head()"
      ],
      "execution_count": 6,
      "outputs": [
        {
          "output_type": "execute_result",
          "data": {
            "text/plain": [
              "                          tps  text\n",
              "0  TPS_001-voting_paslon1.png   159\n",
              "1  TPS_001-voting_paslon2.png     9\n",
              "2  TPS_001-voting-paslon3.png     2\n",
              "3  TPS_002-voting_paslon1.png   112\n",
              "4  TPS_002-voting_paslon2.png    87"
            ],
            "text/html": [
              "\n",
              "  <div id=\"df-7cfd1abb-90db-450b-9e54-f6b3db50b72c\" class=\"colab-df-container\">\n",
              "    <div>\n",
              "<style scoped>\n",
              "    .dataframe tbody tr th:only-of-type {\n",
              "        vertical-align: middle;\n",
              "    }\n",
              "\n",
              "    .dataframe tbody tr th {\n",
              "        vertical-align: top;\n",
              "    }\n",
              "\n",
              "    .dataframe thead th {\n",
              "        text-align: right;\n",
              "    }\n",
              "</style>\n",
              "<table border=\"1\" class=\"dataframe\">\n",
              "  <thead>\n",
              "    <tr style=\"text-align: right;\">\n",
              "      <th></th>\n",
              "      <th>tps</th>\n",
              "      <th>text</th>\n",
              "    </tr>\n",
              "  </thead>\n",
              "  <tbody>\n",
              "    <tr>\n",
              "      <th>0</th>\n",
              "      <td>TPS_001-voting_paslon1.png</td>\n",
              "      <td>159</td>\n",
              "    </tr>\n",
              "    <tr>\n",
              "      <th>1</th>\n",
              "      <td>TPS_001-voting_paslon2.png</td>\n",
              "      <td>9</td>\n",
              "    </tr>\n",
              "    <tr>\n",
              "      <th>2</th>\n",
              "      <td>TPS_001-voting-paslon3.png</td>\n",
              "      <td>2</td>\n",
              "    </tr>\n",
              "    <tr>\n",
              "      <th>3</th>\n",
              "      <td>TPS_002-voting_paslon1.png</td>\n",
              "      <td>112</td>\n",
              "    </tr>\n",
              "    <tr>\n",
              "      <th>4</th>\n",
              "      <td>TPS_002-voting_paslon2.png</td>\n",
              "      <td>87</td>\n",
              "    </tr>\n",
              "  </tbody>\n",
              "</table>\n",
              "</div>\n",
              "    <div class=\"colab-df-buttons\">\n",
              "\n",
              "  <div class=\"colab-df-container\">\n",
              "    <button class=\"colab-df-convert\" onclick=\"convertToInteractive('df-7cfd1abb-90db-450b-9e54-f6b3db50b72c')\"\n",
              "            title=\"Convert this dataframe to an interactive table.\"\n",
              "            style=\"display:none;\">\n",
              "\n",
              "  <svg xmlns=\"http://www.w3.org/2000/svg\" height=\"24px\" viewBox=\"0 -960 960 960\">\n",
              "    <path d=\"M120-120v-720h720v720H120Zm60-500h600v-160H180v160Zm220 220h160v-160H400v160Zm0 220h160v-160H400v160ZM180-400h160v-160H180v160Zm440 0h160v-160H620v160ZM180-180h160v-160H180v160Zm440 0h160v-160H620v160Z\"/>\n",
              "  </svg>\n",
              "    </button>\n",
              "\n",
              "  <style>\n",
              "    .colab-df-container {\n",
              "      display:flex;\n",
              "      gap: 12px;\n",
              "    }\n",
              "\n",
              "    .colab-df-convert {\n",
              "      background-color: #E8F0FE;\n",
              "      border: none;\n",
              "      border-radius: 50%;\n",
              "      cursor: pointer;\n",
              "      display: none;\n",
              "      fill: #1967D2;\n",
              "      height: 32px;\n",
              "      padding: 0 0 0 0;\n",
              "      width: 32px;\n",
              "    }\n",
              "\n",
              "    .colab-df-convert:hover {\n",
              "      background-color: #E2EBFA;\n",
              "      box-shadow: 0px 1px 2px rgba(60, 64, 67, 0.3), 0px 1px 3px 1px rgba(60, 64, 67, 0.15);\n",
              "      fill: #174EA6;\n",
              "    }\n",
              "\n",
              "    .colab-df-buttons div {\n",
              "      margin-bottom: 4px;\n",
              "    }\n",
              "\n",
              "    [theme=dark] .colab-df-convert {\n",
              "      background-color: #3B4455;\n",
              "      fill: #D2E3FC;\n",
              "    }\n",
              "\n",
              "    [theme=dark] .colab-df-convert:hover {\n",
              "      background-color: #434B5C;\n",
              "      box-shadow: 0px 1px 3px 1px rgba(0, 0, 0, 0.15);\n",
              "      filter: drop-shadow(0px 1px 2px rgba(0, 0, 0, 0.3));\n",
              "      fill: #FFFFFF;\n",
              "    }\n",
              "  </style>\n",
              "\n",
              "    <script>\n",
              "      const buttonEl =\n",
              "        document.querySelector('#df-7cfd1abb-90db-450b-9e54-f6b3db50b72c button.colab-df-convert');\n",
              "      buttonEl.style.display =\n",
              "        google.colab.kernel.accessAllowed ? 'block' : 'none';\n",
              "\n",
              "      async function convertToInteractive(key) {\n",
              "        const element = document.querySelector('#df-7cfd1abb-90db-450b-9e54-f6b3db50b72c');\n",
              "        const dataTable =\n",
              "          await google.colab.kernel.invokeFunction('convertToInteractive',\n",
              "                                                    [key], {});\n",
              "        if (!dataTable) return;\n",
              "\n",
              "        const docLinkHtml = 'Like what you see? Visit the ' +\n",
              "          '<a target=\"_blank\" href=https://colab.research.google.com/notebooks/data_table.ipynb>data table notebook</a>'\n",
              "          + ' to learn more about interactive tables.';\n",
              "        element.innerHTML = '';\n",
              "        dataTable['output_type'] = 'display_data';\n",
              "        await google.colab.output.renderOutput(dataTable, element);\n",
              "        const docLink = document.createElement('div');\n",
              "        docLink.innerHTML = docLinkHtml;\n",
              "        element.appendChild(docLink);\n",
              "      }\n",
              "    </script>\n",
              "  </div>\n",
              "\n",
              "\n",
              "<div id=\"df-e37b579c-511e-41f2-9c59-d844310a5f75\">\n",
              "  <button class=\"colab-df-quickchart\" onclick=\"quickchart('df-e37b579c-511e-41f2-9c59-d844310a5f75')\"\n",
              "            title=\"Suggest charts\"\n",
              "            style=\"display:none;\">\n",
              "\n",
              "<svg xmlns=\"http://www.w3.org/2000/svg\" height=\"24px\"viewBox=\"0 0 24 24\"\n",
              "     width=\"24px\">\n",
              "    <g>\n",
              "        <path d=\"M19 3H5c-1.1 0-2 .9-2 2v14c0 1.1.9 2 2 2h14c1.1 0 2-.9 2-2V5c0-1.1-.9-2-2-2zM9 17H7v-7h2v7zm4 0h-2V7h2v10zm4 0h-2v-4h2v4z\"/>\n",
              "    </g>\n",
              "</svg>\n",
              "  </button>\n",
              "\n",
              "<style>\n",
              "  .colab-df-quickchart {\n",
              "      --bg-color: #E8F0FE;\n",
              "      --fill-color: #1967D2;\n",
              "      --hover-bg-color: #E2EBFA;\n",
              "      --hover-fill-color: #174EA6;\n",
              "      --disabled-fill-color: #AAA;\n",
              "      --disabled-bg-color: #DDD;\n",
              "  }\n",
              "\n",
              "  [theme=dark] .colab-df-quickchart {\n",
              "      --bg-color: #3B4455;\n",
              "      --fill-color: #D2E3FC;\n",
              "      --hover-bg-color: #434B5C;\n",
              "      --hover-fill-color: #FFFFFF;\n",
              "      --disabled-bg-color: #3B4455;\n",
              "      --disabled-fill-color: #666;\n",
              "  }\n",
              "\n",
              "  .colab-df-quickchart {\n",
              "    background-color: var(--bg-color);\n",
              "    border: none;\n",
              "    border-radius: 50%;\n",
              "    cursor: pointer;\n",
              "    display: none;\n",
              "    fill: var(--fill-color);\n",
              "    height: 32px;\n",
              "    padding: 0;\n",
              "    width: 32px;\n",
              "  }\n",
              "\n",
              "  .colab-df-quickchart:hover {\n",
              "    background-color: var(--hover-bg-color);\n",
              "    box-shadow: 0 1px 2px rgba(60, 64, 67, 0.3), 0 1px 3px 1px rgba(60, 64, 67, 0.15);\n",
              "    fill: var(--button-hover-fill-color);\n",
              "  }\n",
              "\n",
              "  .colab-df-quickchart-complete:disabled,\n",
              "  .colab-df-quickchart-complete:disabled:hover {\n",
              "    background-color: var(--disabled-bg-color);\n",
              "    fill: var(--disabled-fill-color);\n",
              "    box-shadow: none;\n",
              "  }\n",
              "\n",
              "  .colab-df-spinner {\n",
              "    border: 2px solid var(--fill-color);\n",
              "    border-color: transparent;\n",
              "    border-bottom-color: var(--fill-color);\n",
              "    animation:\n",
              "      spin 1s steps(1) infinite;\n",
              "  }\n",
              "\n",
              "  @keyframes spin {\n",
              "    0% {\n",
              "      border-color: transparent;\n",
              "      border-bottom-color: var(--fill-color);\n",
              "      border-left-color: var(--fill-color);\n",
              "    }\n",
              "    20% {\n",
              "      border-color: transparent;\n",
              "      border-left-color: var(--fill-color);\n",
              "      border-top-color: var(--fill-color);\n",
              "    }\n",
              "    30% {\n",
              "      border-color: transparent;\n",
              "      border-left-color: var(--fill-color);\n",
              "      border-top-color: var(--fill-color);\n",
              "      border-right-color: var(--fill-color);\n",
              "    }\n",
              "    40% {\n",
              "      border-color: transparent;\n",
              "      border-right-color: var(--fill-color);\n",
              "      border-top-color: var(--fill-color);\n",
              "    }\n",
              "    60% {\n",
              "      border-color: transparent;\n",
              "      border-right-color: var(--fill-color);\n",
              "    }\n",
              "    80% {\n",
              "      border-color: transparent;\n",
              "      border-right-color: var(--fill-color);\n",
              "      border-bottom-color: var(--fill-color);\n",
              "    }\n",
              "    90% {\n",
              "      border-color: transparent;\n",
              "      border-bottom-color: var(--fill-color);\n",
              "    }\n",
              "  }\n",
              "</style>\n",
              "\n",
              "  <script>\n",
              "    async function quickchart(key) {\n",
              "      const quickchartButtonEl =\n",
              "        document.querySelector('#' + key + ' button');\n",
              "      quickchartButtonEl.disabled = true;  // To prevent multiple clicks.\n",
              "      quickchartButtonEl.classList.add('colab-df-spinner');\n",
              "      try {\n",
              "        const charts = await google.colab.kernel.invokeFunction(\n",
              "            'suggestCharts', [key], {});\n",
              "      } catch (error) {\n",
              "        console.error('Error during call to suggestCharts:', error);\n",
              "      }\n",
              "      quickchartButtonEl.classList.remove('colab-df-spinner');\n",
              "      quickchartButtonEl.classList.add('colab-df-quickchart-complete');\n",
              "    }\n",
              "    (() => {\n",
              "      let quickchartButtonEl =\n",
              "        document.querySelector('#df-e37b579c-511e-41f2-9c59-d844310a5f75 button');\n",
              "      quickchartButtonEl.style.display =\n",
              "        google.colab.kernel.accessAllowed ? 'block' : 'none';\n",
              "    })();\n",
              "  </script>\n",
              "</div>\n",
              "\n",
              "    </div>\n",
              "  </div>\n"
            ],
            "application/vnd.google.colaboratory.intrinsic+json": {
              "type": "dataframe",
              "variable_name": "df",
              "summary": "{\n  \"name\": \"df\",\n  \"rows\": 1395,\n  \"fields\": [\n    {\n      \"column\": \"tps\",\n      \"properties\": {\n        \"dtype\": \"string\",\n        \"num_unique_values\": 1395,\n        \"samples\": [\n          \"TPS_438-voting_paslon2.png\",\n          \"TPS_161-voting_paslon1.png\",\n          \"TPS_496-voting-paslon3.png\"\n        ],\n        \"semantic_type\": \"\",\n        \"description\": \"\"\n      }\n    },\n    {\n      \"column\": \"text\",\n      \"properties\": {\n        \"dtype\": \"number\",\n        \"std\": 45,\n        \"min\": 0,\n        \"max\": 216,\n        \"num_unique_values\": 186,\n        \"samples\": [\n          145,\n          161,\n          192\n        ],\n        \"semantic_type\": \"\",\n        \"description\": \"\"\n      }\n    }\n  ]\n}"
            }
          },
          "metadata": {},
          "execution_count": 6
        }
      ]
    },
    {
      "cell_type": "markdown",
      "metadata": {
        "id": "qJlVYVal9Ojy"
      },
      "source": [
        "We split up the data into training + testing, using sklearn's `train_test_split` function."
      ]
    },
    {
      "cell_type": "code",
      "metadata": {
        "id": "6qLVT1TPN8Nt"
      },
      "source": [
        "from sklearn.model_selection import train_test_split\n",
        "\n",
        "train_df, test_df = train_test_split(df, test_size=0.2)\n",
        "# we reset the indices to start from zero\n",
        "train_df.reset_index(drop=True, inplace=True)\n",
        "test_df.reset_index(drop=True, inplace=True)"
      ],
      "execution_count": 7,
      "outputs": []
    },
    {
      "cell_type": "markdown",
      "metadata": {
        "id": "fwlEBh6B9RTE"
      },
      "source": [
        "Each element of the dataset should return 2 things:\n",
        "* `pixel_values`, which serve as input to the model.\n",
        "* `labels`, which are the `input_ids` of the corresponding text in the image.\n",
        "\n",
        "We use `TrOCRProcessor` to prepare the data for the model. `TrOCRProcessor` is actually just a wrapper around a `ViTFeatureExtractor` (which can be used to resize + normalize images) and a `RobertaTokenizer` (which can be used to encode and decode text into/from `input_ids`)."
      ]
    },
    {
      "cell_type": "code",
      "metadata": {
        "id": "qO5Q8WYp7DLx"
      },
      "source": [
        "import torch\n",
        "from torch.utils.data import Dataset\n",
        "from PIL import Image\n",
        "\n",
        "class IAMDataset(Dataset):\n",
        "    def __init__(self, root_dir, df, processor, max_target_length=128):\n",
        "        self.root_dir = root_dir\n",
        "        self.df = df\n",
        "        self.processor = processor\n",
        "        self.max_target_length = max_target_length\n",
        "\n",
        "    def __len__(self):\n",
        "        return len(self.df)\n",
        "\n",
        "    def __getitem__(self, idx):\n",
        "        # get file name + text\n",
        "        file_name = self.df['tps'][idx]\n",
        "        text = self.df['text'][idx]\n",
        "        # Ensure text is a string\n",
        "        if not isinstance(text, str):\n",
        "            text = str(text)  # Convert to string if it's not\n",
        "        # prepare image (i.e. resize + normalize)\n",
        "        image = Image.open(self.root_dir + file_name).convert(\"RGB\")\n",
        "        pixel_values = self.processor(image, return_tensors=\"pt\").pixel_values\n",
        "        # add labels (input_ids) by encoding the text\n",
        "        labels = self.processor.tokenizer(text,\n",
        "                                          padding=\"max_length\",\n",
        "                                          max_length=self.max_target_length).input_ids\n",
        "        # important: make sure that PAD tokens are ignored by the loss function\n",
        "        labels = [label if label != self.processor.tokenizer.pad_token_id else -100 for label in labels]\n",
        "\n",
        "        encoding = {\"pixel_values\": pixel_values.squeeze(), \"labels\": torch.tensor(labels)}\n",
        "        return encoding"
      ],
      "execution_count": 8,
      "outputs": []
    },
    {
      "cell_type": "markdown",
      "metadata": {
        "id": "yzL7C60c-v-B"
      },
      "source": [
        "Let's initialize the training and evaluation datasets:"
      ]
    },
    {
      "cell_type": "code",
      "metadata": {
        "id": "KIa78c2W8uT9",
        "outputId": "46365966-8390-4182-d327-cd02ee877432",
        "colab": {
          "base_uri": "https://localhost:8080/",
          "height": 274,
          "referenced_widgets": [
            "96b4769cf7624138a0f5f0b30e2d37c5",
            "d4ae42204c884b91bda1491885ef871b",
            "a429609d953f42ec9ef83df02fa820f0",
            "8e7bf17070e446e5afa3f0442f5a0011",
            "03fc20b13d4a4f1694c2a1b83a87d983",
            "72cfef2437a847a98daef10c73af6b2d",
            "c69415ebe38c44f2937e35bacd359520",
            "22b269590c6541999d4a41b04ff646d6",
            "a74038c048be42d49ca6ce52724b2ef2",
            "df9a9ba5bc0e48ffbb7ec88bf3eaac38",
            "f55deea52ec340a8ba066481c802bc89",
            "96febe22f7b24e11b0afb1ead2522fd6",
            "33675a58723d4406bb7c727f5a25b906",
            "9ed5ee6dd4f342b99a315230d95dbdcd",
            "e4d0606983774af68dd18b4e67a749c6",
            "8f4c24ac441146d98f2b69d3c5e61a8d",
            "f29cf6e2f9d34cc3b351a556dfe043d5",
            "52035fdc7c674055bba641cf9aff9c3d",
            "eae0828653cd45d1a6ea9a939865ac0f",
            "f9887b691217405d8de10994f779d944",
            "9c2a86c1ee234d89bfc0e58451a11e51",
            "a01d1eece9f047f397ac86868e4a33a9",
            "6c0894f3bffd40b88d53475c587bc969",
            "d98b2d76525f4fe996c52e175f954fc7",
            "c99dc4153c28483bb7310941137ab16c",
            "47bff6892ac946bfbee1e736a7f6dc63",
            "24d65b59d8844fc5b3736752bba49715",
            "c7ec4d90711c42edae2364c202208ee7",
            "2c8cabc15c92482baff58ead676bae70",
            "d9acc47f525842a6b3be32158aa749cb",
            "3586773a9cab48d5a1cc8aecec18100d",
            "6ed89ae508c84b6b980cf9461bc42f7e",
            "cf138de506f74cd4aec5c51fc4157bae",
            "a744f6f6f0b64a6383d62358a7dfb9db",
            "b3bac4cdfa7d46da844a7faadf087daf",
            "af329af065694456839ec55eb3fb321f",
            "1b54cb600fe648748332fffac22feeec",
            "b5002cbde68043dfa1619429d6a3dcdb",
            "b02512a0a65e4804be19eba908bdaf91",
            "c7e81df398154840a8a025966b72b941",
            "f69acf37ee284ce89dd5ba135464211f",
            "328c94b5956e472ebbff39e729c49b42",
            "d83e611ccf4a46d38d1e8a855098e9f3",
            "31ee3d31d5734f39b7bc3cb7efa5ee45"
          ]
        }
      },
      "source": [
        "from transformers import TrOCRProcessor\n",
        "\n",
        "processor = TrOCRProcessor.from_pretrained(\"microsoft/trocr-small-handwritten\")\n",
        "train_dataset = IAMDataset(root_dir='/content/Dataset_OCR/train/',\n",
        "                           df=train_df,\n",
        "                           processor=processor)\n",
        "eval_dataset = IAMDataset(root_dir='/content/Dataset_OCR/train/',\n",
        "                           df=test_df,\n",
        "                           processor=processor)"
      ],
      "execution_count": 9,
      "outputs": [
        {
          "output_type": "stream",
          "name": "stderr",
          "text": [
            "/usr/local/lib/python3.10/dist-packages/huggingface_hub/utils/_token.py:89: UserWarning: \n",
            "The secret `HF_TOKEN` does not exist in your Colab secrets.\n",
            "To authenticate with the Hugging Face Hub, create a token in your settings tab (https://huggingface.co/settings/tokens), set it as secret in your Google Colab and restart your session.\n",
            "You will be able to reuse this secret in all of your notebooks.\n",
            "Please note that authentication is recommended but still optional to access public models or datasets.\n",
            "  warnings.warn(\n"
          ]
        },
        {
          "output_type": "display_data",
          "data": {
            "text/plain": [
              "preprocessor_config.json:   0%|          | 0.00/272 [00:00<?, ?B/s]"
            ],
            "application/vnd.jupyter.widget-view+json": {
              "version_major": 2,
              "version_minor": 0,
              "model_id": "96b4769cf7624138a0f5f0b30e2d37c5"
            }
          },
          "metadata": {}
        },
        {
          "output_type": "display_data",
          "data": {
            "text/plain": [
              "tokenizer_config.json:   0%|          | 0.00/327 [00:00<?, ?B/s]"
            ],
            "application/vnd.jupyter.widget-view+json": {
              "version_major": 2,
              "version_minor": 0,
              "model_id": "96febe22f7b24e11b0afb1ead2522fd6"
            }
          },
          "metadata": {}
        },
        {
          "output_type": "display_data",
          "data": {
            "text/plain": [
              "sentencepiece.bpe.model:   0%|          | 0.00/1.36M [00:00<?, ?B/s]"
            ],
            "application/vnd.jupyter.widget-view+json": {
              "version_major": 2,
              "version_minor": 0,
              "model_id": "6c0894f3bffd40b88d53475c587bc969"
            }
          },
          "metadata": {}
        },
        {
          "output_type": "display_data",
          "data": {
            "text/plain": [
              "special_tokens_map.json:   0%|          | 0.00/238 [00:00<?, ?B/s]"
            ],
            "application/vnd.jupyter.widget-view+json": {
              "version_major": 2,
              "version_minor": 0,
              "model_id": "a744f6f6f0b64a6383d62358a7dfb9db"
            }
          },
          "metadata": {}
        }
      ]
    },
    {
      "cell_type": "code",
      "metadata": {
        "colab": {
          "base_uri": "https://localhost:8080/"
        },
        "id": "PiwZLbMeLCfo",
        "outputId": "4884e41a-066a-473f-e874-92d4835fcbc7"
      },
      "source": [
        "print(\"Number of training examples:\", len(train_dataset))\n",
        "print(\"Number of validation examples:\", len(eval_dataset))"
      ],
      "execution_count": 10,
      "outputs": [
        {
          "output_type": "stream",
          "name": "stdout",
          "text": [
            "Number of training examples: 1116\n",
            "Number of validation examples: 279\n"
          ]
        }
      ]
    },
    {
      "cell_type": "markdown",
      "metadata": {
        "id": "7p8JfQrx-6EM"
      },
      "source": [
        "Let's verify an example from the training dataset:"
      ]
    },
    {
      "cell_type": "code",
      "metadata": {
        "colab": {
          "base_uri": "https://localhost:8080/"
        },
        "id": "rwBNrfD78RA7",
        "outputId": "b8ca4110-69fa-4bb2-b3ca-53adcf9b9b85"
      },
      "source": [
        "encoding = train_dataset[0]\n",
        "for k,v in encoding.items():\n",
        "  print(k, v.shape)"
      ],
      "execution_count": 11,
      "outputs": [
        {
          "output_type": "stream",
          "name": "stdout",
          "text": [
            "pixel_values torch.Size([3, 384, 384])\n",
            "labels torch.Size([128])\n"
          ]
        }
      ]
    },
    {
      "cell_type": "markdown",
      "metadata": {
        "id": "lN-3pf6T_uRe"
      },
      "source": [
        "We can also check the original image and decode the labels:"
      ]
    },
    {
      "cell_type": "code",
      "metadata": {
        "colab": {
          "base_uri": "https://localhost:8080/",
          "height": 76
        },
        "id": "QzgOFgD4_7Kw",
        "outputId": "732a55b7-24e0-47ac-9ae5-492953ec9a69"
      },
      "source": [
        "image = Image.open(train_dataset.root_dir + train_df['tps'][0]).convert(\"RGB\")\n",
        "image"
      ],
      "execution_count": 12,
      "outputs": [
        {
          "output_type": "execute_result",
          "data": {
            "text/plain": [
              "<PIL.Image.Image image mode=RGB size=176x59>"
            ],
            "image/png": "[encoded data removed]"
          },
          "metadata": {},
          "execution_count": 12
        }
      ]
    },
    {
      "cell_type": "code",
      "metadata": {
        "colab": {
          "base_uri": "https://localhost:8080/"
        },
        "id": "vMtfkDia-8tQ",
        "outputId": "8d71c139-a9b0-4577-ccb1-2e840ca6f098"
      },
      "source": [
        "labels = encoding['labels']\n",
        "labels[labels == -100] = processor.tokenizer.pad_token_id\n",
        "label_str = processor.decode(labels, skip_special_tokens=True)\n",
        "print(label_str)"
      ],
      "execution_count": 13,
      "outputs": [
        {
          "output_type": "stream",
          "name": "stdout",
          "text": [
            "117\n"
          ]
        }
      ]
    },
    {
      "cell_type": "markdown",
      "metadata": {
        "id": "XxU7TfoYBvg0"
      },
      "source": [
        "## Train a model\n",
        "\n",
        "Here, we initialize the TrOCR model from its pretrained weights. Note that the weights of the language modeling head are already initialized from pre-training, as the model was already trained to generate text during its pre-training stage. Refer to the paper for details."
      ]
    },
    {
      "cell_type": "code",
      "metadata": {
        "colab": {
          "base_uri": "https://localhost:8080/",
          "height": 169,
          "referenced_widgets": [
            "e57cbedd1f3848d3a588103dbd13ed97",
            "2a9f4632699040169d10a8fc00576b69",
            "0964e4f44ea641f5aeb90730305d8649",
            "cf67c4080fd54ea8a3d4e5599fbff9fc",
            "2b8272c4a8754d0692b50d14c5ac4717",
            "eae4c3faccc64b7e8a69ebcec57b2ee3",
            "2bc274e278304d59bc62ce380f90a77f",
            "8816f52c8fc44167b3ebd32baedad9ba",
            "6520cdb8300e47c796999bfa1142950c",
            "16238e5c104546349e20e6c8d2fbfe32",
            "ff4cf8505d454dd08732abeca042016e",
            "edb72d40ac7b431bb2e84f10098fbab9",
            "f8fabfad36514919853ba1bba01fcc4c",
            "826133a82c5f4c58a05a4869ec7cd03b",
            "c01d1a587c11498381dbb3c7ee062205",
            "9e4f86d48d074a41b231f3e69955508f",
            "0c0aced6eed847beaf331ded463b85b3",
            "0e4561732d8b41e0ac82fc560f62725d",
            "f72cce93e01d456d942a4fd76b7c4026",
            "f241e64c3c8c49ddb960e24a8eec5fcb",
            "cab671a79795412f9437e2ab5141a493",
            "905169c2362a4f7bae900577ffbd1ee8",
            "8cb1a86cb3764597a34baf65b9b3d055",
            "4c226fd603c34b72bd2c3854093401f8",
            "30d069ee00f74320bd9255eea1f25974",
            "514491decfcd44d889de4e73b93bd151",
            "8f901fd61d5e4767bff6ab7fa8a10e82",
            "78cd63c80cd64743a7c4a6f8a6bf0272",
            "20991792d0404dd3924df99d58b50caf",
            "0d87dd5baf5348549a903264b2fbae08",
            "ca1f96663ba4449ea0e4515f34d505e7",
            "1606bc8592f54eba9e765e7ff320ea99",
            "196d23e518574e3cbbe2b7a003f8ae2a"
          ]
        },
        "id": "bRhvTRrGBIfy",
        "outputId": "a15ef082-7856-4abf-c694-00838c2b1c10"
      },
      "source": [
        "from transformers import VisionEncoderDecoderModel\n",
        "\n",
        "model = VisionEncoderDecoderModel.from_pretrained(\"microsoft/trocr-small-stage1\")"
      ],
      "execution_count": 14,
      "outputs": [
        {
          "output_type": "display_data",
          "data": {
            "text/plain": [
              "config.json:   0%|          | 0.00/4.21k [00:00<?, ?B/s]"
            ],
            "application/vnd.jupyter.widget-view+json": {
              "version_major": 2,
              "version_minor": 0,
              "model_id": "e57cbedd1f3848d3a588103dbd13ed97"
            }
          },
          "metadata": {}
        },
        {
          "output_type": "display_data",
          "data": {
            "text/plain": [
              "pytorch_model.bin:   0%|          | 0.00/246M [00:00<?, ?B/s]"
            ],
            "application/vnd.jupyter.widget-view+json": {
              "version_major": 2,
              "version_minor": 0,
              "model_id": "edb72d40ac7b431bb2e84f10098fbab9"
            }
          },
          "metadata": {}
        },
        {
          "output_type": "stream",
          "name": "stderr",
          "text": [
            "Some weights of VisionEncoderDecoderModel were not initialized from the model checkpoint at microsoft/trocr-small-stage1 and are newly initialized: ['encoder.pooler.dense.bias', 'encoder.pooler.dense.weight']\n",
            "You should probably TRAIN this model on a down-stream task to be able to use it for predictions and inference.\n"
          ]
        },
        {
          "output_type": "display_data",
          "data": {
            "text/plain": [
              "generation_config.json:   0%|          | 0.00/190 [00:00<?, ?B/s]"
            ],
            "application/vnd.jupyter.widget-view+json": {
              "version_major": 2,
              "version_minor": 0,
              "model_id": "8cb1a86cb3764597a34baf65b9b3d055"
            }
          },
          "metadata": {}
        }
      ]
    },
    {
      "cell_type": "markdown",
      "metadata": {
        "id": "UqNELu3cQix5"
      },
      "source": [
        "Importantly, we need to set a couple of attributes, namely:\n",
        "* the attributes required for creating the `decoder_input_ids` from the `labels` (the model will automatically create the `decoder_input_ids` by shifting the `labels` one position to the right and prepending the `decoder_start_token_id`, as well as replacing ids which are -100 by the pad_token_id)\n",
        "* the vocabulary size of the model (for the language modeling head on top of the decoder)\n",
        "* beam-search related parameters which are used when generating text."
      ]
    },
    {
      "cell_type": "code",
      "metadata": {
        "id": "sNNT1XS_CMgl"
      },
      "source": [
        "# set special tokens used for creating the decoder_input_ids from the labels\n",
        "model.config.decoder_start_token_id = processor.tokenizer.cls_token_id\n",
        "model.config.pad_token_id = processor.tokenizer.pad_token_id\n",
        "# make sure vocab size is set correctly\n",
        "model.config.vocab_size = model.config.decoder.vocab_size\n",
        "\n",
        "# set beam search parameters\n",
        "model.config.eos_token_id = processor.tokenizer.sep_token_id\n",
        "model.config.max_length = 64\n",
        "model.config.early_stopping = True\n",
        "model.config.no_repeat_ngram_size = 3\n",
        "model.config.length_penalty = 2.0\n",
        "model.config.num_beams = 4"
      ],
      "execution_count": 15,
      "outputs": []
    },
    {
      "cell_type": "markdown",
      "metadata": {
        "id": "Lt3G4Ts4-3RL"
      },
      "source": [
        "Next, we can define some training hyperparameters by instantiating the `training_args`. Note that there are many more parameters, all of which can be found in the [documentation](https://huggingface.co/transformers/main_classes/trainer.html#seq2seqtrainingarguments). You can for example decide what the batch size is for training/evaluation, whether to use mixed precision training (lower memory), the frequency at which you want to save the model, etc."
      ]
    },
    {
      "cell_type": "code",
      "metadata": {
        "id": "o1G_rkDBzwid",
        "colab": {
          "base_uri": "https://localhost:8080/"
        },
        "outputId": "10343e43-e316-4509-da00-936fe788f7e1"
      },
      "source": [
        "from transformers import Seq2SeqTrainer, Seq2SeqTrainingArguments\n",
        "\n",
        "training_args = Seq2SeqTrainingArguments(\n",
        "    predict_with_generate=True,\n",
        "    evaluation_strategy=\"steps\",\n",
        "    per_device_train_batch_size=8,\n",
        "    per_device_eval_batch_size=8,\n",
        "    fp16=True,\n",
        "    output_dir=\"./\",\n",
        "    logging_steps=2,\n",
        "    save_steps=1000,\n",
        "    eval_steps=200,\n",
        "    num_train_epochs=25,\n",
        ")"
      ],
      "execution_count": 16,
      "outputs": [
        {
          "output_type": "stream",
          "name": "stderr",
          "text": [
            "/usr/local/lib/python3.10/dist-packages/transformers/training_args.py:1494: FutureWarning: `evaluation_strategy` is deprecated and will be removed in version 4.46 of 🤗 Transformers. Use `eval_strategy` instead\n",
            "  warnings.warn(\n"
          ]
        }
      ]
    },
    {
      "cell_type": "markdown",
      "metadata": {
        "id": "nV6KY53xvOgC"
      },
      "source": [
        "We will evaluate the model on the Character Error Rate (CER), which is available in HuggingFace Datasets (see [here](https://huggingface.co/metrics/cer))."
      ]
    },
    {
      "cell_type": "code",
      "metadata": {
        "id": "yoXD3_P10DD4",
        "colab": {
          "base_uri": "https://localhost:8080/",
          "height": 178,
          "referenced_widgets": [
            "64fb984e722141adac96adf5fb6d3aec",
            "319c990aa2b7494eaff5dd8624725f23",
            "83ae31e140684769a78b4da580cc7683",
            "6cad0f6ec12d42faa56e371abbd6e41a",
            "240c9337ccc14509b11e8aaada6a4f35",
            "8a9f19a720554dd19da01cc638cdd367",
            "97b09e8c4e8a4081a1873cd99a3ddd6a",
            "135af850be9a4f6c9f633c5cd41b10eb",
            "6cebb71862334deba9e5375eee4dca1a",
            "90cf3f203b844e4485a28678c0ea7e2c",
            "19a5327e40f14c2d9fc2346c2122dc51"
          ]
        },
        "outputId": "ed003b11-8db0-44f5-add4-a852e98f283a"
      },
      "source": [
        "from datasets import load_metric\n",
        "\n",
        "cer_metric = load_metric(\"cer\")"
      ],
      "execution_count": 17,
      "outputs": [
        {
          "output_type": "stream",
          "name": "stderr",
          "text": [
            "<ipython-input-17-c81d87c6f9c2>:3: FutureWarning: load_metric is deprecated and will be removed in the next major version of datasets. Use 'evaluate.load' instead, from the new library 🤗 Evaluate: https://huggingface.co/docs/evaluate\n",
            "  cer_metric = load_metric(\"cer\")\n",
            "/usr/local/lib/python3.10/dist-packages/datasets/load.py:753: FutureWarning: The repository for cer contains custom code which must be executed to correctly load the metric. You can inspect the repository content at https://raw.githubusercontent.com/huggingface/datasets/2.17.0/metrics/cer/cer.py\n",
            "You can avoid this message in future by passing the argument `trust_remote_code=True`.\n",
            "Passing `trust_remote_code=True` will be mandatory to load this metric from the next major release of `datasets`.\n",
            "  warnings.warn(\n"
          ]
        },
        {
          "output_type": "display_data",
          "data": {
            "text/plain": [
              "Downloading builder script:   0%|          | 0.00/2.16k [00:00<?, ?B/s]"
            ],
            "application/vnd.jupyter.widget-view+json": {
              "version_major": 2,
              "version_minor": 0,
              "model_id": "64fb984e722141adac96adf5fb6d3aec"
            }
          },
          "metadata": {}
        }
      ]
    },
    {
      "cell_type": "markdown",
      "metadata": {
        "id": "8G0R0sPFvfqT"
      },
      "source": [
        "The compute_metrics function takes an `EvalPrediction` (which is a NamedTuple) as input, and should return a dictionary. The model will return an EvalPrediction at evaluation, which consists of 2 things:\n",
        "* predictions: the predictions by the model.\n",
        "* label_ids: the actual ground-truth labels."
      ]
    },
    {
      "cell_type": "code",
      "metadata": {
        "id": "Y36AcnvP0OZw"
      },
      "source": [
        "def compute_metrics(pred):\n",
        "    labels_ids = pred.label_ids\n",
        "    pred_ids = pred.predictions\n",
        "\n",
        "    pred_str = processor.batch_decode(pred_ids, skip_special_tokens=True)\n",
        "    labels_ids[labels_ids == -100] = processor.tokenizer.pad_token_id\n",
        "    label_str = processor.batch_decode(labels_ids, skip_special_tokens=True)\n",
        "\n",
        "    cer = cer_metric.compute(predictions=pred_str, references=label_str)\n",
        "\n",
        "    return {\"cer\": cer}"
      ],
      "execution_count": 18,
      "outputs": []
    },
    {
      "cell_type": "markdown",
      "metadata": {
        "id": "vujH5mZ4-MXS"
      },
      "source": [
        "Let's train! We also provide the `default_data_collator` to the Trainer, which is used to batch together examples.\n",
        "\n",
        "Note that evaluation takes quite a long time, as we're using beam search for decoding, which requires several forward passes for a given example."
      ]
    },
    {
      "cell_type": "code",
      "metadata": {
        "colab": {
          "base_uri": "https://localhost:8080/",
          "height": 902
        },
        "id": "mcQMbxi10SDm",
        "outputId": "2c55dc16-4be9-45e3-eac1-1df023fa2c57"
      },
      "source": [
        "from transformers import default_data_collator\n",
        "\n",
        "# instantiate trainer\n",
        "trainer = Seq2SeqTrainer(\n",
        "    model=model,\n",
        "    tokenizer=processor.feature_extractor,\n",
        "    args=training_args,\n",
        "    compute_metrics=compute_metrics,\n",
        "    train_dataset=train_dataset,\n",
        "    eval_dataset=eval_dataset,\n",
        "    data_collator=default_data_collator,\n",
        ")\n",
        "trainer.train()"
      ],
      "execution_count": 19,
      "outputs": [
        {
          "output_type": "stream",
          "name": "stderr",
          "text": [
            "/usr/local/lib/python3.10/dist-packages/transformers/models/trocr/processing_trocr.py:137: FutureWarning: `feature_extractor` is deprecated and will be removed in v5. Use `image_processor` instead.\n",
            "  warnings.warn(\n"
          ]
        },
        {
          "output_type": "display_data",
          "data": {
            "text/plain": [
              "<IPython.core.display.HTML object>"
            ],
            "text/html": [
              "\n",
              "    <div>\n",
              "      \n",
              "      <progress value='3500' max='3500' style='width:300px; height:20px; vertical-align: middle;'></progress>\n",
              "      [3500/3500 18:20, Epoch 25/25]\n",
              "    </div>\n",
              "    <table border=\"1\" class=\"dataframe\">\n",
              "  <thead>\n",
              " <tr style=\"text-align: left;\">\n",
              "      <th>Step</th>\n",
              "      <th>Training Loss</th>\n",
              "      <th>Validation Loss</th>\n",
              "      <th>Cer</th>\n",
              "    </tr>\n",
              "  </thead>\n",
              "  <tbody>\n",
              "    <tr>\n",
              "      <td>200</td>\n",
              "      <td>0.036200</td>\n",
              "      <td>0.228741</td>\n",
              "      <td>0.073826</td>\n",
              "    </tr>\n",
              "    <tr>\n",
              "      <td>400</td>\n",
              "      <td>0.065400</td>\n",
              "      <td>0.127838</td>\n",
              "      <td>0.046980</td>\n",
              "    </tr>\n",
              "    <tr>\n",
              "      <td>600</td>\n",
              "      <td>0.001900</td>\n",
              "      <td>0.112552</td>\n",
              "      <td>0.021812</td>\n",
              "    </tr>\n",
              "    <tr>\n",
              "      <td>800</td>\n",
              "      <td>0.383900</td>\n",
              "      <td>0.033418</td>\n",
              "      <td>0.008389</td>\n",
              "    </tr>\n",
              "    <tr>\n",
              "      <td>1000</td>\n",
              "      <td>0.000300</td>\n",
              "      <td>0.065899</td>\n",
              "      <td>0.023490</td>\n",
              "    </tr>\n",
              "    <tr>\n",
              "      <td>1200</td>\n",
              "      <td>0.000200</td>\n",
              "      <td>0.045524</td>\n",
              "      <td>0.006711</td>\n",
              "    </tr>\n",
              "    <tr>\n",
              "      <td>1400</td>\n",
              "      <td>0.000100</td>\n",
              "      <td>0.029654</td>\n",
              "      <td>0.008389</td>\n",
              "    </tr>\n",
              "    <tr>\n",
              "      <td>1600</td>\n",
              "      <td>0.000000</td>\n",
              "      <td>0.015433</td>\n",
              "      <td>0.006711</td>\n",
              "    </tr>\n",
              "    <tr>\n",
              "      <td>1800</td>\n",
              "      <td>0.000000</td>\n",
              "      <td>0.017020</td>\n",
              "      <td>0.006711</td>\n",
              "    </tr>\n",
              "    <tr>\n",
              "      <td>2000</td>\n",
              "      <td>0.000000</td>\n",
              "      <td>0.015237</td>\n",
              "      <td>0.005034</td>\n",
              "    </tr>\n",
              "    <tr>\n",
              "      <td>2200</td>\n",
              "      <td>0.000000</td>\n",
              "      <td>0.015239</td>\n",
              "      <td>0.003356</td>\n",
              "    </tr>\n",
              "    <tr>\n",
              "      <td>2400</td>\n",
              "      <td>0.000000</td>\n",
              "      <td>0.014395</td>\n",
              "      <td>0.003356</td>\n",
              "    </tr>\n",
              "    <tr>\n",
              "      <td>2600</td>\n",
              "      <td>0.000000</td>\n",
              "      <td>0.012588</td>\n",
              "      <td>0.003356</td>\n",
              "    </tr>\n",
              "    <tr>\n",
              "      <td>2800</td>\n",
              "      <td>0.000000</td>\n",
              "      <td>0.012660</td>\n",
              "      <td>0.003356</td>\n",
              "    </tr>\n",
              "    <tr>\n",
              "      <td>3000</td>\n",
              "      <td>0.000000</td>\n",
              "      <td>0.012894</td>\n",
              "      <td>0.005034</td>\n",
              "    </tr>\n",
              "    <tr>\n",
              "      <td>3200</td>\n",
              "      <td>0.000000</td>\n",
              "      <td>0.012739</td>\n",
              "      <td>0.005034</td>\n",
              "    </tr>\n",
              "    <tr>\n",
              "      <td>3400</td>\n",
              "      <td>0.000000</td>\n",
              "      <td>0.012450</td>\n",
              "      <td>0.005034</td>\n",
              "    </tr>\n",
              "  </tbody>\n",
              "</table><p>"
            ]
          },
          "metadata": {}
        },
        {
          "output_type": "stream",
          "name": "stderr",
          "text": [
            "/usr/local/lib/python3.10/dist-packages/transformers/generation/utils.py:1364: UserWarning: You have modified the pretrained model configuration to control generation. This is a deprecated strategy to control generation and will be removed soon, in a future version. Please use and modify the model generation configuration (see https://huggingface.co/docs/transformers/generation_strategies#default-text-generation-configuration )\n",
            "  warnings.warn(\n",
            "Some non-default generation parameters are set in the model config. These should go into a GenerationConfig file (https://huggingface.co/docs/transformers/generation_strategies#save-a-custom-decoding-strategy-with-your-model) instead. This warning will be raised to an exception in v4.41.\n",
            "Non-default generation parameters: {'max_length': 64, 'early_stopping': True, 'num_beams': 4, 'length_penalty': 2.0, 'no_repeat_ngram_size': 3}\n",
            "Some non-default generation parameters are set in the model config. These should go into a GenerationConfig file (https://huggingface.co/docs/transformers/generation_strategies#save-a-custom-decoding-strategy-with-your-model) instead. This warning will be raised to an exception in v4.41.\n",
            "Non-default generation parameters: {'max_length': 64, 'early_stopping': True, 'num_beams': 4, 'length_penalty': 2.0, 'no_repeat_ngram_size': 3}\n",
            "Some non-default generation parameters are set in the model config. These should go into a GenerationConfig file (https://huggingface.co/docs/transformers/generation_strategies#save-a-custom-decoding-strategy-with-your-model) instead. This warning will be raised to an exception in v4.41.\n",
            "Non-default generation parameters: {'max_length': 64, 'early_stopping': True, 'num_beams': 4, 'length_penalty': 2.0, 'no_repeat_ngram_size': 3}\n",
            "Some non-default generation parameters are set in the model config. These should go into a GenerationConfig file (https://huggingface.co/docs/transformers/generation_strategies#save-a-custom-decoding-strategy-with-your-model) instead. This warning will be raised to an exception in v4.41.\n",
            "Non-default generation parameters: {'max_length': 64, 'early_stopping': True, 'num_beams': 4, 'length_penalty': 2.0, 'no_repeat_ngram_size': 3}\n"
          ]
        },
        {
          "output_type": "execute_result",
          "data": {
            "text/plain": [
              "TrainOutput(global_step=3500, training_loss=0.09994368540023424, metrics={'train_runtime': 1104.9355, 'train_samples_per_second': 25.25, 'train_steps_per_second': 3.168, 'total_flos': 3.337528779001037e+18, 'train_loss': 0.09994368540023424, 'epoch': 25.0})"
            ]
          },
          "metadata": {},
          "execution_count": 19
        }
      ]
    },
    {
      "cell_type": "markdown",
      "metadata": {
        "id": "q8tduj2fBGQK"
      },
      "source": [
        "## Inference\n",
        "\n",
        "Note that after training, you can easily load the model using the .`from_pretrained(output_dir)` method.\n",
        "\n",
        "For inference on new images, I refer to my inference notebook, that can also be found in my [Transformers Tutorials repository](https://github.com/NielsRogge/Transformers-Tutorials) on Github."
      ]
    },
    {
      "cell_type": "code",
      "metadata": {
        "id": "WkaVFYTal6vR"
      },
      "source": [
        "processor = TrOCRProcessor.from_pretrained('microsoft/trocr-small-handwritten')\n",
        "trained_model = VisionEncoderDecoderModel.from_pretrained('./checkpoint-3500')"
      ],
      "execution_count": 20,
      "outputs": []
    },
    {
      "cell_type": "code",
      "source": [
        "def read_image(image_path):\n",
        "    image = Image.open(image_path).convert('RGB')\n",
        "    return image"
      ],
      "metadata": {
        "id": "VTA_AV4BL5nr"
      },
      "execution_count": 21,
      "outputs": []
    },
    {
      "cell_type": "code",
      "source": [
        "def ocr(image, processor, model):\n",
        "    pixel_values = processor(image, return_tensors='pt').pixel_values\n",
        "    generated_ids = model.generate(pixel_values)\n",
        "    generated_text = processor.batch_decode(generated_ids, skip_special_tokens=True)[0]\n",
        "    return generated_text"
      ],
      "metadata": {
        "id": "KswI3f8fL8-J"
      },
      "execution_count": 22,
      "outputs": []
    },
    {
      "cell_type": "code",
      "source": [
        "import glob as glob\n",
        "import matplotlib.pyplot as plt\n",
        "from PIL import Image\n",
        "from tqdm.notebook import tqdm\n",
        "def eval_new_data(data_path,num_samples):\n",
        "    image_paths = glob.glob(data_path)\n",
        "    for i, image_path in tqdm(enumerate(image_paths), total=len(image_paths)):\n",
        "        if i == num_samples:\n",
        "            break\n",
        "        image = read_image(image_path)\n",
        "        text = ocr(image, processor, trained_model)\n",
        "        plt.figure(figsize=(7, 4))\n",
        "        plt.imshow(image)\n",
        "        plt.title(text)\n",
        "        plt.axis('off')\n",
        "        plt.show()"
      ],
      "metadata": {
        "id": "Hzlg8uTsMCst"
      },
      "execution_count": 23,
      "outputs": []
    },
    {
      "cell_type": "code",
      "source": [
        "eval_new_data(\n",
        "    data_path=os.path.join('/content/Dataset_OCR/test', '*'),\n",
        "    num_samples=20\n",
        ")"
      ],
      "metadata": {
        "id": "3RponzatMGSV",
        "outputId": "11ec782a-8148-436f-922f-51a56f6912f9",
        "colab": {
          "base_uri": "https://localhost:8080/",
          "height": 1000,
          "referenced_widgets": [
            "0fb427b3cebf46eea232ccba2b636010",
            "59a967270ca3468ebaa49f744a3f177f",
            "6a93690f93da4ca18bb609a1ad0d7d68",
            "e060b5ca3498464995e4a16a3f918663",
            "0e13066fb33a485d848bf93cb96d24fa",
            "b1b7ffaf57b9421288e17a545c3a393b",
            "7be5e1b37b964a98880b3277f5332189",
            "a1661cc147da4e3d882353057445f711",
            "7648109853eb4d48bef209b6117bb833",
            "79f853ac8a1e4493bd8054a6a8fe4e3f",
            "b352c863cc2f43cdb1688b7447cdf27e"
          ]
        }
      },
      "execution_count": 25,
      "outputs": [
        {
          "output_type": "display_data",
          "data": {
            "text/plain": [
              "  0%|          | 0/117 [00:00<?, ?it/s]"
            ],
            "application/vnd.jupyter.widget-view+json": {
              "version_major": 2,
              "version_minor": 0,
              "model_id": "0fb427b3cebf46eea232ccba2b636010"
            }
          },
          "metadata": {}
        },
        {
          "output_type": "display_data",
          "data": {
            "text/plain": [
              "<Figure size 700x400 with 1 Axes>"
            ],
            "image/png": "[encoded data removed]"
          },
          "metadata": {}
        },
        {
          "output_type": "display_data",
          "data": {
            "text/plain": [
              "<Figure size 700x400 with 1 Axes>"
            ],
            "image/png": "[encoded data removed]"
          },
          "metadata": {}
        },
        {
          "output_type": "display_data",
          "data": {
            "text/plain": [
              "<Figure size 700x400 with 1 Axes>"
            ],
            "image/png": "[encoded data removed]"
          },
          "metadata": {}
        },
        {
          "output_type": "display_data",
          "data": {
            "text/plain": [
              "<Figure size 700x400 with 1 Axes>"
            ],
            "image/png": "[encoded data removed]"
          },
          "metadata": {}
        },
        {
          "output_type": "display_data",
          "data": {
            "text/plain": [
              "<Figure size 700x400 with 1 Axes>"
            ],
            "image/png": "[encoded data removed]"
          },
          "metadata": {}
        },
        {
          "output_type": "display_data",
          "data": {
            "text/plain": [
              "<Figure size 700x400 with 1 Axes>"
            ],
            "image/png": "[encoded data removed]"
          },
          "metadata": {}
        },
        {
          "output_type": "display_data",
          "data": {
            "text/plain": [
              "<Figure size 700x400 with 1 Axes>"
            ],
            "image/png": "[encoded data removed]"
          },
          "metadata": {}
        },
        {
          "output_type": "display_data",
          "data": {
            "text/plain": [
              "<Figure size 700x400 with 1 Axes>"
            ],
            "image/png": "[encoded data removed]"
          },
          "metadata": {}
        },
        {
          "output_type": "display_data",
          "data": {
            "text/plain": [
              "<Figure size 700x400 with 1 Axes>"
            ],
            "image/png": "[encoded data removed]"
          },
          "metadata": {}
        },
        {
          "output_type": "display_data",
          "data": {
            "text/plain": [
              "<Figure size 700x400 with 1 Axes>"
            ],
            "image/png": "[encoded data removed]"
          },
          "metadata": {}
        },
        {
          "output_type": "display_data",
          "data": {
            "text/plain": [
              "<Figure size 700x400 with 1 Axes>"
            ],
            "image/png": "[encoded data removed]"
          },
          "metadata": {}
        },
        {
          "output_type": "display_data",
          "data": {
            "text/plain": [
              "<Figure size 700x400 with 1 Axes>"
            ],
            "image/png": "[encoded data removed]"
          },
          "metadata": {}
        },
        {
          "output_type": "display_data",
          "data": {
            "text/plain": [
              "<Figure size 700x400 with 1 Axes>"
            ],
            "image/png": "[encoded data removed]"
          },
          "metadata": {}
        },
        {
          "output_type": "display_data",
          "data": {
            "text/plain": [
              "<Figure size 700x400 with 1 Axes>"
            ],
            "image/png": "[encoded data removed]"
          },
          "metadata": {}
        },
        {
          "output_type": "display_data",
          "data": {
            "text/plain": [
              "<Figure size 700x400 with 1 Axes>"
            ],
            "image/png": "[encoded data removed]"
          },
          "metadata": {}
        },
        {
          "output_type": "display_data",
          "data": {
            "text/plain": [
              "<Figure size 700x400 with 1 Axes>"
            ],
            "image/png": "[encoded data removed]"
          },
          "metadata": {}
        },
        {
          "output_type": "display_data",
          "data": {
            "text/plain": [
              "<Figure size 700x400 with 1 Axes>"
            ],
            "image/png": "[encoded data removed]"
          },
          "metadata": {}
        },
        {
          "output_type": "display_data",
          "data": {
            "text/plain": [
              "<Figure size 700x400 with 1 Axes>"
            ],
            "image/png": "[encoded data removed]"
          },
          "metadata": {}
        },
        {
          "output_type": "display_data",
          "data": {
            "text/plain": [
              "<Figure size 700x400 with 1 Axes>"
            ],
            "image/png": "[encoded data removed]"
          },
          "metadata": {}
        },
        {
          "output_type": "display_data",
          "data": {
            "text/plain": [
              "<Figure size 700x400 with 1 Axes>"
            ],
            "image/png": "[encoded data removed]"
          },
          "metadata": {}
        }
      ]
    }
  ]
}