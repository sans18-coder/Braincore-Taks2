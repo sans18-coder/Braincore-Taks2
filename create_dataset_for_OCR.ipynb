version https://git-lfs.github.com/spec/v1
oid sha256:f3e0dca5a05c7590db83560b380e1ebeeea6dcf816c3abe94494e329d885aa98
size 123255189
